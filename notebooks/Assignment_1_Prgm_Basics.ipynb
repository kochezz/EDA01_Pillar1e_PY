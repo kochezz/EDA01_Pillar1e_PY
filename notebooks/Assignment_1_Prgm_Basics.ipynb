{
 "cells": [
  {
   "cell_type": "markdown",
   "metadata": {},
   "source": [
    "Exploratory Data Analysis & Management\n"
   ]
  },
  {
   "cell_type": "markdown",
   "metadata": {},
   "source": [
    "# Assignment 1 Programming Basics"
   ]
  },
  {
   "cell_type": "code",
   "execution_count": null,
   "metadata": {},
   "outputs": [],
   "source": [
    "# Import the libraries\n",
    "\n",
    "import pandas as pd\n",
    "import matplotlib.pyplot as plt\n",
    "import numpy as np\n",
    "import scipy.stats as stats\n",
    "import seaborn as sns\n",
    "import os"
   ]
  },
  {
   "cell_type": "code",
   "execution_count": null,
   "metadata": {},
   "outputs": [
    {
     "name": "stdout",
     "output_type": "stream",
     "text": [
      "   Q  W  E   R\n",
      "A  2  7  4   5\n",
      "B  3  5  6  10\n",
      "C  3  3  7   2\n"
     ]
    }
   ],
   "source": [
    "# Question 1: Create a matrix with three rows A, B and C and four columns \n",
    "# with names Q, W, E and R. Fill the matrix with any numbers between 1 and 10\n",
    "# Define the row names\n",
    "\n",
    "\n",
    "row_names = [\"A\", \"B\", \"C\",]\n",
    "col_names = [\"Q\", \"W\", \"E\", \"R\"]\n",
    "\n",
    "matrix = np.random.randint(1, 11, size=(3, 4))\n",
    "\n",
    "# Create a DataFrame\n",
    "\n",
    "df = pd.DataFrame(matrix, index=row_names, columns=col_names)\n",
    "print(df)"
   ]
  },
  {
   "cell_type": "code",
   "execution_count": 13,
   "metadata": {},
   "outputs": [
    {
     "name": "stdout",
     "output_type": "stream",
     "text": [
      "<class 'int'>\n",
      "<class 'str'>\n",
      "<class 'float'>\n",
      "x    category\n",
      "y    category\n",
      "z    category\n",
      "dtype: object\n"
     ]
    }
   ],
   "source": [
    "# Question 2: x = 24, y =”Hello World”, z = 93.65.\n",
    "\n",
    "# Identify the class of x, y and z and convert all three into factor.\n",
    "\n",
    "x = 24\n",
    "y = \"Hello World\"\n",
    "z = 93.65   \n",
    "\n",
    "# Identify the class of x, y and z\n",
    "print(type(x))\n",
    "print(type(y))      \n",
    "print(type(z))\n",
    "\n",
    "# using pandas to convert x, y and z into factor\n",
    "\n",
    "data = pd.DataFrame({'x': [x], 'y': [y], 'z': [z]})\n",
    "\n",
    "data['x'] = data['x'].astype('category')\n",
    "data['y'] = data['y'].astype('category')        \n",
    "data['z'] = data['z'].astype('category')\n",
    "\n",
    "print(data.dtypes)\n",
    "\n",
    "         \n",
    "\n"
   ]
  },
  {
   "cell_type": "code",
   "execution_count": 21,
   "metadata": {},
   "outputs": [
    {
     "name": "stdout",
     "output_type": "stream",
     "text": [
      "Sqr Root of 65.9836 = 8.123\n",
      "Log10 of q = 1.8\n",
      "Log to the base 10 of q is less than 2\n"
     ]
    }
   ],
   "source": [
    "# Question 3: q = 65.9836\n",
    "# a. Find square root of q and round it up to 3 digits.\n",
    "# b. Check if log to the base 10 of q is less than 2.\n",
    "\n",
    "q = 65.9836\n",
    "Sqrt_q = q**0.5\n",
    "print(f\"Sqr Root of {q} = {Sqrt_q:.3f}\")\n",
    "\n",
    "# Using numpy\n",
    "\n",
    "q_log10 = np.array(q)\n",
    "log_q = np.log10(q_log10)\n",
    "print(f\"Log10 of q = {log_q:.1f}\")\n",
    "\n",
    "# Using if and elif statement we can compare to see if log to the base 10 of q is less than 2\n",
    "\n",
    "if log_q < 2:\n",
    "    print(\"Log to the base 10 of q is less than 2\")\n",
    "else:\n",
    "    print(\"Log to the base 10 of q is not less than 2\")"
   ]
  },
  {
   "cell_type": "code",
   "execution_count": 1,
   "metadata": {},
   "outputs": [
    {
     "name": "stdout",
     "output_type": "stream",
     "text": [
      "['Inte', 'Know', 'Wisd', 'Comp']\n"
     ]
    }
   ],
   "source": [
    "# Question 4:  \n",
    "\n",
    "''' x = c(“Intelligence”, “Knowledge”, “Wisdom”, “Comprehension”) \n",
    "y = “I am”\n",
    "z = “intelligent”\n",
    "\n",
    "a. Find first 4 letters of each word in x.\n",
    "b. Combine y and z to form a sentence “I am intelligent”\n",
    "c. Convert all the words in x to upper case.\n",
    "'''\n",
    "\n",
    "# a: Find first 4 letters of each word in x\n",
    "\n",
    "x = [\"Intelligence\", \"Knowledge\", \"Wisdom\", \"Comprehension\"]\n",
    "y = \"I am\"  \n",
    "z = \"intelligent\"\n",
    "\n",
    "first_4_letters = [word[:4] for word in x]\n",
    "print(first_4_letters)"
   ]
  },
  {
   "cell_type": "code",
   "execution_count": 2,
   "metadata": {},
   "outputs": [
    {
     "name": "stdout",
     "output_type": "stream",
     "text": [
      "I am intelligent\n"
     ]
    }
   ],
   "source": [
    "# b: Combine y and z to form a sentence “I am intelligent”\n",
    "\n",
    "sentence = y + \" \" + z\n",
    "print(sentence)"
   ]
  },
  {
   "cell_type": "code",
   "execution_count": 3,
   "metadata": {},
   "outputs": [
    {
     "name": "stdout",
     "output_type": "stream",
     "text": [
      "['INTELLIGENCE', 'KNOWLEDGE', 'WISDOM', 'COMPREHENSION']\n"
     ]
    }
   ],
   "source": [
    "# c: Convert all the words in x to upper case\n",
    "\n",
    "upper_case = [word.upper() for word in x]\n",
    "print(upper_case)"
   ]
  },
  {
   "cell_type": "code",
   "execution_count": 4,
   "metadata": {},
   "outputs": [
    {
     "name": "stdout",
     "output_type": "stream",
     "text": [
      "['Yes', 'No', 'No', 'No', 'Yes', 'No', 'Yes', 'No', 'No']\n"
     ]
    }
   ],
   "source": [
    "'''\n",
    "Question 5: a = c(3,4,14,17,3,98,66,85,44)\n",
    "Print “Yes” if the numbers in ‘a’ are divisible by 3 and “No” if they are not divisible by 3 using ifelse().\n",
    "'''\n",
    "\n",
    "a = [3, 4, 14, 17, 3, 98, 66, 85, 44]\n",
    "result = [\"Yes\" if x % 3 == 0 else \"No\" for x in a]\n",
    "print(result)\n"
   ]
  },
  {
   "cell_type": "code",
   "execution_count": 5,
   "metadata": {},
   "outputs": [
    {
     "name": "stdout",
     "output_type": "stream",
     "text": [
      "[3, 5, 19, 2, 16, 18, 28]\n"
     ]
    }
   ],
   "source": [
    "'''\n",
    "Question 6: b = c(36,3,5,19,2,16,18,41,35,28,30,31)\n",
    "List all the numbers less than 30 in b using for loop.\n",
    "'''\n",
    "\n",
    "b = [36, 3, 5, 19, 2, 16, 18, 41, 35, 28, 30, 31]\n",
    "less_than_30 = [x for x in b if x < 30]\n",
    "print(less_than_30)\n"
   ]
  },
  {
   "cell_type": "code",
   "execution_count": 20,
   "metadata": {},
   "outputs": [
    {
     "name": "stdout",
     "output_type": "stream",
     "text": [
      "Date in Std format: 2018-01-30 00:00:00\n",
      "Month: January\n",
      "Day of the week: Tuesday\n",
      "Difference in days: 2581 days 11:30:12.483212 days\n",
      "Difference in Years: 7 years\n"
     ]
    }
   ],
   "source": [
    "'''\n",
    "Question 7: Date = “01/30/18”\n",
    "a) Convert Date into standard date format (yyyy-mm-dd) and name it as Date_new.\n",
    "b) Extract day of week and month from Date_new.\n",
    "c) Find the difference in the current system date and Date_new.\n",
    "'''\n",
    "\n",
    "import pandas as pd\n",
    "\n",
    "Date = \"01/30/18\"\n",
    "#a) Convert Date into standard date format (yyyy-mm-dd) and name it as Date_new.\n",
    "Date_new = pd.to_datetime(Date, format=\"%m/%d/%y\")\n",
    "print(\"Date in Std format:\", Date_new)\n",
    "\n",
    "#b) Extract day of week and month from Date_new.\n",
    "day_of_week = Date_new.day_name()\n",
    "Month = Date_new.month_name()\n",
    "print(\"Month:\", Month)\n",
    "print(\"Day of the week:\", day_of_week)\n",
    "\n",
    "# c) Find the difference in the current system date and Date_new.\n",
    "current_date = pd.to_datetime(\"today\")\n",
    "difference = current_date - Date_new\n",
    "print(\"Difference in days:\", difference, \"days\")\n",
    "\n",
    "# difference in years\n",
    "print(\"Difference in Years:\", round(difference.days//365,1),\"years\")\n",
    "\n"
   ]
  }
 ],
 "metadata": {
  "kernelspec": {
   "display_name": "base",
   "language": "python",
   "name": "python3"
  },
  "language_info": {
   "codemirror_mode": {
    "name": "ipython",
    "version": 3
   },
   "file_extension": ".py",
   "mimetype": "text/x-python",
   "name": "python",
   "nbconvert_exporter": "python",
   "pygments_lexer": "ipython3",
   "version": "3.12.7"
  }
 },
 "nbformat": 4,
 "nbformat_minor": 2
}
