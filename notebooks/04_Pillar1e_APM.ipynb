{
 "cells": [
  {
   "cell_type": "markdown",
   "id": "e65cbf64",
   "metadata": {},
   "source": [
    "# Advanced Predictive Modelling\n"
   ]
  },
  {
   "cell_type": "code",
   "execution_count": 2,
   "id": "05f7a62b",
   "metadata": {},
   "outputs": [],
   "source": [
    "# Import Libraries\n",
    "\n",
    "import pandas as pd\n",
    "import numpy as np\n",
    "import matplotlib.pyplot as plt\n",
    "from scipy.stats import chi2_contingency\n",
    "import seaborn as sns\n",
    "import statsmodels.api as sm\n",
    "import scipy as sp\n",
    "import statsmodels.formula.api as smf\n",
    "import statsmodels.stats.api as sms\n",
    "import statsmodels.stats.proportion as ssp\n",
    "from statsmodels.stats.outliers_influence import variance_inflation_factor\n",
    "import patsy\n",
    "import os\n",
    "os.chdir(r\"C:\\Users\\willi\\OneDrive\\Documents\\Woolf Institute Data Analytics\\Module 4 Advanced Predictive Modelling\\04_ Live Class Data Sets\")"
   ]
  },
  {
   "cell_type": "code",
   "execution_count": 3,
   "id": "03709148",
   "metadata": {},
   "outputs": [
    {
     "name": "stdout",
     "output_type": "stream",
     "text": [
      "✅ Dataset Loaded Successfully\n",
      "<class 'pandas.core.frame.DataFrame'>\n",
      "RangeIndex: 683 entries, 0 to 682\n",
      "Data columns (total 8 columns):\n",
      " #   Column           Non-Null Count  Dtype  \n",
      "---  ------           --------------  -----  \n",
      " 0   SN               683 non-null    int64  \n",
      " 1   Gender           683 non-null    int64  \n",
      " 2   AGE              683 non-null    object \n",
      " 3   Recency_Service  683 non-null    int64  \n",
      " 4   Recency_Product  683 non-null    int64  \n",
      " 5   Bill_Service     683 non-null    float64\n",
      " 6   Bill_Product     683 non-null    float64\n",
      " 7   Success          683 non-null    int64  \n",
      "dtypes: float64(2), int64(5), object(1)\n",
      "memory usage: 42.8+ KB\n",
      "None\n",
      "               SN      Gender  Recency_Service  Recency_Product  Bill_Service  \\\n",
      "count  683.000000  683.000000       683.000000       683.000000    683.000000   \n",
      "mean   342.000000    1.544656         8.471449         8.376281     10.795974   \n",
      "std    197.309402    0.498367         6.730919         6.952319      6.867534   \n",
      "min      1.000000    1.000000         0.000000         0.000000      0.450000   \n",
      "25%    171.500000    1.000000         3.000000         3.000000      5.705000   \n",
      "50%    342.000000    2.000000         7.000000         7.000000      9.280000   \n",
      "75%    512.500000    2.000000        12.500000        12.000000     14.835000   \n",
      "max    683.000000    2.000000        32.000000        35.000000     41.550000   \n",
      "\n",
      "       Bill_Product     Success  \n",
      "count    683.000000  683.000000  \n",
      "mean       2.065476    0.263543  \n",
      "std        2.166430    0.440877  \n",
      "min        0.050000    0.000000  \n",
      "25%        0.860000    0.000000  \n",
      "50%        1.450000    0.000000  \n",
      "75%        2.460000    1.000000  \n",
      "max       20.690000    1.000000  \n"
     ]
    }
   ],
   "source": [
    "# Import Data\n",
    "campaign_df = pd.read_csv(\"Email Campaign.csv\")\n",
    "print(\"✅ Dataset Loaded Successfully\")\n",
    "print(campaign_df.info())\n",
    "print(campaign_df.describe())"
   ]
  },
  {
   "cell_type": "code",
   "execution_count": null,
   "id": "4f441a24",
   "metadata": {},
   "outputs": [
    {
     "data": {
      "application/vnd.microsoft.datawrangler.viewer.v0+json": {
       "columns": [
        {
         "name": "index",
         "rawType": "int64",
         "type": "integer"
        },
        {
         "name": "SN",
         "rawType": "int64",
         "type": "integer"
        },
        {
         "name": "Gender",
         "rawType": "int64",
         "type": "integer"
        },
        {
         "name": "AGE",
         "rawType": "object",
         "type": "string"
        },
        {
         "name": "Recency_Service",
         "rawType": "int64",
         "type": "integer"
        },
        {
         "name": "Recency_Product",
         "rawType": "int64",
         "type": "integer"
        },
        {
         "name": "Bill_Service",
         "rawType": "float64",
         "type": "float"
        },
        {
         "name": "Bill_Product",
         "rawType": "float64",
         "type": "float"
        },
        {
         "name": "Success",
         "rawType": "int64",
         "type": "integer"
        }
       ],
       "conversionMethod": "pd.DataFrame",
       "ref": "e12bf860-5664-4d24-afb8-c00ac4fcc1ba",
       "rows": [
        [
         "0",
         "1",
         "1",
         "<=45",
         "12",
         "11",
         "11.82",
         "2.68",
         "0"
        ],
        [
         "1",
         "2",
         "2",
         "<=30",
         "6",
         "0",
         "10.31",
         "1.32",
         "0"
        ],
        [
         "2",
         "3",
         "1",
         "<=30",
         "1",
         "9",
         "7.43",
         "0.49",
         "0"
        ],
        [
         "3",
         "4",
         "1",
         "<=45",
         "2",
         "14",
         "13.68",
         "1.85",
         "0"
        ],
        [
         "4",
         "5",
         "2",
         "<=30",
         "0",
         "11",
         "4.56",
         "1.01",
         "1"
        ]
       ],
       "shape": {
        "columns": 8,
        "rows": 5
       }
      },
      "text/html": [
       "<div>\n",
       "<style scoped>\n",
       "    .dataframe tbody tr th:only-of-type {\n",
       "        vertical-align: middle;\n",
       "    }\n",
       "\n",
       "    .dataframe tbody tr th {\n",
       "        vertical-align: top;\n",
       "    }\n",
       "\n",
       "    .dataframe thead th {\n",
       "        text-align: right;\n",
       "    }\n",
       "</style>\n",
       "<table border=\"1\" class=\"dataframe\">\n",
       "  <thead>\n",
       "    <tr style=\"text-align: right;\">\n",
       "      <th></th>\n",
       "      <th>SN</th>\n",
       "      <th>Gender</th>\n",
       "      <th>AGE</th>\n",
       "      <th>Recency_Service</th>\n",
       "      <th>Recency_Product</th>\n",
       "      <th>Bill_Service</th>\n",
       "      <th>Bill_Product</th>\n",
       "      <th>Success</th>\n",
       "    </tr>\n",
       "  </thead>\n",
       "  <tbody>\n",
       "    <tr>\n",
       "      <th>0</th>\n",
       "      <td>1</td>\n",
       "      <td>1</td>\n",
       "      <td>&lt;=45</td>\n",
       "      <td>12</td>\n",
       "      <td>11</td>\n",
       "      <td>11.82</td>\n",
       "      <td>2.68</td>\n",
       "      <td>0</td>\n",
       "    </tr>\n",
       "    <tr>\n",
       "      <th>1</th>\n",
       "      <td>2</td>\n",
       "      <td>2</td>\n",
       "      <td>&lt;=30</td>\n",
       "      <td>6</td>\n",
       "      <td>0</td>\n",
       "      <td>10.31</td>\n",
       "      <td>1.32</td>\n",
       "      <td>0</td>\n",
       "    </tr>\n",
       "    <tr>\n",
       "      <th>2</th>\n",
       "      <td>3</td>\n",
       "      <td>1</td>\n",
       "      <td>&lt;=30</td>\n",
       "      <td>1</td>\n",
       "      <td>9</td>\n",
       "      <td>7.43</td>\n",
       "      <td>0.49</td>\n",
       "      <td>0</td>\n",
       "    </tr>\n",
       "    <tr>\n",
       "      <th>3</th>\n",
       "      <td>4</td>\n",
       "      <td>1</td>\n",
       "      <td>&lt;=45</td>\n",
       "      <td>2</td>\n",
       "      <td>14</td>\n",
       "      <td>13.68</td>\n",
       "      <td>1.85</td>\n",
       "      <td>0</td>\n",
       "    </tr>\n",
       "    <tr>\n",
       "      <th>4</th>\n",
       "      <td>5</td>\n",
       "      <td>2</td>\n",
       "      <td>&lt;=30</td>\n",
       "      <td>0</td>\n",
       "      <td>11</td>\n",
       "      <td>4.56</td>\n",
       "      <td>1.01</td>\n",
       "      <td>1</td>\n",
       "    </tr>\n",
       "  </tbody>\n",
       "</table>\n",
       "</div>"
      ],
      "text/plain": [
       "   SN  Gender   AGE  Recency_Service  Recency_Product  Bill_Service  \\\n",
       "0   1       1  <=45               12               11         11.82   \n",
       "1   2       2  <=30                6                0         10.31   \n",
       "2   3       1  <=30                1                9          7.43   \n",
       "3   4       1  <=45                2               14         13.68   \n",
       "4   5       2  <=30                0               11          4.56   \n",
       "\n",
       "   Bill_Product  Success  \n",
       "0          2.68        0  \n",
       "1          1.32        0  \n",
       "2          0.49        0  \n",
       "3          1.85        0  \n",
       "4          1.01        1  "
      ]
     },
     "execution_count": 4,
     "metadata": {},
     "output_type": "execute_result"
    }
   ],
   "source": [
    "campaign_df.head()\n",
    "#"
   ]
  },
  {
   "cell_type": "code",
   "execution_count": null,
   "id": "fe3e807f",
   "metadata": {},
   "outputs": [
    {
     "data": {
      "text/plain": [
       "SN                    int64\n",
       "Gender             category\n",
       "AGE                  object\n",
       "Recency_Service       int64\n",
       "Recency_Product       int64\n",
       "Bill_Service        float64\n",
       "Bill_Product        float64\n",
       "Success               int64\n",
       "dtype: object"
      ]
     },
     "execution_count": 5,
     "metadata": {},
     "output_type": "execute_result"
    }
   ],
   "source": [
    "#Convert Gender to Categorical\n",
    "campaign_df['Gender']=campaign_df['Gender'].astype('category')\n",
    "campaign_df.dtypes"
   ]
  },
  {
   "cell_type": "code",
   "execution_count": 6,
   "id": "08cb9bae",
   "metadata": {},
   "outputs": [
    {
     "name": "stdout",
     "output_type": "stream",
     "text": [
      "         count       mean       std   min   25%     50%      75%    max\n",
      "Success                                                                \n",
      "0        503.0   9.188807  5.644067  0.45  5.08   7.880  12.3050  32.99\n",
      "1        180.0  15.287111  7.925569  1.36  9.23  14.675  20.0525  41.55\n"
     ]
    }
   ],
   "source": [
    "# Summarize bill amounts by “Success” (descriptive statistics like n,min,max,mean and sd)\n",
    "\n",
    "summary_stats_Bill_Service = campaign_df.groupby('Success')['Bill_Service'].describe()\n",
    "\n",
    "print(summary_stats_Bill_Service)"
   ]
  },
  {
   "cell_type": "code",
   "execution_count": 7,
   "id": "f2d6a9b3",
   "metadata": {},
   "outputs": [
    {
     "name": "stdout",
     "output_type": "stream",
     "text": [
      "         count      mean       std   min     25%    50%     75%    max\n",
      "Success                                                               \n",
      "0        503.0  1.746740  1.465931  0.05  0.8200  1.310  2.1400  10.69\n",
      "1        180.0  2.956167  3.282115  0.29  1.0275  1.965  3.3025  20.69\n"
     ]
    }
   ],
   "source": [
    "summary_stats_Bill_Product = campaign_df.groupby('Success')['Bill_Product'].describe()\n",
    "\n",
    "print(summary_stats_Bill_Product)"
   ]
  },
  {
   "cell_type": "code",
   "execution_count": 8,
   "id": "598a108a",
   "metadata": {},
   "outputs": [
    {
     "data": {
      "text/plain": [
       "<Axes: xlabel='Success', ylabel='Bill_Service'>"
      ]
     },
     "execution_count": 8,
     "metadata": {},
     "output_type": "execute_result"
    },
    {
     "data": {
      "image/png": "[encoded data removed]",
      "text/plain": [
       "<Figure size 640x480 with 1 Axes>"
      ]
     },
     "metadata": {},
     "output_type": "display_data"
    }
   ],
   "source": [
    "# Visualize bill amounts by “Success”\n",
    "\n",
    "sns.boxplot(data=campaign_df,x='Success', y='Bill_Service')"
   ]
  },
  {
   "cell_type": "code",
   "execution_count": 9,
   "id": "9a73a50e",
   "metadata": {},
   "outputs": [
    {
     "data": {
      "text/plain": [
       "<Axes: xlabel='Success', ylabel='Bill_Product'>"
      ]
     },
     "execution_count": 9,
     "metadata": {},
     "output_type": "execute_result"
    },
    {
     "data": {
      "image/png": "[encoded data removed]",
      "text/plain": [
       "<Figure size 640x480 with 1 Axes>"
      ]
     },
     "metadata": {},
     "output_type": "display_data"
    }
   ],
   "source": [
    "sns.boxplot(data=campaign_df,x='Success', y='Bill_Product')\n"
   ]
  },
  {
   "cell_type": "code",
   "execution_count": 10,
   "id": "f10bd1fa",
   "metadata": {},
   "outputs": [],
   "source": [
    "# Analyze association between Gender and Success\n",
    "\n",
    "# Create a cross-table\n",
    "cross_table=pd.crosstab(campaign_df['Gender'], campaign_df['Success'])\n",
    "\n"
   ]
  },
  {
   "cell_type": "code",
   "execution_count": 11,
   "id": "58e3eb8a",
   "metadata": {},
   "outputs": [],
   "source": [
    "# Perform chi-squared test\n",
    "chi2, p,_ ,_ = chi2_contingency(cross_table)"
   ]
  },
  {
   "cell_type": "code",
   "execution_count": 12,
   "id": "af79117c",
   "metadata": {},
   "outputs": [
    {
     "name": "stdout",
     "output_type": "stream",
     "text": [
      "Cross-Table:\n",
      "Success    0   1\n",
      "Gender          \n",
      "1        225  86\n",
      "2        278  94\n",
      "\n",
      "Chi-Squared Test:\n",
      "Chi2: 0.3807592682933615\n",
      "P-value: 0.5371971687062078\n"
     ]
    }
   ],
   "source": [
    "# Display the cross-table and chi-squared test results\n",
    "print(\"Cross-Table:\")\n",
    "print(cross_table)\n",
    "print(\"\\nChi-Squared Test:\")\n",
    "print(f\"Chi2: {chi2}\")\n",
    "print(f\"P-value: {p}\")"
   ]
  },
  {
   "cell_type": "markdown",
   "id": "c50523b2",
   "metadata": {},
   "source": [
    "Since the p value is greater than 0.05, Gender and Success are not related"
   ]
  },
  {
   "cell_type": "code",
   "execution_count": 13,
   "id": "ddf49a9d",
   "metadata": {},
   "outputs": [
    {
     "name": "stdout",
     "output_type": "stream",
     "text": [
      "Optimization terminated successfully.\n",
      "         Current function value: 0.399695\n",
      "         Iterations 7\n",
      "                           Logit Regression Results                           \n",
      "==============================================================================\n",
      "Dep. Variable:                Success   No. Observations:                  683\n",
      "Model:                          Logit   Df Residuals:                      675\n",
      "Method:                           MLE   Df Model:                            7\n",
      "Date:                Sat, 26 Apr 2025   Pseudo R-squ.:                  0.3070\n",
      "Time:                        09:33:34   Log-Likelihood:                -272.99\n",
      "converged:                       True   LL-Null:                       -393.91\n",
      "Covariance Type:            nonrobust   LLR p-value:                 1.516e-48\n",
      "===================================================================================\n",
      "                      coef    std err          z      P>|z|      [0.025      0.975]\n",
      "-----------------------------------------------------------------------------------\n",
      "Intercept          -1.0215      0.279     -3.655      0.000      -1.569      -0.474\n",
      "Gender[T.2]        -0.2370      0.214     -1.107      0.268      -0.657       0.183\n",
      "AGE[T.<=45]         0.1572      0.267      0.588      0.556      -0.367       0.681\n",
      "AGE[T.<=55]         0.6727      0.366      1.839      0.066      -0.044       1.390\n",
      "Recency_Service    -0.2459      0.029     -8.352      0.000      -0.304      -0.188\n",
      "Recency_Product    -0.0909      0.022     -4.117      0.000      -0.134      -0.048\n",
      "Bill_Service        0.0929      0.019      5.013      0.000       0.057       0.129\n",
      "Bill_Product        0.5197      0.081      6.413      0.000       0.361       0.678\n",
      "===================================================================================\n"
     ]
    }
   ],
   "source": [
    "# Develop a statistical model to estimate probability of success\n",
    "\n",
    "import statsmodels.formula.api as sm\n",
    "\n",
    "model = sm.logit(formula = 'Success~Gender+AGE+Recency_Service+Recency_Product+Bill_Service+Bill_Product',data=campaign_df).fit() \n",
    "\n",
    "# Display the summary\n",
    "print(model.summary())"
   ]
  },
  {
   "cell_type": "code",
   "execution_count": 14,
   "id": "a85f7c81",
   "metadata": {},
   "outputs": [
    {
     "name": "stdout",
     "output_type": "stream",
     "text": [
      "Optimization terminated successfully.\n",
      "         Current function value: 0.403273\n",
      "         Iterations 7\n",
      "                           Logit Regression Results                           \n",
      "==============================================================================\n",
      "Dep. Variable:                Success   No. Observations:                  683\n",
      "Model:                          Logit   Df Residuals:                      678\n",
      "Method:                           MLE   Df Model:                            4\n",
      "Date:                Sat, 26 Apr 2025   Pseudo R-squ.:                  0.3008\n",
      "Time:                        09:43:58   Log-Likelihood:                -275.44\n",
      "converged:                       True   LL-Null:                       -393.91\n",
      "Covariance Type:            nonrobust   LLR p-value:                 4.224e-50\n",
      "===================================================================================\n",
      "                      coef    std err          z      P>|z|      [0.025      0.975]\n",
      "-----------------------------------------------------------------------------------\n",
      "Intercept          -1.1578      0.248     -4.673      0.000      -1.643      -0.672\n",
      "Recency_Service    -0.2298      0.027     -8.426      0.000      -0.283      -0.176\n",
      "Recency_Product    -0.0739      0.019     -3.825      0.000      -0.112      -0.036\n",
      "Bill_Service        0.0918      0.018      4.974      0.000       0.056       0.128\n",
      "Bill_Product        0.5185      0.081      6.415      0.000       0.360       0.677\n",
      "===================================================================================\n"
     ]
    }
   ],
   "source": [
    "# 5) Finalize the model by excluding insignificant variables\n",
    "\n",
    "model = sm.logit(formula = 'Success~Recency_Service+Recency_Product+Bill_Service+Bill_Product',data=campaign_df).fit() \n",
    "\n",
    "# Display the summary\n",
    "print(model.summary())"
   ]
  },
  {
   "cell_type": "code",
   "execution_count": 15,
   "id": "3f725fef",
   "metadata": {},
   "outputs": [
    {
     "data": {
      "application/vnd.microsoft.datawrangler.viewer.v0+json": {
       "columns": [
        {
         "name": "index",
         "rawType": "int64",
         "type": "integer"
        },
        {
         "name": "SN",
         "rawType": "int64",
         "type": "integer"
        },
        {
         "name": "Gender",
         "rawType": "category",
         "type": "unknown"
        },
        {
         "name": "AGE",
         "rawType": "object",
         "type": "string"
        },
        {
         "name": "Recency_Service",
         "rawType": "int64",
         "type": "integer"
        },
        {
         "name": "Recency_Product",
         "rawType": "int64",
         "type": "integer"
        },
        {
         "name": "Bill_Service",
         "rawType": "float64",
         "type": "float"
        },
        {
         "name": "Bill_Product",
         "rawType": "float64",
         "type": "float"
        },
        {
         "name": "Success",
         "rawType": "int64",
         "type": "integer"
        },
        {
         "name": "predprob",
         "rawType": "float64",
         "type": "float"
        }
       ],
       "conversionMethod": "pd.DataFrame",
       "ref": "fee8ed06-97d8-4f19-b599-b869fad5cc8e",
       "rows": [
        [
         "0",
         "1",
         "1",
         "<=45",
         "12",
         "11",
         "11.82",
         "2.68",
         "0",
         "0.09504185158846079"
        ],
        [
         "1",
         "2",
         "2",
         "<=30",
         "6",
         "0",
         "10.31",
         "1.32",
         "0",
         "0.28790000361880513"
        ],
        [
         "2",
         "3",
         "1",
         "<=30",
         "1",
         "9",
         "7.43",
         "0.49",
         "0",
         "0.24670257092928746"
        ],
        [
         "3",
         "4",
         "1",
         "<=45",
         "2",
         "14",
         "13.68",
         "1.85",
         "0",
         "0.3925895696806769"
        ],
        [
         "4",
         "5",
         "2",
         "<=30",
         "0",
         "11",
         "4.56",
         "1.01",
         "1",
         "0.2634437593210916"
        ]
       ],
       "shape": {
        "columns": 9,
        "rows": 5
       }
      },
      "text/html": [
       "<div>\n",
       "<style scoped>\n",
       "    .dataframe tbody tr th:only-of-type {\n",
       "        vertical-align: middle;\n",
       "    }\n",
       "\n",
       "    .dataframe tbody tr th {\n",
       "        vertical-align: top;\n",
       "    }\n",
       "\n",
       "    .dataframe thead th {\n",
       "        text-align: right;\n",
       "    }\n",
       "</style>\n",
       "<table border=\"1\" class=\"dataframe\">\n",
       "  <thead>\n",
       "    <tr style=\"text-align: right;\">\n",
       "      <th></th>\n",
       "      <th>SN</th>\n",
       "      <th>Gender</th>\n",
       "      <th>AGE</th>\n",
       "      <th>Recency_Service</th>\n",
       "      <th>Recency_Product</th>\n",
       "      <th>Bill_Service</th>\n",
       "      <th>Bill_Product</th>\n",
       "      <th>Success</th>\n",
       "      <th>predprob</th>\n",
       "    </tr>\n",
       "  </thead>\n",
       "  <tbody>\n",
       "    <tr>\n",
       "      <th>0</th>\n",
       "      <td>1</td>\n",
       "      <td>1</td>\n",
       "      <td>&lt;=45</td>\n",
       "      <td>12</td>\n",
       "      <td>11</td>\n",
       "      <td>11.82</td>\n",
       "      <td>2.68</td>\n",
       "      <td>0</td>\n",
       "      <td>0.095042</td>\n",
       "    </tr>\n",
       "    <tr>\n",
       "      <th>1</th>\n",
       "      <td>2</td>\n",
       "      <td>2</td>\n",
       "      <td>&lt;=30</td>\n",
       "      <td>6</td>\n",
       "      <td>0</td>\n",
       "      <td>10.31</td>\n",
       "      <td>1.32</td>\n",
       "      <td>0</td>\n",
       "      <td>0.287900</td>\n",
       "    </tr>\n",
       "    <tr>\n",
       "      <th>2</th>\n",
       "      <td>3</td>\n",
       "      <td>1</td>\n",
       "      <td>&lt;=30</td>\n",
       "      <td>1</td>\n",
       "      <td>9</td>\n",
       "      <td>7.43</td>\n",
       "      <td>0.49</td>\n",
       "      <td>0</td>\n",
       "      <td>0.246703</td>\n",
       "    </tr>\n",
       "    <tr>\n",
       "      <th>3</th>\n",
       "      <td>4</td>\n",
       "      <td>1</td>\n",
       "      <td>&lt;=45</td>\n",
       "      <td>2</td>\n",
       "      <td>14</td>\n",
       "      <td>13.68</td>\n",
       "      <td>1.85</td>\n",
       "      <td>0</td>\n",
       "      <td>0.392590</td>\n",
       "    </tr>\n",
       "    <tr>\n",
       "      <th>4</th>\n",
       "      <td>5</td>\n",
       "      <td>2</td>\n",
       "      <td>&lt;=30</td>\n",
       "      <td>0</td>\n",
       "      <td>11</td>\n",
       "      <td>4.56</td>\n",
       "      <td>1.01</td>\n",
       "      <td>1</td>\n",
       "      <td>0.263444</td>\n",
       "    </tr>\n",
       "  </tbody>\n",
       "</table>\n",
       "</div>"
      ],
      "text/plain": [
       "   SN Gender   AGE  Recency_Service  Recency_Product  Bill_Service  \\\n",
       "0   1      1  <=45               12               11         11.82   \n",
       "1   2      2  <=30                6                0         10.31   \n",
       "2   3      1  <=30                1                9          7.43   \n",
       "3   4      1  <=45                2               14         13.68   \n",
       "4   5      2  <=30                0               11          4.56   \n",
       "\n",
       "   Bill_Product  Success  predprob  \n",
       "0          2.68        0  0.095042  \n",
       "1          1.32        0  0.287900  \n",
       "2          0.49        0  0.246703  \n",
       "3          1.85        0  0.392590  \n",
       "4          1.01        1  0.263444  "
      ]
     },
     "execution_count": 15,
     "metadata": {},
     "output_type": "execute_result"
    }
   ],
   "source": [
    "# 6) Estimate predicted probabilities and add a column in the original data\n",
    "\n",
    "campaign_df['predprob'] = model.predict()\n",
    "campaign_df.head()\n"
   ]
  },
  {
   "cell_type": "code",
   "execution_count": 16,
   "id": "3f536eb1",
   "metadata": {},
   "outputs": [
    {
     "name": "stdout",
     "output_type": "stream",
     "text": [
      "      SN Gender   AGE  Recency_Service  Recency_Product  Bill_Service  \\\n",
      "0      1      1  <=45               12               11         11.82   \n",
      "1      2      2  <=30                6                0         10.31   \n",
      "2      3      1  <=30                1                9          7.43   \n",
      "3      4      1  <=45                2               14         13.68   \n",
      "4      5      2  <=30                0               11          4.56   \n",
      "..   ...    ...   ...              ...              ...           ...   \n",
      "678  679      1  <=55               18               28         14.79   \n",
      "679  680      1  <=55               24                5          5.05   \n",
      "680  681      1  <=55               18                5         14.22   \n",
      "681  682      1  <=30                3                3         29.64   \n",
      "682  683      2  <=30                5                9          8.85   \n",
      "\n",
      "     Bill_Product  Success  predprob estimated_success  \n",
      "0            2.68        0  0.095042                 0  \n",
      "1            1.32        0  0.287900                 0  \n",
      "2            0.49        0  0.246703                 0  \n",
      "3            1.85        0  0.392590                 0  \n",
      "4            1.01        1  0.263444                 0  \n",
      "..            ...      ...       ...               ...  \n",
      "678          6.34        0  0.061907                 0  \n",
      "679          0.98        0  0.002303                 0  \n",
      "680          4.98        0  0.144765                 0  \n",
      "681          3.56        1  0.924058                 1  \n",
      "682          0.88        0  0.154074                 0  \n",
      "\n",
      "[683 rows x 10 columns]\n"
     ]
    }
   ],
   "source": [
    "# 7) Use 0.5 as a threshold, estimate Success=0/1\n",
    "\n",
    "campaign_df['estimated_success'] = np.where(campaign_df['predprob'] > 0.5, 1, 0)\n",
    "campaign_df['estimated_success']=campaign_df['estimated_success'].astype('category')\n",
    "print(campaign_df)"
   ]
  },
  {
   "cell_type": "code",
   "execution_count": null,
   "id": "4cec86f3",
   "metadata": {},
   "outputs": [
    {
     "data": {
      "application/vnd.microsoft.datawrangler.viewer.v0+json": {
       "columns": [
        {
         "name": "estimated_success",
         "rawType": "category",
         "type": "unknown"
        },
        {
         "name": "0",
         "rawType": "int64",
         "type": "integer"
        },
        {
         "name": "1",
         "rawType": "int64",
         "type": "integer"
        }
       ],
       "conversionMethod": "pd.DataFrame",
       "ref": "f3edb638-2fab-4a6b-b566-43c6efb82551",
       "rows": [
        [
         "0",
         "467",
         "88"
        ],
        [
         "1",
         "36",
         "92"
        ]
       ],
       "shape": {
        "columns": 2,
        "rows": 2
       }
      },
      "text/html": [
       "<div>\n",
       "<style scoped>\n",
       "    .dataframe tbody tr th:only-of-type {\n",
       "        vertical-align: middle;\n",
       "    }\n",
       "\n",
       "    .dataframe tbody tr th {\n",
       "        vertical-align: top;\n",
       "    }\n",
       "\n",
       "    .dataframe thead th {\n",
       "        text-align: right;\n",
       "    }\n",
       "</style>\n",
       "<table border=\"1\" class=\"dataframe\">\n",
       "  <thead>\n",
       "    <tr style=\"text-align: right;\">\n",
       "      <th>Success</th>\n",
       "      <th>0</th>\n",
       "      <th>1</th>\n",
       "    </tr>\n",
       "    <tr>\n",
       "      <th>estimated_success</th>\n",
       "      <th></th>\n",
       "      <th></th>\n",
       "    </tr>\n",
       "  </thead>\n",
       "  <tbody>\n",
       "    <tr>\n",
       "      <th>0</th>\n",
       "      <td>467</td>\n",
       "      <td>88</td>\n",
       "    </tr>\n",
       "    <tr>\n",
       "      <th>1</th>\n",
       "      <td>36</td>\n",
       "      <td>92</td>\n",
       "    </tr>\n",
       "  </tbody>\n",
       "</table>\n",
       "</div>"
      ],
      "text/plain": [
       "Success              0   1\n",
       "estimated_success         \n",
       "0                  467  88\n",
       "1                   36  92"
      ]
     },
     "execution_count": 17,
     "metadata": {},
     "output_type": "execute_result"
    }
   ],
   "source": [
    "# 8) Analyze model accuracy and misclassification rate\n",
    "# confuse matrix\n",
    "pd.crosstab(campaign_df['estimated_success'], campaign_df['Success'])"
   ]
  },
  {
   "cell_type": "code",
   "execution_count": null,
   "id": "73b21fc2",
   "metadata": {},
   "outputs": [],
   "source": []
  },
  {
   "cell_type": "code",
   "execution_count": null,
   "id": "028ff81e",
   "metadata": {},
   "outputs": [
    {
     "name": "stdout",
     "output_type": "stream",
     "text": [
      "Accuracy: 0.82\n"
     ]
    }
   ],
   "source": [
    "\n",
    "\n",
    "from sklearn.metrics import accuracy_score\n",
    "\n",
    "accuracy = accuracy_score(campaign_df['Success'], campaign_df['estimated_success'])\n",
    "\n",
    "print(f\"Accuracy: {accuracy:.2f}\")"
   ]
  },
  {
   "cell_type": "code",
   "execution_count": 21,
   "id": "86e69de2",
   "metadata": {},
   "outputs": [
    {
     "name": "stdout",
     "output_type": "stream",
     "text": [
      "Confusion Matrix: [[467  36]\n",
      " [ 88  92]]\n"
     ]
    }
   ],
   "source": [
    "# confusion matrix\n",
    "from sklearn.metrics import confusion_matrix    \n",
    "cm = confusion_matrix(campaign_df['Success'], campaign_df['estimated_success'])\n",
    "print(\"Confusion Matrix:\", cm)\n"
   ]
  },
  {
   "cell_type": "code",
   "execution_count": 23,
   "id": "85f42f52",
   "metadata": {},
   "outputs": [
    {
     "name": "stdout",
     "output_type": "stream",
     "text": [
      "Classification Report:               precision    recall  f1-score   support\n",
      "\n",
      "           0       0.84      0.93      0.88       503\n",
      "           1       0.72      0.51      0.60       180\n",
      "\n",
      "    accuracy                           0.82       683\n",
      "   macro avg       0.78      0.72      0.74       683\n",
      "weighted avg       0.81      0.82      0.81       683\n",
      "\n"
     ]
    }
   ],
   "source": [
    "from sklearn.metrics import classification_report\n",
    "report = classification_report(campaign_df['Success'], campaign_df['estimated_success'])\n",
    "print(\"Classification Report:\", report)"
   ]
  }
 ],
 "metadata": {
  "kernelspec": {
   "display_name": "base",
   "language": "python",
   "name": "python3"
  },
  "language_info": {
   "codemirror_mode": {
    "name": "ipython",
    "version": 3
   },
   "file_extension": ".py",
   "mimetype": "text/x-python",
   "name": "python",
   "nbconvert_exporter": "python",
   "pygments_lexer": "ipython3",
   "version": "3.12.7"
  }
 },
 "nbformat": 4,
 "nbformat_minor": 5
}
