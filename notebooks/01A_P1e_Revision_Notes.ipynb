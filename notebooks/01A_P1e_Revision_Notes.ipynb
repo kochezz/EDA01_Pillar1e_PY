{
 "cells": [
  {
   "cell_type": "markdown",
   "metadata": {},
   "source": [
    "# Lists / Tuples / Sets / Dictionary"
   ]
  },
  {
   "cell_type": "markdown",
   "metadata": {},
   "source": [
    "LISTS"
   ]
  },
  {
   "cell_type": "code",
   "execution_count": null,
   "metadata": {},
   "outputs": [],
   "source": [
    "# Lists are used to store multiple items in a single variable"
   ]
  },
  {
   "cell_type": "code",
   "execution_count": 1,
   "metadata": {},
   "outputs": [
    {
     "name": "stdout",
     "output_type": "stream",
     "text": [
      "['Kochez', 'Goska', 'Jay', 'Nene']\n"
     ]
    }
   ],
   "source": [
    "# List items are ordered, changeable and allow duplicate values\n",
    "# list items are indexed the first item has index[0], next one [1] etc\n",
    "\n",
    "phirifamily = [\"Kochez\", \"Goska\", \"Jay\", \"Nene\"]\n",
    "print(phirifamily)"
   ]
  },
  {
   "cell_type": "code",
   "execution_count": 2,
   "metadata": {},
   "outputs": [
    {
     "name": "stdout",
     "output_type": "stream",
     "text": [
      "4\n"
     ]
    }
   ],
   "source": [
    "# To determine how many items a list has, use the len() function\n",
    "print(len(phirifamily))"
   ]
  },
  {
   "cell_type": "code",
   "execution_count": 3,
   "metadata": {},
   "outputs": [],
   "source": [
    "# List items can be of any data type\n",
    "# String, int and boolean data types\n",
    "\n",
    "list1 = [\"apple\", \"banana\", \"cherry\"]\n",
    "list2 = [1, 5, 7, 9, 3]\n",
    "list3 = [True, False, False]\n"
   ]
  },
  {
   "cell_type": "code",
   "execution_count": 4,
   "metadata": {},
   "outputs": [
    {
     "name": "stdout",
     "output_type": "stream",
     "text": [
      "['apple', 'banana', 'cherry']\n",
      "[1, 5, 7, 9, 3]\n",
      "[True, False, False]\n"
     ]
    }
   ],
   "source": [
    "print(list1)\n",
    "print(list2)    \n",
    "print(list3)"
   ]
  },
  {
   "cell_type": "code",
   "execution_count": 5,
   "metadata": {},
   "outputs": [
    {
     "name": "stdout",
     "output_type": "stream",
     "text": [
      "<class 'list'>\n",
      "<class 'list'>\n",
      "<class 'list'>\n"
     ]
    }
   ],
   "source": [
    "print(type(list1))\n",
    "print(type(list2))\n",
    "print(type(list3))"
   ]
  },
  {
   "cell_type": "code",
   "execution_count": 8,
   "metadata": {},
   "outputs": [
    {
     "name": "stdout",
     "output_type": "stream",
     "text": [
      "['Goska', 'Jay']\n",
      "['Kochez', 'Goska', 'Jay']\n",
      "['Goska', 'Jay', 'Nene']\n"
     ]
    }
   ],
   "source": [
    "# Range of Indexes  \n",
    "print(phirifamily[1:3]) # This will return the second, third and fourth item    \n",
    "print(phirifamily[:3]) # This will return the first, second and third item\n",
    "print(phirifamily[1:]) # This will return the second, third and fourth item"
   ]
  },
  {
   "cell_type": "code",
   "execution_count": 9,
   "metadata": {},
   "outputs": [
    {
     "name": "stdout",
     "output_type": "stream",
     "text": [
      "Yes, Kochez is in the family\n"
     ]
    }
   ],
   "source": [
    "if \"Kochez\" in phirifamily:\n",
    "    print(\"Yes, Kochez is in the family\")"
   ]
  },
  {
   "cell_type": "code",
   "execution_count": 10,
   "metadata": {},
   "outputs": [
    {
     "name": "stdout",
     "output_type": "stream",
     "text": [
      "['apple', 'blackcurrant', 'cherry']\n"
     ]
    }
   ],
   "source": [
    "# Change Item Value\n",
    "list1[1] = \"blackcurrant\"\n",
    "print(list1)"
   ]
  },
  {
   "cell_type": "code",
   "execution_count": 12,
   "metadata": {},
   "outputs": [
    {
     "name": "stdout",
     "output_type": "stream",
     "text": [
      "['blackcurrant', 'watermelon', 'cherry', 'orange', 'kiwi', 'melon', 'mango']\n"
     ]
    }
   ],
   "source": [
    "list4 = [\"apple\", \"banana\", \"cherry\", \"orange\", \"kiwi\", \"melon\", \"mango\"]\n",
    "list4[0:2] = [\"blackcurrant\", \"watermelon\"]\n",
    "print(list4)"
   ]
  },
  {
   "cell_type": "code",
   "execution_count": 14,
   "metadata": {},
   "outputs": [
    {
     "name": "stdout",
     "output_type": "stream",
     "text": [
      "['apple', 'blackcurrant', 'watermelon', 'cherry', 'orange', 'kiwi', 'melon', 'mango']\n"
     ]
    }
   ],
   "source": [
    "# You can also replace one value with multiple values\n",
    "list4 = [\"apple\", \"banana\", \"cherry\", \"orange\", \"kiwi\", \"melon\", \"mango\"]\n",
    "list4[1:2] = [\"blackcurrant\", \"watermelon\"]\n",
    "print(list4)"
   ]
  },
  {
   "cell_type": "code",
   "execution_count": 15,
   "metadata": {},
   "outputs": [
    {
     "name": "stdout",
     "output_type": "stream",
     "text": [
      "['apple', 'banana', 'watermelon', 'cherry']\n"
     ]
    }
   ],
   "source": [
    "# To insert a new list item, without replacing any of the existing values, we can use the insert() method\n",
    "\n",
    "list5 = [\"apple\", \"banana\", \"cherry\"] \n",
    "list5.insert(2, \"watermelon\")   \n",
    "print(list5)     "
   ]
  },
  {
   "cell_type": "code",
   "execution_count": 16,
   "metadata": {},
   "outputs": [
    {
     "name": "stdout",
     "output_type": "stream",
     "text": [
      "['apple', 'banana', 'watermelon', 'cherry', 'orange']\n"
     ]
    }
   ],
   "source": [
    "# Append Items, this will add an item to the end of the list\n",
    "list5.append(\"orange\")\n",
    "print(list5)"
   ]
  },
  {
   "cell_type": "code",
   "execution_count": 19,
   "metadata": {},
   "outputs": [
    {
     "name": "stdout",
     "output_type": "stream",
     "text": [
      "['apple', 'banana', 'watermelon', 'cherry', 'orange', 'amasuku', 'infungo', 'ifisongole', 'amasuku', 'infungo', 'ifisongole', 'amasuku', 'infungo', 'ifisongole']\n"
     ]
    }
   ],
   "source": [
    "# Extend List, to add elements of another list to the current list\n",
    "list6 = [\"amasuku\", \"infungo\", \"ifisongole\"]\n",
    "list5.extend(list6)\n",
    "print(list5)"
   ]
  },
  {
   "cell_type": "code",
   "execution_count": 20,
   "metadata": {},
   "outputs": [
    {
     "name": "stdout",
     "output_type": "stream",
     "text": [
      "['apple', 'banana', 'cherry', 'kiwi', 'amarula', 'mango']\n"
     ]
    }
   ],
   "source": [
    "# Add any iterable to the list\n",
    "\n",
    "list7 = [\"apple\", \"banana\", \"cherry\"]\n",
    "tuple1 = (\"kiwi\", \"amarula\", \"mango\")\n",
    "list7.extend(tuple1)\n",
    "print(list7)"
   ]
  },
  {
   "cell_type": "code",
   "execution_count": 24,
   "metadata": {},
   "outputs": [
    {
     "name": "stdout",
     "output_type": "stream",
     "text": [
      "['apple', 'banana', 'watermelon', 'cherry', 'orange']\n"
     ]
    }
   ],
   "source": [
    "# Remove Specified Items\n",
    "list5 = [x for x in list5 if x not in [\"ifisongole\",\"amasuku\",\"infungo\"]]\n",
    "print(list5)    \n"
   ]
  },
  {
   "cell_type": "code",
   "execution_count": 25,
   "metadata": {},
   "outputs": [
    {
     "name": "stdout",
     "output_type": "stream",
     "text": [
      "['apple', 'watermelon', 'cherry', 'orange']\n"
     ]
    }
   ],
   "source": [
    "# Remove Specified Index\n",
    "list5.pop(1)\n",
    "print(list5)\n"
   ]
  },
  {
   "cell_type": "code",
   "execution_count": 26,
   "metadata": {},
   "outputs": [
    {
     "name": "stdout",
     "output_type": "stream",
     "text": [
      "['watermelon', 'cherry', 'orange']\n"
     ]
    }
   ],
   "source": [
    "# del keyword removes the specified index\n",
    "del list5[0]\n",
    "print(list5)"
   ]
  },
  {
   "cell_type": "code",
   "execution_count": 27,
   "metadata": {},
   "outputs": [
    {
     "name": "stdout",
     "output_type": "stream",
     "text": [
      "[]\n"
     ]
    }
   ],
   "source": [
    "# Clear the list, empties the list\n",
    "list8 = [\"apple\", \"banana\", \"cherry\"]\n",
    "list8.clear()\n",
    "print(list8)"
   ]
  },
  {
   "cell_type": "code",
   "execution_count": 28,
   "metadata": {},
   "outputs": [
    {
     "name": "stdout",
     "output_type": "stream",
     "text": [
      "mango\n",
      "ifisongole\n",
      "infungo\n",
      "impundu\n",
      "amasuku\n"
     ]
    }
   ],
   "source": [
    "# Loop through a list\n",
    "Zambian_fruits = [\"mango\", \"ifisongole\", \"infungo\", \"impundu\", \"amasuku\"]\n",
    "for x in Zambian_fruits:\n",
    "    print(x)\n"
   ]
  },
  {
   "cell_type": "code",
   "execution_count": 29,
   "metadata": {},
   "outputs": [
    {
     "name": "stdout",
     "output_type": "stream",
     "text": [
      "mango\n",
      "ifisongole\n",
      "infungo\n",
      "impundu\n",
      "amasuku\n"
     ]
    }
   ],
   "source": [
    "# Loop through the index numbers\n",
    "for i in range(len(Zambian_fruits)):\n",
    "    print(Zambian_fruits[i])"
   ]
  },
  {
   "cell_type": "code",
   "execution_count": 30,
   "metadata": {},
   "outputs": [
    {
     "name": "stdout",
     "output_type": "stream",
     "text": [
      "mango\n",
      "ifisongole\n",
      "infungo\n",
      "impundu\n",
      "amasuku\n"
     ]
    }
   ],
   "source": [
    "# Using a while loop\n",
    "i = 0\n",
    "while i < len(Zambian_fruits):\n",
    "    print(Zambian_fruits[i])\n",
    "    i = i + 1"
   ]
  },
  {
   "cell_type": "code",
   "execution_count": 32,
   "metadata": {},
   "outputs": [
    {
     "name": "stdout",
     "output_type": "stream",
     "text": [
      "[7, 9]\n"
     ]
    }
   ],
   "source": [
    "# List Comprehension. A shorter syntax when you want to create a new list based on the values of an existing list\n",
    "# This will create a new list containing only the values above 5\n",
    "list9 = [x for x in list2 if x > 5]\n",
    "print(list9)\n"
   ]
  },
  {
   "cell_type": "code",
   "execution_count": 34,
   "metadata": {},
   "outputs": [
    {
     "name": "stdout",
     "output_type": "stream",
     "text": [
      "['ifisongole', 'infungo', 'impundu']\n"
     ]
    }
   ],
   "source": [
    "Zambian_fruits = [\"mango\", \"ifisongole\", \"infungo\", \"impundu\", \"amasuku\"]\n",
    "newlist = [x for x in Zambian_fruits if \"i\" in x]\n",
    "print(newlist)"
   ]
  },
  {
   "cell_type": "code",
   "execution_count": 35,
   "metadata": {},
   "outputs": [
    {
     "name": "stdout",
     "output_type": "stream",
     "text": [
      "['MANGO', 'IFISONGOLE', 'INFUNGO', 'IMPUNDU', 'AMASUKU']\n"
     ]
    }
   ],
   "source": [
    "# Expression can also be added to the list comprehension\n",
    "newlist = [x.upper() for x in Zambian_fruits]\n",
    "print(newlist)"
   ]
  },
  {
   "cell_type": "code",
   "execution_count": 36,
   "metadata": {},
   "outputs": [
    {
     "name": "stdout",
     "output_type": "stream",
     "text": [
      "['mango', 'guava', 'infungo', 'impundu', 'amasuku']\n"
     ]
    }
   ],
   "source": [
    "# Manipulating lists\n",
    "newlist = [x if x!=\"ifisongole\" else \"guava\" for x in Zambian_fruits]\n",
    "print(newlist)"
   ]
  },
  {
   "cell_type": "code",
   "execution_count": 37,
   "metadata": {},
   "outputs": [
    {
     "name": "stdout",
     "output_type": "stream",
     "text": [
      "['amasuku', 'ifisongole', 'impundu', 'infungo', 'mango']\n"
     ]
    }
   ],
   "source": [
    "Zambian_fruits = [\"mango\", \"ifisongole\", \"infungo\", \"impundu\", \"amasuku\"]   \n",
    "Zambian_fruits.sort()\n",
    "print(Zambian_fruits)\n"
   ]
  },
  {
   "cell_type": "code",
   "execution_count": 38,
   "metadata": {},
   "outputs": [
    {
     "name": "stdout",
     "output_type": "stream",
     "text": [
      "['mango', 'infungo', 'impundu', 'ifisongole', 'amasuku']\n"
     ]
    }
   ],
   "source": [
    "# Sort the list in descending order\n",
    "Zambian_fruits.sort(reverse=True)\n",
    "print(Zambian_fruits)"
   ]
  },
  {
   "cell_type": "code",
   "execution_count": 39,
   "metadata": {},
   "outputs": [
    {
     "name": "stdout",
     "output_type": "stream",
     "text": [
      "['mango', 'ifisongole', 'infungo', 'impundu', 'amasuku']\n"
     ]
    }
   ],
   "source": [
    "# Copy Lists\n",
    "Zambian_fruits = [\"mango\", \"ifisongole\", \"infungo\", \"impundu\", \"amasuku\"]\n",
    "newlist = Zambian_fruits.copy()\n",
    "print(newlist)"
   ]
  },
  {
   "cell_type": "markdown",
   "metadata": {},
   "source": [
    "# Tuples"
   ]
  },
  {
   "cell_type": "code",
   "execution_count": 42,
   "metadata": {},
   "outputs": [
    {
     "name": "stdout",
     "output_type": "stream",
     "text": [
      "('apple', 'kiwi', 'cherry')\n",
      "('apple', 'banana', 'cherry', 'orange')\n"
     ]
    }
   ],
   "source": [
    "# Change Tuple values. Convert the tuple into a list, change the list, and convert the list back into a tuple\n",
    "tuple1 = (\"apple\", \"banana\", \"cherry\")\n",
    "y = list(tuple1)\n",
    "y[1] = \"kiwi\"\n",
    "tuple1 = tuple(y)\n",
    "print(tuple1)\n",
    "\n",
    "\n",
    "tuple1 = (\"apple\", \"banana\", \"cherry\")\n",
    "y = list(tuple1)\n",
    "y.append(\"orange\")\n",
    "tuple1 = tuple(y)\n",
    "print(tuple1)\n",
    "\n"
   ]
  },
  {
   "cell_type": "code",
   "execution_count": 48,
   "metadata": {},
   "outputs": [
    {
     "name": "stdout",
     "output_type": "stream",
     "text": [
      "[8, 9, 11, 12, 13, 16, 17, 17, 17, 18, 20, 20]\n",
      "               0\n",
      "count  12.000000\n",
      "mean   14.833333\n",
      "std     4.108380\n",
      "min     8.000000\n",
      "25%    11.750000\n",
      "50%    16.500000\n",
      "75%    17.250000\n",
      "max    20.000000\n",
      "    0\n",
      "0  17\n"
     ]
    }
   ],
   "source": [
    "import pandas as pd\n",
    "\n",
    "Student_Results = [13,20,16,17,9,18,17,11,8,17,12,20]\n",
    "Student_Results.sort()\n",
    "print(Student_Results)\n",
    "\n",
    "df = pd.DataFrame(Student_Results)\n",
    "print(df.describe())\n",
    "print(df.mode())"
   ]
  },
  {
   "cell_type": "code",
   "execution_count": 50,
   "metadata": {},
   "outputs": [
    {
     "name": "stdout",
     "output_type": "stream",
     "text": [
      "          Scores\n",
      "count  12.000000\n",
      "mean   14.833333\n",
      "std     4.108380\n",
      "min     8.000000\n",
      "25%    11.750000\n",
      "50%    16.500000\n",
      "75%    17.250000\n",
      "max    20.000000\n",
      "Mode(s):\n",
      "   Scores\n",
      "0      17\n",
      "Scores    16.5\n",
      "dtype: float64\n"
     ]
    },
    {
     "data": {
      "image/png": "[encoded data removed]",
      "text/plain": [
       "<Figure size 1200x500 with 2 Axes>"
      ]
     },
     "metadata": {},
     "output_type": "display_data"
    }
   ],
   "source": [
    "import pandas as pd\n",
    "import matplotlib.pyplot as plt\n",
    "import seaborn as sns\n",
    "\n",
    "# Data preparation\n",
    "Student_Results = [13, 20, 16, 17, 9, 18, 17, 11, 8, 17, 12, 20]\n",
    "Student_Results.sort()\n",
    "\n",
    "# Create DataFrame\n",
    "df = pd.DataFrame(Student_Results, columns=[\"Scores\"])\n",
    "\n",
    "# Show descriptive statistics\n",
    "print(df.describe())\n",
    "print(\"Mode(s):\")\n",
    "print(df.mode())\n",
    "print(df.median())\n",
    "\n",
    "\n",
    "# Plot visualizations\n",
    "plt.figure(figsize=(12, 5))\n",
    "\n",
    "# Histogram\n",
    "plt.subplot(1, 2, 1)\n",
    "sns.histplot(df[\"Scores\"], bins=5, kde=True)\n",
    "plt.title(\"Histogram of Student Scores\")\n",
    "\n",
    "# Box plot\n",
    "plt.subplot(1, 2, 2)\n",
    "sns.boxplot(x=df[\"Scores\"])\n",
    "plt.title(\"Box Plot of Student Scores\")\n",
    "\n",
    "plt.tight_layout()\n",
    "plt.show()\n"
   ]
  },
  {
   "cell_type": "code",
   "execution_count": null,
   "metadata": {},
   "outputs": [
    {
     "name": "stdout",
     "output_type": "stream",
     "text": [
      "   RunsA  RunsB\n",
      "0     78     92\n",
      "1     62      8\n",
      "2     73     78\n",
      "3     54     34\n",
      "4     76    109\n",
      "5     77     99\n",
      "           RunsA       RunsB\n",
      "count   6.000000    6.000000\n",
      "mean   70.000000   70.000000\n",
      "std     9.777525   40.124805\n",
      "min    54.000000    8.000000\n",
      "25%    64.750000   45.000000\n",
      "50%    74.500000   85.000000\n",
      "75%    76.750000   97.250000\n",
      "max    78.000000  109.000000\n",
      "RunsA    13.967893\n",
      "RunsB    57.321150\n",
      "dtype: float64\n"
     ]
    },
    {
     "data": {
      "image/png": "[encoded data removed]",
      "text/plain": [
       "<Figure size 1200x500 with 1 Axes>"
      ]
     },
     "metadata": {},
     "output_type": "display_data"
    }
   ],
   "source": [
    "\n",
    "import pandas as pd\n",
    "import matplotlib.pyplot as plt\n",
    "import seaborn as sns\n",
    "\n",
    "BatsmanA = [78,62,73,54,76,77]\n",
    "BatsmanB = [92,8,78,34,109,99]\n",
    "\n",
    "df1 = pd.DataFrame(BatsmanA, columns = [\"RunsA\"])\n",
    "df2 = pd.DataFrame(BatsmanB, columns = [\"RunsB\"])  \n",
    "\n",
    "df3 = pd.concat([df1, df2], axis=1)\n",
    "print(df3)\n",
    "\n",
    "print(df3.describe())\n",
    "\n",
    "plt.figure(figsize=(12, 5))\n",
    "sns.boxplot(data=df3)\n",
    "\n",
    "meanvalues = df3.mean()\n",
    "stdvalues = df3.std()\n",
    "\n",
    "CV_values = (stdvalues/meanvalues) * 100    \n",
    "print(CV_values)\n",
    "\n"
   ]
  }
 ],
 "metadata": {
  "kernelspec": {
   "display_name": ".venv",
   "language": "python",
   "name": "python3"
  },
  "language_info": {
   "codemirror_mode": {
    "name": "ipython",
    "version": 3
   },
   "file_extension": ".py",
   "mimetype": "text/x-python",
   "name": "python",
   "nbconvert_exporter": "python",
   "pygments_lexer": "ipython3",
   "version": "3.13.1"
  }
 },
 "nbformat": 4,
 "nbformat_minor": 2
}
