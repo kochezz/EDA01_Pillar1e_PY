{
 "cells": [
  {
   "cell_type": "markdown",
   "metadata": {},
   "source": [
    "Exploratory Data Analysis"
   ]
  },
  {
   "cell_type": "markdown",
   "metadata": {},
   "source": [
    "# Assignment 2 Data Management"
   ]
  },
  {
   "cell_type": "code",
   "execution_count": 1,
   "metadata": {},
   "outputs": [],
   "source": [
    "# Import the libraries\n",
    "\n",
    "import pandas as pd\n",
    "import matplotlib.pyplot as plt\n",
    "import numpy as np\n",
    "import scipy.stats as stats\n",
    "import seaborn as sns\n",
    "import os"
   ]
  },
  {
   "cell_type": "code",
   "execution_count": 2,
   "metadata": {},
   "outputs": [],
   "source": [
    "# Question 1: Import Premiums data and name it as Premium.\n",
    "\n",
    "# Set the working directory\n",
    "os.chdir(r\"C:\\Users\\willi\\OneDrive\\Documents\\Woolf Institute Data Analytics\\Live Class Data Sets\")"
   ]
  },
  {
   "cell_type": "code",
   "execution_count": 3,
   "metadata": {},
   "outputs": [],
   "source": [
    "Premium = pd.read_csv(\"Premiums.csv\")"
   ]
  },
  {
   "cell_type": "code",
   "execution_count": 4,
   "metadata": {},
   "outputs": [
    {
     "name": "stdout",
     "output_type": "stream",
     "text": [
      "(4744, 10)\n"
     ]
    }
   ],
   "source": [
    "# Question 2: Check number of rows, columns in the data.\n",
    "\n",
    "print(Premium.shape)"
   ]
  },
  {
   "cell_type": "code",
   "execution_count": 5,
   "metadata": {},
   "outputs": [
    {
     "name": "stdout",
     "output_type": "stream",
     "text": [
      "         POLICY_NO PRODUCT   BRANCH_NAME       REGION ZONE_NAME  \\\n",
      "0  A-2007073196522  TRAVEL          Pune  ROM and Goa     South   \n",
      "1  A-2007080402998  TRAVEL         Anand   Gujarat II     North   \n",
      "2  A-2007081314381  TRAVEL    Chennai II    Tamilnadu     South   \n",
      "3  A-2007082123389  TRAVEL        Baroda   Gujarat II     North   \n",
      "4  A-2007082123394  TRAVEL        Baroda   Gujarat II     North   \n",
      "5  A-2007083135582  TRAVEL  Bangalore II     Karnatka     South   \n",
      "6  A-2007090540083  TRAVEL       Andheri    Mumbai II     South   \n",
      "7  A-2007090540188  TRAVEL       Andheri    Mumbai II     South   \n",
      "8  A-2007090540273  TRAVEL       Andheri    Mumbai II     South   \n",
      "9  A-2007090540347  TRAVEL       Andheri    Mumbai II     South   \n",
      "\n",
      "                 Plan  Sum_Assured  Premium  Sub_Plan  Vintage_Period  \n",
      "0    Asia Silver Plan      30000.0    525.0    Silver              14  \n",
      "1    Asia Silver Plan      30000.0    325.0    Silver              30  \n",
      "2  Asia Standard Plan    1250000.0    300.0  Standard               4  \n",
      "3  Asia Standard Plan      25000.0    300.0  Standard              30  \n",
      "4  Asia Standard Plan      25000.0    300.0  Standard              30  \n",
      "5          Individual      50000.0    498.0  Standard             446  \n",
      "6    Asia Silver Plan      25000.0    364.0    Silver               5  \n",
      "7    Asia Silver Plan      25000.0    365.0    Silver               5  \n",
      "8    Asia Silver Plan      25000.0    364.0    Silver               8  \n",
      "9    Asia Silver Plan      25000.0    363.0    Silver               8  \n",
      "            POLICY_NO PRODUCT  BRANCH_NAME            REGION ZONE_NAME  \\\n",
      "4739  I-2008090517429  TRAVEL     Bareilly  UP AND UTRANCHAL     North   \n",
      "4740  I-2008090617490  TRAVEL  Bangalore I          Karnatka     South   \n",
      "4741  I-2008090617503  TRAVEL  Bangalore I          Karnatka     South   \n",
      "4742  I-2008091917750  TRAVEL        Patna      Rest of East      East   \n",
      "4743  I-2008092017751  TRAVEL  Gandhinagar         Gujarat I     North   \n",
      "\n",
      "                    Plan  Sum_Assured  Premium  Sub_Plan  Vintage_Period  \n",
      "4739  Individual  Standa      50000.0    407.0  Standard               5  \n",
      "4740  Individual  Standa    2000000.0    584.0  Standard              13  \n",
      "4741  Individual  Standa    2000000.0    549.0  Standard              14  \n",
      "4742  Individual  Gold P   10000000.0   1198.0      Gold              18  \n",
      "4743  Individual  Standa      50000.0    549.0  Standard             365  \n"
     ]
    }
   ],
   "source": [
    "# Question 3:Display the the first 10 rows and the last 5 rows of the data.\n",
    "\n",
    "print(Premium.head(10))\n",
    "print(Premium.tail(5))"
   ]
  },
  {
   "cell_type": "code",
   "execution_count": 6,
   "metadata": {},
   "outputs": [
    {
     "name": "stdout",
     "output_type": "stream",
     "text": [
      "        Sum_Assured       Premium  Vintage_Period\n",
      "count  4.744000e+03   4744.000000     4744.000000\n",
      "mean   3.824805e+06   1146.968876       49.103288\n",
      "std    4.839914e+06   1225.008815       80.413759\n",
      "min    0.000000e+00      0.000000        0.000000\n",
      "25%    5.000000e+05    549.000000        9.000000\n",
      "50%    2.000000e+06    731.500000       17.000000\n",
      "75%    4.000000e+06   1199.000000       42.000000\n",
      "max    2.500000e+07  19649.000000      733.000000\n"
     ]
    }
   ],
   "source": [
    "# Question 4: Describe (summarise) all variables.\n",
    "\n",
    "print(Premium.describe())"
   ]
  },
  {
   "cell_type": "code",
   "execution_count": null,
   "metadata": {},
   "outputs": [],
   "source": [
    "# Question 5:\n",
    "# Display top 5 and bottom 5 policies in terms of premium amount.\n",
    "# Change the column name to Premium_Amount\n",
    "Premium = Premium.rename(columns = {\"Premium\":\"Premium_Amount\"})"
   ]
  },
  {
   "cell_type": "code",
   "execution_count": 8,
   "metadata": {},
   "outputs": [
    {
     "name": "stdout",
     "output_type": "stream",
     "text": [
      "Index(['POLICY_NO', 'PRODUCT', 'BRANCH_NAME', 'REGION', 'ZONE_NAME', 'Plan',\n",
      "       'Sum_Assured', 'Premium_Amount', 'Sub_Plan', 'Vintage_Period'],\n",
      "      dtype='object')\n"
     ]
    }
   ],
   "source": [
    "print(Premium.columns)"
   ]
  },
  {
   "cell_type": "code",
   "execution_count": 9,
   "metadata": {},
   "outputs": [
    {
     "name": "stdout",
     "output_type": "stream",
     "text": [
      "            POLICY_NO PRODUCT      BRANCH_NAME                        REGION  \\\n",
      "184   F-2007091248143  TRAVEL          Bharuch                    Gujarat II   \n",
      "858   I-2007092056819  TRAVEL      Bangalore I                      Karnatka   \n",
      "201   F-2007110802074  TRAVEL  Connaught Place                      Delhi II   \n",
      "1178  I-2007102386800  TRAVEL            Surat                    Gujarat II   \n",
      "1715  I-2007120729531  TRAVEL       Chandigarh  Haryana And Himachal Pradesh   \n",
      "\n",
      "     ZONE_NAME                Plan  Sum_Assured  Premium_Amount  Sub_Plan  \\\n",
      "184      North   Family  Gold Plan     100000.0         19649.0      Gold   \n",
      "858      South  Individual  Platin     500000.0         14082.0  Platinum   \n",
      "201      North  Family  Standard P    2000000.0         12212.0  Standard   \n",
      "1178     North  Individual  Platin     500000.0         11836.0  Platinum   \n",
      "1715     North  Individual  Platin   20000000.0         11836.0  Platinum   \n",
      "\n",
      "      Vintage_Period  \n",
      "184              180  \n",
      "858               24  \n",
      "201              180  \n",
      "1178             182  \n",
      "1715             182  \n",
      "            POLICY_NO PRODUCT      BRANCH_NAME      REGION ZONE_NAME  \\\n",
      "4440  I-2008081198209  TRAVEL      Nehru Place     Delhi I     North   \n",
      "2625  I-2008032592387  TRAVEL  Connaught Place    Delhi II     North   \n",
      "4034  I-2008070373490  TRAVEL       Chennai II   Tamilnadu     South   \n",
      "3043  I-2008042419344  TRAVEL          Belapur    Mumbai I     South   \n",
      "3459  I-2008052243807  TRAVEL            Surat  Gujarat II     North   \n",
      "\n",
      "                    Plan  Sum_Assured  Premium_Amount  Sub_Plan  \\\n",
      "4440  Individual  Standa    2000000.0             0.0  Standard   \n",
      "2625  Individual  Standa          0.0             0.0  Standard   \n",
      "4034  Individual  Gold P          0.0             0.0      Gold   \n",
      "3043  Individual  Silver          0.0             0.0    Silver   \n",
      "3459  Individual  Standa          0.0             0.0  Standard   \n",
      "\n",
      "      Vintage_Period  \n",
      "4440               7  \n",
      "2625              91  \n",
      "4034              91  \n",
      "3043               5  \n",
      "3459              21  \n"
     ]
    }
   ],
   "source": [
    "# Option 1 using the sort_values function\n",
    "\n",
    "print(Premium.sort_values(\"Premium_Amount\", ascending = False).head(5))\n",
    "print(Premium.sort_values(\"Premium_Amount\", ascending = False).tail(5))"
   ]
  },
  {
   "cell_type": "code",
   "execution_count": 10,
   "metadata": {},
   "outputs": [
    {
     "name": "stdout",
     "output_type": "stream",
     "text": [
      "            POLICY_NO PRODUCT      BRANCH_NAME                        REGION  \\\n",
      "184   F-2007091248143  TRAVEL          Bharuch                    Gujarat II   \n",
      "858   I-2007092056819  TRAVEL      Bangalore I                      Karnatka   \n",
      "201   F-2007110802074  TRAVEL  Connaught Place                      Delhi II   \n",
      "1178  I-2007102386800  TRAVEL            Surat                    Gujarat II   \n",
      "1715  I-2007120729531  TRAVEL       Chandigarh  Haryana And Himachal Pradesh   \n",
      "\n",
      "     ZONE_NAME                Plan  Sum_Assured  Premium_Amount  Sub_Plan  \\\n",
      "184      North   Family  Gold Plan     100000.0         19649.0      Gold   \n",
      "858      South  Individual  Platin     500000.0         14082.0  Platinum   \n",
      "201      North  Family  Standard P    2000000.0         12212.0  Standard   \n",
      "1178     North  Individual  Platin     500000.0         11836.0  Platinum   \n",
      "1715     North  Individual  Platin   20000000.0         11836.0  Platinum   \n",
      "\n",
      "      Vintage_Period  \n",
      "184              180  \n",
      "858               24  \n",
      "201              180  \n",
      "1178             182  \n",
      "1715             182  \n",
      "            POLICY_NO PRODUCT  BRANCH_NAME                        REGION  \\\n",
      "154   A-2008082607824  TRAVEL     Amritsar     Punjab And Jammu  Kashmir   \n",
      "156   A-2008082607921  TRAVEL     Amritsar     Punjab And Jammu  Kashmir   \n",
      "337   I-2007051920023  TRAVEL   Chandigarh  Haryana And Himachal Pradesh   \n",
      "825   I-2007091853249  TRAVEL       Cochin                        Kerala   \n",
      "1456  I-2007111306174  TRAVEL  Nehru Place                       Delhi I   \n",
      "\n",
      "     ZONE_NAME                Plan  Sum_Assured  Premium_Amount  Sub_Plan  \\\n",
      "154      North  Asia Standard Plan    1000000.0             0.0  Standard   \n",
      "156      North  Asia Standard Plan    1000000.0             0.0  Standard   \n",
      "337      North  Individual  Silver          0.0             0.0    Silver   \n",
      "825      South  Individual  Gold P          0.0             0.0      Gold   \n",
      "1456     North  Individual  Gold P          0.0             0.0      Gold   \n",
      "\n",
      "      Vintage_Period  \n",
      "154                6  \n",
      "156                6  \n",
      "337               21  \n",
      "825               14  \n",
      "1456              14  \n"
     ]
    }
   ],
   "source": [
    "# Option 2: Using the nlargest and nsmallest functions\n",
    "\n",
    "Top_5_Policies = Premium.nlargest(5, \"Premium_Amount\")\n",
    "Bottom_5_Policies = Premium.nsmallest(5, \"Premium_Amount\")\n",
    "\n",
    "print(Top_5_Policies)\n",
    "print(Bottom_5_Policies)"
   ]
  },
  {
   "cell_type": "code",
   "execution_count": 14,
   "metadata": {},
   "outputs": [
    {
     "name": "stdout",
     "output_type": "stream",
     "text": [
      "                          REGION   Sum_Assured\n",
      "0               Andhra Pradesh I  8.136750e+08\n",
      "1              Andhra Pradesh II  2.781500e+08\n",
      "2                        Delhi I  1.886412e+09\n",
      "3                       Delhi II  2.641320e+09\n",
      "4                      Gujarat I  3.810417e+08\n",
      "5                     Gujarat II  4.332400e+08\n",
      "6   Haryana And Himachal Pradesh  4.069583e+08\n",
      "7                       Karnatka  2.359892e+09\n",
      "8                         Kerala  4.148100e+08\n",
      "9            MP And Chattishgarh  9.368000e+07\n",
      "10                      Mumbai I  2.167774e+09\n",
      "11                     Mumbai II  1.300088e+09\n",
      "12     Punjab And Jammu  Kashmir  9.206533e+08\n",
      "13                   ROM and Goa  2.057798e+09\n",
      "14                     Rajasthan  3.405000e+07\n",
      "15                  Rest of East  1.000000e+07\n",
      "16                     Tamilnadu  1.207567e+09\n",
      "17              UP AND UTRANCHAL  3.453164e+08\n",
      "18                   West Bengal  3.924500e+08\n"
     ]
    }
   ],
   "source": [
    "# Question 6: Calculate the sum for variable ‘Sum_Assured’ by ‘Region’ variable.\n",
    "# Using the groupby function\n",
    "\n",
    "Region_summary = Premium.groupby(\"REGION\")[\"Sum_Assured\"].sum().reset_index()\n",
    "print(Region_summary)"
   ]
  },
  {
   "cell_type": "code",
   "execution_count": 24,
   "metadata": {},
   "outputs": [
    {
     "name": "stdout",
     "output_type": "stream",
     "text": [
      "           POLICY_NO ZONE_NAME                Plan  Sum_Assured\n",
      "3    A-2007082123389     North  Asia Standard Plan      25000.0\n",
      "4    A-2007082123394     North  Asia Standard Plan      25000.0\n",
      "11   A-2007091348784     South  Asia Standard Plan      25000.0\n",
      "12   A-2007091348862     South  Asia Standard Plan      25000.0\n",
      "19   A-2007100469681     South  Asia Standard Plan      25000.0\n",
      "20   A-2007100469711     South  Asia Standard Plan      25000.0\n",
      "21   A-2007100469809     South  Asia Standard Plan      25000.0\n",
      "22   A-2007100469862     South  Asia Standard Plan      25000.0\n",
      "23   A-2007100469872     South  Asia Standard Plan      25000.0\n",
      "24   A-2007100872484     South  Asia Standard Plan      25000.0\n",
      "25   A-2007100973843     South  Asia Standard Plan      50000.0\n",
      "34   A-2007110600138     South  Asia Standard Plan      25000.0\n",
      "109  A-2008012960937     South  Asia Standard Plan      25000.0\n"
     ]
    }
   ],
   "source": [
    "# Question 7: Create a subset of policies of Asia Standard Plan with Sum_Assured < = 50,000. Keep variables Policy_No, Zone_name, Plan and Sum_Assured in the subset data.\n",
    "\n",
    "Asia_Std_Plan = Premium.loc[\n",
    "    (Premium[\"Plan\"] == \"Asia Standard Plan\") & (Premium[\"Sum_Assured\"] <= 50000),\n",
    "    [\"POLICY_NO\", \"ZONE_NAME\", \"Plan\", \"Sum_Assured\"]\n",
    "]\n",
    "\n",
    "print(Asia_Std_Plan)"
   ]
  },
  {
   "cell_type": "code",
   "execution_count": 25,
   "metadata": {},
   "outputs": [],
   "source": [
    "# Question 8: Export the subset into an xlsx file.\n",
    "# Set the working directory\n",
    "os.chdir(r\"C:\\Users\\willi\\OneDrive\\Documents\\Woolf Institute Data Analytics\\Exported Files\")\n",
    "Asia_Std_Plan.to_excel(\"Asia_Std_Plan.xlsx\", index = False)"
   ]
  }
 ],
 "metadata": {
  "kernelspec": {
   "display_name": "base",
   "language": "python",
   "name": "python3"
  },
  "language_info": {
   "codemirror_mode": {
    "name": "ipython",
    "version": 3
   },
   "file_extension": ".py",
   "mimetype": "text/x-python",
   "name": "python",
   "nbconvert_exporter": "python",
   "pygments_lexer": "ipython3",
   "version": "3.12.7"
  }
 },
 "nbformat": 4,
 "nbformat_minor": 2
}
