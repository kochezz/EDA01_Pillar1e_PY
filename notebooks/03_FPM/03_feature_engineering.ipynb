{
 "cells": [
  {
   "cell_type": "code",
   "execution_count": 1,
   "metadata": {},
   "outputs": [],
   "source": [
    "import pandas as pd\n",
    "from sklearn.preprocessing import LabelEncoder\n",
    "import os\n",
    "os.chdir(r\"C:\\Users\\willi\\OneDrive\\Documents\\GitHub\\PRJ01_Iris_Classification\\data\\raw\")\n",
    "\n",
    "# Load data\n",
    "df = pd.read_csv(\"Iris.csv\")\n",
    "\n",
    "# Encode species labels\n",
    "encoder = LabelEncoder()\n",
    "df[\"Species\"] = encoder.fit_transform(df[\"Species\"])\n",
    "\n",
    "# Save processed data with a file name\n",
    "df.to_csv(r\"C:\\Users\\willi\\OneDrive\\Documents\\GitHub\\PRJ01_Iris_Classification\\data\\raw\\Iris_Processed.csv\", index=False)\n"
   ]
  },
  {
   "cell_type": "markdown",
   "metadata": {},
   "source": [
    "# Process the Additional Data Provided\n"
   ]
  },
  {
   "cell_type": "markdown",
   "metadata": {},
   "source": [
    "This will encode the species column into numerical values and save the addn processed data into a csv file."
   ]
  },
  {
   "cell_type": "code",
   "execution_count": 4,
   "metadata": {},
   "outputs": [],
   "source": [
    "import pandas as pd\n",
    "from sklearn.preprocessing import LabelEncoder\n",
    "import os\n",
    "os.chdir(r\"C:\\Users\\willi\\OneDrive\\Documents\\GitHub\\PRJ01_Iris_Classification\\data\\raw\")\n",
    "\n",
    "# Load data\n",
    "df = pd.read_csv(\"Addn_data.csv\")\n",
    "\n",
    "# Encode species labels\n",
    "encoder = LabelEncoder()\n",
    "df['species'] = encoder.fit_transform(df['species'])\n",
    "\n",
    "# Save processed data\n",
    "df.to_csv(r\"C:\\Users\\willi\\OneDrive\\Documents\\GitHub\\PRJ01_Iris_Classification\\data\\raw\\Addn_data_processed.csv\", index=False)"
   ]
  }
 ],
 "metadata": {
  "kernelspec": {
   "display_name": ".venv",
   "language": "python",
   "name": "python3"
  },
  "language_info": {
   "codemirror_mode": {
    "name": "ipython",
    "version": 3
   },
   "file_extension": ".py",
   "mimetype": "text/x-python",
   "name": "python",
   "nbconvert_exporter": "python",
   "pygments_lexer": "ipython3",
   "version": "3.13.1"
  }
 },
 "nbformat": 4,
 "nbformat_minor": 2
}
