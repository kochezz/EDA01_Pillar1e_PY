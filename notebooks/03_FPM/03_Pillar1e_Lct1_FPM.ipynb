{
 "cells": [
  {
   "cell_type": "markdown",
   "metadata": {},
   "source": [
    "# Fundamentals of Predictive Modelling"
   ]
  },
  {
   "cell_type": "code",
   "execution_count": 7,
   "metadata": {},
   "outputs": [],
   "source": [
    "# Import Libraries\n",
    "\n",
    "import pandas as pd\n",
    "import numpy as np\n",
    "import matplotlib.pyplot as plt\n",
    "import seaborn as sns\n",
    "import statsmodels.api as sm\n",
    "import scipy as sp\n",
    "import statsmodels.formula.api as smf\n",
    "import statsmodels.stats.api as sms\n",
    "import statsmodels.stats.proportion as ssp\n",
    "import os\n",
    "os.chdir(r\"C:\\Users\\willi\\OneDrive\\Documents\\Woolf Institute Data Analytics\\Module 3 Predictive Modelling\\Live Class Data Sets\")"
   ]
  },
  {
   "cell_type": "code",
   "execution_count": 4,
   "metadata": {},
   "outputs": [
    {
     "name": "stdout",
     "output_type": "stream",
     "text": [
      "✅ Dataset Loaded Successfully\n",
      "<class 'pandas.core.frame.DataFrame'>\n",
      "RangeIndex: 33 entries, 0 to 32\n",
      "Data columns (total 6 columns):\n",
      " #   Column     Non-Null Count  Dtype  \n",
      "---  ------     --------------  -----  \n",
      " 0   empid      33 non-null     int64  \n",
      " 1   jpi        33 non-null     float64\n",
      " 2   aptitude   33 non-null     float64\n",
      " 3   tol        33 non-null     float64\n",
      " 4   technical  33 non-null     float64\n",
      " 5   general    33 non-null     float64\n",
      "dtypes: float64(5), int64(1)\n",
      "memory usage: 1.7 KB\n",
      "None\n",
      "          empid        jpi   aptitude        tol  technical    general\n",
      "count  33.00000  33.000000  33.000000  33.000000   33.00000  33.000000\n",
      "mean   17.00000  47.865758  52.660606  53.990606   52.01697  49.036364\n",
      "std     9.66954   9.458342  10.054991  10.149654    4.98145   5.636432\n",
      "min     1.00000  31.640000  32.710000  32.560000   41.25000  37.000000\n",
      "25%     9.00000  41.190000  45.590000  44.890000   48.34000  45.070000\n",
      "50%    17.00000  49.450000  53.380000  57.040000   51.64000  50.530000\n",
      "75%    25.00000  53.920000  56.750000  61.280000   54.68000  53.500000\n",
      "max    33.00000  66.390000  75.030000  68.530000   67.27000  58.900000\n"
     ]
    }
   ],
   "source": [
    "# Import Data\n",
    "perindex = pd.read_csv(\"Performance Index.csv\")\n",
    "print(\"✅ Dataset Loaded Successfully\")\n",
    "perindex.head(10)\n",
    "print(perindex.info())\n",
    "print(perindex.describe())"
   ]
  },
  {
   "cell_type": "code",
   "execution_count": 18,
   "metadata": {},
   "outputs": [
    {
     "data": {
      "application/vnd.microsoft.datawrangler.viewer.v0+json": {
       "columns": [
        {
         "name": "index",
         "rawType": "int64",
         "type": "integer"
        },
        {
         "name": "empid",
         "rawType": "int64",
         "type": "integer"
        },
        {
         "name": "jpi",
         "rawType": "float64",
         "type": "float"
        },
        {
         "name": "aptitude",
         "rawType": "float64",
         "type": "float"
        },
        {
         "name": "tol",
         "rawType": "float64",
         "type": "float"
        },
        {
         "name": "technical",
         "rawType": "float64",
         "type": "float"
        },
        {
         "name": "general",
         "rawType": "float64",
         "type": "float"
        },
        {
         "name": "pred",
         "rawType": "float64",
         "type": "float"
        },
        {
         "name": "resid",
         "rawType": "float64",
         "type": "float"
        }
       ],
       "conversionMethod": "pd.DataFrame",
       "ref": "bc4fa643-ae06-44ed-b0fb-3b27bdcaa977",
       "rows": [
        [
         "0",
         "1",
         "45.52",
         "43.83",
         "55.92",
         "51.82",
         "43.58",
         "41.73850341033252",
         "3.7814965896674835"
        ],
        [
         "1",
         "2",
         "40.1",
         "32.71",
         "32.56",
         "51.49",
         "51.03",
         "41.709730589875015",
         "-1.6097305898750136"
        ],
        [
         "2",
         "3",
         "50.61",
         "56.64",
         "54.84",
         "52.29",
         "52.47",
         "51.36215100521176",
         "-0.7521510052117577"
        ],
        [
         "3",
         "4",
         "38.97",
         "51.53",
         "59.69",
         "47.48",
         "47.69",
         "41.69148638400547",
         "-2.7214863840054733"
        ],
        [
         "4",
         "5",
         "41.87",
         "51.35",
         "51.5",
         "47.59",
         "45.77",
         "40.71145076712837",
         "1.1585492328716285"
        ],
        [
         "5",
         "6",
         "38.71",
         "39.6",
         "43.63",
         "48.34",
         "42.06",
         "35.61698980233635",
         "3.093010197663652"
        ],
        [
         "6",
         "7",
         "31.64",
         "61.08",
         "39.09",
         "41.25",
         "37.0",
         "32.11200584338265",
         "-0.4720058433826466"
        ],
        [
         "7",
         "8",
         "59.84",
         "53.38",
         "61.13",
         "58.08",
         "52.28",
         "56.637510288026334",
         "3.2024897119736693"
        ],
        [
         "8",
         "9",
         "53.92",
         "56.75",
         "60.62",
         "53.28",
         "54.01",
         "53.34074174434",
         "0.579258255660001"
        ],
        [
         "9",
         "10",
         "50.01",
         "61.31",
         "44.69",
         "54.18",
         "49.14",
         "53.22058729087146",
         "-3.2105872908714588"
        ]
       ],
       "shape": {
        "columns": 8,
        "rows": 10
       }
      },
      "text/html": [
       "<div>\n",
       "<style scoped>\n",
       "    .dataframe tbody tr th:only-of-type {\n",
       "        vertical-align: middle;\n",
       "    }\n",
       "\n",
       "    .dataframe tbody tr th {\n",
       "        vertical-align: top;\n",
       "    }\n",
       "\n",
       "    .dataframe thead th {\n",
       "        text-align: right;\n",
       "    }\n",
       "</style>\n",
       "<table border=\"1\" class=\"dataframe\">\n",
       "  <thead>\n",
       "    <tr style=\"text-align: right;\">\n",
       "      <th></th>\n",
       "      <th>empid</th>\n",
       "      <th>jpi</th>\n",
       "      <th>aptitude</th>\n",
       "      <th>tol</th>\n",
       "      <th>technical</th>\n",
       "      <th>general</th>\n",
       "      <th>pred</th>\n",
       "      <th>resid</th>\n",
       "    </tr>\n",
       "  </thead>\n",
       "  <tbody>\n",
       "    <tr>\n",
       "      <th>0</th>\n",
       "      <td>1</td>\n",
       "      <td>45.52</td>\n",
       "      <td>43.83</td>\n",
       "      <td>55.92</td>\n",
       "      <td>51.82</td>\n",
       "      <td>43.58</td>\n",
       "      <td>41.738503</td>\n",
       "      <td>3.781497</td>\n",
       "    </tr>\n",
       "    <tr>\n",
       "      <th>1</th>\n",
       "      <td>2</td>\n",
       "      <td>40.10</td>\n",
       "      <td>32.71</td>\n",
       "      <td>32.56</td>\n",
       "      <td>51.49</td>\n",
       "      <td>51.03</td>\n",
       "      <td>41.709731</td>\n",
       "      <td>-1.609731</td>\n",
       "    </tr>\n",
       "    <tr>\n",
       "      <th>2</th>\n",
       "      <td>3</td>\n",
       "      <td>50.61</td>\n",
       "      <td>56.64</td>\n",
       "      <td>54.84</td>\n",
       "      <td>52.29</td>\n",
       "      <td>52.47</td>\n",
       "      <td>51.362151</td>\n",
       "      <td>-0.752151</td>\n",
       "    </tr>\n",
       "    <tr>\n",
       "      <th>3</th>\n",
       "      <td>4</td>\n",
       "      <td>38.97</td>\n",
       "      <td>51.53</td>\n",
       "      <td>59.69</td>\n",
       "      <td>47.48</td>\n",
       "      <td>47.69</td>\n",
       "      <td>41.691486</td>\n",
       "      <td>-2.721486</td>\n",
       "    </tr>\n",
       "    <tr>\n",
       "      <th>4</th>\n",
       "      <td>5</td>\n",
       "      <td>41.87</td>\n",
       "      <td>51.35</td>\n",
       "      <td>51.50</td>\n",
       "      <td>47.59</td>\n",
       "      <td>45.77</td>\n",
       "      <td>40.711451</td>\n",
       "      <td>1.158549</td>\n",
       "    </tr>\n",
       "    <tr>\n",
       "      <th>5</th>\n",
       "      <td>6</td>\n",
       "      <td>38.71</td>\n",
       "      <td>39.60</td>\n",
       "      <td>43.63</td>\n",
       "      <td>48.34</td>\n",
       "      <td>42.06</td>\n",
       "      <td>35.616990</td>\n",
       "      <td>3.093010</td>\n",
       "    </tr>\n",
       "    <tr>\n",
       "      <th>6</th>\n",
       "      <td>7</td>\n",
       "      <td>31.64</td>\n",
       "      <td>61.08</td>\n",
       "      <td>39.09</td>\n",
       "      <td>41.25</td>\n",
       "      <td>37.00</td>\n",
       "      <td>32.112006</td>\n",
       "      <td>-0.472006</td>\n",
       "    </tr>\n",
       "    <tr>\n",
       "      <th>7</th>\n",
       "      <td>8</td>\n",
       "      <td>59.84</td>\n",
       "      <td>53.38</td>\n",
       "      <td>61.13</td>\n",
       "      <td>58.08</td>\n",
       "      <td>52.28</td>\n",
       "      <td>56.637510</td>\n",
       "      <td>3.202490</td>\n",
       "    </tr>\n",
       "    <tr>\n",
       "      <th>8</th>\n",
       "      <td>9</td>\n",
       "      <td>53.92</td>\n",
       "      <td>56.75</td>\n",
       "      <td>60.62</td>\n",
       "      <td>53.28</td>\n",
       "      <td>54.01</td>\n",
       "      <td>53.340742</td>\n",
       "      <td>0.579258</td>\n",
       "    </tr>\n",
       "    <tr>\n",
       "      <th>9</th>\n",
       "      <td>10</td>\n",
       "      <td>50.01</td>\n",
       "      <td>61.31</td>\n",
       "      <td>44.69</td>\n",
       "      <td>54.18</td>\n",
       "      <td>49.14</td>\n",
       "      <td>53.220587</td>\n",
       "      <td>-3.210587</td>\n",
       "    </tr>\n",
       "  </tbody>\n",
       "</table>\n",
       "</div>"
      ],
      "text/plain": [
       "   empid    jpi  aptitude    tol  technical  general       pred     resid\n",
       "0      1  45.52     43.83  55.92      51.82    43.58  41.738503  3.781497\n",
       "1      2  40.10     32.71  32.56      51.49    51.03  41.709731 -1.609731\n",
       "2      3  50.61     56.64  54.84      52.29    52.47  51.362151 -0.752151\n",
       "3      4  38.97     51.53  59.69      47.48    47.69  41.691486 -2.721486\n",
       "4      5  41.87     51.35  51.50      47.59    45.77  40.711451  1.158549\n",
       "5      6  38.71     39.60  43.63      48.34    42.06  35.616990  3.093010\n",
       "6      7  31.64     61.08  39.09      41.25    37.00  32.112006 -0.472006\n",
       "7      8  59.84     53.38  61.13      58.08    52.28  56.637510  3.202490\n",
       "8      9  53.92     56.75  60.62      53.28    54.01  53.340742  0.579258\n",
       "9     10  50.01     61.31  44.69      54.18    49.14  53.220587 -3.210587"
      ]
     },
     "execution_count": 18,
     "metadata": {},
     "output_type": "execute_result"
    }
   ],
   "source": [
    "perindex.head(10)"
   ]
  },
  {
   "cell_type": "code",
   "execution_count": 5,
   "metadata": {},
   "outputs": [
    {
     "data": {
      "text/plain": [
       "<seaborn.axisgrid.PairGrid at 0x1ca703a0e30>"
      ]
     },
     "execution_count": 5,
     "metadata": {},
     "output_type": "execute_result"
    },
    {
     "data": {
      "image/png": "[encoded data removed]",
      "text/plain": [
       "<Figure size 1500x1500 with 42 Axes>"
      ]
     },
     "metadata": {},
     "output_type": "display_data"
    }
   ],
   "source": [
    "# Graphical Presentation\n",
    "\n",
    "sns.pairplot(perindex)"
   ]
  },
  {
   "cell_type": "code",
   "execution_count": 8,
   "metadata": {},
   "outputs": [
    {
     "data": {
      "text/plain": [
       "Intercept   -54.282247\n",
       "tol           0.033372\n",
       "aptitude      0.323562\n",
       "technical     1.095467\n",
       "general       0.536834\n",
       "dtype: float64"
      ]
     },
     "execution_count": 8,
     "metadata": {},
     "output_type": "execute_result"
    }
   ],
   "source": [
    "# Model fitting\n",
    "jpimodel = smf.ols(\"jpi~tol+aptitude+technical+general\", data=perindex).fit()\n",
    "jpimodel.params\n"
   ]
  },
  {
   "cell_type": "markdown",
   "metadata": {},
   "source": [
    "# OUTPUT: tol (0.03): For every 1 unit increase in tol, jpi increases by 0.03 units, assuming other variables are held constant."
   ]
  },
  {
   "cell_type": "code",
   "execution_count": 9,
   "metadata": {},
   "outputs": [
    {
     "name": "stdout",
     "output_type": "stream",
     "text": [
      "                            OLS Regression Results                            \n",
      "==============================================================================\n",
      "Dep. Variable:                    jpi   R-squared:                       0.877\n",
      "Model:                            OLS   Adj. R-squared:                  0.859\n",
      "Method:                 Least Squares   F-statistic:                     49.81\n",
      "Date:                Sat, 29 Mar 2025   Prob (F-statistic):           2.47e-12\n",
      "Time:                        08:44:27   Log-Likelihood:                -85.916\n",
      "No. Observations:                  33   AIC:                             181.8\n",
      "Df Residuals:                      28   BIC:                             189.3\n",
      "Df Model:                           4                                         \n",
      "Covariance Type:            nonrobust                                         \n",
      "==============================================================================\n",
      "                 coef    std err          t      P>|t|      [0.025      0.975]\n",
      "------------------------------------------------------------------------------\n",
      "Intercept    -54.2822      7.395     -7.341      0.000     -69.429     -39.135\n",
      "tol            0.0334      0.071      0.468      0.643      -0.113       0.179\n",
      "aptitude       0.3236      0.068      4.774      0.000       0.185       0.462\n",
      "technical      1.0955      0.181      6.039      0.000       0.724       1.467\n",
      "general        0.5368      0.158      3.389      0.002       0.212       0.861\n",
      "==============================================================================\n",
      "Omnibus:                        2.124   Durbin-Watson:                   1.379\n",
      "Prob(Omnibus):                  0.346   Jarque-Bera (JB):                1.944\n",
      "Skew:                          -0.544   Prob(JB):                        0.378\n",
      "Kurtosis:                       2.518   Cond. No.                     1.25e+03\n",
      "==============================================================================\n",
      "\n",
      "Notes:\n",
      "[1] Standard Errors assume that the covariance matrix of the errors is correctly specified.\n",
      "[2] The condition number is large, 1.25e+03. This might indicate that there are\n",
      "strong multicollinearity or other numerical problems.\n"
     ]
    }
   ],
   "source": [
    "# Understanding the summary output\n",
    "print(jpimodel.summary())"
   ]
  },
  {
   "cell_type": "markdown",
   "metadata": {},
   "source": [
    "Interpretation :  \n",
    "  Reject Global Testing null hypothesis that no variables are significant as p-value is<0.05\n",
    "  Intercept, aptitude, technical, general are significant variables (p-values<0.05)\n",
    "  tol  is not significant (p-value>0.05)\n"
   ]
  },
  {
   "cell_type": "code",
   "execution_count": 10,
   "metadata": {},
   "outputs": [
    {
     "data": {
      "text/plain": [
       "Intercept   -54.406443\n",
       "aptitude      0.333346\n",
       "technical     1.116627\n",
       "general       0.543157\n",
       "dtype: float64"
      ]
     },
     "execution_count": 10,
     "metadata": {},
     "output_type": "execute_result"
    }
   ],
   "source": [
    "# Fitted Values and Residuals\n",
    "\n",
    "jpimodel_new = smf.ols(\"jpi~aptitude+technical+general\", data=perindex).fit()\n",
    "jpimodel_new.params"
   ]
  },
  {
   "cell_type": "code",
   "execution_count": 21,
   "metadata": {},
   "outputs": [
    {
     "data": {
      "application/vnd.microsoft.datawrangler.viewer.v0+json": {
       "columns": [
        {
         "name": "index",
         "rawType": "int64",
         "type": "integer"
        },
        {
         "name": "empid",
         "rawType": "int64",
         "type": "integer"
        },
        {
         "name": "jpi",
         "rawType": "float64",
         "type": "float"
        },
        {
         "name": "aptitude",
         "rawType": "float64",
         "type": "float"
        },
        {
         "name": "tol",
         "rawType": "float64",
         "type": "float"
        },
        {
         "name": "technical",
         "rawType": "float64",
         "type": "float"
        },
        {
         "name": "general",
         "rawType": "float64",
         "type": "float"
        },
        {
         "name": "pred",
         "rawType": "float64",
         "type": "float"
        },
        {
         "name": "resid",
         "rawType": "float64",
         "type": "float"
        }
       ],
       "conversionMethod": "pd.DataFrame",
       "ref": "e6068891-de11-4b32-8acc-21897fd1c9ce",
       "rows": [
        [
         "0",
         "1",
         "45.52",
         "43.83",
         "55.92",
         "51.82",
         "43.58",
         "41.74",
         "3.78"
        ],
        [
         "1",
         "2",
         "40.1",
         "32.71",
         "32.56",
         "51.49",
         "51.03",
         "41.71",
         "-1.61"
        ],
        [
         "2",
         "3",
         "50.61",
         "56.64",
         "54.84",
         "52.29",
         "52.47",
         "51.36",
         "-0.75"
        ],
        [
         "3",
         "4",
         "38.97",
         "51.53",
         "59.69",
         "47.48",
         "47.69",
         "41.69",
         "-2.72"
        ],
        [
         "4",
         "5",
         "41.87",
         "51.35",
         "51.5",
         "47.59",
         "45.77",
         "40.71",
         "1.16"
        ],
        [
         "5",
         "6",
         "38.71",
         "39.6",
         "43.63",
         "48.34",
         "42.06",
         "35.62",
         "3.09"
        ],
        [
         "6",
         "7",
         "31.64",
         "61.08",
         "39.09",
         "41.25",
         "37.0",
         "32.11",
         "-0.47"
        ],
        [
         "7",
         "8",
         "59.84",
         "53.38",
         "61.13",
         "58.08",
         "52.28",
         "56.64",
         "3.2"
        ],
        [
         "8",
         "9",
         "53.92",
         "56.75",
         "60.62",
         "53.28",
         "54.01",
         "53.34",
         "0.58"
        ],
        [
         "9",
         "10",
         "50.01",
         "61.31",
         "44.69",
         "54.18",
         "49.14",
         "53.22",
         "-3.21"
        ]
       ],
       "shape": {
        "columns": 8,
        "rows": 10
       }
      },
      "text/html": [
       "<div>\n",
       "<style scoped>\n",
       "    .dataframe tbody tr th:only-of-type {\n",
       "        vertical-align: middle;\n",
       "    }\n",
       "\n",
       "    .dataframe tbody tr th {\n",
       "        vertical-align: top;\n",
       "    }\n",
       "\n",
       "    .dataframe thead th {\n",
       "        text-align: right;\n",
       "    }\n",
       "</style>\n",
       "<table border=\"1\" class=\"dataframe\">\n",
       "  <thead>\n",
       "    <tr style=\"text-align: right;\">\n",
       "      <th></th>\n",
       "      <th>empid</th>\n",
       "      <th>jpi</th>\n",
       "      <th>aptitude</th>\n",
       "      <th>tol</th>\n",
       "      <th>technical</th>\n",
       "      <th>general</th>\n",
       "      <th>pred</th>\n",
       "      <th>resid</th>\n",
       "    </tr>\n",
       "  </thead>\n",
       "  <tbody>\n",
       "    <tr>\n",
       "      <th>0</th>\n",
       "      <td>1</td>\n",
       "      <td>45.52</td>\n",
       "      <td>43.83</td>\n",
       "      <td>55.92</td>\n",
       "      <td>51.82</td>\n",
       "      <td>43.58</td>\n",
       "      <td>41.74</td>\n",
       "      <td>3.78</td>\n",
       "    </tr>\n",
       "    <tr>\n",
       "      <th>1</th>\n",
       "      <td>2</td>\n",
       "      <td>40.10</td>\n",
       "      <td>32.71</td>\n",
       "      <td>32.56</td>\n",
       "      <td>51.49</td>\n",
       "      <td>51.03</td>\n",
       "      <td>41.71</td>\n",
       "      <td>-1.61</td>\n",
       "    </tr>\n",
       "    <tr>\n",
       "      <th>2</th>\n",
       "      <td>3</td>\n",
       "      <td>50.61</td>\n",
       "      <td>56.64</td>\n",
       "      <td>54.84</td>\n",
       "      <td>52.29</td>\n",
       "      <td>52.47</td>\n",
       "      <td>51.36</td>\n",
       "      <td>-0.75</td>\n",
       "    </tr>\n",
       "    <tr>\n",
       "      <th>3</th>\n",
       "      <td>4</td>\n",
       "      <td>38.97</td>\n",
       "      <td>51.53</td>\n",
       "      <td>59.69</td>\n",
       "      <td>47.48</td>\n",
       "      <td>47.69</td>\n",
       "      <td>41.69</td>\n",
       "      <td>-2.72</td>\n",
       "    </tr>\n",
       "    <tr>\n",
       "      <th>4</th>\n",
       "      <td>5</td>\n",
       "      <td>41.87</td>\n",
       "      <td>51.35</td>\n",
       "      <td>51.50</td>\n",
       "      <td>47.59</td>\n",
       "      <td>45.77</td>\n",
       "      <td>40.71</td>\n",
       "      <td>1.16</td>\n",
       "    </tr>\n",
       "    <tr>\n",
       "      <th>5</th>\n",
       "      <td>6</td>\n",
       "      <td>38.71</td>\n",
       "      <td>39.60</td>\n",
       "      <td>43.63</td>\n",
       "      <td>48.34</td>\n",
       "      <td>42.06</td>\n",
       "      <td>35.62</td>\n",
       "      <td>3.09</td>\n",
       "    </tr>\n",
       "    <tr>\n",
       "      <th>6</th>\n",
       "      <td>7</td>\n",
       "      <td>31.64</td>\n",
       "      <td>61.08</td>\n",
       "      <td>39.09</td>\n",
       "      <td>41.25</td>\n",
       "      <td>37.00</td>\n",
       "      <td>32.11</td>\n",
       "      <td>-0.47</td>\n",
       "    </tr>\n",
       "    <tr>\n",
       "      <th>7</th>\n",
       "      <td>8</td>\n",
       "      <td>59.84</td>\n",
       "      <td>53.38</td>\n",
       "      <td>61.13</td>\n",
       "      <td>58.08</td>\n",
       "      <td>52.28</td>\n",
       "      <td>56.64</td>\n",
       "      <td>3.20</td>\n",
       "    </tr>\n",
       "    <tr>\n",
       "      <th>8</th>\n",
       "      <td>9</td>\n",
       "      <td>53.92</td>\n",
       "      <td>56.75</td>\n",
       "      <td>60.62</td>\n",
       "      <td>53.28</td>\n",
       "      <td>54.01</td>\n",
       "      <td>53.34</td>\n",
       "      <td>0.58</td>\n",
       "    </tr>\n",
       "    <tr>\n",
       "      <th>9</th>\n",
       "      <td>10</td>\n",
       "      <td>50.01</td>\n",
       "      <td>61.31</td>\n",
       "      <td>44.69</td>\n",
       "      <td>54.18</td>\n",
       "      <td>49.14</td>\n",
       "      <td>53.22</td>\n",
       "      <td>-3.21</td>\n",
       "    </tr>\n",
       "  </tbody>\n",
       "</table>\n",
       "</div>"
      ],
      "text/plain": [
       "   empid    jpi  aptitude    tol  technical  general   pred  resid\n",
       "0      1  45.52     43.83  55.92      51.82    43.58  41.74   3.78\n",
       "1      2  40.10     32.71  32.56      51.49    51.03  41.71  -1.61\n",
       "2      3  50.61     56.64  54.84      52.29    52.47  51.36  -0.75\n",
       "3      4  38.97     51.53  59.69      47.48    47.69  41.69  -2.72\n",
       "4      5  41.87     51.35  51.50      47.59    45.77  40.71   1.16\n",
       "5      6  38.71     39.60  43.63      48.34    42.06  35.62   3.09\n",
       "6      7  31.64     61.08  39.09      41.25    37.00  32.11  -0.47\n",
       "7      8  59.84     53.38  61.13      58.08    52.28  56.64   3.20\n",
       "8      9  53.92     56.75  60.62      53.28    54.01  53.34   0.58\n",
       "9     10  50.01     61.31  44.69      54.18    49.14  53.22  -3.21"
      ]
     },
     "execution_count": 21,
     "metadata": {},
     "output_type": "execute_result"
    }
   ],
   "source": [
    "# Adding Fitted Values and Residuals to the Original Dataset\n",
    "perindex=perindex.assign(pred=pd.Series(jpimodel_new.fittedvalues.values.round(2)))\n",
    "perindex=perindex.assign(resid=pd.Series(jpimodel_new.resid.values.round(2)))\n",
    "perindex.head(10)"
   ]
  },
  {
   "cell_type": "markdown",
   "metadata": {},
   "source": [
    "Predictions for new Dataset"
   ]
  },
  {
   "cell_type": "code",
   "execution_count": 23,
   "metadata": {},
   "outputs": [
    {
     "name": "stdout",
     "output_type": "stream",
     "text": [
      "✅ Dataset Loaded Successfully\n"
     ]
    }
   ],
   "source": [
    "perindex_new = pd.read_csv(\"Performance Index new.csv\")\n",
    "print(\"✅ Dataset Loaded Successfully\")\n"
   ]
  },
  {
   "cell_type": "code",
   "execution_count": 24,
   "metadata": {},
   "outputs": [
    {
     "data": {
      "application/vnd.microsoft.datawrangler.viewer.v0+json": {
       "columns": [
        {
         "name": "index",
         "rawType": "int64",
         "type": "integer"
        },
        {
         "name": "empid",
         "rawType": "int64",
         "type": "integer"
        },
        {
         "name": "jpi",
         "rawType": "float64",
         "type": "float"
        },
        {
         "name": "tol",
         "rawType": "float64",
         "type": "float"
        },
        {
         "name": "technical",
         "rawType": "float64",
         "type": "float"
        },
        {
         "name": "general",
         "rawType": "float64",
         "type": "float"
        },
        {
         "name": "aptitude",
         "rawType": "float64",
         "type": "float"
        },
        {
         "name": "pred",
         "rawType": "float64",
         "type": "float"
        }
       ],
       "conversionMethod": "pd.DataFrame",
       "ref": "1b0f0dc9-1fd4-4c2d-af7a-625e346e473b",
       "rows": [
        [
         "0",
         "34",
         "66.35",
         "59.2",
         "57.18",
         "54.98",
         "66.74",
         "61.55257553324827"
        ],
        [
         "1",
         "35",
         "56.1",
         "64.92",
         "52.51",
         "55.78",
         "55.45",
         "53.008977998972654"
        ],
        [
         "2",
         "36",
         "48.95",
         "63.59",
         "57.76",
         "52.08",
         "51.73",
         "55.62153723093362"
        ],
        [
         "3",
         "37",
         "43.25",
         "64.9",
         "50.13",
         "42.75",
         "45.09",
         "39.8206000507925"
        ],
        [
         "4",
         "38",
         "41.2",
         "51.5",
         "47.89",
         "45.77",
         "50.85",
         "40.879765664405866"
        ],
        [
         "5",
         "39",
         "50.24",
         "55.77",
         "51.13",
         "47.98",
         "53.86",
         "46.70138526349833"
        ]
       ],
       "shape": {
        "columns": 7,
        "rows": 6
       }
      },
      "text/html": [
       "<div>\n",
       "<style scoped>\n",
       "    .dataframe tbody tr th:only-of-type {\n",
       "        vertical-align: middle;\n",
       "    }\n",
       "\n",
       "    .dataframe tbody tr th {\n",
       "        vertical-align: top;\n",
       "    }\n",
       "\n",
       "    .dataframe thead th {\n",
       "        text-align: right;\n",
       "    }\n",
       "</style>\n",
       "<table border=\"1\" class=\"dataframe\">\n",
       "  <thead>\n",
       "    <tr style=\"text-align: right;\">\n",
       "      <th></th>\n",
       "      <th>empid</th>\n",
       "      <th>jpi</th>\n",
       "      <th>tol</th>\n",
       "      <th>technical</th>\n",
       "      <th>general</th>\n",
       "      <th>aptitude</th>\n",
       "      <th>pred</th>\n",
       "    </tr>\n",
       "  </thead>\n",
       "  <tbody>\n",
       "    <tr>\n",
       "      <th>0</th>\n",
       "      <td>34</td>\n",
       "      <td>66.35</td>\n",
       "      <td>59.20</td>\n",
       "      <td>57.18</td>\n",
       "      <td>54.98</td>\n",
       "      <td>66.74</td>\n",
       "      <td>61.552576</td>\n",
       "    </tr>\n",
       "    <tr>\n",
       "      <th>1</th>\n",
       "      <td>35</td>\n",
       "      <td>56.10</td>\n",
       "      <td>64.92</td>\n",
       "      <td>52.51</td>\n",
       "      <td>55.78</td>\n",
       "      <td>55.45</td>\n",
       "      <td>53.008978</td>\n",
       "    </tr>\n",
       "    <tr>\n",
       "      <th>2</th>\n",
       "      <td>36</td>\n",
       "      <td>48.95</td>\n",
       "      <td>63.59</td>\n",
       "      <td>57.76</td>\n",
       "      <td>52.08</td>\n",
       "      <td>51.73</td>\n",
       "      <td>55.621537</td>\n",
       "    </tr>\n",
       "    <tr>\n",
       "      <th>3</th>\n",
       "      <td>37</td>\n",
       "      <td>43.25</td>\n",
       "      <td>64.90</td>\n",
       "      <td>50.13</td>\n",
       "      <td>42.75</td>\n",
       "      <td>45.09</td>\n",
       "      <td>39.820600</td>\n",
       "    </tr>\n",
       "    <tr>\n",
       "      <th>4</th>\n",
       "      <td>38</td>\n",
       "      <td>41.20</td>\n",
       "      <td>51.50</td>\n",
       "      <td>47.89</td>\n",
       "      <td>45.77</td>\n",
       "      <td>50.85</td>\n",
       "      <td>40.879766</td>\n",
       "    </tr>\n",
       "    <tr>\n",
       "      <th>5</th>\n",
       "      <td>39</td>\n",
       "      <td>50.24</td>\n",
       "      <td>55.77</td>\n",
       "      <td>51.13</td>\n",
       "      <td>47.98</td>\n",
       "      <td>53.86</td>\n",
       "      <td>46.701385</td>\n",
       "    </tr>\n",
       "  </tbody>\n",
       "</table>\n",
       "</div>"
      ],
      "text/plain": [
       "   empid    jpi    tol  technical  general  aptitude       pred\n",
       "0     34  66.35  59.20      57.18    54.98     66.74  61.552576\n",
       "1     35  56.10  64.92      52.51    55.78     55.45  53.008978\n",
       "2     36  48.95  63.59      57.76    52.08     51.73  55.621537\n",
       "3     37  43.25  64.90      50.13    42.75     45.09  39.820600\n",
       "4     38  41.20  51.50      47.89    45.77     50.85  40.879766\n",
       "5     39  50.24  55.77      51.13    47.98     53.86  46.701385"
      ]
     },
     "execution_count": 24,
     "metadata": {},
     "output_type": "execute_result"
    }
   ],
   "source": [
    "perindex_new=perindex_new.assign(pred=pd.Series(jpimodel_new.predict(perindex_new.round(2))))\n",
    "perindex_new.head(10)"
   ]
  },
  {
   "cell_type": "markdown",
   "metadata": {},
   "source": [
    "Predictions with Confidence Interval"
   ]
  },
  {
   "cell_type": "code",
   "execution_count": 25,
   "metadata": {},
   "outputs": [
    {
     "data": {
      "text/plain": [
       "array([[59.00955719, 64.09559387],\n",
       "       [50.67791702, 55.34003898],\n",
       "       [53.65401364, 57.58906082],\n",
       "       [37.73389546, 41.90730465],\n",
       "       [39.23363549, 42.52589584],\n",
       "       [45.41626758, 47.98650295]])"
      ]
     },
     "execution_count": 25,
     "metadata": {},
     "output_type": "execute_result"
    }
   ],
   "source": [
    "result = jpimodel_new.get_prediction(perindex_new)\n",
    "result.conf_int()"
   ]
  },
  {
   "cell_type": "code",
   "execution_count": 29,
   "metadata": {},
   "outputs": [
    {
     "data": {
      "text/plain": [
       "array([[59.43989777, 63.6652533 ],\n",
       "       [51.07238925, 54.94556675],\n",
       "       [53.9869665 , 57.25610796],\n",
       "       [38.08701664, 41.55418346],\n",
       "       [39.51220077, 42.24733056],\n",
       "       [45.63374076, 47.76902977]])"
      ]
     },
     "execution_count": 29,
     "metadata": {},
     "output_type": "execute_result"
    }
   ],
   "source": [
    "result = jpimodel_new.get_prediction(perindex_new)\n",
    "result.conf_int(alpha=0.1)"
   ]
  }
 ],
 "metadata": {
  "kernelspec": {
   "display_name": "base",
   "language": "python",
   "name": "python3"
  },
  "language_info": {
   "codemirror_mode": {
    "name": "ipython",
    "version": 3
   },
   "file_extension": ".py",
   "mimetype": "text/x-python",
   "name": "python",
   "nbconvert_exporter": "python",
   "pygments_lexer": "ipython3",
   "version": "3.12.7"
  }
 },
 "nbformat": 4,
 "nbformat_minor": 2
}
