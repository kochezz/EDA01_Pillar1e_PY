{
 "cells": [
  {
   "cell_type": "markdown",
   "id": "fb90ba3e",
   "metadata": {},
   "source": [
    "### FMCG Company"
   ]
  },
  {
   "cell_type": "code",
   "execution_count": 20,
   "id": "ec21cc10",
   "metadata": {},
   "outputs": [],
   "source": [
    "# Import Libraries\n",
    "\n",
    "import pandas as pd \n",
    "import sklearn.preprocessing\n",
    "from sklearn.cluster import KMeans\n",
    "import matplotlib.pyplot as plt\n",
    "\n",
    "import warnings\n",
    "warnings.filterwarnings(\"ignore\")\n",
    "\n",
    "import os\n",
    "os.chdir(r\"C:\\Users\\willi\\OneDrive\\Documents\\Woolf Institute Data Analytics\\Module 6 Unsupervised Univariate Methods\\04_Live Class Data Sets\")\n"
   ]
  },
  {
   "cell_type": "markdown",
   "id": "fbd17707",
   "metadata": {},
   "source": [
    "##### Import Dataset\n"
   ]
  },
  {
   "cell_type": "code",
   "execution_count": 3,
   "id": "d63ec35b",
   "metadata": {},
   "outputs": [
    {
     "name": "stdout",
     "output_type": "stream",
     "text": [
      "✅ Dataset Loaded Successfully\n"
     ]
    }
   ],
   "source": [
    "custsales = pd.read_csv('K MEANS DATA.csv')\n",
    "print(\"✅ Dataset Loaded Successfully\")"
   ]
  },
  {
   "cell_type": "code",
   "execution_count": 5,
   "id": "30f404af",
   "metadata": {},
   "outputs": [
    {
     "name": "stdout",
     "output_type": "stream",
     "text": [
      "   Custid      nsv  n_brands  n_bills  growth  region\n",
      "0    1001  2119456         7       14   -1.79  Mumbai\n",
      "1    1002  1460163        12       42   -1.73  Mumbai\n",
      "2    1003   147976         4        6    2.81  Mumbai\n",
      "3    1004  1350474        13       30   -0.99   Delhi\n",
      "4    1005  1414461        15       29   13.56   Delhi\n"
     ]
    }
   ],
   "source": [
    "print(custsales.head(5))"
   ]
  },
  {
   "cell_type": "code",
   "execution_count": 7,
   "id": "8fde5ccd",
   "metadata": {},
   "outputs": [
    {
     "name": "stdout",
     "output_type": "stream",
     "text": [
      "✅ Columns 'CustomerID' and 'Region' Removed\n"
     ]
    }
   ],
   "source": [
    "custsales_clean = custsales\n",
    "# Remove the 'CustomerID' and region columns\n",
    "custsales_clean = custsales_clean.drop(['Custid', 'region'], axis=1)\n",
    "print(\"✅ Columns 'CustomerID' and 'Region' Removed\")"
   ]
  },
  {
   "cell_type": "markdown",
   "id": "6d26960b",
   "metadata": {},
   "source": [
    "##### Scale (standardize) all variables. ie subtract mean and divide by the standard deviation."
   ]
  },
  {
   "cell_type": "code",
   "execution_count": 17,
   "id": "48065705",
   "metadata": {},
   "outputs": [
    {
     "name": "stdout",
     "output_type": "stream",
     "text": [
      "✅ Data Standardized\n",
      "[[ 1.3415212  -0.57045618 -0.27177323 -1.40755324]\n",
      " [ 0.57976648  0.03183071  1.2604777  -1.39462362]\n",
      " [-0.93634948 -0.93182832 -0.70955921 -0.41628239]\n",
      " [ 0.45303054  0.15228808  0.60379873 -1.23515831]\n",
      " [ 0.52696186  0.39320284  0.54907549  1.90027448]]\n"
     ]
    }
   ],
   "source": [
    "custsales_cl2 = sklearn.preprocessing.scale(custsales_clean)\n",
    "print(\"✅ Data Standardized\")\n",
    "print(custsales_cl2[:5])"
   ]
  },
  {
   "cell_type": "markdown",
   "id": "a686ed30",
   "metadata": {},
   "source": [
    "#### K Means Clustering"
   ]
  },
  {
   "cell_type": "code",
   "execution_count": 21,
   "id": "17d5bb56",
   "metadata": {},
   "outputs": [
    {
     "name": "stdout",
     "output_type": "stream",
     "text": [
      "✅ KMeans Model Created with 4 Clusters\n"
     ]
    }
   ],
   "source": [
    "# Create a KMeans model with 4 clusters\n",
    "CL = KMeans(n_clusters=4, random_state=42)\n",
    "CL.fit(custsales_cl2)\n",
    "print(\"✅ KMeans Model Created with 4 Clusters\")"
   ]
  },
  {
   "cell_type": "code",
   "execution_count": 22,
   "id": "0004fc41",
   "metadata": {},
   "outputs": [
    {
     "name": "stdout",
     "output_type": "stream",
     "text": [
      "✅ Centroids Computed\n",
      "[[-0.7084698  -0.44777129 -0.58462206 -0.28069918]\n",
      " [ 1.14073251  0.95077449  1.82222013  1.89735225]\n",
      " [ 1.13064022 -0.01028041  0.29281052 -0.57761356]\n",
      " [ 0.90052057  2.49103848  1.27824499  1.15550599]]\n"
     ]
    }
   ],
   "source": [
    "# Compute Centroids\n",
    "\n",
    "centroids = CL.cluster_centers_\n",
    "print(\"✅ Centroids Computed\")\n",
    "print(centroids)"
   ]
  },
  {
   "cell_type": "code",
   "execution_count": 25,
   "id": "f0aea70f",
   "metadata": {},
   "outputs": [
    {
     "name": "stdout",
     "output_type": "stream",
     "text": [
      "✅ Segments Created\n",
      "   Custid      nsv  n_brands  n_bills  growth  region  segment\n",
      "0    1001  2119456         7       14   -1.79  Mumbai        2\n",
      "1    1002  1460163        12       42   -1.73  Mumbai        2\n",
      "2    1003   147976         4        6    2.81  Mumbai        0\n",
      "3    1004  1350474        13       30   -0.99   Delhi        2\n",
      "4    1005  1414461        15       29   13.56   Delhi        1\n"
     ]
    }
   ],
   "source": [
    "# Create Segments\n",
    "\n",
    "segment = pd.DataFrame(CL.labels_)\n",
    "custsales = custsales.assign(segment=segment)\n",
    "print(\"✅ Segments Created\")\n",
    "print(custsales.head(5))"
   ]
  },
  {
   "cell_type": "markdown",
   "id": "d32c5973",
   "metadata": {},
   "source": [
    "##### Summarise Clusters using Original Variables"
   ]
  },
  {
   "cell_type": "code",
   "execution_count": 29,
   "id": "e002d55b",
   "metadata": {},
   "outputs": [
    {
     "data": {
      "application/vnd.microsoft.datawrangler.viewer.v0+json": {
       "columns": [
        {
         "name": "segment",
         "rawType": "int32",
         "type": "integer"
        },
        {
         "name": "nsv",
         "rawType": "float64",
         "type": "float"
        },
        {
         "name": "n_brands",
         "rawType": "float64",
         "type": "float"
        },
        {
         "name": "n_bills",
         "rawType": "float64",
         "type": "float"
        },
        {
         "name": "growth",
         "rawType": "float64",
         "type": "float"
        }
       ],
       "ref": "801a2f3d-4ca0-44bc-b4da-9b4a1c1102cc",
       "rows": [
        [
         "0",
         "345204.15789473685",
         "8.018492176386912",
         "8.283072546230441",
         "3.439174964438122"
        ],
        [
         "1",
         "1945674.893939394",
         "19.62878787878788",
         "52.265151515151516",
         "13.546439393939394"
        ],
        [
         "2",
         "1936940.0975609757",
         "11.65040650406504",
         "24.317073170731707",
         "2.061341463414634"
        ],
        [
         "3",
         "1737773.2597402597",
         "32.41558441558441",
         "42.324675324675326",
         "10.103896103896103"
        ]
       ],
       "shape": {
        "columns": 4,
        "rows": 4
       }
      },
      "text/html": [
       "<div>\n",
       "<style scoped>\n",
       "    .dataframe tbody tr th:only-of-type {\n",
       "        vertical-align: middle;\n",
       "    }\n",
       "\n",
       "    .dataframe tbody tr th {\n",
       "        vertical-align: top;\n",
       "    }\n",
       "\n",
       "    .dataframe thead th {\n",
       "        text-align: right;\n",
       "    }\n",
       "</style>\n",
       "<table border=\"1\" class=\"dataframe\">\n",
       "  <thead>\n",
       "    <tr style=\"text-align: right;\">\n",
       "      <th></th>\n",
       "      <th>nsv</th>\n",
       "      <th>n_brands</th>\n",
       "      <th>n_bills</th>\n",
       "      <th>growth</th>\n",
       "    </tr>\n",
       "    <tr>\n",
       "      <th>segment</th>\n",
       "      <th></th>\n",
       "      <th></th>\n",
       "      <th></th>\n",
       "      <th></th>\n",
       "    </tr>\n",
       "  </thead>\n",
       "  <tbody>\n",
       "    <tr>\n",
       "      <th>0</th>\n",
       "      <td>3.452042e+05</td>\n",
       "      <td>8.018492</td>\n",
       "      <td>8.283073</td>\n",
       "      <td>3.439175</td>\n",
       "    </tr>\n",
       "    <tr>\n",
       "      <th>1</th>\n",
       "      <td>1.945675e+06</td>\n",
       "      <td>19.628788</td>\n",
       "      <td>52.265152</td>\n",
       "      <td>13.546439</td>\n",
       "    </tr>\n",
       "    <tr>\n",
       "      <th>2</th>\n",
       "      <td>1.936940e+06</td>\n",
       "      <td>11.650407</td>\n",
       "      <td>24.317073</td>\n",
       "      <td>2.061341</td>\n",
       "    </tr>\n",
       "    <tr>\n",
       "      <th>3</th>\n",
       "      <td>1.737773e+06</td>\n",
       "      <td>32.415584</td>\n",
       "      <td>42.324675</td>\n",
       "      <td>10.103896</td>\n",
       "    </tr>\n",
       "  </tbody>\n",
       "</table>\n",
       "</div>"
      ],
      "text/plain": [
       "                  nsv   n_brands    n_bills     growth\n",
       "segment                                               \n",
       "0        3.452042e+05   8.018492   8.283073   3.439175\n",
       "1        1.945675e+06  19.628788  52.265152  13.546439\n",
       "2        1.936940e+06  11.650407  24.317073   2.061341\n",
       "3        1.737773e+06  32.415584  42.324675  10.103896"
      ]
     },
     "execution_count": 29,
     "metadata": {},
     "output_type": "execute_result"
    }
   ],
   "source": [
    "nsv = custsales.groupby('segment')[\"nsv\"].mean()\n",
    "n_brands = custsales.groupby('segment')[\"n_brands\"].mean()\n",
    "n_bills = custsales.groupby('segment')[\"n_bills\"].mean()\n",
    "growth = custsales.groupby('segment')[\"growth\"].mean()\n",
    "pd.concat([nsv, n_brands, n_bills, growth], axis=1)\n"
   ]
  },
  {
   "cell_type": "markdown",
   "id": "573c4bb1",
   "metadata": {},
   "source": []
  }
 ],
 "metadata": {
  "kernelspec": {
   "display_name": "ds-env",
   "language": "python",
   "name": "python3"
  },
  "language_info": {
   "codemirror_mode": {
    "name": "ipython",
    "version": 3
   },
   "file_extension": ".py",
   "mimetype": "text/x-python",
   "name": "python",
   "nbconvert_exporter": "python",
   "pygments_lexer": "ipython3",
   "version": "3.10.16"
  }
 },
 "nbformat": 4,
 "nbformat_minor": 5
}
