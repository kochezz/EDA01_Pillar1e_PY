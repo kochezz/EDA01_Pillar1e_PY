{
 "cells": [
  {
   "cell_type": "markdown",
   "metadata": {},
   "source": [
    "# Revision Notes\n"
   ]
  },
  {
   "cell_type": "code",
   "execution_count": 1,
   "metadata": {},
   "outputs": [],
   "source": [
    "import pandas as pd\n",
    "import numpy as np\n",
    "import matplotlib.pyplot as plt\n",
    "import seaborn as sns\n",
    "import os\n",
    "os.chdir(r\"C:\\Users\\willi\\OneDrive\\Documents\\Woolf Institute Data Analytics\\Live Class Data Sets\")"
   ]
  },
  {
   "cell_type": "code",
   "execution_count": 4,
   "metadata": {},
   "outputs": [
    {
     "name": "stdout",
     "output_type": "stream",
     "text": [
      "✅ Dataset Loaded Successfully\n"
     ]
    }
   ],
   "source": [
    "Sal_data = pd.read_csv(\"basic_salary.csv\")\n",
    "print(\"✅ Dataset Loaded Successfully\")"
   ]
  },
  {
   "cell_type": "code",
   "execution_count": 7,
   "metadata": {},
   "outputs": [
    {
     "data": {
      "application/vnd.microsoft.datawrangler.viewer.v0+json": {
       "columns": [
        {
         "name": "index",
         "rawType": "int64",
         "type": "integer"
        },
        {
         "name": "First_Name",
         "rawType": "object",
         "type": "string"
        },
        {
         "name": "Last_Name",
         "rawType": "object",
         "type": "string"
        },
        {
         "name": "Grade",
         "rawType": "object",
         "type": "string"
        },
        {
         "name": "Location",
         "rawType": "object",
         "type": "string"
        },
        {
         "name": "ba",
         "rawType": "int64",
         "type": "integer"
        },
        {
         "name": "ms",
         "rawType": "float64",
         "type": "float"
        }
       ],
       "conversionMethod": "pd.DataFrame",
       "ref": "8e789d16-f8b5-4b16-9f2a-be1ae5ce3508",
       "rows": [
        [
         "0",
         "Alan",
         "Brown",
         "GR1",
         "DELHI",
         "17990",
         "16070.0"
        ],
        [
         "1",
         "Agatha",
         "Williams",
         "GR2",
         "MUMBAI",
         "12390",
         "6630.0"
        ],
        [
         "2",
         "Rajesh",
         "Kolte",
         "GR1",
         "MUMBAI",
         "19250",
         "14960.0"
        ],
        [
         "3",
         "Ameet",
         "Mishra",
         "GR2",
         "DELHI",
         "14780",
         "9300.0"
        ],
        [
         "4",
         "Neha",
         "Rao",
         "GR1",
         "MUMBAI",
         "19235",
         "15200.0"
        ]
       ],
       "shape": {
        "columns": 6,
        "rows": 5
       }
      },
      "text/html": [
       "<div>\n",
       "<style scoped>\n",
       "    .dataframe tbody tr th:only-of-type {\n",
       "        vertical-align: middle;\n",
       "    }\n",
       "\n",
       "    .dataframe tbody tr th {\n",
       "        vertical-align: top;\n",
       "    }\n",
       "\n",
       "    .dataframe thead th {\n",
       "        text-align: right;\n",
       "    }\n",
       "</style>\n",
       "<table border=\"1\" class=\"dataframe\">\n",
       "  <thead>\n",
       "    <tr style=\"text-align: right;\">\n",
       "      <th></th>\n",
       "      <th>First_Name</th>\n",
       "      <th>Last_Name</th>\n",
       "      <th>Grade</th>\n",
       "      <th>Location</th>\n",
       "      <th>ba</th>\n",
       "      <th>ms</th>\n",
       "    </tr>\n",
       "  </thead>\n",
       "  <tbody>\n",
       "    <tr>\n",
       "      <th>0</th>\n",
       "      <td>Alan</td>\n",
       "      <td>Brown</td>\n",
       "      <td>GR1</td>\n",
       "      <td>DELHI</td>\n",
       "      <td>17990</td>\n",
       "      <td>16070.0</td>\n",
       "    </tr>\n",
       "    <tr>\n",
       "      <th>1</th>\n",
       "      <td>Agatha</td>\n",
       "      <td>Williams</td>\n",
       "      <td>GR2</td>\n",
       "      <td>MUMBAI</td>\n",
       "      <td>12390</td>\n",
       "      <td>6630.0</td>\n",
       "    </tr>\n",
       "    <tr>\n",
       "      <th>2</th>\n",
       "      <td>Rajesh</td>\n",
       "      <td>Kolte</td>\n",
       "      <td>GR1</td>\n",
       "      <td>MUMBAI</td>\n",
       "      <td>19250</td>\n",
       "      <td>14960.0</td>\n",
       "    </tr>\n",
       "    <tr>\n",
       "      <th>3</th>\n",
       "      <td>Ameet</td>\n",
       "      <td>Mishra</td>\n",
       "      <td>GR2</td>\n",
       "      <td>DELHI</td>\n",
       "      <td>14780</td>\n",
       "      <td>9300.0</td>\n",
       "    </tr>\n",
       "    <tr>\n",
       "      <th>4</th>\n",
       "      <td>Neha</td>\n",
       "      <td>Rao</td>\n",
       "      <td>GR1</td>\n",
       "      <td>MUMBAI</td>\n",
       "      <td>19235</td>\n",
       "      <td>15200.0</td>\n",
       "    </tr>\n",
       "  </tbody>\n",
       "</table>\n",
       "</div>"
      ],
      "text/plain": [
       "  First_Name Last_Name Grade Location     ba       ms\n",
       "0       Alan     Brown   GR1    DELHI  17990  16070.0\n",
       "1     Agatha  Williams   GR2   MUMBAI  12390   6630.0\n",
       "2     Rajesh     Kolte   GR1   MUMBAI  19250  14960.0\n",
       "3      Ameet    Mishra   GR2    DELHI  14780   9300.0\n",
       "4       Neha       Rao   GR1   MUMBAI  19235  15200.0"
      ]
     },
     "execution_count": 7,
     "metadata": {},
     "output_type": "execute_result"
    }
   ],
   "source": [
    "Sal_data.head(5)"
   ]
  },
  {
   "cell_type": "code",
   "execution_count": null,
   "metadata": {},
   "outputs": [],
   "source": []
  },
  {
   "cell_type": "code",
   "execution_count": 5,
   "metadata": {},
   "outputs": [
    {
     "data": {
      "text/plain": [
       "First_Name     Rajesh\n",
       "Last_Name       Kolte\n",
       "Grade             GR1\n",
       "Location       MUMBAI\n",
       "ba              19250\n",
       "ms            14960.0\n",
       "Name: 2, dtype: object"
      ]
     },
     "execution_count": 5,
     "metadata": {},
     "output_type": "execute_result"
    }
   ],
   "source": [
    "Sal_data.loc[2]"
   ]
  },
  {
   "cell_type": "code",
   "execution_count": 11,
   "metadata": {},
   "outputs": [
    {
     "data": {
      "application/vnd.microsoft.datawrangler.viewer.v0+json": {
       "columns": [
        {
         "name": "index",
         "rawType": "int64",
         "type": "integer"
        },
        {
         "name": "First_Name",
         "rawType": "object",
         "type": "string"
        },
        {
         "name": "Last_Name",
         "rawType": "object",
         "type": "string"
        },
        {
         "name": "Grade",
         "rawType": "object",
         "type": "string"
        },
        {
         "name": "Location",
         "rawType": "object",
         "type": "string"
        },
        {
         "name": "ba",
         "rawType": "int64",
         "type": "integer"
        },
        {
         "name": "ms",
         "rawType": "float64",
         "type": "float"
        }
       ],
       "conversionMethod": "pd.DataFrame",
       "ref": "05b735dc-7406-43ff-b224-00b9ce65a5b0",
       "rows": [
        [
         "2",
         "Rajesh",
         "Kolte",
         "GR1",
         "MUMBAI",
         "19250",
         "14960.0"
        ],
        [
         "3",
         "Ameet",
         "Mishra",
         "GR2",
         "DELHI",
         "14780",
         "9300.0"
        ],
        [
         "4",
         "Neha",
         "Rao",
         "GR1",
         "MUMBAI",
         "19235",
         "15200.0"
        ]
       ],
       "shape": {
        "columns": 6,
        "rows": 3
       }
      },
      "text/html": [
       "<div>\n",
       "<style scoped>\n",
       "    .dataframe tbody tr th:only-of-type {\n",
       "        vertical-align: middle;\n",
       "    }\n",
       "\n",
       "    .dataframe tbody tr th {\n",
       "        vertical-align: top;\n",
       "    }\n",
       "\n",
       "    .dataframe thead th {\n",
       "        text-align: right;\n",
       "    }\n",
       "</style>\n",
       "<table border=\"1\" class=\"dataframe\">\n",
       "  <thead>\n",
       "    <tr style=\"text-align: right;\">\n",
       "      <th></th>\n",
       "      <th>First_Name</th>\n",
       "      <th>Last_Name</th>\n",
       "      <th>Grade</th>\n",
       "      <th>Location</th>\n",
       "      <th>ba</th>\n",
       "      <th>ms</th>\n",
       "    </tr>\n",
       "  </thead>\n",
       "  <tbody>\n",
       "    <tr>\n",
       "      <th>2</th>\n",
       "      <td>Rajesh</td>\n",
       "      <td>Kolte</td>\n",
       "      <td>GR1</td>\n",
       "      <td>MUMBAI</td>\n",
       "      <td>19250</td>\n",
       "      <td>14960.0</td>\n",
       "    </tr>\n",
       "    <tr>\n",
       "      <th>3</th>\n",
       "      <td>Ameet</td>\n",
       "      <td>Mishra</td>\n",
       "      <td>GR2</td>\n",
       "      <td>DELHI</td>\n",
       "      <td>14780</td>\n",
       "      <td>9300.0</td>\n",
       "    </tr>\n",
       "    <tr>\n",
       "      <th>4</th>\n",
       "      <td>Neha</td>\n",
       "      <td>Rao</td>\n",
       "      <td>GR1</td>\n",
       "      <td>MUMBAI</td>\n",
       "      <td>19235</td>\n",
       "      <td>15200.0</td>\n",
       "    </tr>\n",
       "  </tbody>\n",
       "</table>\n",
       "</div>"
      ],
      "text/plain": [
       "  First_Name Last_Name Grade Location     ba       ms\n",
       "2     Rajesh     Kolte   GR1   MUMBAI  19250  14960.0\n",
       "3      Ameet    Mishra   GR2    DELHI  14780   9300.0\n",
       "4       Neha       Rao   GR1   MUMBAI  19235  15200.0"
      ]
     },
     "execution_count": 11,
     "metadata": {},
     "output_type": "execute_result"
    }
   ],
   "source": [
    "Sal_data.loc[2:4]"
   ]
  },
  {
   "cell_type": "code",
   "execution_count": 10,
   "metadata": {},
   "outputs": [
    {
     "data": {
      "text/plain": [
       "First_Name     Rajesh\n",
       "Last_Name       Kolte\n",
       "Grade             GR1\n",
       "Location       MUMBAI\n",
       "ba              19250\n",
       "ms            14960.0\n",
       "Name: 2, dtype: object"
      ]
     },
     "execution_count": 10,
     "metadata": {},
     "output_type": "execute_result"
    }
   ],
   "source": [
    "Sal_data.iloc[2]"
   ]
  },
  {
   "cell_type": "code",
   "execution_count": 12,
   "metadata": {},
   "outputs": [
    {
     "data": {
      "application/vnd.microsoft.datawrangler.viewer.v0+json": {
       "columns": [
        {
         "name": "index",
         "rawType": "int64",
         "type": "integer"
        },
        {
         "name": "First_Name",
         "rawType": "object",
         "type": "string"
        },
        {
         "name": "Last_Name",
         "rawType": "object",
         "type": "string"
        },
        {
         "name": "Grade",
         "rawType": "object",
         "type": "string"
        },
        {
         "name": "Location",
         "rawType": "object",
         "type": "string"
        },
        {
         "name": "ba",
         "rawType": "int64",
         "type": "integer"
        },
        {
         "name": "ms",
         "rawType": "float64",
         "type": "float"
        }
       ],
       "conversionMethod": "pd.DataFrame",
       "ref": "d1e9eff7-98ed-45df-8353-50d85de5d086",
       "rows": [
        [
         "2",
         "Rajesh",
         "Kolte",
         "GR1",
         "MUMBAI",
         "19250",
         "14960.0"
        ],
        [
         "3",
         "Ameet",
         "Mishra",
         "GR2",
         "DELHI",
         "14780",
         "9300.0"
        ]
       ],
       "shape": {
        "columns": 6,
        "rows": 2
       }
      },
      "text/html": [
       "<div>\n",
       "<style scoped>\n",
       "    .dataframe tbody tr th:only-of-type {\n",
       "        vertical-align: middle;\n",
       "    }\n",
       "\n",
       "    .dataframe tbody tr th {\n",
       "        vertical-align: top;\n",
       "    }\n",
       "\n",
       "    .dataframe thead th {\n",
       "        text-align: right;\n",
       "    }\n",
       "</style>\n",
       "<table border=\"1\" class=\"dataframe\">\n",
       "  <thead>\n",
       "    <tr style=\"text-align: right;\">\n",
       "      <th></th>\n",
       "      <th>First_Name</th>\n",
       "      <th>Last_Name</th>\n",
       "      <th>Grade</th>\n",
       "      <th>Location</th>\n",
       "      <th>ba</th>\n",
       "      <th>ms</th>\n",
       "    </tr>\n",
       "  </thead>\n",
       "  <tbody>\n",
       "    <tr>\n",
       "      <th>2</th>\n",
       "      <td>Rajesh</td>\n",
       "      <td>Kolte</td>\n",
       "      <td>GR1</td>\n",
       "      <td>MUMBAI</td>\n",
       "      <td>19250</td>\n",
       "      <td>14960.0</td>\n",
       "    </tr>\n",
       "    <tr>\n",
       "      <th>3</th>\n",
       "      <td>Ameet</td>\n",
       "      <td>Mishra</td>\n",
       "      <td>GR2</td>\n",
       "      <td>DELHI</td>\n",
       "      <td>14780</td>\n",
       "      <td>9300.0</td>\n",
       "    </tr>\n",
       "  </tbody>\n",
       "</table>\n",
       "</div>"
      ],
      "text/plain": [
       "  First_Name Last_Name Grade Location     ba       ms\n",
       "2     Rajesh     Kolte   GR1   MUMBAI  19250  14960.0\n",
       "3      Ameet    Mishra   GR2    DELHI  14780   9300.0"
      ]
     },
     "execution_count": 12,
     "metadata": {},
     "output_type": "execute_result"
    }
   ],
   "source": [
    "Sal_data.iloc[2:4]"
   ]
  },
  {
   "cell_type": "code",
   "execution_count": 16,
   "metadata": {},
   "outputs": [
    {
     "data": {
      "application/vnd.microsoft.datawrangler.viewer.v0+json": {
       "columns": [
        {
         "name": "index",
         "rawType": "int64",
         "type": "integer"
        },
        {
         "name": "First_Name",
         "rawType": "object",
         "type": "string"
        },
        {
         "name": "Grade",
         "rawType": "object",
         "type": "string"
        },
        {
         "name": "ba",
         "rawType": "int64",
         "type": "integer"
        }
       ],
       "conversionMethod": "pd.DataFrame",
       "ref": "dfc41fb5-0614-4d3e-af99-eb0701d61fa0",
       "rows": [
        [
         "2",
         "Rajesh",
         "GR1",
         "19250"
        ],
        [
         "3",
         "Ameet",
         "GR2",
         "14780"
        ],
        [
         "4",
         "Neha",
         "GR1",
         "19235"
        ]
       ],
       "shape": {
        "columns": 3,
        "rows": 3
       }
      },
      "text/html": [
       "<div>\n",
       "<style scoped>\n",
       "    .dataframe tbody tr th:only-of-type {\n",
       "        vertical-align: middle;\n",
       "    }\n",
       "\n",
       "    .dataframe tbody tr th {\n",
       "        vertical-align: top;\n",
       "    }\n",
       "\n",
       "    .dataframe thead th {\n",
       "        text-align: right;\n",
       "    }\n",
       "</style>\n",
       "<table border=\"1\" class=\"dataframe\">\n",
       "  <thead>\n",
       "    <tr style=\"text-align: right;\">\n",
       "      <th></th>\n",
       "      <th>First_Name</th>\n",
       "      <th>Grade</th>\n",
       "      <th>ba</th>\n",
       "    </tr>\n",
       "  </thead>\n",
       "  <tbody>\n",
       "    <tr>\n",
       "      <th>2</th>\n",
       "      <td>Rajesh</td>\n",
       "      <td>GR1</td>\n",
       "      <td>19250</td>\n",
       "    </tr>\n",
       "    <tr>\n",
       "      <th>3</th>\n",
       "      <td>Ameet</td>\n",
       "      <td>GR2</td>\n",
       "      <td>14780</td>\n",
       "    </tr>\n",
       "    <tr>\n",
       "      <th>4</th>\n",
       "      <td>Neha</td>\n",
       "      <td>GR1</td>\n",
       "      <td>19235</td>\n",
       "    </tr>\n",
       "  </tbody>\n",
       "</table>\n",
       "</div>"
      ],
      "text/plain": [
       "  First_Name Grade     ba\n",
       "2     Rajesh   GR1  19250\n",
       "3      Ameet   GR2  14780\n",
       "4       Neha   GR1  19235"
      ]
     },
     "execution_count": 16,
     "metadata": {},
     "output_type": "execute_result"
    }
   ],
   "source": [
    "Sal_data.loc[2:4, [\"First_Name\", \"Grade\",\"ba\"]] # 2nd to 4th row, Salary column"
   ]
  },
  {
   "cell_type": "markdown",
   "metadata": {},
   "source": [
    "Two Ways to Filter Data in Pandas"
   ]
  },
  {
   "cell_type": "code",
   "execution_count": 29,
   "metadata": {},
   "outputs": [
    {
     "name": "stdout",
     "output_type": "stream",
     "text": [
      "Employees in Delhi with Basic Salary greater than 10000:\n",
      "\n",
      "   First_Name Last_Name Grade Location     ba       ms\n",
      "1      Agatha  Williams   GR2   MUMBAI  12390   6630.0\n",
      "2      Rajesh     Kolte   GR1   MUMBAI  19250  14960.0\n",
      "4        Neha       Rao   GR1   MUMBAI  19235  15200.0\n",
      "5       Sagar    Chavan   GR2   MUMBAI  13390   6700.0\n",
      "6       Aaron     Jones   GR1   MUMBAI  23280  13490.0\n",
      "7        John     Patil   GR2   MUMBAI  13500  10760.0\n",
      "11       Anup      Save   GR2   MUMBAI  11960   7880.0\n"
     ]
    }
   ],
   "source": [
    "# The query() method allows filtering using SQL-like syntax.\n",
    "\n",
    "# 🔹 Example: Select employees with a Basic Salary greater than 50000\n",
    "\n",
    "Filtered = Sal_data.query(\"ba > 10000 & Location == 'MUMBAI'\")\n",
    "print(\"Employees in Delhi with Basic Salary greater than 10000:\\n\")\n",
    "print(Filtered)\n"
   ]
  },
  {
   "cell_type": "code",
   "execution_count": 28,
   "metadata": {},
   "outputs": [
    {
     "name": "stdout",
     "output_type": "stream",
     "text": [
      "Filtered Employees:\n",
      "\n",
      "  First_Name Last_Name Grade Location     ba       ms\n",
      "0       Alan     Brown   GR1    DELHI  17990  16070.0\n",
      "8      Sneha     Joshi   GR1    DELHI  20660      NaN\n"
     ]
    }
   ],
   "source": [
    "Filtered2 = Sal_data.query(\"Location == 'DELHI' & Grade! = 'GR2'\")\n",
    "print(\"Filtered Employees:\\n\")\n",
    "print(Filtered2)"
   ]
  },
  {
   "cell_type": "code",
   "execution_count": 27,
   "metadata": {},
   "outputs": [
    {
     "name": "stdout",
     "output_type": "stream",
     "text": [
      "Total Basic Salary by Grade:\n",
      "\n",
      "Grade\n",
      "GR1    100415\n",
      "GR2     93440\n",
      "Name: ba, dtype: int64\n"
     ]
    }
   ],
   "source": [
    "# Group by 'Grade' and sum the 'ba' column\n",
    "salary_by_grade = Sal_data.groupby(\"Grade\")[\"ba\"].sum()\n",
    "\n",
    "print(\"Total Basic Salary by Grade:\\n\")\n",
    "print(salary_by_grade)\n"
   ]
  }
 ],
 "metadata": {
  "kernelspec": {
   "display_name": "base",
   "language": "python",
   "name": "python3"
  },
  "language_info": {
   "codemirror_mode": {
    "name": "ipython",
    "version": 3
   },
   "file_extension": ".py",
   "mimetype": "text/x-python",
   "name": "python",
   "nbconvert_exporter": "python",
   "pygments_lexer": "ipython3",
   "version": "3.12.7"
  }
 },
 "nbformat": 4,
 "nbformat_minor": 2
}
