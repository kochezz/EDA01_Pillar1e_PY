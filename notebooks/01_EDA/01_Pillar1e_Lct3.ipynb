{
 "cells": [
  {
   "cell_type": "markdown",
   "metadata": {},
   "source": [
    "# Pillar 1 EDA Lecture 2"
   ]
  },
  {
   "cell_type": "markdown",
   "metadata": {},
   "source": [
    "Topic:"
   ]
  },
  {
   "cell_type": "code",
   "execution_count": 2,
   "metadata": {},
   "outputs": [],
   "source": [
    "import pandas as pd\n",
    "import numpy as np\n",
    "import matplotlib.pyplot as plt\n",
    "import seaborn as sns\n",
    "import os\n",
    "os.chdir(r\"C:\\Users\\willi\\OneDrive\\Documents\\Woolf Institute Data Analytics\\Live Class Data Sets\")"
   ]
  },
  {
   "cell_type": "code",
   "execution_count": 6,
   "metadata": {},
   "outputs": [],
   "source": [
    "# Load Dataset\n",
    "\n",
    "salary_data_org = pd.read_csv(\"basic_salary (2).csv\")\n"
   ]
  },
  {
   "cell_type": "code",
   "execution_count": 7,
   "metadata": {},
   "outputs": [
    {
     "data": {
      "application/vnd.microsoft.datawrangler.viewer.v0+json": {
       "columns": [
        {
         "name": "index",
         "rawType": "int64",
         "type": "integer"
        },
        {
         "name": "First_Name",
         "rawType": "object",
         "type": "string"
        },
        {
         "name": "Last_Name",
         "rawType": "object",
         "type": "string"
        },
        {
         "name": "Grade",
         "rawType": "object",
         "type": "string"
        },
        {
         "name": "Location",
         "rawType": "object",
         "type": "string"
        },
        {
         "name": "ba",
         "rawType": "int64",
         "type": "integer"
        },
        {
         "name": "ms",
         "rawType": "float64",
         "type": "float"
        }
       ],
       "conversionMethod": "pd.DataFrame",
       "ref": "5f8d0793-edff-4e15-9f46-0e50988aa058",
       "rows": [
        [
         "4",
         "Neha",
         "Rao",
         "GR1",
         "MUMBAI",
         "19235",
         "15200.0"
        ],
        [
         "5",
         "Sagar",
         "Chavan",
         "GR2",
         "MUMBAI",
         "13390",
         "6700.0"
        ],
        [
         "6",
         "Aaron",
         "Jones",
         "GR1",
         "MUMBAI",
         "23280",
         "13490.0"
        ],
        [
         "7",
         "John",
         "Patil",
         "GR2",
         "MUMBAI",
         "13500",
         "10760.0"
        ],
        [
         "8",
         "Sneha",
         "Joshi",
         "GR1",
         "DELHI",
         "20660",
         null
        ],
        [
         "9",
         "Gaurav",
         "Singh",
         "GR2",
         "DELHI",
         "13760",
         "13220.0"
        ]
       ],
       "shape": {
        "columns": 6,
        "rows": 6
       }
      },
      "text/html": [
       "<div>\n",
       "<style scoped>\n",
       "    .dataframe tbody tr th:only-of-type {\n",
       "        vertical-align: middle;\n",
       "    }\n",
       "\n",
       "    .dataframe tbody tr th {\n",
       "        vertical-align: top;\n",
       "    }\n",
       "\n",
       "    .dataframe thead th {\n",
       "        text-align: right;\n",
       "    }\n",
       "</style>\n",
       "<table border=\"1\" class=\"dataframe\">\n",
       "  <thead>\n",
       "    <tr style=\"text-align: right;\">\n",
       "      <th></th>\n",
       "      <th>First_Name</th>\n",
       "      <th>Last_Name</th>\n",
       "      <th>Grade</th>\n",
       "      <th>Location</th>\n",
       "      <th>ba</th>\n",
       "      <th>ms</th>\n",
       "    </tr>\n",
       "  </thead>\n",
       "  <tbody>\n",
       "    <tr>\n",
       "      <th>4</th>\n",
       "      <td>Neha</td>\n",
       "      <td>Rao</td>\n",
       "      <td>GR1</td>\n",
       "      <td>MUMBAI</td>\n",
       "      <td>19235</td>\n",
       "      <td>15200.0</td>\n",
       "    </tr>\n",
       "    <tr>\n",
       "      <th>5</th>\n",
       "      <td>Sagar</td>\n",
       "      <td>Chavan</td>\n",
       "      <td>GR2</td>\n",
       "      <td>MUMBAI</td>\n",
       "      <td>13390</td>\n",
       "      <td>6700.0</td>\n",
       "    </tr>\n",
       "    <tr>\n",
       "      <th>6</th>\n",
       "      <td>Aaron</td>\n",
       "      <td>Jones</td>\n",
       "      <td>GR1</td>\n",
       "      <td>MUMBAI</td>\n",
       "      <td>23280</td>\n",
       "      <td>13490.0</td>\n",
       "    </tr>\n",
       "    <tr>\n",
       "      <th>7</th>\n",
       "      <td>John</td>\n",
       "      <td>Patil</td>\n",
       "      <td>GR2</td>\n",
       "      <td>MUMBAI</td>\n",
       "      <td>13500</td>\n",
       "      <td>10760.0</td>\n",
       "    </tr>\n",
       "    <tr>\n",
       "      <th>8</th>\n",
       "      <td>Sneha</td>\n",
       "      <td>Joshi</td>\n",
       "      <td>GR1</td>\n",
       "      <td>DELHI</td>\n",
       "      <td>20660</td>\n",
       "      <td>NaN</td>\n",
       "    </tr>\n",
       "    <tr>\n",
       "      <th>9</th>\n",
       "      <td>Gaurav</td>\n",
       "      <td>Singh</td>\n",
       "      <td>GR2</td>\n",
       "      <td>DELHI</td>\n",
       "      <td>13760</td>\n",
       "      <td>13220.0</td>\n",
       "    </tr>\n",
       "  </tbody>\n",
       "</table>\n",
       "</div>"
      ],
      "text/plain": [
       "  First_Name Last_Name Grade Location     ba       ms\n",
       "4       Neha       Rao   GR1   MUMBAI  19235  15200.0\n",
       "5      Sagar    Chavan   GR2   MUMBAI  13390   6700.0\n",
       "6      Aaron     Jones   GR1   MUMBAI  23280  13490.0\n",
       "7       John     Patil   GR2   MUMBAI  13500  10760.0\n",
       "8      Sneha     Joshi   GR1    DELHI  20660      NaN\n",
       "9     Gaurav     Singh   GR2    DELHI  13760  13220.0"
      ]
     },
     "execution_count": 7,
     "metadata": {},
     "output_type": "execute_result"
    }
   ],
   "source": [
    "# Row Subsetting\n",
    "salary_data_org.loc[4:9]"
   ]
  },
  {
   "cell_type": "code",
   "execution_count": 8,
   "metadata": {},
   "outputs": [
    {
     "data": {
      "application/vnd.microsoft.datawrangler.viewer.v0+json": {
       "columns": [
        {
         "name": "index",
         "rawType": "int64",
         "type": "integer"
        },
        {
         "name": "First_Name",
         "rawType": "object",
         "type": "string"
        },
        {
         "name": "Last_Name",
         "rawType": "object",
         "type": "string"
        },
        {
         "name": "Grade",
         "rawType": "object",
         "type": "string"
        },
        {
         "name": "Location",
         "rawType": "object",
         "type": "string"
        },
        {
         "name": "ba",
         "rawType": "int64",
         "type": "integer"
        },
        {
         "name": "ms",
         "rawType": "float64",
         "type": "float"
        }
       ],
       "conversionMethod": "pd.DataFrame",
       "ref": "063d68cc-f671-4600-968e-ec2969e33234",
       "rows": [
        [
         "0",
         "Alan",
         "Brown",
         "GR1",
         "DELHI",
         "17990",
         "16070.0"
        ],
        [
         "2",
         "Rajesh",
         "Kolte",
         "GR1",
         "MUMBAI",
         "19250",
         "14960.0"
        ],
        [
         "4",
         "Neha",
         "Rao",
         "GR1",
         "MUMBAI",
         "19235",
         "15200.0"
        ]
       ],
       "shape": {
        "columns": 6,
        "rows": 3
       }
      },
      "text/html": [
       "<div>\n",
       "<style scoped>\n",
       "    .dataframe tbody tr th:only-of-type {\n",
       "        vertical-align: middle;\n",
       "    }\n",
       "\n",
       "    .dataframe tbody tr th {\n",
       "        vertical-align: top;\n",
       "    }\n",
       "\n",
       "    .dataframe thead th {\n",
       "        text-align: right;\n",
       "    }\n",
       "</style>\n",
       "<table border=\"1\" class=\"dataframe\">\n",
       "  <thead>\n",
       "    <tr style=\"text-align: right;\">\n",
       "      <th></th>\n",
       "      <th>First_Name</th>\n",
       "      <th>Last_Name</th>\n",
       "      <th>Grade</th>\n",
       "      <th>Location</th>\n",
       "      <th>ba</th>\n",
       "      <th>ms</th>\n",
       "    </tr>\n",
       "  </thead>\n",
       "  <tbody>\n",
       "    <tr>\n",
       "      <th>0</th>\n",
       "      <td>Alan</td>\n",
       "      <td>Brown</td>\n",
       "      <td>GR1</td>\n",
       "      <td>DELHI</td>\n",
       "      <td>17990</td>\n",
       "      <td>16070.0</td>\n",
       "    </tr>\n",
       "    <tr>\n",
       "      <th>2</th>\n",
       "      <td>Rajesh</td>\n",
       "      <td>Kolte</td>\n",
       "      <td>GR1</td>\n",
       "      <td>MUMBAI</td>\n",
       "      <td>19250</td>\n",
       "      <td>14960.0</td>\n",
       "    </tr>\n",
       "    <tr>\n",
       "      <th>4</th>\n",
       "      <td>Neha</td>\n",
       "      <td>Rao</td>\n",
       "      <td>GR1</td>\n",
       "      <td>MUMBAI</td>\n",
       "      <td>19235</td>\n",
       "      <td>15200.0</td>\n",
       "    </tr>\n",
       "  </tbody>\n",
       "</table>\n",
       "</div>"
      ],
      "text/plain": [
       "  First_Name Last_Name Grade Location     ba       ms\n",
       "0       Alan     Brown   GR1    DELHI  17990  16070.0\n",
       "2     Rajesh     Kolte   GR1   MUMBAI  19250  14960.0\n",
       "4       Neha       Rao   GR1   MUMBAI  19235  15200.0"
      ]
     },
     "execution_count": 8,
     "metadata": {},
     "output_type": "execute_result"
    }
   ],
   "source": [
    "# Display row numbers 1,3 and 5 only\n",
    "salary_data_org.loc[[0,2,4]]"
   ]
  },
  {
   "cell_type": "code",
   "execution_count": 9,
   "metadata": {},
   "outputs": [
    {
     "data": {
      "application/vnd.microsoft.datawrangler.viewer.v0+json": {
       "columns": [
        {
         "name": "index",
         "rawType": "int64",
         "type": "integer"
        },
        {
         "name": "First_Name",
         "rawType": "object",
         "type": "string"
        },
        {
         "name": "Last_Name",
         "rawType": "object",
         "type": "string"
        },
        {
         "name": "Grade",
         "rawType": "object",
         "type": "string"
        },
        {
         "name": "Location",
         "rawType": "object",
         "type": "string"
        }
       ],
       "conversionMethod": "pd.DataFrame",
       "ref": "8cd47ff9-0ac9-4e5d-ade9-be33da3e4cd7",
       "rows": [
        [
         "0",
         "Alan",
         "Brown",
         "GR1",
         "DELHI"
        ],
        [
         "1",
         "Agatha",
         "Williams",
         "GR2",
         "MUMBAI"
        ],
        [
         "2",
         "Rajesh",
         "Kolte",
         "GR1",
         "MUMBAI"
        ],
        [
         "3",
         "Ameet",
         "Mishra",
         "GR2",
         "DELHI"
        ],
        [
         "4",
         "Neha",
         "Rao",
         "GR1",
         "MUMBAI"
        ],
        [
         "5",
         "Sagar",
         "Chavan",
         "GR2",
         "MUMBAI"
        ],
        [
         "6",
         "Aaron",
         "Jones",
         "GR1",
         "MUMBAI"
        ],
        [
         "7",
         "John",
         "Patil",
         "GR2",
         "MUMBAI"
        ],
        [
         "8",
         "Sneha",
         "Joshi",
         "GR1",
         "DELHI"
        ],
        [
         "9",
         "Gaurav",
         "Singh",
         "GR2",
         "DELHI"
        ],
        [
         "10",
         "Adela",
         "Thomas",
         "GR2",
         "DELHI"
        ],
        [
         "11",
         "Anup",
         "Save",
         "GR2",
         "MUMBAI"
        ]
       ],
       "shape": {
        "columns": 4,
        "rows": 12
       }
      },
      "text/html": [
       "<div>\n",
       "<style scoped>\n",
       "    .dataframe tbody tr th:only-of-type {\n",
       "        vertical-align: middle;\n",
       "    }\n",
       "\n",
       "    .dataframe tbody tr th {\n",
       "        vertical-align: top;\n",
       "    }\n",
       "\n",
       "    .dataframe thead th {\n",
       "        text-align: right;\n",
       "    }\n",
       "</style>\n",
       "<table border=\"1\" class=\"dataframe\">\n",
       "  <thead>\n",
       "    <tr style=\"text-align: right;\">\n",
       "      <th></th>\n",
       "      <th>First_Name</th>\n",
       "      <th>Last_Name</th>\n",
       "      <th>Grade</th>\n",
       "      <th>Location</th>\n",
       "    </tr>\n",
       "  </thead>\n",
       "  <tbody>\n",
       "    <tr>\n",
       "      <th>0</th>\n",
       "      <td>Alan</td>\n",
       "      <td>Brown</td>\n",
       "      <td>GR1</td>\n",
       "      <td>DELHI</td>\n",
       "    </tr>\n",
       "    <tr>\n",
       "      <th>1</th>\n",
       "      <td>Agatha</td>\n",
       "      <td>Williams</td>\n",
       "      <td>GR2</td>\n",
       "      <td>MUMBAI</td>\n",
       "    </tr>\n",
       "    <tr>\n",
       "      <th>2</th>\n",
       "      <td>Rajesh</td>\n",
       "      <td>Kolte</td>\n",
       "      <td>GR1</td>\n",
       "      <td>MUMBAI</td>\n",
       "    </tr>\n",
       "    <tr>\n",
       "      <th>3</th>\n",
       "      <td>Ameet</td>\n",
       "      <td>Mishra</td>\n",
       "      <td>GR2</td>\n",
       "      <td>DELHI</td>\n",
       "    </tr>\n",
       "    <tr>\n",
       "      <th>4</th>\n",
       "      <td>Neha</td>\n",
       "      <td>Rao</td>\n",
       "      <td>GR1</td>\n",
       "      <td>MUMBAI</td>\n",
       "    </tr>\n",
       "    <tr>\n",
       "      <th>5</th>\n",
       "      <td>Sagar</td>\n",
       "      <td>Chavan</td>\n",
       "      <td>GR2</td>\n",
       "      <td>MUMBAI</td>\n",
       "    </tr>\n",
       "    <tr>\n",
       "      <th>6</th>\n",
       "      <td>Aaron</td>\n",
       "      <td>Jones</td>\n",
       "      <td>GR1</td>\n",
       "      <td>MUMBAI</td>\n",
       "    </tr>\n",
       "    <tr>\n",
       "      <th>7</th>\n",
       "      <td>John</td>\n",
       "      <td>Patil</td>\n",
       "      <td>GR2</td>\n",
       "      <td>MUMBAI</td>\n",
       "    </tr>\n",
       "    <tr>\n",
       "      <th>8</th>\n",
       "      <td>Sneha</td>\n",
       "      <td>Joshi</td>\n",
       "      <td>GR1</td>\n",
       "      <td>DELHI</td>\n",
       "    </tr>\n",
       "    <tr>\n",
       "      <th>9</th>\n",
       "      <td>Gaurav</td>\n",
       "      <td>Singh</td>\n",
       "      <td>GR2</td>\n",
       "      <td>DELHI</td>\n",
       "    </tr>\n",
       "    <tr>\n",
       "      <th>10</th>\n",
       "      <td>Adela</td>\n",
       "      <td>Thomas</td>\n",
       "      <td>GR2</td>\n",
       "      <td>DELHI</td>\n",
       "    </tr>\n",
       "    <tr>\n",
       "      <th>11</th>\n",
       "      <td>Anup</td>\n",
       "      <td>Save</td>\n",
       "      <td>GR2</td>\n",
       "      <td>MUMBAI</td>\n",
       "    </tr>\n",
       "  </tbody>\n",
       "</table>\n",
       "</div>"
      ],
      "text/plain": [
       "   First_Name Last_Name Grade Location\n",
       "0        Alan     Brown   GR1    DELHI\n",
       "1      Agatha  Williams   GR2   MUMBAI\n",
       "2      Rajesh     Kolte   GR1   MUMBAI\n",
       "3       Ameet    Mishra   GR2    DELHI\n",
       "4        Neha       Rao   GR1   MUMBAI\n",
       "5       Sagar    Chavan   GR2   MUMBAI\n",
       "6       Aaron     Jones   GR1   MUMBAI\n",
       "7        John     Patil   GR2   MUMBAI\n",
       "8       Sneha     Joshi   GR1    DELHI\n",
       "9      Gaurav     Singh   GR2    DELHI\n",
       "10      Adela    Thomas   GR2    DELHI\n",
       "11       Anup      Save   GR2   MUMBAI"
      ]
     },
     "execution_count": 9,
     "metadata": {},
     "output_type": "execute_result"
    }
   ],
   "source": [
    "# Column Subsetting you use iloc\n",
    "salary_data_org.iloc[:,0:4]"
   ]
  },
  {
   "cell_type": "code",
   "execution_count": null,
   "metadata": {},
   "outputs": [
    {
     "data": {
      "application/vnd.microsoft.datawrangler.viewer.v0+json": {
       "columns": [
        {
         "name": "index",
         "rawType": "int64",
         "type": "integer"
        },
        {
         "name": "First_Name",
         "rawType": "object",
         "type": "string"
        },
        {
         "name": "Last_Name",
         "rawType": "object",
         "type": "string"
        }
       ],
       "conversionMethod": "pd.DataFrame",
       "ref": "08c00a7f-cf08-4274-b63a-5ffa52f4d28e",
       "rows": [
        [
         "0",
         "Alan",
         "Brown"
        ],
        [
         "4",
         "Neha",
         "Rao"
        ],
        [
         "7",
         "John",
         "Patil"
        ]
       ],
       "shape": {
        "columns": 2,
        "rows": 3
       }
      },
      "text/html": [
       "<div>\n",
       "<style scoped>\n",
       "    .dataframe tbody tr th:only-of-type {\n",
       "        vertical-align: middle;\n",
       "    }\n",
       "\n",
       "    .dataframe tbody tr th {\n",
       "        vertical-align: top;\n",
       "    }\n",
       "\n",
       "    .dataframe thead th {\n",
       "        text-align: right;\n",
       "    }\n",
       "</style>\n",
       "<table border=\"1\" class=\"dataframe\">\n",
       "  <thead>\n",
       "    <tr style=\"text-align: right;\">\n",
       "      <th></th>\n",
       "      <th>First_Name</th>\n",
       "      <th>Last_Name</th>\n",
       "    </tr>\n",
       "  </thead>\n",
       "  <tbody>\n",
       "    <tr>\n",
       "      <th>0</th>\n",
       "      <td>Alan</td>\n",
       "      <td>Brown</td>\n",
       "    </tr>\n",
       "    <tr>\n",
       "      <th>4</th>\n",
       "      <td>Neha</td>\n",
       "      <td>Rao</td>\n",
       "    </tr>\n",
       "    <tr>\n",
       "      <th>7</th>\n",
       "      <td>John</td>\n",
       "      <td>Patil</td>\n",
       "    </tr>\n",
       "  </tbody>\n",
       "</table>\n",
       "</div>"
      ],
      "text/plain": [
       "  First_Name Last_Name\n",
       "0       Alan     Brown\n",
       "4       Neha       Rao\n",
       "7       John     Patil"
      ]
     },
     "execution_count": 10,
     "metadata": {},
     "output_type": "execute_result"
    }
   ],
   "source": [
    "# Display rows 1,5,8 and columns 1 and 2 Subsetting by Rows and columns\n",
    "# With labels\n",
    "\n",
    "salary_data_org.loc[[0,4,7],['First_Name','Last_Name']]"
   ]
  },
  {
   "cell_type": "code",
   "execution_count": 11,
   "metadata": {},
   "outputs": [
    {
     "data": {
      "application/vnd.microsoft.datawrangler.viewer.v0+json": {
       "columns": [
        {
         "name": "index",
         "rawType": "int64",
         "type": "integer"
        },
        {
         "name": "First_Name",
         "rawType": "object",
         "type": "string"
        },
        {
         "name": "Last_Name",
         "rawType": "object",
         "type": "string"
        }
       ],
       "conversionMethod": "pd.DataFrame",
       "ref": "839c7ef0-08df-4efd-a01d-154176755416",
       "rows": [
        [
         "0",
         "Alan",
         "Brown"
        ],
        [
         "4",
         "Neha",
         "Rao"
        ],
        [
         "7",
         "John",
         "Patil"
        ]
       ],
       "shape": {
        "columns": 2,
        "rows": 3
       }
      },
      "text/html": [
       "<div>\n",
       "<style scoped>\n",
       "    .dataframe tbody tr th:only-of-type {\n",
       "        vertical-align: middle;\n",
       "    }\n",
       "\n",
       "    .dataframe tbody tr th {\n",
       "        vertical-align: top;\n",
       "    }\n",
       "\n",
       "    .dataframe thead th {\n",
       "        text-align: right;\n",
       "    }\n",
       "</style>\n",
       "<table border=\"1\" class=\"dataframe\">\n",
       "  <thead>\n",
       "    <tr style=\"text-align: right;\">\n",
       "      <th></th>\n",
       "      <th>First_Name</th>\n",
       "      <th>Last_Name</th>\n",
       "    </tr>\n",
       "  </thead>\n",
       "  <tbody>\n",
       "    <tr>\n",
       "      <th>0</th>\n",
       "      <td>Alan</td>\n",
       "      <td>Brown</td>\n",
       "    </tr>\n",
       "    <tr>\n",
       "      <th>4</th>\n",
       "      <td>Neha</td>\n",
       "      <td>Rao</td>\n",
       "    </tr>\n",
       "    <tr>\n",
       "      <th>7</th>\n",
       "      <td>John</td>\n",
       "      <td>Patil</td>\n",
       "    </tr>\n",
       "  </tbody>\n",
       "</table>\n",
       "</div>"
      ],
      "text/plain": [
       "  First_Name Last_Name\n",
       "0       Alan     Brown\n",
       "4       Neha       Rao\n",
       "7       John     Patil"
      ]
     },
     "execution_count": 11,
     "metadata": {},
     "output_type": "execute_result"
    }
   ],
   "source": [
    "# with index\n",
    "\n",
    "salary_data_org.iloc[[0,4,7],[0,1]]"
   ]
  },
  {
   "cell_type": "code",
   "execution_count": 12,
   "metadata": {},
   "outputs": [
    {
     "data": {
      "application/vnd.microsoft.datawrangler.viewer.v0+json": {
       "columns": [
        {
         "name": "index",
         "rawType": "int64",
         "type": "integer"
        },
        {
         "name": "First_Name",
         "rawType": "object",
         "type": "string"
        },
        {
         "name": "Last_Name",
         "rawType": "object",
         "type": "string"
        },
        {
         "name": "Grade",
         "rawType": "object",
         "type": "string"
        },
        {
         "name": "Location",
         "rawType": "object",
         "type": "string"
        },
        {
         "name": "ba",
         "rawType": "int64",
         "type": "integer"
        },
        {
         "name": "ms",
         "rawType": "float64",
         "type": "float"
        }
       ],
       "conversionMethod": "pd.DataFrame",
       "ref": "7cf86f04-dd72-44d7-a85d-dc8e8c803287",
       "rows": [
        [
         "2",
         "Rajesh",
         "Kolte",
         "GR1",
         "MUMBAI",
         "19250",
         "14960.0"
        ],
        [
         "4",
         "Neha",
         "Rao",
         "GR1",
         "MUMBAI",
         "19235",
         "15200.0"
        ],
        [
         "6",
         "Aaron",
         "Jones",
         "GR1",
         "MUMBAI",
         "23280",
         "13490.0"
        ]
       ],
       "shape": {
        "columns": 6,
        "rows": 3
       }
      },
      "text/html": [
       "<div>\n",
       "<style scoped>\n",
       "    .dataframe tbody tr th:only-of-type {\n",
       "        vertical-align: middle;\n",
       "    }\n",
       "\n",
       "    .dataframe tbody tr th {\n",
       "        vertical-align: top;\n",
       "    }\n",
       "\n",
       "    .dataframe thead th {\n",
       "        text-align: right;\n",
       "    }\n",
       "</style>\n",
       "<table border=\"1\" class=\"dataframe\">\n",
       "  <thead>\n",
       "    <tr style=\"text-align: right;\">\n",
       "      <th></th>\n",
       "      <th>First_Name</th>\n",
       "      <th>Last_Name</th>\n",
       "      <th>Grade</th>\n",
       "      <th>Location</th>\n",
       "      <th>ba</th>\n",
       "      <th>ms</th>\n",
       "    </tr>\n",
       "  </thead>\n",
       "  <tbody>\n",
       "    <tr>\n",
       "      <th>2</th>\n",
       "      <td>Rajesh</td>\n",
       "      <td>Kolte</td>\n",
       "      <td>GR1</td>\n",
       "      <td>MUMBAI</td>\n",
       "      <td>19250</td>\n",
       "      <td>14960.0</td>\n",
       "    </tr>\n",
       "    <tr>\n",
       "      <th>4</th>\n",
       "      <td>Neha</td>\n",
       "      <td>Rao</td>\n",
       "      <td>GR1</td>\n",
       "      <td>MUMBAI</td>\n",
       "      <td>19235</td>\n",
       "      <td>15200.0</td>\n",
       "    </tr>\n",
       "    <tr>\n",
       "      <th>6</th>\n",
       "      <td>Aaron</td>\n",
       "      <td>Jones</td>\n",
       "      <td>GR1</td>\n",
       "      <td>MUMBAI</td>\n",
       "      <td>23280</td>\n",
       "      <td>13490.0</td>\n",
       "    </tr>\n",
       "  </tbody>\n",
       "</table>\n",
       "</div>"
      ],
      "text/plain": [
       "  First_Name Last_Name Grade Location     ba       ms\n",
       "2     Rajesh     Kolte   GR1   MUMBAI  19250  14960.0\n",
       "4       Neha       Rao   GR1   MUMBAI  19235  15200.0\n",
       "6      Aaron     Jones   GR1   MUMBAI  23280  13490.0"
      ]
     },
     "execution_count": 12,
     "metadata": {},
     "output_type": "execute_result"
    }
   ],
   "source": [
    "# # Create a subset with all details of employees of MUMBAI with ba \n",
    "# More than 15000\n",
    "\n",
    "salary_data_org[(salary_data_org.Location=='MUMBAI')\n",
    "&(salary_data_org.ba>15000)]"
   ]
  },
  {
   "cell_type": "code",
   "execution_count": 13,
   "metadata": {},
   "outputs": [
    {
     "data": {
      "application/vnd.microsoft.datawrangler.viewer.v0+json": {
       "columns": [
        {
         "name": "index",
         "rawType": "int64",
         "type": "integer"
        },
        {
         "name": "First_Name",
         "rawType": "object",
         "type": "string"
        },
        {
         "name": "Last_Name",
         "rawType": "object",
         "type": "string"
        },
        {
         "name": "Grade",
         "rawType": "object",
         "type": "string"
        },
        {
         "name": "Location",
         "rawType": "object",
         "type": "string"
        },
        {
         "name": "ba",
         "rawType": "int64",
         "type": "integer"
        },
        {
         "name": "ms",
         "rawType": "float64",
         "type": "float"
        }
       ],
       "conversionMethod": "pd.DataFrame",
       "ref": "373de581-2ee2-4bb2-9436-02606e84a2fe",
       "rows": [
        [
         "3",
         "Ameet",
         "Mishra",
         "GR2",
         "DELHI",
         "14780",
         "9300.0"
        ],
        [
         "9",
         "Gaurav",
         "Singh",
         "GR2",
         "DELHI",
         "13760",
         "13220.0"
        ],
        [
         "10",
         "Adela",
         "Thomas",
         "GR2",
         "DELHI",
         "13660",
         "6840.0"
        ]
       ],
       "shape": {
        "columns": 6,
        "rows": 3
       }
      },
      "text/html": [
       "<div>\n",
       "<style scoped>\n",
       "    .dataframe tbody tr th:only-of-type {\n",
       "        vertical-align: middle;\n",
       "    }\n",
       "\n",
       "    .dataframe tbody tr th {\n",
       "        vertical-align: top;\n",
       "    }\n",
       "\n",
       "    .dataframe thead th {\n",
       "        text-align: right;\n",
       "    }\n",
       "</style>\n",
       "<table border=\"1\" class=\"dataframe\">\n",
       "  <thead>\n",
       "    <tr style=\"text-align: right;\">\n",
       "      <th></th>\n",
       "      <th>First_Name</th>\n",
       "      <th>Last_Name</th>\n",
       "      <th>Grade</th>\n",
       "      <th>Location</th>\n",
       "      <th>ba</th>\n",
       "      <th>ms</th>\n",
       "    </tr>\n",
       "  </thead>\n",
       "  <tbody>\n",
       "    <tr>\n",
       "      <th>3</th>\n",
       "      <td>Ameet</td>\n",
       "      <td>Mishra</td>\n",
       "      <td>GR2</td>\n",
       "      <td>DELHI</td>\n",
       "      <td>14780</td>\n",
       "      <td>9300.0</td>\n",
       "    </tr>\n",
       "    <tr>\n",
       "      <th>9</th>\n",
       "      <td>Gaurav</td>\n",
       "      <td>Singh</td>\n",
       "      <td>GR2</td>\n",
       "      <td>DELHI</td>\n",
       "      <td>13760</td>\n",
       "      <td>13220.0</td>\n",
       "    </tr>\n",
       "    <tr>\n",
       "      <th>10</th>\n",
       "      <td>Adela</td>\n",
       "      <td>Thomas</td>\n",
       "      <td>GR2</td>\n",
       "      <td>DELHI</td>\n",
       "      <td>13660</td>\n",
       "      <td>6840.0</td>\n",
       "    </tr>\n",
       "  </tbody>\n",
       "</table>\n",
       "</div>"
      ],
      "text/plain": [
       "   First_Name Last_Name Grade Location     ba       ms\n",
       "3       Ameet    Mishra   GR2    DELHI  14780   9300.0\n",
       "9      Gaurav     Singh   GR2    DELHI  13760  13220.0\n",
       "10      Adela    Thomas   GR2    DELHI  13660   6840.0"
      ]
     },
     "execution_count": 13,
     "metadata": {},
     "output_type": "execute_result"
    }
   ],
   "source": [
    "# When you are looking at values NOT EQUAL to a certain value/condition\n",
    "salary_data_org[(salary_data_org.Grade!='GR1') &\n",
    "(salary_data_org.Location!=\"MUMBAI\")]\n"
   ]
  },
  {
   "cell_type": "code",
   "execution_count": null,
   "metadata": {},
   "outputs": [
    {
     "data": {
      "application/vnd.microsoft.datawrangler.viewer.v0+json": {
       "columns": [
        {
         "name": "index",
         "rawType": "int64",
         "type": "integer"
        },
        {
         "name": "First_Name",
         "rawType": "object",
         "type": "string"
        },
        {
         "name": "Grade",
         "rawType": "object",
         "type": "string"
        },
        {
         "name": "Location",
         "rawType": "object",
         "type": "string"
        }
       ],
       "conversionMethod": "pd.DataFrame",
       "ref": "b4607908-5e01-4c35-a2bc-d51a944b36c2",
       "rows": [
        [
         "0",
         "Alan",
         "GR1",
         "DELHI"
        ],
        [
         "2",
         "Rajesh",
         "GR1",
         "MUMBAI"
        ],
        [
         "4",
         "Neha",
         "GR1",
         "MUMBAI"
        ],
        [
         "6",
         "Aaron",
         "GR1",
         "MUMBAI"
        ],
        [
         "8",
         "Sneha",
         "GR1",
         "DELHI"
        ]
       ],
       "shape": {
        "columns": 3,
        "rows": 5
       }
      },
      "text/html": [
       "<div>\n",
       "<style scoped>\n",
       "    .dataframe tbody tr th:only-of-type {\n",
       "        vertical-align: middle;\n",
       "    }\n",
       "\n",
       "    .dataframe tbody tr th {\n",
       "        vertical-align: top;\n",
       "    }\n",
       "\n",
       "    .dataframe thead th {\n",
       "        text-align: right;\n",
       "    }\n",
       "</style>\n",
       "<table border=\"1\" class=\"dataframe\">\n",
       "  <thead>\n",
       "    <tr style=\"text-align: right;\">\n",
       "      <th></th>\n",
       "      <th>First_Name</th>\n",
       "      <th>Grade</th>\n",
       "      <th>Location</th>\n",
       "    </tr>\n",
       "  </thead>\n",
       "  <tbody>\n",
       "    <tr>\n",
       "      <th>0</th>\n",
       "      <td>Alan</td>\n",
       "      <td>GR1</td>\n",
       "      <td>DELHI</td>\n",
       "    </tr>\n",
       "    <tr>\n",
       "      <th>2</th>\n",
       "      <td>Rajesh</td>\n",
       "      <td>GR1</td>\n",
       "      <td>MUMBAI</td>\n",
       "    </tr>\n",
       "    <tr>\n",
       "      <th>4</th>\n",
       "      <td>Neha</td>\n",
       "      <td>GR1</td>\n",
       "      <td>MUMBAI</td>\n",
       "    </tr>\n",
       "    <tr>\n",
       "      <th>6</th>\n",
       "      <td>Aaron</td>\n",
       "      <td>GR1</td>\n",
       "      <td>MUMBAI</td>\n",
       "    </tr>\n",
       "    <tr>\n",
       "      <th>8</th>\n",
       "      <td>Sneha</td>\n",
       "      <td>GR1</td>\n",
       "      <td>DELHI</td>\n",
       "    </tr>\n",
       "  </tbody>\n",
       "</table>\n",
       "</div>"
      ],
      "text/plain": [
       "  First_Name Grade Location\n",
       "0       Alan   GR1    DELHI\n",
       "2     Rajesh   GR1   MUMBAI\n",
       "4       Neha   GR1   MUMBAI\n",
       "6      Aaron   GR1   MUMBAI\n",
       "8      Sneha   GR1    DELHI"
      ]
     },
     "execution_count": 14,
     "metadata": {},
     "output_type": "execute_result"
    }
   ],
   "source": [
    "# Subsetting the data and using the loc fxn\n",
    "# Select First_Name, Grade and Location of employees of GR1 with ba\n",
    "# more than 15000 \n",
    "salary_data_org.loc[(salary_data_org.Grade=='GR1') &\n",
    "(salary_data_org.ba>15000), ['First_Name','Grade', 'Location']]\n"
   ]
  },
  {
   "cell_type": "markdown",
   "metadata": {},
   "source": [
    "# Sorting Data"
   ]
  },
  {
   "cell_type": "code",
   "execution_count": 15,
   "metadata": {},
   "outputs": [],
   "source": [
    "# Import Dataset\n",
    "\n",
    "salary_data = pd.read_csv(\"basic_salary (2).csv\")"
   ]
  },
  {
   "cell_type": "code",
   "execution_count": 16,
   "metadata": {},
   "outputs": [
    {
     "data": {
      "application/vnd.microsoft.datawrangler.viewer.v0+json": {
       "columns": [
        {
         "name": "index",
         "rawType": "int64",
         "type": "integer"
        },
        {
         "name": "First_Name",
         "rawType": "object",
         "type": "string"
        },
        {
         "name": "Last_Name",
         "rawType": "object",
         "type": "string"
        },
        {
         "name": "Grade",
         "rawType": "object",
         "type": "string"
        },
        {
         "name": "Location",
         "rawType": "object",
         "type": "string"
        },
        {
         "name": "ba",
         "rawType": "int64",
         "type": "integer"
        },
        {
         "name": "ms",
         "rawType": "float64",
         "type": "float"
        }
       ],
       "conversionMethod": "pd.DataFrame",
       "ref": "be7039a6-1a2c-4c15-aa8e-ea13b42e5b1a",
       "rows": [
        [
         "11",
         "Anup",
         "Save",
         "GR2",
         "MUMBAI",
         "11960",
         "7880.0"
        ],
        [
         "1",
         "Agatha",
         "Williams",
         "GR2",
         "MUMBAI",
         "12390",
         "6630.0"
        ],
        [
         "5",
         "Sagar",
         "Chavan",
         "GR2",
         "MUMBAI",
         "13390",
         "6700.0"
        ],
        [
         "7",
         "John",
         "Patil",
         "GR2",
         "MUMBAI",
         "13500",
         "10760.0"
        ],
        [
         "10",
         "Adela",
         "Thomas",
         "GR2",
         "DELHI",
         "13660",
         "6840.0"
        ]
       ],
       "shape": {
        "columns": 6,
        "rows": 5
       }
      },
      "text/html": [
       "<div>\n",
       "<style scoped>\n",
       "    .dataframe tbody tr th:only-of-type {\n",
       "        vertical-align: middle;\n",
       "    }\n",
       "\n",
       "    .dataframe tbody tr th {\n",
       "        vertical-align: top;\n",
       "    }\n",
       "\n",
       "    .dataframe thead th {\n",
       "        text-align: right;\n",
       "    }\n",
       "</style>\n",
       "<table border=\"1\" class=\"dataframe\">\n",
       "  <thead>\n",
       "    <tr style=\"text-align: right;\">\n",
       "      <th></th>\n",
       "      <th>First_Name</th>\n",
       "      <th>Last_Name</th>\n",
       "      <th>Grade</th>\n",
       "      <th>Location</th>\n",
       "      <th>ba</th>\n",
       "      <th>ms</th>\n",
       "    </tr>\n",
       "  </thead>\n",
       "  <tbody>\n",
       "    <tr>\n",
       "      <th>11</th>\n",
       "      <td>Anup</td>\n",
       "      <td>Save</td>\n",
       "      <td>GR2</td>\n",
       "      <td>MUMBAI</td>\n",
       "      <td>11960</td>\n",
       "      <td>7880.0</td>\n",
       "    </tr>\n",
       "    <tr>\n",
       "      <th>1</th>\n",
       "      <td>Agatha</td>\n",
       "      <td>Williams</td>\n",
       "      <td>GR2</td>\n",
       "      <td>MUMBAI</td>\n",
       "      <td>12390</td>\n",
       "      <td>6630.0</td>\n",
       "    </tr>\n",
       "    <tr>\n",
       "      <th>5</th>\n",
       "      <td>Sagar</td>\n",
       "      <td>Chavan</td>\n",
       "      <td>GR2</td>\n",
       "      <td>MUMBAI</td>\n",
       "      <td>13390</td>\n",
       "      <td>6700.0</td>\n",
       "    </tr>\n",
       "    <tr>\n",
       "      <th>7</th>\n",
       "      <td>John</td>\n",
       "      <td>Patil</td>\n",
       "      <td>GR2</td>\n",
       "      <td>MUMBAI</td>\n",
       "      <td>13500</td>\n",
       "      <td>10760.0</td>\n",
       "    </tr>\n",
       "    <tr>\n",
       "      <th>10</th>\n",
       "      <td>Adela</td>\n",
       "      <td>Thomas</td>\n",
       "      <td>GR2</td>\n",
       "      <td>DELHI</td>\n",
       "      <td>13660</td>\n",
       "      <td>6840.0</td>\n",
       "    </tr>\n",
       "  </tbody>\n",
       "</table>\n",
       "</div>"
      ],
      "text/plain": [
       "   First_Name Last_Name Grade Location     ba       ms\n",
       "11       Anup      Save   GR2   MUMBAI  11960   7880.0\n",
       "1      Agatha  Williams   GR2   MUMBAI  12390   6630.0\n",
       "5       Sagar    Chavan   GR2   MUMBAI  13390   6700.0\n",
       "7        John     Patil   GR2   MUMBAI  13500  10760.0\n",
       "10      Adela    Thomas   GR2    DELHI  13660   6840.0"
      ]
     },
     "execution_count": 16,
     "metadata": {},
     "output_type": "execute_result"
    }
   ],
   "source": [
    "# Sort the data by ba in Ascending order\n",
    "ba_sorted_1=salary_data.sort_values(by=['ba'])\n",
    "ba_sorted_1.head()"
   ]
  },
  {
   "cell_type": "code",
   "execution_count": 17,
   "metadata": {},
   "outputs": [
    {
     "data": {
      "application/vnd.microsoft.datawrangler.viewer.v0+json": {
       "columns": [
        {
         "name": "index",
         "rawType": "int64",
         "type": "integer"
        },
        {
         "name": "First_Name",
         "rawType": "object",
         "type": "string"
        },
        {
         "name": "Last_Name",
         "rawType": "object",
         "type": "string"
        },
        {
         "name": "Grade",
         "rawType": "object",
         "type": "string"
        },
        {
         "name": "Location",
         "rawType": "object",
         "type": "string"
        },
        {
         "name": "ba",
         "rawType": "int64",
         "type": "integer"
        },
        {
         "name": "ms",
         "rawType": "float64",
         "type": "float"
        }
       ],
       "conversionMethod": "pd.DataFrame",
       "ref": "00ddad05-99de-43b4-a299-50ee0ac05269",
       "rows": [
        [
         "6",
         "Aaron",
         "Jones",
         "GR1",
         "MUMBAI",
         "23280",
         "13490.0"
        ],
        [
         "8",
         "Sneha",
         "Joshi",
         "GR1",
         "DELHI",
         "20660",
         null
        ],
        [
         "2",
         "Rajesh",
         "Kolte",
         "GR1",
         "MUMBAI",
         "19250",
         "14960.0"
        ],
        [
         "4",
         "Neha",
         "Rao",
         "GR1",
         "MUMBAI",
         "19235",
         "15200.0"
        ],
        [
         "0",
         "Alan",
         "Brown",
         "GR1",
         "DELHI",
         "17990",
         "16070.0"
        ]
       ],
       "shape": {
        "columns": 6,
        "rows": 5
       }
      },
      "text/html": [
       "<div>\n",
       "<style scoped>\n",
       "    .dataframe tbody tr th:only-of-type {\n",
       "        vertical-align: middle;\n",
       "    }\n",
       "\n",
       "    .dataframe tbody tr th {\n",
       "        vertical-align: top;\n",
       "    }\n",
       "\n",
       "    .dataframe thead th {\n",
       "        text-align: right;\n",
       "    }\n",
       "</style>\n",
       "<table border=\"1\" class=\"dataframe\">\n",
       "  <thead>\n",
       "    <tr style=\"text-align: right;\">\n",
       "      <th></th>\n",
       "      <th>First_Name</th>\n",
       "      <th>Last_Name</th>\n",
       "      <th>Grade</th>\n",
       "      <th>Location</th>\n",
       "      <th>ba</th>\n",
       "      <th>ms</th>\n",
       "    </tr>\n",
       "  </thead>\n",
       "  <tbody>\n",
       "    <tr>\n",
       "      <th>6</th>\n",
       "      <td>Aaron</td>\n",
       "      <td>Jones</td>\n",
       "      <td>GR1</td>\n",
       "      <td>MUMBAI</td>\n",
       "      <td>23280</td>\n",
       "      <td>13490.0</td>\n",
       "    </tr>\n",
       "    <tr>\n",
       "      <th>8</th>\n",
       "      <td>Sneha</td>\n",
       "      <td>Joshi</td>\n",
       "      <td>GR1</td>\n",
       "      <td>DELHI</td>\n",
       "      <td>20660</td>\n",
       "      <td>NaN</td>\n",
       "    </tr>\n",
       "    <tr>\n",
       "      <th>2</th>\n",
       "      <td>Rajesh</td>\n",
       "      <td>Kolte</td>\n",
       "      <td>GR1</td>\n",
       "      <td>MUMBAI</td>\n",
       "      <td>19250</td>\n",
       "      <td>14960.0</td>\n",
       "    </tr>\n",
       "    <tr>\n",
       "      <th>4</th>\n",
       "      <td>Neha</td>\n",
       "      <td>Rao</td>\n",
       "      <td>GR1</td>\n",
       "      <td>MUMBAI</td>\n",
       "      <td>19235</td>\n",
       "      <td>15200.0</td>\n",
       "    </tr>\n",
       "    <tr>\n",
       "      <th>0</th>\n",
       "      <td>Alan</td>\n",
       "      <td>Brown</td>\n",
       "      <td>GR1</td>\n",
       "      <td>DELHI</td>\n",
       "      <td>17990</td>\n",
       "      <td>16070.0</td>\n",
       "    </tr>\n",
       "  </tbody>\n",
       "</table>\n",
       "</div>"
      ],
      "text/plain": [
       "  First_Name Last_Name Grade Location     ba       ms\n",
       "6      Aaron     Jones   GR1   MUMBAI  23280  13490.0\n",
       "8      Sneha     Joshi   GR1    DELHI  20660      NaN\n",
       "2     Rajesh     Kolte   GR1   MUMBAI  19250  14960.0\n",
       "4       Neha       Rao   GR1   MUMBAI  19235  15200.0\n",
       "0       Alan     Brown   GR1    DELHI  17990  16070.0"
      ]
     },
     "execution_count": 17,
     "metadata": {},
     "output_type": "execute_result"
    }
   ],
   "source": [
    "# Sort salary_data by ba in Descending order\n",
    "ba_sorted_2=salary_data.sort_values(by=['ba'], ascending = False)\n",
    "ba_sorted_2.head()\n"
   ]
  },
  {
   "cell_type": "code",
   "execution_count": 18,
   "metadata": {},
   "outputs": [
    {
     "data": {
      "application/vnd.microsoft.datawrangler.viewer.v0+json": {
       "columns": [
        {
         "name": "index",
         "rawType": "int64",
         "type": "integer"
        },
        {
         "name": "First_Name",
         "rawType": "object",
         "type": "string"
        },
        {
         "name": "Last_Name",
         "rawType": "object",
         "type": "string"
        },
        {
         "name": "Grade",
         "rawType": "object",
         "type": "string"
        },
        {
         "name": "Location",
         "rawType": "object",
         "type": "string"
        },
        {
         "name": "ba",
         "rawType": "int64",
         "type": "integer"
        },
        {
         "name": "ms",
         "rawType": "float64",
         "type": "float"
        }
       ],
       "conversionMethod": "pd.DataFrame",
       "ref": "6f45a7ad-1de7-4b39-b1b5-b0599a1236ef",
       "rows": [
        [
         "0",
         "Alan",
         "Brown",
         "GR1",
         "DELHI",
         "17990",
         "16070.0"
        ],
        [
         "2",
         "Rajesh",
         "Kolte",
         "GR1",
         "MUMBAI",
         "19250",
         "14960.0"
        ],
        [
         "4",
         "Neha",
         "Rao",
         "GR1",
         "MUMBAI",
         "19235",
         "15200.0"
        ],
        [
         "6",
         "Aaron",
         "Jones",
         "GR1",
         "MUMBAI",
         "23280",
         "13490.0"
        ],
        [
         "8",
         "Sneha",
         "Joshi",
         "GR1",
         "DELHI",
         "20660",
         null
        ]
       ],
       "shape": {
        "columns": 6,
        "rows": 5
       }
      },
      "text/html": [
       "<div>\n",
       "<style scoped>\n",
       "    .dataframe tbody tr th:only-of-type {\n",
       "        vertical-align: middle;\n",
       "    }\n",
       "\n",
       "    .dataframe tbody tr th {\n",
       "        vertical-align: top;\n",
       "    }\n",
       "\n",
       "    .dataframe thead th {\n",
       "        text-align: right;\n",
       "    }\n",
       "</style>\n",
       "<table border=\"1\" class=\"dataframe\">\n",
       "  <thead>\n",
       "    <tr style=\"text-align: right;\">\n",
       "      <th></th>\n",
       "      <th>First_Name</th>\n",
       "      <th>Last_Name</th>\n",
       "      <th>Grade</th>\n",
       "      <th>Location</th>\n",
       "      <th>ba</th>\n",
       "      <th>ms</th>\n",
       "    </tr>\n",
       "  </thead>\n",
       "  <tbody>\n",
       "    <tr>\n",
       "      <th>0</th>\n",
       "      <td>Alan</td>\n",
       "      <td>Brown</td>\n",
       "      <td>GR1</td>\n",
       "      <td>DELHI</td>\n",
       "      <td>17990</td>\n",
       "      <td>16070.0</td>\n",
       "    </tr>\n",
       "    <tr>\n",
       "      <th>2</th>\n",
       "      <td>Rajesh</td>\n",
       "      <td>Kolte</td>\n",
       "      <td>GR1</td>\n",
       "      <td>MUMBAI</td>\n",
       "      <td>19250</td>\n",
       "      <td>14960.0</td>\n",
       "    </tr>\n",
       "    <tr>\n",
       "      <th>4</th>\n",
       "      <td>Neha</td>\n",
       "      <td>Rao</td>\n",
       "      <td>GR1</td>\n",
       "      <td>MUMBAI</td>\n",
       "      <td>19235</td>\n",
       "      <td>15200.0</td>\n",
       "    </tr>\n",
       "    <tr>\n",
       "      <th>6</th>\n",
       "      <td>Aaron</td>\n",
       "      <td>Jones</td>\n",
       "      <td>GR1</td>\n",
       "      <td>MUMBAI</td>\n",
       "      <td>23280</td>\n",
       "      <td>13490.0</td>\n",
       "    </tr>\n",
       "    <tr>\n",
       "      <th>8</th>\n",
       "      <td>Sneha</td>\n",
       "      <td>Joshi</td>\n",
       "      <td>GR1</td>\n",
       "      <td>DELHI</td>\n",
       "      <td>20660</td>\n",
       "      <td>NaN</td>\n",
       "    </tr>\n",
       "  </tbody>\n",
       "</table>\n",
       "</div>"
      ],
      "text/plain": [
       "  First_Name Last_Name Grade Location     ba       ms\n",
       "0       Alan     Brown   GR1    DELHI  17990  16070.0\n",
       "2     Rajesh     Kolte   GR1   MUMBAI  19250  14960.0\n",
       "4       Neha       Rao   GR1   MUMBAI  19235  15200.0\n",
       "6      Aaron     Jones   GR1   MUMBAI  23280  13490.0\n",
       "8      Sneha     Joshi   GR1    DELHI  20660      NaN"
      ]
     },
     "execution_count": 18,
     "metadata": {},
     "output_type": "execute_result"
    }
   ],
   "source": [
    "# Sorting by Factor Variables(Categorical Variables)   \n",
    "# Sort salary_data by Grade in Ascending order\n",
    "gr_sorted=salary_data.sort_values(by=['Grade'])\n",
    "gr_sorted.head()\n",
    "\n"
   ]
  },
  {
   "cell_type": "code",
   "execution_count": 19,
   "metadata": {},
   "outputs": [
    {
     "data": {
      "application/vnd.microsoft.datawrangler.viewer.v0+json": {
       "columns": [
        {
         "name": "index",
         "rawType": "int64",
         "type": "integer"
        },
        {
         "name": "First_Name",
         "rawType": "object",
         "type": "string"
        },
        {
         "name": "Last_Name",
         "rawType": "object",
         "type": "string"
        },
        {
         "name": "Grade",
         "rawType": "object",
         "type": "string"
        },
        {
         "name": "Location",
         "rawType": "object",
         "type": "string"
        },
        {
         "name": "ba",
         "rawType": "int64",
         "type": "integer"
        },
        {
         "name": "ms",
         "rawType": "float64",
         "type": "float"
        }
       ],
       "conversionMethod": "pd.DataFrame",
       "ref": "e86fc011-b9a6-4d89-9726-4d08176e3ee0",
       "rows": [
        [
         "0",
         "Alan",
         "Brown",
         "GR1",
         "DELHI",
         "17990",
         "16070.0"
        ],
        [
         "4",
         "Neha",
         "Rao",
         "GR1",
         "MUMBAI",
         "19235",
         "15200.0"
        ],
        [
         "2",
         "Rajesh",
         "Kolte",
         "GR1",
         "MUMBAI",
         "19250",
         "14960.0"
        ],
        [
         "8",
         "Sneha",
         "Joshi",
         "GR1",
         "DELHI",
         "20660",
         null
        ],
        [
         "6",
         "Aaron",
         "Jones",
         "GR1",
         "MUMBAI",
         "23280",
         "13490.0"
        ],
        [
         "11",
         "Anup",
         "Save",
         "GR2",
         "MUMBAI",
         "11960",
         "7880.0"
        ],
        [
         "1",
         "Agatha",
         "Williams",
         "GR2",
         "MUMBAI",
         "12390",
         "6630.0"
        ],
        [
         "5",
         "Sagar",
         "Chavan",
         "GR2",
         "MUMBAI",
         "13390",
         "6700.0"
        ],
        [
         "7",
         "John",
         "Patil",
         "GR2",
         "MUMBAI",
         "13500",
         "10760.0"
        ],
        [
         "10",
         "Adela",
         "Thomas",
         "GR2",
         "DELHI",
         "13660",
         "6840.0"
        ]
       ],
       "shape": {
        "columns": 6,
        "rows": 10
       }
      },
      "text/html": [
       "<div>\n",
       "<style scoped>\n",
       "    .dataframe tbody tr th:only-of-type {\n",
       "        vertical-align: middle;\n",
       "    }\n",
       "\n",
       "    .dataframe tbody tr th {\n",
       "        vertical-align: top;\n",
       "    }\n",
       "\n",
       "    .dataframe thead th {\n",
       "        text-align: right;\n",
       "    }\n",
       "</style>\n",
       "<table border=\"1\" class=\"dataframe\">\n",
       "  <thead>\n",
       "    <tr style=\"text-align: right;\">\n",
       "      <th></th>\n",
       "      <th>First_Name</th>\n",
       "      <th>Last_Name</th>\n",
       "      <th>Grade</th>\n",
       "      <th>Location</th>\n",
       "      <th>ba</th>\n",
       "      <th>ms</th>\n",
       "    </tr>\n",
       "  </thead>\n",
       "  <tbody>\n",
       "    <tr>\n",
       "      <th>0</th>\n",
       "      <td>Alan</td>\n",
       "      <td>Brown</td>\n",
       "      <td>GR1</td>\n",
       "      <td>DELHI</td>\n",
       "      <td>17990</td>\n",
       "      <td>16070.0</td>\n",
       "    </tr>\n",
       "    <tr>\n",
       "      <th>4</th>\n",
       "      <td>Neha</td>\n",
       "      <td>Rao</td>\n",
       "      <td>GR1</td>\n",
       "      <td>MUMBAI</td>\n",
       "      <td>19235</td>\n",
       "      <td>15200.0</td>\n",
       "    </tr>\n",
       "    <tr>\n",
       "      <th>2</th>\n",
       "      <td>Rajesh</td>\n",
       "      <td>Kolte</td>\n",
       "      <td>GR1</td>\n",
       "      <td>MUMBAI</td>\n",
       "      <td>19250</td>\n",
       "      <td>14960.0</td>\n",
       "    </tr>\n",
       "    <tr>\n",
       "      <th>8</th>\n",
       "      <td>Sneha</td>\n",
       "      <td>Joshi</td>\n",
       "      <td>GR1</td>\n",
       "      <td>DELHI</td>\n",
       "      <td>20660</td>\n",
       "      <td>NaN</td>\n",
       "    </tr>\n",
       "    <tr>\n",
       "      <th>6</th>\n",
       "      <td>Aaron</td>\n",
       "      <td>Jones</td>\n",
       "      <td>GR1</td>\n",
       "      <td>MUMBAI</td>\n",
       "      <td>23280</td>\n",
       "      <td>13490.0</td>\n",
       "    </tr>\n",
       "    <tr>\n",
       "      <th>11</th>\n",
       "      <td>Anup</td>\n",
       "      <td>Save</td>\n",
       "      <td>GR2</td>\n",
       "      <td>MUMBAI</td>\n",
       "      <td>11960</td>\n",
       "      <td>7880.0</td>\n",
       "    </tr>\n",
       "    <tr>\n",
       "      <th>1</th>\n",
       "      <td>Agatha</td>\n",
       "      <td>Williams</td>\n",
       "      <td>GR2</td>\n",
       "      <td>MUMBAI</td>\n",
       "      <td>12390</td>\n",
       "      <td>6630.0</td>\n",
       "    </tr>\n",
       "    <tr>\n",
       "      <th>5</th>\n",
       "      <td>Sagar</td>\n",
       "      <td>Chavan</td>\n",
       "      <td>GR2</td>\n",
       "      <td>MUMBAI</td>\n",
       "      <td>13390</td>\n",
       "      <td>6700.0</td>\n",
       "    </tr>\n",
       "    <tr>\n",
       "      <th>7</th>\n",
       "      <td>John</td>\n",
       "      <td>Patil</td>\n",
       "      <td>GR2</td>\n",
       "      <td>MUMBAI</td>\n",
       "      <td>13500</td>\n",
       "      <td>10760.0</td>\n",
       "    </tr>\n",
       "    <tr>\n",
       "      <th>10</th>\n",
       "      <td>Adela</td>\n",
       "      <td>Thomas</td>\n",
       "      <td>GR2</td>\n",
       "      <td>DELHI</td>\n",
       "      <td>13660</td>\n",
       "      <td>6840.0</td>\n",
       "    </tr>\n",
       "  </tbody>\n",
       "</table>\n",
       "</div>"
      ],
      "text/plain": [
       "   First_Name Last_Name Grade Location     ba       ms\n",
       "0        Alan     Brown   GR1    DELHI  17990  16070.0\n",
       "4        Neha       Rao   GR1   MUMBAI  19235  15200.0\n",
       "2      Rajesh     Kolte   GR1   MUMBAI  19250  14960.0\n",
       "8       Sneha     Joshi   GR1    DELHI  20660      NaN\n",
       "6       Aaron     Jones   GR1   MUMBAI  23280  13490.0\n",
       "11       Anup      Save   GR2   MUMBAI  11960   7880.0\n",
       "1      Agatha  Williams   GR2   MUMBAI  12390   6630.0\n",
       "5       Sagar    Chavan   GR2   MUMBAI  13390   6700.0\n",
       "7        John     Patil   GR2   MUMBAI  13500  10760.0\n",
       "10      Adela    Thomas   GR2    DELHI  13660   6840.0"
      ]
     },
     "execution_count": 19,
     "metadata": {},
     "output_type": "execute_result"
    }
   ],
   "source": [
    "# Sorting Data by Multiple Variables\n",
    "# Sort salary_data by Grade and ba\n",
    "grba_sorted=salary_data.sort_values(by=['Grade','ba'])\n",
    "grba_sorted.head(10)"
   ]
  },
  {
   "cell_type": "code",
   "execution_count": 20,
   "metadata": {},
   "outputs": [
    {
     "data": {
      "application/vnd.microsoft.datawrangler.viewer.v0+json": {
       "columns": [
        {
         "name": "index",
         "rawType": "int64",
         "type": "integer"
        },
        {
         "name": "First_Name",
         "rawType": "object",
         "type": "string"
        },
        {
         "name": "Last_Name",
         "rawType": "object",
         "type": "string"
        },
        {
         "name": "Grade",
         "rawType": "object",
         "type": "string"
        },
        {
         "name": "Location",
         "rawType": "object",
         "type": "string"
        },
        {
         "name": "ba",
         "rawType": "int64",
         "type": "integer"
        },
        {
         "name": "ms",
         "rawType": "float64",
         "type": "float"
        }
       ],
       "conversionMethod": "pd.DataFrame",
       "ref": "d0a72d03-bf57-4177-af2e-212f9c0c6d8d",
       "rows": [
        [
         "1",
         "Agatha",
         "Williams",
         "GR2",
         "MUMBAI",
         "12390",
         "6630.0"
        ],
        [
         "5",
         "Sagar",
         "Chavan",
         "GR2",
         "MUMBAI",
         "13390",
         "6700.0"
        ],
        [
         "10",
         "Adela",
         "Thomas",
         "GR2",
         "DELHI",
         "13660",
         "6840.0"
        ],
        [
         "11",
         "Anup",
         "Save",
         "GR2",
         "MUMBAI",
         "11960",
         "7880.0"
        ],
        [
         "3",
         "Ameet",
         "Mishra",
         "GR2",
         "DELHI",
         "14780",
         "9300.0"
        ],
        [
         "7",
         "John",
         "Patil",
         "GR2",
         "MUMBAI",
         "13500",
         "10760.0"
        ],
        [
         "9",
         "Gaurav",
         "Singh",
         "GR2",
         "DELHI",
         "13760",
         "13220.0"
        ],
        [
         "6",
         "Aaron",
         "Jones",
         "GR1",
         "MUMBAI",
         "23280",
         "13490.0"
        ],
        [
         "2",
         "Rajesh",
         "Kolte",
         "GR1",
         "MUMBAI",
         "19250",
         "14960.0"
        ],
        [
         "4",
         "Neha",
         "Rao",
         "GR1",
         "MUMBAI",
         "19235",
         "15200.0"
        ]
       ],
       "shape": {
        "columns": 6,
        "rows": 10
       }
      },
      "text/html": [
       "<div>\n",
       "<style scoped>\n",
       "    .dataframe tbody tr th:only-of-type {\n",
       "        vertical-align: middle;\n",
       "    }\n",
       "\n",
       "    .dataframe tbody tr th {\n",
       "        vertical-align: top;\n",
       "    }\n",
       "\n",
       "    .dataframe thead th {\n",
       "        text-align: right;\n",
       "    }\n",
       "</style>\n",
       "<table border=\"1\" class=\"dataframe\">\n",
       "  <thead>\n",
       "    <tr style=\"text-align: right;\">\n",
       "      <th></th>\n",
       "      <th>First_Name</th>\n",
       "      <th>Last_Name</th>\n",
       "      <th>Grade</th>\n",
       "      <th>Location</th>\n",
       "      <th>ba</th>\n",
       "      <th>ms</th>\n",
       "    </tr>\n",
       "  </thead>\n",
       "  <tbody>\n",
       "    <tr>\n",
       "      <th>1</th>\n",
       "      <td>Agatha</td>\n",
       "      <td>Williams</td>\n",
       "      <td>GR2</td>\n",
       "      <td>MUMBAI</td>\n",
       "      <td>12390</td>\n",
       "      <td>6630.0</td>\n",
       "    </tr>\n",
       "    <tr>\n",
       "      <th>5</th>\n",
       "      <td>Sagar</td>\n",
       "      <td>Chavan</td>\n",
       "      <td>GR2</td>\n",
       "      <td>MUMBAI</td>\n",
       "      <td>13390</td>\n",
       "      <td>6700.0</td>\n",
       "    </tr>\n",
       "    <tr>\n",
       "      <th>10</th>\n",
       "      <td>Adela</td>\n",
       "      <td>Thomas</td>\n",
       "      <td>GR2</td>\n",
       "      <td>DELHI</td>\n",
       "      <td>13660</td>\n",
       "      <td>6840.0</td>\n",
       "    </tr>\n",
       "    <tr>\n",
       "      <th>11</th>\n",
       "      <td>Anup</td>\n",
       "      <td>Save</td>\n",
       "      <td>GR2</td>\n",
       "      <td>MUMBAI</td>\n",
       "      <td>11960</td>\n",
       "      <td>7880.0</td>\n",
       "    </tr>\n",
       "    <tr>\n",
       "      <th>3</th>\n",
       "      <td>Ameet</td>\n",
       "      <td>Mishra</td>\n",
       "      <td>GR2</td>\n",
       "      <td>DELHI</td>\n",
       "      <td>14780</td>\n",
       "      <td>9300.0</td>\n",
       "    </tr>\n",
       "    <tr>\n",
       "      <th>7</th>\n",
       "      <td>John</td>\n",
       "      <td>Patil</td>\n",
       "      <td>GR2</td>\n",
       "      <td>MUMBAI</td>\n",
       "      <td>13500</td>\n",
       "      <td>10760.0</td>\n",
       "    </tr>\n",
       "    <tr>\n",
       "      <th>9</th>\n",
       "      <td>Gaurav</td>\n",
       "      <td>Singh</td>\n",
       "      <td>GR2</td>\n",
       "      <td>DELHI</td>\n",
       "      <td>13760</td>\n",
       "      <td>13220.0</td>\n",
       "    </tr>\n",
       "    <tr>\n",
       "      <th>6</th>\n",
       "      <td>Aaron</td>\n",
       "      <td>Jones</td>\n",
       "      <td>GR1</td>\n",
       "      <td>MUMBAI</td>\n",
       "      <td>23280</td>\n",
       "      <td>13490.0</td>\n",
       "    </tr>\n",
       "    <tr>\n",
       "      <th>2</th>\n",
       "      <td>Rajesh</td>\n",
       "      <td>Kolte</td>\n",
       "      <td>GR1</td>\n",
       "      <td>MUMBAI</td>\n",
       "      <td>19250</td>\n",
       "      <td>14960.0</td>\n",
       "    </tr>\n",
       "    <tr>\n",
       "      <th>4</th>\n",
       "      <td>Neha</td>\n",
       "      <td>Rao</td>\n",
       "      <td>GR1</td>\n",
       "      <td>MUMBAI</td>\n",
       "      <td>19235</td>\n",
       "      <td>15200.0</td>\n",
       "    </tr>\n",
       "  </tbody>\n",
       "</table>\n",
       "</div>"
      ],
      "text/plain": [
       "   First_Name Last_Name Grade Location     ba       ms\n",
       "1      Agatha  Williams   GR2   MUMBAI  12390   6630.0\n",
       "5       Sagar    Chavan   GR2   MUMBAI  13390   6700.0\n",
       "10      Adela    Thomas   GR2    DELHI  13660   6840.0\n",
       "11       Anup      Save   GR2   MUMBAI  11960   7880.0\n",
       "3       Ameet    Mishra   GR2    DELHI  14780   9300.0\n",
       "7        John     Patil   GR2   MUMBAI  13500  10760.0\n",
       "9      Gaurav     Singh   GR2    DELHI  13760  13220.0\n",
       "6       Aaron     Jones   GR1   MUMBAI  23280  13490.0\n",
       "2      Rajesh     Kolte   GR1   MUMBAI  19250  14960.0\n",
       "4        Neha       Rao   GR1   MUMBAI  19235  15200.0"
      ]
     },
     "execution_count": 20,
     "metadata": {},
     "output_type": "execute_result"
    }
   ],
   "source": [
    "# Multiple Variables & Multiple Ordering Levels\n",
    "# # Sort salary_data by Grade in Descending order and then by ms in Ascending order \n",
    "\n",
    "grms_sorted=salary_data.sort_values(by=['Grade','ms'],\n",
    " ascending=[0,1])\n",
    "grms_sorted.head(10)"
   ]
  },
  {
   "cell_type": "markdown",
   "metadata": {},
   "source": [
    "# Merging/Appending and Aggregating data"
   ]
  },
  {
   "cell_type": "code",
   "execution_count": 21,
   "metadata": {},
   "outputs": [],
   "source": [
    "sal_data = pd.read_csv(\"sal_data.csv\")\n",
    "bonus_data = pd.read_csv(\"bonus_data.csv\")"
   ]
  },
  {
   "cell_type": "code",
   "execution_count": 25,
   "metadata": {},
   "outputs": [
    {
     "data": {
      "application/vnd.microsoft.datawrangler.viewer.v0+json": {
       "columns": [
        {
         "name": "index",
         "rawType": "int64",
         "type": "integer"
        },
        {
         "name": "Employee_ID",
         "rawType": "object",
         "type": "string"
        },
        {
         "name": "Bonus",
         "rawType": "int64",
         "type": "integer"
        }
       ],
       "conversionMethod": "pd.DataFrame",
       "ref": "cf567baa-b181-4d22-85dc-6185a03148d4",
       "rows": [
        [
         "0",
         "E-1001",
         "12050"
        ],
        [
         "1",
         "E-1003",
         "11400"
        ],
        [
         "2",
         "E-1004",
         "10110"
        ],
        [
         "3",
         "E-1006",
         "10650"
        ],
        [
         "4",
         "E-1008",
         "11910"
        ]
       ],
       "shape": {
        "columns": 2,
        "rows": 5
       }
      },
      "text/html": [
       "<div>\n",
       "<style scoped>\n",
       "    .dataframe tbody tr th:only-of-type {\n",
       "        vertical-align: middle;\n",
       "    }\n",
       "\n",
       "    .dataframe tbody tr th {\n",
       "        vertical-align: top;\n",
       "    }\n",
       "\n",
       "    .dataframe thead th {\n",
       "        text-align: right;\n",
       "    }\n",
       "</style>\n",
       "<table border=\"1\" class=\"dataframe\">\n",
       "  <thead>\n",
       "    <tr style=\"text-align: right;\">\n",
       "      <th></th>\n",
       "      <th>Employee_ID</th>\n",
       "      <th>Bonus</th>\n",
       "    </tr>\n",
       "  </thead>\n",
       "  <tbody>\n",
       "    <tr>\n",
       "      <th>0</th>\n",
       "      <td>E-1001</td>\n",
       "      <td>12050</td>\n",
       "    </tr>\n",
       "    <tr>\n",
       "      <th>1</th>\n",
       "      <td>E-1003</td>\n",
       "      <td>11400</td>\n",
       "    </tr>\n",
       "    <tr>\n",
       "      <th>2</th>\n",
       "      <td>E-1004</td>\n",
       "      <td>10110</td>\n",
       "    </tr>\n",
       "    <tr>\n",
       "      <th>3</th>\n",
       "      <td>E-1006</td>\n",
       "      <td>10650</td>\n",
       "    </tr>\n",
       "    <tr>\n",
       "      <th>4</th>\n",
       "      <td>E-1008</td>\n",
       "      <td>11910</td>\n",
       "    </tr>\n",
       "  </tbody>\n",
       "</table>\n",
       "</div>"
      ],
      "text/plain": [
       "  Employee_ID  Bonus\n",
       "0      E-1001  12050\n",
       "1      E-1003  11400\n",
       "2      E-1004  10110\n",
       "3      E-1006  10650\n",
       "4      E-1008  11910"
      ]
     },
     "execution_count": 25,
     "metadata": {},
     "output_type": "execute_result"
    }
   ],
   "source": [
    "sal_data.head()\n",
    "bonus_data.head()   "
   ]
  },
  {
   "cell_type": "code",
   "execution_count": 26,
   "metadata": {},
   "outputs": [
    {
     "name": "stdout",
     "output_type": "stream",
     "text": [
      "  Employee_ID First_Name Last_Name  Basic_Salary    Bonus\n",
      "0      E-1001     Mahesh     Joshi         16070  12050.0\n",
      "1      E-1002     Rajesh     Kolte         14960      NaN\n",
      "2      E-1004      Priya      Jain         13490  10110.0\n",
      "3      E-1005      Sneha     Joshi         15660      NaN\n",
      "4      E-1007        Ram    Kanade         15850      NaN\n",
      "5      E-1008      Nishi    Honrao         15880  11910.0\n",
      "6      E-1009     Hameed     Singh         15120      NaN\n",
      "  Employee_ID First_Name Last_Name  Basic_Salary    Bonus\n",
      "0      E-1001     Mahesh     Joshi         16070  12050.0\n",
      "1      E-1002     Rajesh     Kolte         14960      NaN\n",
      "2      E-1004      Priya      Jain         13490  10110.0\n",
      "3      E-1005      Sneha     Joshi         15660      NaN\n",
      "4      E-1007        Ram    Kanade         15850      NaN\n",
      "5      E-1008      Nishi    Honrao         15880  11910.0\n",
      "6      E-1009     Hameed     Singh         15120      NaN\n"
     ]
    }
   ],
   "source": [
    "# Display all the information(including bonus) of Employees from sal_data\n",
    "leftjoin=pd.merge(sal_data,bonus_data,how='left')\n",
    "print(leftjoin)\n",
    "\n",
    "# Option 2\n",
    "leftjoin_2=sal_data.merge(bonus_data,how='left')    \n",
    "print(leftjoin_2)\n",
    "\n"
   ]
  },
  {
   "cell_type": "code",
   "execution_count": 27,
   "metadata": {},
   "outputs": [
    {
     "name": "stdout",
     "output_type": "stream",
     "text": [
      "  Employee_ID First_Name Last_Name  Basic_Salary  Bonus\n",
      "0      E-1001     Mahesh     Joshi       16070.0  12050\n",
      "1      E-1003        NaN       NaN           NaN  11400\n",
      "2      E-1004      Priya      Jain       13490.0  10110\n",
      "3      E-1006        NaN       NaN           NaN  10650\n",
      "4      E-1008      Nishi    Honrao       15880.0  11910\n",
      "5      E-1010        NaN       NaN           NaN  11340\n",
      "  Employee_ID First_Name Last_Name  Basic_Salary    Bonus\n",
      "0      E-1001     Mahesh     Joshi         16070  12050.0\n",
      "1      E-1002     Rajesh     Kolte         14960      NaN\n",
      "2      E-1004      Priya      Jain         13490  10110.0\n",
      "3      E-1005      Sneha     Joshi         15660      NaN\n",
      "4      E-1007        Ram    Kanade         15850      NaN\n",
      "5      E-1008      Nishi    Honrao         15880  11910.0\n",
      "6      E-1009     Hameed     Singh         15120      NaN\n"
     ]
    }
   ],
   "source": [
    "# Display all the information(including bonus) of Employees from sal_data\n",
    "rightjoin=pd.merge(sal_data,bonus_data,how='right')\n",
    "print(rightjoin)\n",
    "\n",
    "# Option 2\n",
    "rightjoin_2=sal_data.merge(bonus_data,how='right')    \n",
    "print(leftjoin_2)"
   ]
  },
  {
   "cell_type": "code",
   "execution_count": 29,
   "metadata": {},
   "outputs": [
    {
     "name": "stdout",
     "output_type": "stream",
     "text": [
      "  Employee_ID First_Name Last_Name  Basic_Salary  Bonus\n",
      "0      E-1001     Mahesh     Joshi         16070  12050\n",
      "1      E-1004      Priya      Jain         13490  10110\n",
      "2      E-1008      Nishi    Honrao         15880  11910\n"
     ]
    }
   ],
   "source": [
    "# Inner join\n",
    "innerjoin=pd.merge(sal_data,bonus_data, on = 'Employee_ID')\n",
    "print(innerjoin)"
   ]
  },
  {
   "cell_type": "code",
   "execution_count": 30,
   "metadata": {},
   "outputs": [],
   "source": [
    "# Appending Data\n",
    "Ba_Sal_1 = pd.read_csv(\"basic_salary_1.csv\")\n",
    "Ba_Sal_2 = pd.read_csv(\"basic_salary_2.csv\")"
   ]
  },
  {
   "cell_type": "code",
   "execution_count": 32,
   "metadata": {},
   "outputs": [
    {
     "name": "stdout",
     "output_type": "stream",
     "text": [
      "   First_Name Last_Name Grade Location     ba       ms\n",
      "0        Alan     Brown   GR1    DELHI  17990  16070.0\n",
      "1      Agatha  Williams   GR2   MUMBAI  12390   6630.0\n",
      "2      Rajesh     Kolte   GR1   MUMBAI  19250  14960.0\n",
      "3       Ameet    Mishra   GR2    DELHI  14780   9300.0\n",
      "4        Neha       Rao   GR1   MUMBAI  19235  15200.0\n",
      "5       Sagar    Chavan   GR2   MUMBAI  13390   6700.0\n",
      "6       Aaron     Jones   GR1   MUMBAI  23280  13490.0\n",
      "7        John     Patil   GR2   MUMBAI  13500  10760.0\n",
      "8       Sneha     Joshi   GR1    DELHI  20660      NaN\n",
      "9      Gaurav     Singh   GR2    DELHI  13760  13220.0\n",
      "10      Adela    Thomas   GR2    DELHI  13660   6840.0\n",
      "11       Anup      Save   GR2   MUMBAI  11960   7880.0\n"
     ]
    }
   ],
   "source": [
    "frames=[Ba_Sal_1,Ba_Sal_2]\n",
    "appendsalary=pd.concat(frames, ignore_index=True)\n",
    "print(appendsalary)\n",
    "\n"
   ]
  },
  {
   "cell_type": "code",
   "execution_count": 33,
   "metadata": {},
   "outputs": [],
   "source": [
    "# Aggregation\n",
    "\n",
    "Sal_Data = pd.read_csv(\"basic_salary.csv\")"
   ]
  },
  {
   "cell_type": "code",
   "execution_count": 34,
   "metadata": {},
   "outputs": [
    {
     "data": {
      "application/vnd.microsoft.datawrangler.viewer.v0+json": {
       "columns": [
        {
         "name": "index",
         "rawType": "int64",
         "type": "integer"
        },
        {
         "name": "First_Name",
         "rawType": "object",
         "type": "string"
        },
        {
         "name": "Last_Name",
         "rawType": "object",
         "type": "string"
        },
        {
         "name": "Grade",
         "rawType": "object",
         "type": "string"
        },
        {
         "name": "Location",
         "rawType": "object",
         "type": "string"
        },
        {
         "name": "ba",
         "rawType": "int64",
         "type": "integer"
        },
        {
         "name": "ms",
         "rawType": "float64",
         "type": "float"
        }
       ],
       "conversionMethod": "pd.DataFrame",
       "ref": "53b0cc1d-48ba-4130-a023-ecfcfb179627",
       "rows": [
        [
         "0",
         "Alan",
         "Brown",
         "GR1",
         "DELHI",
         "17990",
         "16070.0"
        ],
        [
         "1",
         "Agatha",
         "Williams",
         "GR2",
         "MUMBAI",
         "12390",
         "6630.0"
        ],
        [
         "2",
         "Rajesh",
         "Kolte",
         "GR1",
         "MUMBAI",
         "19250",
         "14960.0"
        ],
        [
         "3",
         "Ameet",
         "Mishra",
         "GR2",
         "DELHI",
         "14780",
         "9300.0"
        ],
        [
         "4",
         "Neha",
         "Rao",
         "GR1",
         "MUMBAI",
         "19235",
         "15200.0"
        ],
        [
         "5",
         "Sagar",
         "Chavan",
         "GR2",
         "MUMBAI",
         "13390",
         "6700.0"
        ],
        [
         "6",
         "Aaron",
         "Jones",
         "GR1",
         "MUMBAI",
         "23280",
         "13490.0"
        ],
        [
         "7",
         "John",
         "Patil",
         "GR2",
         "MUMBAI",
         "13500",
         "10760.0"
        ],
        [
         "8",
         "Sneha",
         "Joshi",
         "GR1",
         "DELHI",
         "20660",
         null
        ],
        [
         "9",
         "Gaurav",
         "Singh",
         "GR2",
         "DELHI",
         "13760",
         "13220.0"
        ]
       ],
       "shape": {
        "columns": 6,
        "rows": 10
       }
      },
      "text/html": [
       "<div>\n",
       "<style scoped>\n",
       "    .dataframe tbody tr th:only-of-type {\n",
       "        vertical-align: middle;\n",
       "    }\n",
       "\n",
       "    .dataframe tbody tr th {\n",
       "        vertical-align: top;\n",
       "    }\n",
       "\n",
       "    .dataframe thead th {\n",
       "        text-align: right;\n",
       "    }\n",
       "</style>\n",
       "<table border=\"1\" class=\"dataframe\">\n",
       "  <thead>\n",
       "    <tr style=\"text-align: right;\">\n",
       "      <th></th>\n",
       "      <th>First_Name</th>\n",
       "      <th>Last_Name</th>\n",
       "      <th>Grade</th>\n",
       "      <th>Location</th>\n",
       "      <th>ba</th>\n",
       "      <th>ms</th>\n",
       "    </tr>\n",
       "  </thead>\n",
       "  <tbody>\n",
       "    <tr>\n",
       "      <th>0</th>\n",
       "      <td>Alan</td>\n",
       "      <td>Brown</td>\n",
       "      <td>GR1</td>\n",
       "      <td>DELHI</td>\n",
       "      <td>17990</td>\n",
       "      <td>16070.0</td>\n",
       "    </tr>\n",
       "    <tr>\n",
       "      <th>1</th>\n",
       "      <td>Agatha</td>\n",
       "      <td>Williams</td>\n",
       "      <td>GR2</td>\n",
       "      <td>MUMBAI</td>\n",
       "      <td>12390</td>\n",
       "      <td>6630.0</td>\n",
       "    </tr>\n",
       "    <tr>\n",
       "      <th>2</th>\n",
       "      <td>Rajesh</td>\n",
       "      <td>Kolte</td>\n",
       "      <td>GR1</td>\n",
       "      <td>MUMBAI</td>\n",
       "      <td>19250</td>\n",
       "      <td>14960.0</td>\n",
       "    </tr>\n",
       "    <tr>\n",
       "      <th>3</th>\n",
       "      <td>Ameet</td>\n",
       "      <td>Mishra</td>\n",
       "      <td>GR2</td>\n",
       "      <td>DELHI</td>\n",
       "      <td>14780</td>\n",
       "      <td>9300.0</td>\n",
       "    </tr>\n",
       "    <tr>\n",
       "      <th>4</th>\n",
       "      <td>Neha</td>\n",
       "      <td>Rao</td>\n",
       "      <td>GR1</td>\n",
       "      <td>MUMBAI</td>\n",
       "      <td>19235</td>\n",
       "      <td>15200.0</td>\n",
       "    </tr>\n",
       "    <tr>\n",
       "      <th>5</th>\n",
       "      <td>Sagar</td>\n",
       "      <td>Chavan</td>\n",
       "      <td>GR2</td>\n",
       "      <td>MUMBAI</td>\n",
       "      <td>13390</td>\n",
       "      <td>6700.0</td>\n",
       "    </tr>\n",
       "    <tr>\n",
       "      <th>6</th>\n",
       "      <td>Aaron</td>\n",
       "      <td>Jones</td>\n",
       "      <td>GR1</td>\n",
       "      <td>MUMBAI</td>\n",
       "      <td>23280</td>\n",
       "      <td>13490.0</td>\n",
       "    </tr>\n",
       "    <tr>\n",
       "      <th>7</th>\n",
       "      <td>John</td>\n",
       "      <td>Patil</td>\n",
       "      <td>GR2</td>\n",
       "      <td>MUMBAI</td>\n",
       "      <td>13500</td>\n",
       "      <td>10760.0</td>\n",
       "    </tr>\n",
       "    <tr>\n",
       "      <th>8</th>\n",
       "      <td>Sneha</td>\n",
       "      <td>Joshi</td>\n",
       "      <td>GR1</td>\n",
       "      <td>DELHI</td>\n",
       "      <td>20660</td>\n",
       "      <td>NaN</td>\n",
       "    </tr>\n",
       "    <tr>\n",
       "      <th>9</th>\n",
       "      <td>Gaurav</td>\n",
       "      <td>Singh</td>\n",
       "      <td>GR2</td>\n",
       "      <td>DELHI</td>\n",
       "      <td>13760</td>\n",
       "      <td>13220.0</td>\n",
       "    </tr>\n",
       "  </tbody>\n",
       "</table>\n",
       "</div>"
      ],
      "text/plain": [
       "  First_Name Last_Name Grade Location     ba       ms\n",
       "0       Alan     Brown   GR1    DELHI  17990  16070.0\n",
       "1     Agatha  Williams   GR2   MUMBAI  12390   6630.0\n",
       "2     Rajesh     Kolte   GR1   MUMBAI  19250  14960.0\n",
       "3      Ameet    Mishra   GR2    DELHI  14780   9300.0\n",
       "4       Neha       Rao   GR1   MUMBAI  19235  15200.0\n",
       "5      Sagar    Chavan   GR2   MUMBAI  13390   6700.0\n",
       "6      Aaron     Jones   GR1   MUMBAI  23280  13490.0\n",
       "7       John     Patil   GR2   MUMBAI  13500  10760.0\n",
       "8      Sneha     Joshi   GR1    DELHI  20660      NaN\n",
       "9     Gaurav     Singh   GR2    DELHI  13760  13220.0"
      ]
     },
     "execution_count": 34,
     "metadata": {},
     "output_type": "execute_result"
    }
   ],
   "source": [
    "Sal_Data.head(10)"
   ]
  },
  {
   "cell_type": "code",
   "execution_count": 38,
   "metadata": {},
   "outputs": [
    {
     "name": "stdout",
     "output_type": "stream",
     "text": [
      "              ba       ms\n",
      "Location                 \n",
      "DELHI      80850  45430.0\n",
      "MUMBAI    113005  75620.0\n"
     ]
    }
   ],
   "source": [
    "# Calculate sum of variables 'ba' and 'ms' by variables 'Location'\n",
    "# In this example we are giving multiple variables and one factor\n",
    "\n",
    "B=Sal_Data.groupby('Location').agg({'ba':'sum','ms':'sum'})\n",
    "print(B)\n"
   ]
  }
 ],
 "metadata": {
  "kernelspec": {
   "display_name": "base",
   "language": "python",
   "name": "python3"
  },
  "language_info": {
   "codemirror_mode": {
    "name": "ipython",
    "version": 3
   },
   "file_extension": ".py",
   "mimetype": "text/x-python",
   "name": "python",
   "nbconvert_exporter": "python",
   "pygments_lexer": "ipython3",
   "version": "3.12.7"
  }
 },
 "nbformat": 4,
 "nbformat_minor": 2
}
