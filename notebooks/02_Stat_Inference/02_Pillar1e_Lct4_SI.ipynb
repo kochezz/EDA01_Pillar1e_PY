{
 "cells": [
  {
   "cell_type": "markdown",
   "metadata": {},
   "source": [
    "# Module 2 Statistical Inference"
   ]
  },
  {
   "cell_type": "markdown",
   "metadata": {},
   "source": [
    "Lecture 1"
   ]
  },
  {
   "cell_type": "code",
   "execution_count": 7,
   "metadata": {},
   "outputs": [],
   "source": [
    "# Import Libraries\n",
    "\n",
    "import pandas as pd\n",
    "import numpy as np\n",
    "import matplotlib.pyplot as plt\n",
    "import seaborn as sns\n",
    "import statsmodels.api as sm\n",
    "import scipy as sp\n",
    "import os\n",
    "os.chdir(r\"C:\\Users\\willi\\OneDrive\\Documents\\Woolf Institute Data Analytics\\Module 2 Statistical Inference\\Live Class Datasets\")"
   ]
  },
  {
   "cell_type": "code",
   "execution_count": 10,
   "metadata": {},
   "outputs": [
    {
     "name": "stdout",
     "output_type": "stream",
     "text": [
      "✅ Dataset Loaded Successfully\n"
     ]
    },
    {
     "data": {
      "application/vnd.microsoft.datawrangler.viewer.v0+json": {
       "columns": [
        {
         "name": "index",
         "rawType": "int64",
         "type": "integer"
        },
        {
         "name": "id",
         "rawType": "int64",
         "type": "integer"
        },
        {
         "name": "csi",
         "rawType": "float64",
         "type": "float"
        },
        {
         "name": "billamt",
         "rawType": "float64",
         "type": "float"
        }
       ],
       "conversionMethod": "pd.DataFrame",
       "ref": "59733032-287b-4f48-9414-e2aa1eaf19f7",
       "rows": [
        [
         "0",
         "1",
         "38.35",
         "34.85"
        ],
        [
         "1",
         "2",
         "47.02",
         "10.99"
        ],
        [
         "2",
         "3",
         "36.96",
         "24.73"
        ],
        [
         "3",
         "4",
         "43.07",
         "7.9"
        ],
        [
         "4",
         "5",
         "38.77",
         "9.38"
        ],
        [
         "5",
         "6",
         "63.04",
         "9.49"
        ],
        [
         "6",
         "7",
         "43.17",
         "19.58"
        ],
        [
         "7",
         "8",
         "35.14",
         "6.15"
        ],
        [
         "8",
         "9",
         "38.33",
         "13.29"
        ],
        [
         "9",
         "10",
         "38.7",
         "9.62"
        ]
       ],
       "shape": {
        "columns": 3,
        "rows": 10
       }
      },
      "text/html": [
       "<div>\n",
       "<style scoped>\n",
       "    .dataframe tbody tr th:only-of-type {\n",
       "        vertical-align: middle;\n",
       "    }\n",
       "\n",
       "    .dataframe tbody tr th {\n",
       "        vertical-align: top;\n",
       "    }\n",
       "\n",
       "    .dataframe thead th {\n",
       "        text-align: right;\n",
       "    }\n",
       "</style>\n",
       "<table border=\"1\" class=\"dataframe\">\n",
       "  <thead>\n",
       "    <tr style=\"text-align: right;\">\n",
       "      <th></th>\n",
       "      <th>id</th>\n",
       "      <th>csi</th>\n",
       "      <th>billamt</th>\n",
       "    </tr>\n",
       "  </thead>\n",
       "  <tbody>\n",
       "    <tr>\n",
       "      <th>0</th>\n",
       "      <td>1</td>\n",
       "      <td>38.35</td>\n",
       "      <td>34.85</td>\n",
       "    </tr>\n",
       "    <tr>\n",
       "      <th>1</th>\n",
       "      <td>2</td>\n",
       "      <td>47.02</td>\n",
       "      <td>10.99</td>\n",
       "    </tr>\n",
       "    <tr>\n",
       "      <th>2</th>\n",
       "      <td>3</td>\n",
       "      <td>36.96</td>\n",
       "      <td>24.73</td>\n",
       "    </tr>\n",
       "    <tr>\n",
       "      <th>3</th>\n",
       "      <td>4</td>\n",
       "      <td>43.07</td>\n",
       "      <td>7.90</td>\n",
       "    </tr>\n",
       "    <tr>\n",
       "      <th>4</th>\n",
       "      <td>5</td>\n",
       "      <td>38.77</td>\n",
       "      <td>9.38</td>\n",
       "    </tr>\n",
       "    <tr>\n",
       "      <th>5</th>\n",
       "      <td>6</td>\n",
       "      <td>63.04</td>\n",
       "      <td>9.49</td>\n",
       "    </tr>\n",
       "    <tr>\n",
       "      <th>6</th>\n",
       "      <td>7</td>\n",
       "      <td>43.17</td>\n",
       "      <td>19.58</td>\n",
       "    </tr>\n",
       "    <tr>\n",
       "      <th>7</th>\n",
       "      <td>8</td>\n",
       "      <td>35.14</td>\n",
       "      <td>6.15</td>\n",
       "    </tr>\n",
       "    <tr>\n",
       "      <th>8</th>\n",
       "      <td>9</td>\n",
       "      <td>38.33</td>\n",
       "      <td>13.29</td>\n",
       "    </tr>\n",
       "    <tr>\n",
       "      <th>9</th>\n",
       "      <td>10</td>\n",
       "      <td>38.70</td>\n",
       "      <td>9.62</td>\n",
       "    </tr>\n",
       "  </tbody>\n",
       "</table>\n",
       "</div>"
      ],
      "text/plain": [
       "   id    csi  billamt\n",
       "0   1  38.35    34.85\n",
       "1   2  47.02    10.99\n",
       "2   3  36.96    24.73\n",
       "3   4  43.07     7.90\n",
       "4   5  38.77     9.38\n",
       "5   6  63.04     9.49\n",
       "6   7  43.17    19.58\n",
       "7   8  35.14     6.15\n",
       "8   9  38.33    13.29\n",
       "9  10  38.70     9.62"
      ]
     },
     "execution_count": 10,
     "metadata": {},
     "output_type": "execute_result"
    }
   ],
   "source": [
    "# Import Data\n",
    "SI_data = pd.read_csv(\"Normality Testing Data.csv\")\n",
    "print(\"✅ Dataset Loaded Successfully\")\n",
    "SI_data.head(10)"
   ]
  },
  {
   "cell_type": "code",
   "execution_count": 11,
   "metadata": {},
   "outputs": [
    {
     "data": {
      "image/png": "[encoded data removed]",
      "text/plain": [
       "<Figure size 640x480 with 1 Axes>"
      ]
     },
     "metadata": {},
     "output_type": "display_data"
    }
   ],
   "source": [
    "# QQ Plot\n",
    "sm.graphics.qqplot(SI_data.csi, line = '45', fit=True)\n",
    "plt.show()"
   ]
  },
  {
   "cell_type": "markdown",
   "metadata": {},
   "source": [
    "Q-Q plot is Linear. Distribution of ‘csi’ can be assumed to be normal."
   ]
  },
  {
   "cell_type": "code",
   "execution_count": 12,
   "metadata": {},
   "outputs": [
    {
     "data": {
      "image/png": "[encoded data removed]",
      "text/plain": [
       "<Figure size 640x480 with 1 Axes>"
      ]
     },
     "metadata": {},
     "output_type": "display_data"
    }
   ],
   "source": [
    "# QQ Plot for variable billamt\n",
    "sm.graphics.qqplot(SI_data.billamt, line = '45', fit=True)\n",
    "plt.show()"
   ]
  },
  {
   "cell_type": "markdown",
   "metadata": {},
   "source": [
    "Interpretation :\n",
    "Ø Q-Q plot is deviated from linearity. Distribution of ‘billamt’ appears to be non-normal."
   ]
  },
  {
   "cell_type": "markdown",
   "metadata": {},
   "source": [
    "# Shapiro- Wild Test"
   ]
  },
  {
   "cell_type": "code",
   "execution_count": 15,
   "metadata": {},
   "outputs": [
    {
     "data": {
      "text/plain": [
       "ShapiroResult(statistic=0.9919632319762892, pvalue=0.9037781337766784)"
      ]
     },
     "execution_count": 15,
     "metadata": {},
     "output_type": "execute_result"
    }
   ],
   "source": [
    "sp.stats.shapiro(SI_data.csi)\n"
   ]
  },
  {
   "cell_type": "code",
   "execution_count": 14,
   "metadata": {},
   "outputs": [
    {
     "data": {
      "text/plain": [
       "ShapiroResult(statistic=0.8903078303118495, pvalue=4.858490688716447e-06)"
      ]
     },
     "execution_count": 14,
     "metadata": {},
     "output_type": "execute_result"
    }
   ],
   "source": [
    "sp.stats.shapiro(SI_data.billamt)"
   ]
  },
  {
   "cell_type": "markdown",
   "metadata": {},
   "source": [
    "Test Statistic It correlates sample ordered values with expected Normal scores.\n",
    "(actual calculation is very complex so we will avoid details)"
   ]
  },
  {
   "cell_type": "markdown",
   "metadata": {},
   "source": [
    "Decision\n",
    "Criteria Reject the null hypothesis if p-value < 0.05\n"
   ]
  },
  {
   "cell_type": "markdown",
   "metadata": {},
   "source": [
    "# One sample t-test"
   ]
  },
  {
   "cell_type": "markdown",
   "metadata": {},
   "source": [
    "One sample t test is used to test the hypothesis about a single population mean.\n",
    "• We use one-sample t-test when we collect data on a single sample drawn from a defined\n",
    "population.\n",
    "• For this design, we have one group of subjects, collect data on these subjects and compare\n",
    "sample statistic to the hypothesized value of population parameter.\n",
    "• Subjects in the study can be patients, customers, retail stores etc."
   ]
  },
  {
   "cell_type": "code",
   "execution_count": 20,
   "metadata": {},
   "outputs": [
    {
     "name": "stdout",
     "output_type": "stream",
     "text": [
      "✅ Dataset Loaded Successfully\n"
     ]
    },
    {
     "data": {
      "application/vnd.microsoft.datawrangler.viewer.v0+json": {
       "columns": [
        {
         "name": "index",
         "rawType": "int64",
         "type": "integer"
        },
        {
         "name": "Time",
         "rawType": "int64",
         "type": "integer"
        }
       ],
       "conversionMethod": "pd.DataFrame",
       "ref": "871087d2-06bd-4e80-a72a-e0498cd6ac9d",
       "rows": [
        [
         "0",
         "85"
        ],
        [
         "1",
         "95"
        ],
        [
         "2",
         "105"
        ],
        [
         "3",
         "85"
        ],
        [
         "4",
         "90"
        ],
        [
         "5",
         "97"
        ],
        [
         "6",
         "104"
        ],
        [
         "7",
         "95"
        ],
        [
         "8",
         "88"
        ],
        [
         "9",
         "90"
        ]
       ],
       "shape": {
        "columns": 1,
        "rows": 10
       }
      },
      "text/html": [
       "<div>\n",
       "<style scoped>\n",
       "    .dataframe tbody tr th:only-of-type {\n",
       "        vertical-align: middle;\n",
       "    }\n",
       "\n",
       "    .dataframe tbody tr th {\n",
       "        vertical-align: top;\n",
       "    }\n",
       "\n",
       "    .dataframe thead th {\n",
       "        text-align: right;\n",
       "    }\n",
       "</style>\n",
       "<table border=\"1\" class=\"dataframe\">\n",
       "  <thead>\n",
       "    <tr style=\"text-align: right;\">\n",
       "      <th></th>\n",
       "      <th>Time</th>\n",
       "    </tr>\n",
       "  </thead>\n",
       "  <tbody>\n",
       "    <tr>\n",
       "      <th>0</th>\n",
       "      <td>85</td>\n",
       "    </tr>\n",
       "    <tr>\n",
       "      <th>1</th>\n",
       "      <td>95</td>\n",
       "    </tr>\n",
       "    <tr>\n",
       "      <th>2</th>\n",
       "      <td>105</td>\n",
       "    </tr>\n",
       "    <tr>\n",
       "      <th>3</th>\n",
       "      <td>85</td>\n",
       "    </tr>\n",
       "    <tr>\n",
       "      <th>4</th>\n",
       "      <td>90</td>\n",
       "    </tr>\n",
       "    <tr>\n",
       "      <th>5</th>\n",
       "      <td>97</td>\n",
       "    </tr>\n",
       "    <tr>\n",
       "      <th>6</th>\n",
       "      <td>104</td>\n",
       "    </tr>\n",
       "    <tr>\n",
       "      <th>7</th>\n",
       "      <td>95</td>\n",
       "    </tr>\n",
       "    <tr>\n",
       "      <th>8</th>\n",
       "      <td>88</td>\n",
       "    </tr>\n",
       "    <tr>\n",
       "      <th>9</th>\n",
       "      <td>90</td>\n",
       "    </tr>\n",
       "  </tbody>\n",
       "</table>\n",
       "</div>"
      ],
      "text/plain": [
       "   Time\n",
       "0    85\n",
       "1    95\n",
       "2   105\n",
       "3    85\n",
       "4    90\n",
       "5    97\n",
       "6   104\n",
       "7    95\n",
       "8    88\n",
       "9    90"
      ]
     },
     "execution_count": 20,
     "metadata": {},
     "output_type": "execute_result"
    }
   ],
   "source": [
    "SI_data2 = pd.read_csv(\"ONE SAMPLE t TEST.csv\")\n",
    "print(\"✅ Dataset Loaded Successfully\")\n",
    "SI_data2.head(10)"
   ]
  },
  {
   "cell_type": "code",
   "execution_count": 29,
   "metadata": {},
   "outputs": [
    {
     "name": "stdout",
     "output_type": "stream",
     "text": [
      "1-Sample T-Test\n",
      "T-statistic: 1.918\n",
      "P-value: 0.041\n",
      "Degrees of Freedom: 11\n"
     ]
    }
   ],
   "source": [
    "# t-test for One Sample\n",
    "\n",
    "ttest_1sample = sp.stats.ttest_1samp(SI_data2.Time, popmean=90,alternative='greater')\n",
    "\n",
    "df = len(SI_data2.Time)-1\n",
    "\n",
    "print(f\"1-Sample T-Test\\n\"\n",
    "      f\"T-statistic: {ttest_1sample.statistic:.3f}\\n\"\n",
    "      f\"P-value: {ttest_1sample.pvalue:.3f}\\n\"\n",
    "      f\"Degrees of Freedom: {df}\")"
   ]
  }
 ],
 "metadata": {
  "kernelspec": {
   "display_name": "base",
   "language": "python",
   "name": "python3"
  },
  "language_info": {
   "codemirror_mode": {
    "name": "ipython",
    "version": 3
   },
   "file_extension": ".py",
   "mimetype": "text/x-python",
   "name": "python",
   "nbconvert_exporter": "python",
   "pygments_lexer": "ipython3",
   "version": "3.12.7"
  }
 },
 "nbformat": 4,
 "nbformat_minor": 2
}
