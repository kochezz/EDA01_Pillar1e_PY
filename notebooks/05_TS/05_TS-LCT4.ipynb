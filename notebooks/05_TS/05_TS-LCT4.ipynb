{
 "cells": [
  {
   "cell_type": "code",
   "execution_count": null,
   "id": "1175aa50",
   "metadata": {},
   "outputs": [],
   "source": []
  },
  {
   "cell_type": "code",
   "execution_count": 19,
   "id": "add6ee0b",
   "metadata": {},
   "outputs": [],
   "source": [
    "import pandas as pd\n",
    "import numpy as np\n",
    "import matplotlib.pyplot as plt\n",
    "import statsmodels.formula.api as smf\n",
    "from statsmodels.stats.stattools import durbin_watson\n",
    "import statsmodels.api as sm\n",
    "from sklearn.preprocessing import StandardScaler\n",
    "import warnings\n",
    "warnings.filterwarnings(\"ignore\", category=FutureWarning)\n",
    "\n",
    "import os\n",
    "os.chdir(r\"C:\\Users\\willi\\OneDrive\\Documents\\Woolf Institute Data Analytics\\Module 5 Time Series Analysis\\04 Live Data Sets\")"
   ]
  },
  {
   "cell_type": "code",
   "execution_count": 3,
   "id": "8c0d2308",
   "metadata": {},
   "outputs": [
    {
     "name": "stdout",
     "output_type": "stream",
     "text": [
      "✅ Dataset Loaded Successfully\n",
      "   Time period  Sales  Base_Price  Radio  InStore          TV\n",
      "0            1  19564   15.029276  245.0   15.452  101.780000\n",
      "1            2  19387   15.029276  314.0   16.388   76.734000\n",
      "2            3  23889   14.585093  324.0   62.692  131.590200\n",
      "3            4  20055   15.332887  298.0   16.573  119.627060\n",
      "4            5  20064   15.642632  279.0   41.504  103.438118\n"
     ]
    }
   ],
   "source": [
    "# Read in the data\n",
    "mktmix = pd.read_csv(\"mktmix.csv\")\n",
    "print(\"✅ Dataset Loaded Successfully\")\n",
    "print(mktmix.head())"
   ]
  },
  {
   "cell_type": "code",
   "execution_count": 6,
   "id": "9e761fc2",
   "metadata": {},
   "outputs": [],
   "source": [
    "#Formula\n",
    "formula = 'Sales ~ Base_Price + Radio  + InStore + TV'"
   ]
  },
  {
   "cell_type": "code",
   "execution_count": 7,
   "id": "294f1dc8",
   "metadata": {},
   "outputs": [
    {
     "data": {
      "text/html": [
       "<table class=\"simpletable\">\n",
       "<caption>OLS Regression Results</caption>\n",
       "<tr>\n",
       "  <th>Dep. Variable:</th>          <td>Sales</td>      <th>  R-squared:         </th> <td>   0.648</td>\n",
       "</tr>\n",
       "<tr>\n",
       "  <th>Model:</th>                   <td>OLS</td>       <th>  Adj. R-squared:    </th> <td>   0.633</td>\n",
       "</tr>\n",
       "<tr>\n",
       "  <th>Method:</th>             <td>Least Squares</td>  <th>  F-statistic:       </th> <td>   43.65</td>\n",
       "</tr>\n",
       "<tr>\n",
       "  <th>Date:</th>             <td>Sat, 14 Jun 2025</td> <th>  Prob (F-statistic):</th> <td>9.64e-21</td>\n",
       "</tr>\n",
       "<tr>\n",
       "  <th>Time:</th>                 <td>09:21:56</td>     <th>  Log-Likelihood:    </th> <td> -825.76</td>\n",
       "</tr>\n",
       "<tr>\n",
       "  <th>No. Observations:</th>      <td>   100</td>      <th>  AIC:               </th> <td>   1662.</td>\n",
       "</tr>\n",
       "<tr>\n",
       "  <th>Df Residuals:</th>          <td>    95</td>      <th>  BIC:               </th> <td>   1675.</td>\n",
       "</tr>\n",
       "<tr>\n",
       "  <th>Df Model:</th>              <td>     4</td>      <th>                     </th>     <td> </td>   \n",
       "</tr>\n",
       "<tr>\n",
       "  <th>Covariance Type:</th>      <td>nonrobust</td>    <th>                     </th>     <td> </td>   \n",
       "</tr>\n",
       "</table>\n",
       "<table class=\"simpletable\">\n",
       "<tr>\n",
       "       <td></td>         <th>coef</th>     <th>std err</th>      <th>t</th>      <th>P>|t|</th>  <th>[0.025</th>    <th>0.975]</th>  \n",
       "</tr>\n",
       "<tr>\n",
       "  <th>Intercept</th>  <td> 4.757e+04</td> <td> 3019.360</td> <td>   15.756</td> <td> 0.000</td> <td> 4.16e+04</td> <td> 5.36e+04</td>\n",
       "</tr>\n",
       "<tr>\n",
       "  <th>Base_Price</th> <td>-1952.5944</td> <td>  191.249</td> <td>  -10.210</td> <td> 0.000</td> <td>-2332.271</td> <td>-1572.918</td>\n",
       "</tr>\n",
       "<tr>\n",
       "  <th>Radio</th>      <td>    1.1928</td> <td>    1.109</td> <td>    1.076</td> <td> 0.285</td> <td>   -1.008</td> <td>    3.394</td>\n",
       "</tr>\n",
       "<tr>\n",
       "  <th>InStore</th>    <td>   35.0531</td> <td>    7.323</td> <td>    4.787</td> <td> 0.000</td> <td>   20.515</td> <td>   49.591</td>\n",
       "</tr>\n",
       "<tr>\n",
       "  <th>TV</th>         <td>    7.4444</td> <td>    2.217</td> <td>    3.357</td> <td> 0.001</td> <td>    3.042</td> <td>   11.847</td>\n",
       "</tr>\n",
       "</table>\n",
       "<table class=\"simpletable\">\n",
       "<tr>\n",
       "  <th>Omnibus:</th>       <td> 3.728</td> <th>  Durbin-Watson:     </th> <td>   0.898</td>\n",
       "</tr>\n",
       "<tr>\n",
       "  <th>Prob(Omnibus):</th> <td> 0.155</td> <th>  Jarque-Bera (JB):  </th> <td>   3.098</td>\n",
       "</tr>\n",
       "<tr>\n",
       "  <th>Skew:</th>          <td>-0.332</td> <th>  Prob(JB):          </th> <td>   0.212</td>\n",
       "</tr>\n",
       "<tr>\n",
       "  <th>Kurtosis:</th>      <td> 3.551</td> <th>  Cond. No.          </th> <td>9.63e+03</td>\n",
       "</tr>\n",
       "</table><br/><br/>Notes:<br/>[1] Standard Errors assume that the covariance matrix of the errors is correctly specified.<br/>[2] The condition number is large, 9.63e+03. This might indicate that there are<br/>strong multicollinearity or other numerical problems."
      ],
      "text/latex": [
       "\\begin{center}\n",
       "\\begin{tabular}{lclc}\n",
       "\\toprule\n",
       "\\textbf{Dep. Variable:}    &      Sales       & \\textbf{  R-squared:         } &     0.648   \\\\\n",
       "\\textbf{Model:}            &       OLS        & \\textbf{  Adj. R-squared:    } &     0.633   \\\\\n",
       "\\textbf{Method:}           &  Least Squares   & \\textbf{  F-statistic:       } &     43.65   \\\\\n",
       "\\textbf{Date:}             & Sat, 14 Jun 2025 & \\textbf{  Prob (F-statistic):} &  9.64e-21   \\\\\n",
       "\\textbf{Time:}             &     09:21:56     & \\textbf{  Log-Likelihood:    } &   -825.76   \\\\\n",
       "\\textbf{No. Observations:} &         100      & \\textbf{  AIC:               } &     1662.   \\\\\n",
       "\\textbf{Df Residuals:}     &          95      & \\textbf{  BIC:               } &     1675.   \\\\\n",
       "\\textbf{Df Model:}         &           4      & \\textbf{                     } &             \\\\\n",
       "\\textbf{Covariance Type:}  &    nonrobust     & \\textbf{                     } &             \\\\\n",
       "\\bottomrule\n",
       "\\end{tabular}\n",
       "\\begin{tabular}{lcccccc}\n",
       "                     & \\textbf{coef} & \\textbf{std err} & \\textbf{t} & \\textbf{P$> |$t$|$} & \\textbf{[0.025} & \\textbf{0.975]}  \\\\\n",
       "\\midrule\n",
       "\\textbf{Intercept}   &    4.757e+04  &     3019.360     &    15.756  &         0.000        &     4.16e+04    &     5.36e+04     \\\\\n",
       "\\textbf{Base\\_Price} &   -1952.5944  &      191.249     &   -10.210  &         0.000        &    -2332.271    &    -1572.918     \\\\\n",
       "\\textbf{Radio}       &       1.1928  &        1.109     &     1.076  &         0.285        &       -1.008    &        3.394     \\\\\n",
       "\\textbf{InStore}     &      35.0531  &        7.323     &     4.787  &         0.000        &       20.515    &       49.591     \\\\\n",
       "\\textbf{TV}          &       7.4444  &        2.217     &     3.357  &         0.001        &        3.042    &       11.847     \\\\\n",
       "\\bottomrule\n",
       "\\end{tabular}\n",
       "\\begin{tabular}{lclc}\n",
       "\\textbf{Omnibus:}       &  3.728 & \\textbf{  Durbin-Watson:     } &    0.898  \\\\\n",
       "\\textbf{Prob(Omnibus):} &  0.155 & \\textbf{  Jarque-Bera (JB):  } &    3.098  \\\\\n",
       "\\textbf{Skew:}          & -0.332 & \\textbf{  Prob(JB):          } &    0.212  \\\\\n",
       "\\textbf{Kurtosis:}      &  3.551 & \\textbf{  Cond. No.          } & 9.63e+03  \\\\\n",
       "\\bottomrule\n",
       "\\end{tabular}\n",
       "%\\caption{OLS Regression Results}\n",
       "\\end{center}\n",
       "\n",
       "Notes: \\newline\n",
       " [1] Standard Errors assume that the covariance matrix of the errors is correctly specified. \\newline\n",
       " [2] The condition number is large, 9.63e+03. This might indicate that there are \\newline\n",
       " strong multicollinearity or other numerical problems."
      ],
      "text/plain": [
       "<class 'statsmodels.iolib.summary.Summary'>\n",
       "\"\"\"\n",
       "                            OLS Regression Results                            \n",
       "==============================================================================\n",
       "Dep. Variable:                  Sales   R-squared:                       0.648\n",
       "Model:                            OLS   Adj. R-squared:                  0.633\n",
       "Method:                 Least Squares   F-statistic:                     43.65\n",
       "Date:                Sat, 14 Jun 2025   Prob (F-statistic):           9.64e-21\n",
       "Time:                        09:21:56   Log-Likelihood:                -825.76\n",
       "No. Observations:                 100   AIC:                             1662.\n",
       "Df Residuals:                      95   BIC:                             1675.\n",
       "Df Model:                           4                                         \n",
       "Covariance Type:            nonrobust                                         \n",
       "==============================================================================\n",
       "                 coef    std err          t      P>|t|      [0.025      0.975]\n",
       "------------------------------------------------------------------------------\n",
       "Intercept   4.757e+04   3019.360     15.756      0.000    4.16e+04    5.36e+04\n",
       "Base_Price -1952.5944    191.249    -10.210      0.000   -2332.271   -1572.918\n",
       "Radio          1.1928      1.109      1.076      0.285      -1.008       3.394\n",
       "InStore       35.0531      7.323      4.787      0.000      20.515      49.591\n",
       "TV             7.4444      2.217      3.357      0.001       3.042      11.847\n",
       "==============================================================================\n",
       "Omnibus:                        3.728   Durbin-Watson:                   0.898\n",
       "Prob(Omnibus):                  0.155   Jarque-Bera (JB):                3.098\n",
       "Skew:                          -0.332   Prob(JB):                        0.212\n",
       "Kurtosis:                       3.551   Cond. No.                     9.63e+03\n",
       "==============================================================================\n",
       "\n",
       "Notes:\n",
       "[1] Standard Errors assume that the covariance matrix of the errors is correctly specified.\n",
       "[2] The condition number is large, 9.63e+03. This might indicate that there are\n",
       "strong multicollinearity or other numerical problems.\n",
       "\"\"\""
      ]
     },
     "execution_count": 7,
     "metadata": {},
     "output_type": "execute_result"
    }
   ],
   "source": [
    "model = smf.ols(formula, data=mktmix).fit()\n",
    "model.summary()"
   ]
  },
  {
   "cell_type": "code",
   "execution_count": 12,
   "id": "0661c279",
   "metadata": {},
   "outputs": [
    {
     "name": "stdout",
     "output_type": "stream",
     "text": [
      "Durbin-Watson statistic: 0.90\n"
     ]
    }
   ],
   "source": [
    "#Calculate the Durbin-Watson statistic to test for autocorrelation in the residuals of the model.\n",
    "dw_test = durbin_watson(model.resid)\n",
    "print(f\"Durbin-Watson statistic: {dw_test:.2f}\")"
   ]
  },
  {
   "cell_type": "markdown",
   "id": "e654f779",
   "metadata": {},
   "source": [
    "### Parameter Estimation - Maximum Likelihood Estimation Method"
   ]
  },
  {
   "cell_type": "code",
   "execution_count": 23,
   "id": "62c3a12f",
   "metadata": {},
   "outputs": [
    {
     "name": "stdout",
     "output_type": "stream",
     "text": [
      "     Base_Price     Radio   InStore        TV\n",
      "0     -0.527145 -0.135053 -1.282738 -0.917822\n",
      "1     -0.527145  0.662095 -1.213998 -1.503800\n",
      "2     -1.371031  0.777623  2.186549 -0.220381\n",
      "3      0.049676  0.477249 -1.200412 -0.500271\n",
      "4      0.638150  0.257744  0.630511 -0.879029\n",
      "..          ...       ...       ...       ...\n",
      "99     1.238511  0.407932 -0.252160 -1.623646\n",
      "100    0.638150       NaN  1.152446 -0.138419\n",
      "101    1.238511       NaN -0.264057  0.841048\n",
      "102    0.638150       NaN  1.323120  0.550220\n",
      "103    1.851001       NaN  0.973107  0.494088\n",
      "\n",
      "[104 rows x 4 columns]\n"
     ]
    }
   ],
   "source": [
    "# Assuming Data contains your exogenous variables in the DataFrame format\n",
    "exog_data = mktmix[['Base_Price', 'Radio', 'InStore', 'TV']]\n",
    "\n",
    "# Initialize the StandardScaler\n",
    "scaler = StandardScaler()\n",
    "\n",
    "# Fit the scaler to your data and transform it\n",
    "scaled_exog_data = scaler.fit_transform(exog_data)\n",
    "\n",
    "# Convert the scaled data back to a DataFrame (if needed)\n",
    "scaled_exog_df = pd.DataFrame(scaled_exog_data, columns=exog_data.columns, index=exog_data.index)\n",
    "print(scaled_exog_df)"
   ]
  },
  {
   "cell_type": "code",
   "execution_count": 21,
   "id": "94fbd034",
   "metadata": {},
   "outputs": [
    {
     "name": "stdout",
     "output_type": "stream",
     "text": [
      "[[-0.52714457 -0.13505299 -1.28273795 -0.91782201]\n",
      " [-0.52714457  0.66209469 -1.21399848 -1.50379964]\n",
      " [-1.37103081  0.77762334  2.18654939 -0.22038088]\n",
      " [ 0.04967631  0.47724885 -1.20041215 -0.50027118]\n",
      " [ 0.63814973  0.25774442  0.63051086 -0.87902859]\n",
      " [ 0.34244186  0.02668712 -0.91906499 -0.2949854 ]\n",
      " [ 0.93682955 -0.25058164 -0.03242853 -1.08439186]\n",
      " [ 0.34244186  0.38482593 -1.1971808  -0.50890271]\n",
      " [-0.52714457  0.67364756  0.87227407 -0.42305533]\n",
      " [ 0.34244186  0.70830615 -0.41468172  1.08647679]\n",
      " [ 0.93682955  0.73141188 -1.01820847  0.59273198]\n",
      " [ 1.23851112  0.84694053  0.28637283  0.93756345]\n",
      " [ 0.93682955  1.02023351 -0.3076802   0.82155787]\n",
      " [ 1.23851112  0.24619155 -1.62570095  0.15950792]\n",
      " [ 1.23851112 -0.07728867 -0.43766832  0.18034795]\n",
      " [ 0.93682955 -0.07728867 -0.07208592 -0.25231006]\n",
      " [-0.52714457 -0.07728867 -0.49135268 -0.31168534]\n",
      " [ 0.34244186  0.1306629  -0.53115695 -0.59972237]\n",
      " [-1.09254362  0.35016734 -0.21764324 -0.43556172]\n",
      " [-0.24017618  0.38482593 -1.55710835  0.24421021]\n",
      " [-1.37103081  0.61588323  1.18005949  1.02462062]\n",
      " [ 0.04967631  0.73141188 -1.02437739 -0.0628995 ]\n",
      " [ 0.04967631  1.02023351 -1.41441518 -0.03049399]\n",
      " [-0.24017618  1.07799783 -1.03693557  1.20752064]\n",
      " [-1.64674703  0.8238348   1.38128403  1.20061079]\n",
      " [-0.52714457  1.02023351 -0.60459656 -0.04285692]\n",
      " [-1.64674703  0.61588323  0.84436701  2.27160779]\n",
      " [ 0.04967631  0.43103739 -1.40508835  0.10811888]\n",
      " [ 0.04967631  0.67364756 -1.45414601 -1.35160115]\n",
      " [-0.52714457  0.67364756 -0.63889286  0.29039227]\n",
      " [ 0.04967631 -0.07728867 -0.75610249  1.44954395]\n",
      " [ 0.93682955 -0.07728867  1.53256963  1.76781042]\n",
      " [-0.52714457 -2.96550492  0.08801243  0.94780267]\n",
      " [ 0.63814973 -2.96550492 -1.08746202  2.19868005]\n",
      " [ 0.63814973 -2.96550492 -0.55172004  2.21691944]\n",
      " [ 0.34244186 -0.37766316 -0.18599076  0.6534517 ]\n",
      " [ 1.54322466 -0.04263007 -0.79788963 -0.18407652]\n",
      " [ 0.34244186 -0.26213451  0.67751221 -1.00198748]\n",
      " [ 0.63814973 -0.08884153  0.69741435  0.50009071]\n",
      " [ 1.54322466 -0.23902878 -1.19226035  0.23175334]\n",
      " [ 1.85100061  0.22308582 -0.46388626 -0.52349014]\n",
      " [ 1.54322466  0.47724885  0.5970224   0.51753516]\n",
      " [ 1.23851112  0.65054183  0.05107231 -0.16425569]\n",
      " [ 0.63814973  0.73141188  1.82045292 -0.33767619]\n",
      " [ 0.34244186  0.63898896 -0.4487577  -0.20627726]\n",
      " [ 0.34244186  0.74296475 -0.89372832  0.48495656]\n",
      " [ 0.04967631  0.38482593  0.30238267  1.42438932]\n",
      " [-1.37103081  0.38482593  0.31016727  0.90700985]\n",
      " [-1.64674703  0.38482593  0.49134279  1.208721  ]\n",
      " [ 0.34244186  0.38482593  0.52901731  2.32281182]\n",
      " [-0.24017618  0.38482593 -0.53284606  0.25122256]\n",
      " [-0.52714457  0.38482593  1.96711183  0.39128742]\n",
      " [ 0.04967631 -2.96550492 -0.70410724  0.89186959]\n",
      " [ 0.63814973 -2.96550492 -1.00095016 -0.24356907]\n",
      " [-0.24017618 -2.96550492  0.54245676 -0.28285946]\n",
      " [-0.52714457 -2.96550492  0.45550426  0.86322427]\n",
      " [-0.81125759 -2.96550492  2.23678209 -0.05072262]\n",
      " [ 0.63814973  0.97402205 -0.49869664 -1.57121462]\n",
      " [ 0.34244186  1.1242093   0.3081844  -0.21440179]\n",
      " [ 0.93682955  0.97402205 -0.07039681  1.18510278]\n",
      " [ 0.93682955  0.61588323 -0.84606601 -0.3668655 ]\n",
      " [ 1.23851112  0.47724885 -0.4455998  -1.42039889]\n",
      " [ 0.93682955  0.69675329  0.96936124 -0.90777058]\n",
      " [ 1.23851112  0.73141188  1.80840882  0.84116105]\n",
      " [ 0.63814973  0.61588323  2.35399171  0.85159522]\n",
      " [ 0.63814973  0.73141188 -0.78518457 -0.80920208]\n",
      " [-0.52714457  0.77762334 -0.2963705  -0.24947159]\n",
      " [-0.81125759  0.84694053  0.28086486  0.80773167]\n",
      " [-0.24017618  0.50035458  0.60612891 -0.75030129]\n",
      " [-1.91971981  0.50035458  0.28292117 -0.07621757]\n",
      " [-1.37103081  1.64408822  0.31795186  0.62060018]\n",
      " [-1.64674703  0.50035458 -1.13901663 -0.46415643]\n",
      " [-1.64674703 -0.13505299  1.57083167 -1.07454738]\n",
      " [-1.09254362  0.22308582 -0.70381348  0.09509533]\n",
      " [-2.98471861 -0.0657358   0.36113436 -0.13704159]\n",
      " [-2.45754403 -0.11194726  0.90980171 -0.54569153]\n",
      " [-2.72244925  0.04979285  0.09520952  0.18005451]\n",
      " [-1.64674703  0.00358139 -0.36444903 -0.25567355]\n",
      " [-1.37103081 -0.07728867  2.58510618 -2.16168474]\n",
      " [-0.81125759 -0.15815872 -0.26449771 -0.98276118]\n",
      " [ 0.34244186  0.11911004 -0.54834182  0.03746954]\n",
      " [ 0.04967631 -0.53940327 -0.57265033 -0.76356264]\n",
      " [ 0.63814973 -0.41232175 -1.20716859  0.05737283]\n",
      " [ 0.34244186 -0.43542748 -1.09017929 -0.73793897]\n",
      " [-0.24017618 -0.44698035  0.109824   -1.36139764]\n",
      " [-0.24017618 -0.51629754 -1.06719269 -2.41806666]\n",
      " [-0.24017618 -0.64337905  1.41139427 -1.00563087]\n",
      " [ 0.04967631 -0.55095613 -1.09370439 -0.48527441]\n",
      " [-1.37103081 -0.53940327  1.9994987  -2.41726553]\n",
      " [-0.24017618 -0.562509    0.01839168 -0.82196544]\n",
      " [-0.52714457 -0.53940327  1.03582409 -1.02466858]\n",
      " [ 0.34244186 -0.41232175 -1.42432953  0.86996289]\n",
      " [-0.24017618 -0.44698035  0.10372851  0.40822396]\n",
      " [-0.24017618 -0.64337905  1.36365852 -2.10172203]\n",
      " [ 0.63814973 -0.25058164 -1.08085246  1.103673  ]\n",
      " [-0.24017618 -0.20437018  0.08485453  1.5248426 ]\n",
      " [ 0.93682955 -0.51629754  0.12965269 -1.83715856]\n",
      " [ 0.93682955 -0.20437018  0.46519829  0.3461651 ]\n",
      " [ 0.63814973  0.26929728  0.42715657  0.97004544]\n",
      " [ 1.23851112  0.40793166 -0.25215986 -1.62364575]\n",
      " [ 0.63814973         nan  1.15244619 -0.13841859]\n",
      " [ 1.23851112         nan -0.26405707  0.84104757]\n",
      " [ 0.63814973         nan  1.32311986  0.55021996]\n",
      " [ 1.85100061         nan  0.97310666  0.49408844]]\n"
     ]
    }
   ],
   "source": [
    "# Assuming Data contains your exogenous variables in the DataFrame format\n",
    "exog_data = mktmix[['Base_Price', 'Radio', 'InStore', 'TV']]\n",
    "\n",
    "# Initialize the StandardScaler\n",
    "scaler = StandardScaler()\n",
    "\n",
    "# Fit the scaler to your data and transform it\n",
    "scaled_exog_data = scaler.fit_transform(exog_data)\n",
    "\n",
    "print(scaled_exog_data)"
   ]
  },
  {
   "cell_type": "code",
   "execution_count": 35,
   "id": "3c3d1ac6",
   "metadata": {},
   "outputs": [
    {
     "data": {
      "application/vnd.microsoft.datawrangler.viewer.v0+json": {
       "columns": [
        {
         "name": "index",
         "rawType": "object",
         "type": "string"
        },
        {
         "name": "0",
         "rawType": "int64",
         "type": "integer"
        }
       ],
       "ref": "71d98e69-9f2b-4de3-ada2-7abc05f41632",
       "rows": [
        [
         "Base_Price",
         "0"
        ],
        [
         "Radio",
         "4"
        ],
        [
         "InStore",
         "0"
        ],
        [
         "TV",
         "0"
        ]
       ],
       "shape": {
        "columns": 1,
        "rows": 4
       }
      },
      "text/plain": [
       "Base_Price    0\n",
       "Radio         4\n",
       "InStore       0\n",
       "TV            0\n",
       "dtype: int64"
      ]
     },
     "execution_count": 35,
     "metadata": {},
     "output_type": "execute_result"
    }
   ],
   "source": [
    "scaled_exog_df.isnull().sum()\n"
   ]
  },
  {
   "cell_type": "code",
   "execution_count": 37,
   "id": "3001fef4",
   "metadata": {},
   "outputs": [
    {
     "data": {
      "text/plain": [
       "(100, 100)"
      ]
     },
     "execution_count": 37,
     "metadata": {},
     "output_type": "execute_result"
    }
   ],
   "source": [
    "len(mktmix['Sales']), len(scaled_exog_df)\n"
   ]
  },
  {
   "cell_type": "code",
   "execution_count": 36,
   "id": "3c48c7ab",
   "metadata": {},
   "outputs": [],
   "source": [
    "scaled_exog_df = scaled_exog_df.dropna()\n",
    "mktmix = mktmix.loc[scaled_exog_df.index]  # Align target variable too\n"
   ]
  },
  {
   "cell_type": "code",
   "execution_count": 38,
   "id": "914e1330",
   "metadata": {},
   "outputs": [
    {
     "data": {
      "text/html": [
       "<table class=\"simpletable\">\n",
       "<caption>SARIMAX Results</caption>\n",
       "<tr>\n",
       "  <th>Dep. Variable:</th>         <td>Sales</td>      <th>  No. Observations:  </th>    <td>100</td>  \n",
       "</tr>\n",
       "<tr>\n",
       "  <th>Model:</th>                <td>SARIMAX</td>     <th>  Log Likelihood     </th> <td>-825.766</td>\n",
       "</tr>\n",
       "<tr>\n",
       "  <th>Date:</th>            <td>Sat, 14 Jun 2025</td> <th>  AIC                </th> <td>1663.532</td>\n",
       "</tr>\n",
       "<tr>\n",
       "  <th>Time:</th>                <td>09:59:08</td>     <th>  BIC                </th> <td>1679.163</td>\n",
       "</tr>\n",
       "<tr>\n",
       "  <th>Sample:</th>                  <td>0</td>        <th>  HQIC               </th> <td>1669.859</td>\n",
       "</tr>\n",
       "<tr>\n",
       "  <th></th>                      <td> - 100</td>      <th>                     </th>     <td> </td>   \n",
       "</tr>\n",
       "<tr>\n",
       "  <th>Covariance Type:</th>        <td>opg</td>       <th>                     </th>     <td> </td>   \n",
       "</tr>\n",
       "</table>\n",
       "<table class=\"simpletable\">\n",
       "<tr>\n",
       "       <td></td>         <th>coef</th>     <th>std err</th>      <th>z</th>      <th>P>|z|</th>  <th>[0.025</th>    <th>0.975]</th>  \n",
       "</tr>\n",
       "<tr>\n",
       "  <th>intercept</th>  <td>  2.02e+04</td> <td>  107.648</td> <td>  187.608</td> <td> 0.000</td> <td>    2e+04</td> <td> 2.04e+04</td>\n",
       "</tr>\n",
       "<tr>\n",
       "  <th>Base_Price</th> <td>-1028.8910</td> <td>  107.147</td> <td>   -9.603</td> <td> 0.000</td> <td>-1238.896</td> <td> -818.886</td>\n",
       "</tr>\n",
       "<tr>\n",
       "  <th>Radio</th>      <td>  103.0776</td> <td>  116.071</td> <td>    0.888</td> <td> 0.375</td> <td> -124.418</td> <td>  330.573</td>\n",
       "</tr>\n",
       "<tr>\n",
       "  <th>InStore</th>    <td>  476.2087</td> <td>  106.440</td> <td>    4.474</td> <td> 0.000</td> <td>  267.591</td> <td>  684.827</td>\n",
       "</tr>\n",
       "<tr>\n",
       "  <th>TV</th>         <td>  315.7709</td> <td>   93.470</td> <td>    3.378</td> <td> 0.001</td> <td>  132.574</td> <td>  498.968</td>\n",
       "</tr>\n",
       "<tr>\n",
       "  <th>sigma2</th>     <td> 8.659e+05</td> <td> 1.15e+05</td> <td>    7.513</td> <td> 0.000</td> <td>  6.4e+05</td> <td> 1.09e+06</td>\n",
       "</tr>\n",
       "</table>\n",
       "<table class=\"simpletable\">\n",
       "<tr>\n",
       "  <th>Ljung-Box (L1) (Q):</th>     <td>31.29</td> <th>  Jarque-Bera (JB):  </th> <td>3.10</td> \n",
       "</tr>\n",
       "<tr>\n",
       "  <th>Prob(Q):</th>                <td>0.00</td>  <th>  Prob(JB):          </th> <td>0.21</td> \n",
       "</tr>\n",
       "<tr>\n",
       "  <th>Heteroskedasticity (H):</th> <td>1.77</td>  <th>  Skew:              </th> <td>-0.33</td>\n",
       "</tr>\n",
       "<tr>\n",
       "  <th>Prob(H) (two-sided):</th>    <td>0.10</td>  <th>  Kurtosis:          </th> <td>3.55</td> \n",
       "</tr>\n",
       "</table><br/><br/>Warnings:<br/>[1] Covariance matrix calculated using the outer product of gradients (complex-step)."
      ],
      "text/latex": [
       "\\begin{center}\n",
       "\\begin{tabular}{lclc}\n",
       "\\toprule\n",
       "\\textbf{Dep. Variable:}          &      Sales       & \\textbf{  No. Observations:  } &    100      \\\\\n",
       "\\textbf{Model:}                  &     SARIMAX      & \\textbf{  Log Likelihood     } &  -825.766   \\\\\n",
       "\\textbf{Date:}                   & Sat, 14 Jun 2025 & \\textbf{  AIC                } &  1663.532   \\\\\n",
       "\\textbf{Time:}                   &     09:59:08     & \\textbf{  BIC                } &  1679.163   \\\\\n",
       "\\textbf{Sample:}                 &        0         & \\textbf{  HQIC               } &  1669.859   \\\\\n",
       "\\textbf{}                        &       - 100      & \\textbf{                     } &             \\\\\n",
       "\\textbf{Covariance Type:}        &       opg        & \\textbf{                     } &             \\\\\n",
       "\\bottomrule\n",
       "\\end{tabular}\n",
       "\\begin{tabular}{lcccccc}\n",
       "                     & \\textbf{coef} & \\textbf{std err} & \\textbf{z} & \\textbf{P$> |$z$|$} & \\textbf{[0.025} & \\textbf{0.975]}  \\\\\n",
       "\\midrule\n",
       "\\textbf{intercept}   &     2.02e+04  &      107.648     &   187.608  &         0.000        &        2e+04    &     2.04e+04     \\\\\n",
       "\\textbf{Base\\_Price} &   -1028.8910  &      107.147     &    -9.603  &         0.000        &    -1238.896    &     -818.886     \\\\\n",
       "\\textbf{Radio}       &     103.0776  &      116.071     &     0.888  &         0.375        &     -124.418    &      330.573     \\\\\n",
       "\\textbf{InStore}     &     476.2087  &      106.440     &     4.474  &         0.000        &      267.591    &      684.827     \\\\\n",
       "\\textbf{TV}          &     315.7709  &       93.470     &     3.378  &         0.001        &      132.574    &      498.968     \\\\\n",
       "\\textbf{sigma2}      &    8.659e+05  &     1.15e+05     &     7.513  &         0.000        &      6.4e+05    &     1.09e+06     \\\\\n",
       "\\bottomrule\n",
       "\\end{tabular}\n",
       "\\begin{tabular}{lclc}\n",
       "\\textbf{Ljung-Box (L1) (Q):}     & 31.29 & \\textbf{  Jarque-Bera (JB):  } &  3.10  \\\\\n",
       "\\textbf{Prob(Q):}                &  0.00 & \\textbf{  Prob(JB):          } &  0.21  \\\\\n",
       "\\textbf{Heteroskedasticity (H):} &  1.77 & \\textbf{  Skew:              } & -0.33  \\\\\n",
       "\\textbf{Prob(H) (two-sided):}    &  0.10 & \\textbf{  Kurtosis:          } &  3.55  \\\\\n",
       "\\bottomrule\n",
       "\\end{tabular}\n",
       "%\\caption{SARIMAX Results}\n",
       "\\end{center}\n",
       "\n",
       "Warnings: \\newline\n",
       " [1] Covariance matrix calculated using the outer product of gradients (complex-step)."
      ],
      "text/plain": [
       "<class 'statsmodels.iolib.summary.Summary'>\n",
       "\"\"\"\n",
       "                               SARIMAX Results                                \n",
       "==============================================================================\n",
       "Dep. Variable:                  Sales   No. Observations:                  100\n",
       "Model:                        SARIMAX   Log Likelihood                -825.766\n",
       "Date:                Sat, 14 Jun 2025   AIC                           1663.532\n",
       "Time:                        09:59:08   BIC                           1679.163\n",
       "Sample:                             0   HQIC                          1669.859\n",
       "                                - 100                                         \n",
       "Covariance Type:                  opg                                         \n",
       "==============================================================================\n",
       "                 coef    std err          z      P>|z|      [0.025      0.975]\n",
       "------------------------------------------------------------------------------\n",
       "intercept    2.02e+04    107.648    187.608      0.000       2e+04    2.04e+04\n",
       "Base_Price -1028.8910    107.147     -9.603      0.000   -1238.896    -818.886\n",
       "Radio        103.0776    116.071      0.888      0.375    -124.418     330.573\n",
       "InStore      476.2087    106.440      4.474      0.000     267.591     684.827\n",
       "TV           315.7709     93.470      3.378      0.001     132.574     498.968\n",
       "sigma2      8.659e+05   1.15e+05      7.513      0.000     6.4e+05    1.09e+06\n",
       "===================================================================================\n",
       "Ljung-Box (L1) (Q):                  31.29   Jarque-Bera (JB):                 3.10\n",
       "Prob(Q):                              0.00   Prob(JB):                         0.21\n",
       "Heteroskedasticity (H):               1.77   Skew:                            -0.33\n",
       "Prob(H) (two-sided):                  0.10   Kurtosis:                         3.55\n",
       "===================================================================================\n",
       "\n",
       "Warnings:\n",
       "[1] Covariance matrix calculated using the outer product of gradients (complex-step).\n",
       "\"\"\""
      ]
     },
     "execution_count": 38,
     "metadata": {},
     "output_type": "execute_result"
    }
   ],
   "source": [
    "# Fit a SARIMAX model to the sales data with exogenous variables.\n",
    "model = sm.tsa.SARIMAX(mktmix['Sales'], exog=scaled_exog_df, order=(0, 0, 0), trend='c',error_ar = 1)\n",
    "\n",
    "results = model.fit()\n",
    "\n",
    "results.summary()"
   ]
  },
  {
   "cell_type": "markdown",
   "id": "07dd45ce",
   "metadata": {},
   "source": [
    "#### Predictions (for next two time periods):"
   ]
  },
  {
   "cell_type": "code",
   "execution_count": 40,
   "id": "d8e49407",
   "metadata": {},
   "outputs": [
    {
     "name": "stdout",
     "output_type": "stream",
     "text": [
      "   Base_Price  Radio  InStore     TV\n",
      "0       0.680  0.256    0.659 -0.846\n",
      "1       0.394  0.027   -0.884 -0.273\n"
     ]
    }
   ],
   "source": [
    "base_price = [15.64, 15.49]\n",
    "radio = [279, 259]\n",
    "instore = [41.50, 20.40]\n",
    "tv = [103.44, 128.40]\n",
    "\n",
    "testdf = pd.DataFrame({'Base_Price': base_price,'Radio': radio,'InStore': instore,'TV': tv})\n",
    " \n",
    "mean = mktmix[['Base_Price','Radio','InStore','TV']].mean()\n",
    "sd = mktmix[['Base_Price','Radio','InStore','TV']].std()\n",
    "\n",
    "x = testdf[['Base_Price','Radio','InStore','TV']]\n",
    "x_var= (x - mean)/sd\n",
    "pd.options.display.float_format = '{:.3f}'.format\n",
    "print(x_var)"
   ]
  }
 ],
 "metadata": {
  "kernelspec": {
   "display_name": "base",
   "language": "python",
   "name": "python3"
  },
  "language_info": {
   "codemirror_mode": {
    "name": "ipython",
    "version": 3
   },
   "file_extension": ".py",
   "mimetype": "text/x-python",
   "name": "python",
   "nbconvert_exporter": "python",
   "pygments_lexer": "ipython3",
   "version": "3.12.7"
  }
 },
 "nbformat": 4,
 "nbformat_minor": 5
}
