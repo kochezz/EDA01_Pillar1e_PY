{
 "cells": [
  {
   "cell_type": "markdown",
   "id": "fbfc0096",
   "metadata": {},
   "source": [
    "# SARIMA\n"
   ]
  },
  {
   "cell_type": "code",
   "execution_count": 3,
   "id": "efe79a39",
   "metadata": {},
   "outputs": [],
   "source": [
    "# from arch.unitroot import ADF \n",
    "from statsmodels.tsa.stattools import adfuller\n",
    "\n",
    "\n",
    "def adf_test(timeseries):\n",
    "    print(\"Results of Dickey-Fuller Test:\")\n",
    "    dftest = adfuller(timeseries, autolag=\"AIC\")\n",
    "    dfoutput = pd.Series(\n",
    "        dftest[0:4],\n",
    "        index=[\n",
    "            \"Test Statistic\",\n",
    "            \"p-value\",\n",
    "            \"#Lags Used\",\n",
    "            \"Number of Observations Used\",\n",
    "        ],\n",
    "    )\n",
    "    for key, value in dftest[4].items():\n",
    "        dfoutput[\"Critical Value (%s)\" % key] = value\n",
    "    print(dfoutput)"
   ]
  },
  {
   "cell_type": "code",
   "execution_count": 33,
   "id": "b6bb4959",
   "metadata": {},
   "outputs": [],
   "source": [
    "# Import Libraries\n",
    "\n",
    "# Import Libraries\n",
    "\n",
    "import pandas as pd\n",
    "import numpy as np\n",
    "import matplotlib.pyplot as plt\n",
    "from scipy.stats import chi2_contingency\n",
    "import seaborn as sns\n",
    "import pandas as pd\n",
    "import statsmodels.api as sm\n",
    "import matplotlib.pyplot as plt\n",
    "from statsmodels.graphics.tsaplots import plot_acf, plot_pacf\n",
    "from arch.unitroot import ADF \n",
    "from statsmodels.tsa.statespace.tools import diff\n",
    "from pmdarima.arima.utils import ndiffs\n",
    "import pmdarima as pm\n",
    "from statsmodels.stats.diagnostic import acorr_ljungbox\n",
    "import warnings\n",
    "warnings.filterwarnings(\"ignore\")   \n",
    "\n",
    "\n",
    "import os\n",
    "os.chdir(r\"C:\\Users\\willi\\OneDrive\\Documents\\Woolf Institute Data Analytics\\Module 5 Time Series Analysis\\04 Live Data Sets\")"
   ]
  },
  {
   "cell_type": "code",
   "execution_count": 4,
   "id": "e3dcf1ae",
   "metadata": {},
   "outputs": [
    {
     "name": "stdout",
     "output_type": "stream",
     "text": [
      "✅ Dataset Loaded Successfully\n",
      "   Year  Quarter  CROPYIELD\n",
      "0  1947        1   2182.681\n",
      "1  1947        2   2176.892\n",
      "2  1947        3   2172.432\n",
      "3  1947        4   2206.452\n",
      "4  1948        1   2239.682\n"
     ]
    }
   ],
   "source": [
    "# Read in the data\n",
    "cropdata = pd.read_csv(\"CROP DATA.csv\")\n",
    "print(\"✅ Dataset Loaded Successfully\")\n",
    "print(cropdata.head())"
   ]
  },
  {
   "cell_type": "code",
   "execution_count": 5,
   "id": "7c141fac",
   "metadata": {},
   "outputs": [
    {
     "data": {
      "application/vnd.microsoft.datawrangler.viewer.v0+json": {
       "columns": [
        {
         "name": "index",
         "rawType": "int64",
         "type": "integer"
        },
        {
         "name": "Year",
         "rawType": "int64",
         "type": "integer"
        },
        {
         "name": "Quarter",
         "rawType": "int64",
         "type": "integer"
        },
        {
         "name": "CROPYIELD",
         "rawType": "float64",
         "type": "float"
        }
       ],
       "ref": "fc5e879f-fcc7-4848-9273-d77d71eeeb3f",
       "rows": [
        [
         "0",
         "1947",
         "1",
         "2182.681"
        ],
        [
         "1",
         "1947",
         "2",
         "2176.892"
        ],
        [
         "2",
         "1947",
         "3",
         "2172.432"
        ],
        [
         "3",
         "1947",
         "4",
         "2206.452"
        ],
        [
         "4",
         "1948",
         "1",
         "2239.682"
        ],
        [
         "5",
         "1948",
         "2",
         "2276.69"
        ],
        [
         "6",
         "1948",
         "3",
         "2289.77"
        ],
        [
         "7",
         "1948",
         "4",
         "2292.364"
        ],
        [
         "8",
         "1949",
         "1",
         "2260.807"
        ],
        [
         "9",
         "1949",
         "2",
         "2253.128"
        ],
        [
         "10",
         "1949",
         "3",
         "2276.424"
        ],
        [
         "11",
         "1949",
         "4",
         "2257.352"
        ],
        [
         "12",
         "1950",
         "1",
         "2346.104"
        ],
        [
         "13",
         "1950",
         "2",
         "2417.682"
        ],
        [
         "14",
         "1950",
         "3",
         "2511.127"
        ],
        [
         "15",
         "1950",
         "4",
         "2559.214"
        ],
        [
         "16",
         "1951",
         "1",
         "2593.967"
        ],
        [
         "17",
         "1951",
         "2",
         "2638.898"
        ],
        [
         "18",
         "1951",
         "3",
         "2693.259"
        ],
        [
         "19",
         "1951",
         "4",
         "2699.156"
        ],
        [
         "20",
         "1952",
         "1",
         "2727.954"
        ],
        [
         "21",
         "1952",
         "2",
         "2733.8"
        ],
        [
         "22",
         "1952",
         "3",
         "2753.517"
        ],
        [
         "23",
         "1952",
         "4",
         "2843.941"
        ],
        [
         "24",
         "1953",
         "1",
         "2896.811"
        ],
        [
         "25",
         "1953",
         "2",
         "2919.206"
        ],
        [
         "26",
         "1953",
         "3",
         "2902.785"
        ],
        [
         "27",
         "1953",
         "4",
         "2858.845"
        ],
        [
         "28",
         "1954",
         "1",
         "2845.192"
        ],
        [
         "29",
         "1954",
         "2",
         "2848.305"
        ],
        [
         "30",
         "1954",
         "3",
         "2880.482"
        ],
        [
         "31",
         "1954",
         "4",
         "2936.852"
        ],
        [
         "32",
         "1955",
         "1",
         "3020.746"
        ],
        [
         "33",
         "1955",
         "2",
         "3069.91"
        ],
        [
         "34",
         "1955",
         "3",
         "3111.379"
        ],
        [
         "35",
         "1955",
         "4",
         "3130.068"
        ],
        [
         "36",
         "1956",
         "1",
         "3117.922"
        ],
        [
         "37",
         "1956",
         "2",
         "3143.694"
        ],
        [
         "38",
         "1956",
         "3",
         "3140.874"
        ],
        [
         "39",
         "1956",
         "4",
         "3192.57"
        ],
        [
         "40",
         "1957",
         "1",
         "3213.011"
        ],
        [
         "41",
         "1957",
         "2",
         "3205.97"
        ],
        [
         "42",
         "1957",
         "3",
         "3237.386"
        ],
        [
         "43",
         "1957",
         "4",
         "3203.894"
        ],
        [
         "44",
         "1958",
         "1",
         "3120.724"
        ],
        [
         "45",
         "1958",
         "2",
         "3141.224"
        ],
        [
         "46",
         "1958",
         "3",
         "3213.884"
        ],
        [
         "47",
         "1958",
         "4",
         "3289.032"
        ],
        [
         "48",
         "1959",
         "1",
         "3352.129"
        ],
        [
         "49",
         "1959",
         "2",
         "3427.667"
        ]
       ],
       "shape": {
        "columns": 3,
        "rows": 308
       }
      },
      "text/html": [
       "<div>\n",
       "<style scoped>\n",
       "    .dataframe tbody tr th:only-of-type {\n",
       "        vertical-align: middle;\n",
       "    }\n",
       "\n",
       "    .dataframe tbody tr th {\n",
       "        vertical-align: top;\n",
       "    }\n",
       "\n",
       "    .dataframe thead th {\n",
       "        text-align: right;\n",
       "    }\n",
       "</style>\n",
       "<table border=\"1\" class=\"dataframe\">\n",
       "  <thead>\n",
       "    <tr style=\"text-align: right;\">\n",
       "      <th></th>\n",
       "      <th>Year</th>\n",
       "      <th>Quarter</th>\n",
       "      <th>CROPYIELD</th>\n",
       "    </tr>\n",
       "  </thead>\n",
       "  <tbody>\n",
       "    <tr>\n",
       "      <th>0</th>\n",
       "      <td>1947</td>\n",
       "      <td>1</td>\n",
       "      <td>2182.681</td>\n",
       "    </tr>\n",
       "    <tr>\n",
       "      <th>1</th>\n",
       "      <td>1947</td>\n",
       "      <td>2</td>\n",
       "      <td>2176.892</td>\n",
       "    </tr>\n",
       "    <tr>\n",
       "      <th>2</th>\n",
       "      <td>1947</td>\n",
       "      <td>3</td>\n",
       "      <td>2172.432</td>\n",
       "    </tr>\n",
       "    <tr>\n",
       "      <th>3</th>\n",
       "      <td>1947</td>\n",
       "      <td>4</td>\n",
       "      <td>2206.452</td>\n",
       "    </tr>\n",
       "    <tr>\n",
       "      <th>4</th>\n",
       "      <td>1948</td>\n",
       "      <td>1</td>\n",
       "      <td>2239.682</td>\n",
       "    </tr>\n",
       "    <tr>\n",
       "      <th>...</th>\n",
       "      <td>...</td>\n",
       "      <td>...</td>\n",
       "      <td>...</td>\n",
       "    </tr>\n",
       "    <tr>\n",
       "      <th>303</th>\n",
       "      <td>2022</td>\n",
       "      <td>4</td>\n",
       "      <td>21989.981</td>\n",
       "    </tr>\n",
       "    <tr>\n",
       "      <th>304</th>\n",
       "      <td>2023</td>\n",
       "      <td>1</td>\n",
       "      <td>22112.329</td>\n",
       "    </tr>\n",
       "    <tr>\n",
       "      <th>305</th>\n",
       "      <td>2023</td>\n",
       "      <td>2</td>\n",
       "      <td>22225.350</td>\n",
       "    </tr>\n",
       "    <tr>\n",
       "      <th>306</th>\n",
       "      <td>2023</td>\n",
       "      <td>3</td>\n",
       "      <td>22490.692</td>\n",
       "    </tr>\n",
       "    <tr>\n",
       "      <th>307</th>\n",
       "      <td>2023</td>\n",
       "      <td>4</td>\n",
       "      <td>22668.986</td>\n",
       "    </tr>\n",
       "  </tbody>\n",
       "</table>\n",
       "<p>308 rows × 3 columns</p>\n",
       "</div>"
      ],
      "text/plain": [
       "     Year  Quarter  CROPYIELD\n",
       "0    1947        1   2182.681\n",
       "1    1947        2   2176.892\n",
       "2    1947        3   2172.432\n",
       "3    1947        4   2206.452\n",
       "4    1948        1   2239.682\n",
       "..    ...      ...        ...\n",
       "303  2022        4  21989.981\n",
       "304  2023        1  22112.329\n",
       "305  2023        2  22225.350\n",
       "306  2023        3  22490.692\n",
       "307  2023        4  22668.986\n",
       "\n",
       "[308 rows x 3 columns]"
      ]
     },
     "execution_count": 5,
     "metadata": {},
     "output_type": "execute_result"
    }
   ],
   "source": [
    "cropdata"
   ]
  },
  {
   "cell_type": "code",
   "execution_count": 6,
   "id": "0f50672a",
   "metadata": {},
   "outputs": [
    {
     "data": {
      "text/plain": [
       "9968.193418831168"
      ]
     },
     "execution_count": 6,
     "metadata": {},
     "output_type": "execute_result"
    }
   ],
   "source": [
    "cropdata['CROPYIELD'].mean()"
   ]
  },
  {
   "cell_type": "markdown",
   "id": "32ae2a60",
   "metadata": {},
   "source": [
    "#### Define the time series"
   ]
  },
  {
   "cell_type": "code",
   "execution_count": 17,
   "id": "63810680",
   "metadata": {},
   "outputs": [
    {
     "name": "stdout",
     "output_type": "stream",
     "text": [
      "Yield Series:\n",
      " 1947-03-31    2182.681\n",
      "1947-06-30    2176.892\n",
      "1947-09-30    2172.432\n",
      "1947-12-31    2206.452\n",
      "1948-03-31    2239.682\n",
      "Freq: QE-DEC, dtype: float64\n"
     ]
    }
   ],
   "source": [
    "rng = pd.date_range('1947','2024',freq='Q') #end = 2024 has to be +1 year since it is exclusive\n",
    "s = cropdata.CROPYIELD.values\n",
    "yieldseries = pd.Series(s, rng)\n",
    "print(\"Yield Series:\\n\", yieldseries.head())"
   ]
  },
  {
   "cell_type": "markdown",
   "id": "a33dd864",
   "metadata": {},
   "source": [
    "#### Step 1: Stationarity Checking"
   ]
  },
  {
   "cell_type": "code",
   "execution_count": 10,
   "id": "36272d20",
   "metadata": {},
   "outputs": [
    {
     "data": {
      "text/plain": [
       "<Axes: title={'center': 'Crop Yield Over Time'}>"
      ]
     },
     "execution_count": 10,
     "metadata": {},
     "output_type": "execute_result"
    },
    {
     "data": {
      "image/png": "[encoded data removed]",
      "text/plain": [
       "<Figure size 640x480 with 1 Axes>"
      ]
     },
     "metadata": {},
     "output_type": "display_data"
    }
   ],
   "source": [
    "yieldseries.plot(color='red', title =\"Crop Yield Over Time\")"
   ]
  },
  {
   "cell_type": "markdown",
   "id": "51423ee0",
   "metadata": {},
   "source": [
    "#### Correlogram"
   ]
  },
  {
   "cell_type": "code",
   "execution_count": 18,
   "id": "8282a1bb",
   "metadata": {},
   "outputs": [
    {
     "data": {
      "image/png": "[encoded data removed]",
      "text/plain": [
       "<Figure size 640x480 with 1 Axes>"
      ]
     },
     "metadata": {},
     "output_type": "display_data"
    }
   ],
   "source": [
    "plot_acf(yieldseries)\n",
    "plt.show()"
   ]
  },
  {
   "cell_type": "markdown",
   "id": "befa0af2",
   "metadata": {},
   "source": [
    "##### Inference:\n",
    "\n",
    "We can see a very slow decay. Hence, it’s a sign of non-stationary"
   ]
  },
  {
   "cell_type": "markdown",
   "id": "0140505a",
   "metadata": {},
   "source": [
    "### Dickey Fuller Test"
   ]
  },
  {
   "cell_type": "code",
   "execution_count": 19,
   "id": "b7230c4b",
   "metadata": {},
   "outputs": [
    {
     "data": {
      "text/html": [
       "<table class=\"simpletable\">\n",
       "<caption>Augmented Dickey-Fuller Results</caption>\n",
       "<tr>\n",
       "  <td>Test Statistic</td>     <td>8.268</td>\n",
       "</tr>\n",
       "<tr>\n",
       "  <td>P-value</td>            <td>1.000</td>\n",
       "</tr>\n",
       "<tr>\n",
       "  <td>Lags</td>                   <td>0</td>\n",
       "</tr>\n",
       "</table><br/><br/>Trend: No Trend<br/>Critical Values: -2.57 (1%), -1.94 (5%), -1.62 (10%)<br/>Null Hypothesis: The process contains a unit root.<br/>Alternative Hypothesis: The process is weakly stationary."
      ],
      "text/latex": [
       "\\begin{center}\n",
       "\\begin{tabular}{lr}\n",
       "\\toprule\n",
       "Test Statistic     &              8.268  \\\\\n",
       "P-value            &              1.000  \\\\\n",
       "Lags               &                  0  \\\\\n",
       "\\bottomrule\n",
       "\\end{tabular}\n",
       "%\\caption{Augmented Dickey-Fuller Results}\n",
       "\\end{center}\n",
       "\n",
       "Trend: No Trend \\newline\n",
       " Critical Values: -2.57 (1%), -1.94 (5%), -1.62 (10%) \\newline\n",
       " Null Hypothesis: The process contains a unit root. \\newline\n",
       " Alternative Hypothesis: The process is weakly stationary."
      ],
      "text/plain": [
       "<class 'statsmodels.iolib.summary.Summary'>\n",
       "\"\"\"\n",
       "   Augmented Dickey-Fuller Results   \n",
       "=====================================\n",
       "Test Statistic                  8.268\n",
       "P-value                         1.000\n",
       "Lags                                0\n",
       "-------------------------------------\n",
       "\n",
       "Trend: No Trend\n",
       "Critical Values: -2.57 (1%), -1.94 (5%), -1.62 (10%)\n",
       "Null Hypothesis: The process contains a unit root.\n",
       "Alternative Hypothesis: The process is weakly stationary.\n",
       "\"\"\""
      ]
     },
     "execution_count": 19,
     "metadata": {},
     "output_type": "execute_result"
    }
   ],
   "source": [
    "adf = ADF(yieldseries,lags=0,trend='n')\n",
    "adf.summary()"
   ]
  },
  {
   "cell_type": "markdown",
   "id": "150c3f2a",
   "metadata": {},
   "source": [
    "Inference:\n",
    "The value of the test statistic is: 8.268. Which is greater than 5% critical value. Hence, Time series is non-stationary."
   ]
  },
  {
   "cell_type": "code",
   "execution_count": 20,
   "id": "cb6cbb32",
   "metadata": {},
   "outputs": [
    {
     "name": "stdout",
     "output_type": "stream",
     "text": [
      "Number of differences needed: 2\n"
     ]
    }
   ],
   "source": [
    "# Differencing the series to make it stationary\n",
    "\n",
    "diffs = ndiffs(yieldseries)\n",
    "print(\"Number of differences needed:\", diffs)"
   ]
  },
  {
   "cell_type": "code",
   "execution_count": 24,
   "id": "dc446e23",
   "metadata": {},
   "outputs": [
    {
     "data": {
      "text/plain": [
       "<Axes: title={'center': 'Differenced Series (2nd Order)'}>"
      ]
     },
     "execution_count": 24,
     "metadata": {},
     "output_type": "execute_result"
    },
    {
     "data": {
      "image/png": "[encoded data removed]",
      "text/plain": [
       "<Figure size 640x480 with 1 Axes>"
      ]
     },
     "metadata": {},
     "output_type": "display_data"
    }
   ],
   "source": [
    "yielddiff = diff(yieldseries)\n",
    "yielddiff2 = diff(yielddiff)\n",
    "yielddiff2.plot(color='green', title=\"Differenced Series (2nd Order)\")"
   ]
  },
  {
   "cell_type": "code",
   "execution_count": 25,
   "id": "756b97a9",
   "metadata": {},
   "outputs": [
    {
     "data": {
      "text/html": [
       "<table class=\"simpletable\">\n",
       "<caption>Augmented Dickey-Fuller Results</caption>\n",
       "<tr>\n",
       "  <td>Test Statistic</td>   <td>-32.438</td>\n",
       "</tr>\n",
       "<tr>\n",
       "  <td>P-value</td>            <td>0.000</td>\n",
       "</tr>\n",
       "<tr>\n",
       "  <td>Lags</td>                   <td>0</td>\n",
       "</tr>\n",
       "</table><br/><br/>Trend: No Trend<br/>Critical Values: -2.57 (1%), -1.94 (5%), -1.62 (10%)<br/>Null Hypothesis: The process contains a unit root.<br/>Alternative Hypothesis: The process is weakly stationary."
      ],
      "text/latex": [
       "\\begin{center}\n",
       "\\begin{tabular}{lr}\n",
       "\\toprule\n",
       "Test Statistic     &            -32.438  \\\\\n",
       "P-value            &              0.000  \\\\\n",
       "Lags               &                  0  \\\\\n",
       "\\bottomrule\n",
       "\\end{tabular}\n",
       "%\\caption{Augmented Dickey-Fuller Results}\n",
       "\\end{center}\n",
       "\n",
       "Trend: No Trend \\newline\n",
       " Critical Values: -2.57 (1%), -1.94 (5%), -1.62 (10%) \\newline\n",
       " Null Hypothesis: The process contains a unit root. \\newline\n",
       " Alternative Hypothesis: The process is weakly stationary."
      ],
      "text/plain": [
       "<class 'statsmodels.iolib.summary.Summary'>\n",
       "\"\"\"\n",
       "   Augmented Dickey-Fuller Results   \n",
       "=====================================\n",
       "Test Statistic                -32.438\n",
       "P-value                         0.000\n",
       "Lags                                0\n",
       "-------------------------------------\n",
       "\n",
       "Trend: No Trend\n",
       "Critical Values: -2.57 (1%), -1.94 (5%), -1.62 (10%)\n",
       "Null Hypothesis: The process contains a unit root.\n",
       "Alternative Hypothesis: The process is weakly stationary.\n",
       "\"\"\""
      ]
     },
     "execution_count": 25,
     "metadata": {},
     "output_type": "execute_result"
    }
   ],
   "source": [
    "# Checking whether stationarity is achieved after differencing\n",
    "\n",
    "adf = ADF(yielddiff2,lags=0,trend='n')\n",
    "adf.summary()"
   ]
  },
  {
   "cell_type": "code",
   "execution_count": null,
   "id": "6e7a7700",
   "metadata": {},
   "outputs": [],
   "source": [
    "# Inference:\n",
    "# The value of the test statistic is: -32.438, which is less than 5% critical value. Hence, Time series is stationary. Reject H0. Second difference time series is stationary."
   ]
  },
  {
   "cell_type": "code",
   "execution_count": 26,
   "id": "991cd26c",
   "metadata": {},
   "outputs": [
    {
     "data": {
      "image/png": "[encoded data removed]",
      "text/plain": [
       "<Figure size 1200x400 with 2 Axes>"
      ]
     },
     "metadata": {},
     "output_type": "display_data"
    }
   ],
   "source": [
    "# Plot ACF and PACF side by side\n",
    "fig, axes = plt.subplots(1, 2, figsize=(12, 4))\n",
    "\n",
    "# ACF plot\n",
    "plot_acf(yielddiff2, ax=axes[0])\n",
    "axes[0].set_title('Autocorrelation Function')\n",
    "\n",
    "# PACF plot\n",
    "plot_pacf(yielddiff2, ax=axes[1])\n",
    "axes[1].set_title('Partial Autocorrelation Function')\n",
    "\n",
    "plt.show()"
   ]
  },
  {
   "cell_type": "markdown",
   "id": "d128af2d",
   "metadata": {},
   "source": [
    "#### Note:\n",
    "\n",
    "###### The acf and pacf plots indicate p=1 and q=2. It is recommended to set max.p and max.q to higher values. In this case we will set both to 2. max.P and max.Q can be set to 1 with D=1"
   ]
  },
  {
   "cell_type": "markdown",
   "id": "bc6fcf28",
   "metadata": {},
   "source": [
    "### Step 3: Parameter Estimation\n",
    "\n",
    "# SARIMA Model"
   ]
  },
  {
   "cell_type": "markdown",
   "id": "c00f1c7c",
   "metadata": {},
   "source": [
    "### Note:\n",
    "##### The acf and pacf plots indicate p=1 and q=2. It is recommended to set max.p and max.q to higher values. In this case we will set both to 2. max.P and max.Q can be set to 1 with D=1"
   ]
  },
  {
   "cell_type": "code",
   "execution_count": 27,
   "id": "005fa6c8",
   "metadata": {},
   "outputs": [
    {
     "name": "stdout",
     "output_type": "stream",
     "text": [
      "Performing stepwise search to minimize aic\n",
      " ARIMA(2,2,2)(1,1,1)[4]             : AIC=inf, Time=0.68 sec\n",
      " ARIMA(0,2,0)(0,1,0)[4]             : AIC=4353.841, Time=0.03 sec\n",
      " ARIMA(1,2,0)(1,1,0)[4]             : AIC=4132.999, Time=0.09 sec\n",
      " ARIMA(0,2,1)(0,1,1)[4]             : AIC=inf, Time=0.28 sec\n",
      " ARIMA(1,2,0)(0,1,0)[4]             : AIC=4232.919, Time=0.04 sec\n",
      " ARIMA(1,2,0)(1,1,1)[4]             : AIC=inf, Time=0.21 sec\n",
      " ARIMA(1,2,0)(0,1,1)[4]             : AIC=inf, Time=0.16 sec\n",
      " ARIMA(0,2,0)(1,1,0)[4]             : AIC=4253.783, Time=0.04 sec\n",
      " ARIMA(2,2,0)(1,1,0)[4]             : AIC=4091.198, Time=0.14 sec\n",
      " ARIMA(2,2,0)(0,1,0)[4]             : AIC=4180.307, Time=0.04 sec\n",
      " ARIMA(2,2,0)(1,1,1)[4]             : AIC=inf, Time=0.25 sec\n",
      " ARIMA(2,2,0)(0,1,1)[4]             : AIC=inf, Time=0.20 sec\n",
      " ARIMA(2,2,1)(1,1,0)[4]             : AIC=inf, Time=0.31 sec\n",
      " ARIMA(1,2,1)(1,1,0)[4]             : AIC=inf, Time=0.19 sec\n",
      " ARIMA(2,2,0)(1,1,0)[4] intercept   : AIC=4093.198, Time=0.23 sec\n",
      "\n",
      "Best model:  ARIMA(2,2,0)(1,1,0)[4]          \n",
      "Total fit time: 2.870 seconds\n"
     ]
    }
   ],
   "source": [
    "\n",
    "model = pm.auto_arima(yieldseries, max_p=2, max_q=2, d=2,seasonal=True,max_P=1,max_Q=1,D=1,m = 4,trace=True)"
   ]
  },
  {
   "cell_type": "code",
   "execution_count": 30,
   "id": "68b73fa2",
   "metadata": {},
   "outputs": [
    {
     "data": {
      "application/vnd.microsoft.datawrangler.viewer.v0+json": {
       "columns": [
        {
         "name": "index",
         "rawType": "object",
         "type": "string"
        },
        {
         "name": "0",
         "rawType": "float64",
         "type": "float"
        }
       ],
       "ref": "9ea82d56-de5a-4a51-8e0c-c2cf19725ed9",
       "rows": [
        [
         "ar.L1",
         "-0.7892240486062375"
        ],
        [
         "ar.L2",
         "-0.36685386699611666"
        ],
        [
         "ar.S.L4",
         "-0.5112771952476158"
        ],
        [
         "sigma2",
         "43268.147248615845"
        ]
       ],
       "shape": {
        "columns": 1,
        "rows": 4
       }
      },
      "text/plain": [
       "ar.L1         -0.789224\n",
       "ar.L2         -0.366854\n",
       "ar.S.L4       -0.511277\n",
       "sigma2     43268.147249\n",
       "dtype: float64"
      ]
     },
     "execution_count": 30,
     "metadata": {},
     "output_type": "execute_result"
    }
   ],
   "source": [
    "model.params()"
   ]
  },
  {
   "cell_type": "code",
   "execution_count": 34,
   "id": "589c9b41",
   "metadata": {},
   "outputs": [
    {
     "data": {
      "image/png": "[encoded data removed]",
      "text/plain": [
       "<Figure size 640x480 with 4 Axes>"
      ]
     },
     "metadata": {},
     "output_type": "display_data"
    }
   ],
   "source": [
    "sm.tsa.seasonal_decompose(yieldseries).plot()\n",
    "plt.show()  "
   ]
  },
  {
   "cell_type": "code",
   "execution_count": 35,
   "id": "7fae4112",
   "metadata": {},
   "outputs": [
    {
     "data": {
      "text/plain": [
       "4091.1979398649564"
      ]
     },
     "execution_count": 35,
     "metadata": {},
     "output_type": "execute_result"
    }
   ],
   "source": [
    "model.aic()"
   ]
  },
  {
   "cell_type": "markdown",
   "id": "42fbbde5",
   "metadata": {},
   "source": [
    "#### Step 4: Diagnostic Checking"
   ]
  },
  {
   "cell_type": "code",
   "execution_count": 36,
   "id": "a5dc7daf",
   "metadata": {},
   "outputs": [
    {
     "data": {
      "application/vnd.microsoft.datawrangler.viewer.v0+json": {
       "columns": [
        {
         "name": "index",
         "rawType": "int32",
         "type": "integer"
        },
        {
         "name": "lb_stat",
         "rawType": "float64",
         "type": "float"
        },
        {
         "name": "lb_pvalue",
         "rawType": "float64",
         "type": "float"
        },
        {
         "name": "bp_stat",
         "rawType": "float64",
         "type": "float"
        },
        {
         "name": "bp_pvalue",
         "rawType": "float64",
         "type": "float"
        }
       ],
       "ref": "22d5a365-5386-4449-a06b-a0f2e904bed9",
       "rows": [
        [
         "1",
         "11.270807363752162",
         "0.0007873547786101994",
         "11.161735034425528",
         "0.0008350179303241649"
        ],
        [
         "2",
         "15.114025595400353",
         "0.0005224335299105019",
         "14.955363353407293",
         "0.0005655670641922165"
        ],
        [
         "3",
         "19.980335264219292",
         "0.00017134272382269384",
         "19.74318415660012",
         "0.0001918659627317442"
        ],
        [
         "4",
         "32.732989416076116",
         "1.3546709836058712e-06",
         "32.24901274422745",
         "1.7015077071973757e-06"
        ],
        [
         "5",
         "40.14097594769982",
         "1.398732965690988e-07",
         "39.48972216062095",
         "1.8924221605277604e-07"
        ],
        [
         "6",
         "40.871313309869436",
         "3.069692082159983e-07",
         "40.20121210699263",
         "4.1586455253668877e-07"
        ],
        [
         "7",
         "41.78390665665109",
         "5.722633747616044e-07",
         "41.087310808222554",
         "7.789389276570845e-07"
        ],
        [
         "8",
         "57.59012937510638",
         "1.3811534451853839e-09",
         "56.383655374469605",
         "2.3748622939025205e-09"
        ],
        [
         "9",
         "57.99923530578226",
         "3.251353988562373e-09",
         "56.778244643089245",
         "5.5723691962881705e-09"
        ],
        [
         "10",
         "59.41293472807665",
         "4.679848241192049e-09",
         "58.137220216778694",
         "8.145344793133129e-09"
        ]
       ],
       "shape": {
        "columns": 4,
        "rows": 10
       }
      },
      "text/html": [
       "<div>\n",
       "<style scoped>\n",
       "    .dataframe tbody tr th:only-of-type {\n",
       "        vertical-align: middle;\n",
       "    }\n",
       "\n",
       "    .dataframe tbody tr th {\n",
       "        vertical-align: top;\n",
       "    }\n",
       "\n",
       "    .dataframe thead th {\n",
       "        text-align: right;\n",
       "    }\n",
       "</style>\n",
       "<table border=\"1\" class=\"dataframe\">\n",
       "  <thead>\n",
       "    <tr style=\"text-align: right;\">\n",
       "      <th></th>\n",
       "      <th>lb_stat</th>\n",
       "      <th>lb_pvalue</th>\n",
       "      <th>bp_stat</th>\n",
       "      <th>bp_pvalue</th>\n",
       "    </tr>\n",
       "  </thead>\n",
       "  <tbody>\n",
       "    <tr>\n",
       "      <th>1</th>\n",
       "      <td>11.270807</td>\n",
       "      <td>7.873548e-04</td>\n",
       "      <td>11.161735</td>\n",
       "      <td>8.350179e-04</td>\n",
       "    </tr>\n",
       "    <tr>\n",
       "      <th>2</th>\n",
       "      <td>15.114026</td>\n",
       "      <td>5.224335e-04</td>\n",
       "      <td>14.955363</td>\n",
       "      <td>5.655671e-04</td>\n",
       "    </tr>\n",
       "    <tr>\n",
       "      <th>3</th>\n",
       "      <td>19.980335</td>\n",
       "      <td>1.713427e-04</td>\n",
       "      <td>19.743184</td>\n",
       "      <td>1.918660e-04</td>\n",
       "    </tr>\n",
       "    <tr>\n",
       "      <th>4</th>\n",
       "      <td>32.732989</td>\n",
       "      <td>1.354671e-06</td>\n",
       "      <td>32.249013</td>\n",
       "      <td>1.701508e-06</td>\n",
       "    </tr>\n",
       "    <tr>\n",
       "      <th>5</th>\n",
       "      <td>40.140976</td>\n",
       "      <td>1.398733e-07</td>\n",
       "      <td>39.489722</td>\n",
       "      <td>1.892422e-07</td>\n",
       "    </tr>\n",
       "    <tr>\n",
       "      <th>6</th>\n",
       "      <td>40.871313</td>\n",
       "      <td>3.069692e-07</td>\n",
       "      <td>40.201212</td>\n",
       "      <td>4.158646e-07</td>\n",
       "    </tr>\n",
       "    <tr>\n",
       "      <th>7</th>\n",
       "      <td>41.783907</td>\n",
       "      <td>5.722634e-07</td>\n",
       "      <td>41.087311</td>\n",
       "      <td>7.789389e-07</td>\n",
       "    </tr>\n",
       "    <tr>\n",
       "      <th>8</th>\n",
       "      <td>57.590129</td>\n",
       "      <td>1.381153e-09</td>\n",
       "      <td>56.383655</td>\n",
       "      <td>2.374862e-09</td>\n",
       "    </tr>\n",
       "    <tr>\n",
       "      <th>9</th>\n",
       "      <td>57.999235</td>\n",
       "      <td>3.251354e-09</td>\n",
       "      <td>56.778245</td>\n",
       "      <td>5.572369e-09</td>\n",
       "    </tr>\n",
       "    <tr>\n",
       "      <th>10</th>\n",
       "      <td>59.412935</td>\n",
       "      <td>4.679848e-09</td>\n",
       "      <td>58.137220</td>\n",
       "      <td>8.145345e-09</td>\n",
       "    </tr>\n",
       "  </tbody>\n",
       "</table>\n",
       "</div>"
      ],
      "text/plain": [
       "      lb_stat     lb_pvalue    bp_stat     bp_pvalue\n",
       "1   11.270807  7.873548e-04  11.161735  8.350179e-04\n",
       "2   15.114026  5.224335e-04  14.955363  5.655671e-04\n",
       "3   19.980335  1.713427e-04  19.743184  1.918660e-04\n",
       "4   32.732989  1.354671e-06  32.249013  1.701508e-06\n",
       "5   40.140976  1.398733e-07  39.489722  1.892422e-07\n",
       "6   40.871313  3.069692e-07  40.201212  4.158646e-07\n",
       "7   41.783907  5.722634e-07  41.087311  7.789389e-07\n",
       "8   57.590129  1.381153e-09  56.383655  2.374862e-09\n",
       "9   57.999235  3.251354e-09  56.778245  5.572369e-09\n",
       "10  59.412935  4.679848e-09  58.137220  8.145345e-09"
      ]
     },
     "execution_count": 36,
     "metadata": {},
     "output_type": "execute_result"
    }
   ],
   "source": [
    "resi = pd.Series(model.resid(),rng)\n",
    "acorr_ljungbox(resi, lags=None, boxpierce=True)"
   ]
  },
  {
   "cell_type": "code",
   "execution_count": 37,
   "id": "2339e19f",
   "metadata": {},
   "outputs": [
    {
     "data": {
      "text/plain": [
       "<Axes: >"
      ]
     },
     "execution_count": 37,
     "metadata": {},
     "output_type": "execute_result"
    },
    {
     "data": {
      "image/png": "[encoded data removed]",
      "text/plain": [
       "<Figure size 640x480 with 1 Axes>"
      ]
     },
     "metadata": {},
     "output_type": "display_data"
    }
   ],
   "source": [
    "resi.plot(color = 'blue')"
   ]
  },
  {
   "cell_type": "markdown",
   "id": "75127b25",
   "metadata": {},
   "source": [
    "Note:\n",
    "Based on the Box-Pierce test result and the small p-value, it is likely that the residuals are not white noise, and there is evidence of autocorrelation in the model residuals. However, the white noise test is influenced by year 2020. Therefore, we have performed white noise test on recent 3 years residuals. In recent 3 years the residuals are:"
   ]
  },
  {
   "cell_type": "code",
   "execution_count": 38,
   "id": "917358ff",
   "metadata": {},
   "outputs": [
    {
     "data": {
      "application/vnd.microsoft.datawrangler.viewer.v0+json": {
       "columns": [
        {
         "name": "index",
         "rawType": "int32",
         "type": "integer"
        },
        {
         "name": "lb_stat",
         "rawType": "float64",
         "type": "float"
        },
        {
         "name": "lb_pvalue",
         "rawType": "float64",
         "type": "float"
        },
        {
         "name": "bp_stat",
         "rawType": "float64",
         "type": "float"
        },
        {
         "name": "bp_pvalue",
         "rawType": "float64",
         "type": "float"
        }
       ],
       "ref": "2e6b42b9-ee99-4f23-8830-37ae24452689",
       "rows": [
        [
         "1",
         "0.687736917181162",
         "0.4069352073523741",
         "0.5403647206423416",
         "0.4622816136999268"
        ],
        [
         "2",
         "1.5832938831355252",
         "0.4530979545939915",
         "1.1800482677526012",
         "0.5543139068298182"
        ]
       ],
       "shape": {
        "columns": 4,
        "rows": 2
       }
      },
      "text/html": [
       "<div>\n",
       "<style scoped>\n",
       "    .dataframe tbody tr th:only-of-type {\n",
       "        vertical-align: middle;\n",
       "    }\n",
       "\n",
       "    .dataframe tbody tr th {\n",
       "        vertical-align: top;\n",
       "    }\n",
       "\n",
       "    .dataframe thead th {\n",
       "        text-align: right;\n",
       "    }\n",
       "</style>\n",
       "<table border=\"1\" class=\"dataframe\">\n",
       "  <thead>\n",
       "    <tr style=\"text-align: right;\">\n",
       "      <th></th>\n",
       "      <th>lb_stat</th>\n",
       "      <th>lb_pvalue</th>\n",
       "      <th>bp_stat</th>\n",
       "      <th>bp_pvalue</th>\n",
       "    </tr>\n",
       "  </thead>\n",
       "  <tbody>\n",
       "    <tr>\n",
       "      <th>1</th>\n",
       "      <td>0.687737</td>\n",
       "      <td>0.406935</td>\n",
       "      <td>0.540365</td>\n",
       "      <td>0.462282</td>\n",
       "    </tr>\n",
       "    <tr>\n",
       "      <th>2</th>\n",
       "      <td>1.583294</td>\n",
       "      <td>0.453098</td>\n",
       "      <td>1.180048</td>\n",
       "      <td>0.554314</td>\n",
       "    </tr>\n",
       "  </tbody>\n",
       "</table>\n",
       "</div>"
      ],
      "text/plain": [
       "    lb_stat  lb_pvalue   bp_stat  bp_pvalue\n",
       "1  0.687737   0.406935  0.540365   0.462282\n",
       "2  1.583294   0.453098  1.180048   0.554314"
      ]
     },
     "execution_count": 38,
     "metadata": {},
     "output_type": "execute_result"
    }
   ],
   "source": [
    "resi_21_23 = pd.Series(model.resid(), index=rng)\n",
    "\n",
    "# Filter out the years 2021 to 2023\n",
    "residuals = resi_21_23[resi_21_23.index.year.isin(range(2021, 2024))]\n",
    "acorr_ljungbox(residuals, lags=None, boxpierce=True)"
   ]
  },
  {
   "cell_type": "markdown",
   "id": "0fde845e",
   "metadata": {},
   "source": [
    "### Step 5: Forecasting"
   ]
  },
  {
   "cell_type": "markdown",
   "id": "b070dde2",
   "metadata": {},
   "source": [
    "Making prediction for 1 year\n"
   ]
  },
  {
   "cell_type": "code",
   "execution_count": 39,
   "id": "b86d1f18",
   "metadata": {},
   "outputs": [
    {
     "data": {
      "application/vnd.microsoft.datawrangler.viewer.v0+json": {
       "columns": [
        {
         "name": "index",
         "rawType": "datetime64[ns]",
         "type": "datetime"
        },
        {
         "name": "0",
         "rawType": "float64",
         "type": "float"
        }
       ],
       "ref": "d7216075-9261-4740-8178-4202ede214be",
       "rows": [
        [
         "2024-03-31 00:00:00",
         "22689.402541061798"
        ],
        [
         "2024-06-30 00:00:00",
         "22739.440205705785"
        ],
        [
         "2024-09-30 00:00:00",
         "22923.423768184435"
        ],
        [
         "2024-12-31 00:00:00",
         "23087.97253974768"
        ]
       ],
       "shape": {
        "columns": 1,
        "rows": 4
       }
      },
      "text/plain": [
       "2024-03-31    22689.402541\n",
       "2024-06-30    22739.440206\n",
       "2024-09-30    22923.423768\n",
       "2024-12-31    23087.972540\n",
       "Freq: QE-DEC, dtype: float64"
      ]
     },
     "execution_count": 39,
     "metadata": {},
     "output_type": "execute_result"
    }
   ],
   "source": [
    "model.predict(4)"
   ]
  },
  {
   "cell_type": "markdown",
   "id": "e96401eb",
   "metadata": {},
   "source": [
    "Inference:\n",
    "Forecasted values for CropYeild 2024 - quarters are:\n",
    "Qtr1: 22689.402 Qtr2: 22739.44 Qtr3: 22923.42 Qtr4: 23087.97"
   ]
  }
 ],
 "metadata": {
  "kernelspec": {
   "display_name": "base",
   "language": "python",
   "name": "python3"
  },
  "language_info": {
   "codemirror_mode": {
    "name": "ipython",
    "version": 3
   },
   "file_extension": ".py",
   "mimetype": "text/x-python",
   "name": "python",
   "nbconvert_exporter": "python",
   "pygments_lexer": "ipython3",
   "version": "3.12.7"
  }
 },
 "nbformat": 4,
 "nbformat_minor": 5
}
