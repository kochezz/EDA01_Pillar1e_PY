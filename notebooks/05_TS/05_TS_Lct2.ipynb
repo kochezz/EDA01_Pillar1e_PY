{
 "cells": [
  {
   "cell_type": "markdown",
   "id": "4eada94f",
   "metadata": {},
   "source": [
    "### <ins>Time Series Analysis</ins>\n",
    "\n",
    "##### ARIMA"
   ]
  },
  {
   "cell_type": "code",
   "execution_count": 4,
   "id": "483bf48f",
   "metadata": {},
   "outputs": [],
   "source": [
    "# from arch.unitroot import ADF \n",
    "from statsmodels.tsa.stattools import adfuller\n",
    "\n",
    "\n",
    "def adf_test(timeseries):\n",
    "    print(\"Results of Dickey-Fuller Test:\")\n",
    "    dftest = adfuller(timeseries, autolag=\"AIC\")\n",
    "    dfoutput = pd.Series(\n",
    "        dftest[0:4],\n",
    "        index=[\n",
    "            \"Test Statistic\",\n",
    "            \"p-value\",\n",
    "            \"#Lags Used\",\n",
    "            \"Number of Observations Used\",\n",
    "        ],\n",
    "    )\n",
    "    for key, value in dftest[4].items():\n",
    "        dfoutput[\"Critical Value (%s)\" % key] = value\n",
    "    print(dfoutput)"
   ]
  },
  {
   "cell_type": "code",
   "execution_count": 25,
   "id": "c4070e7a",
   "metadata": {},
   "outputs": [],
   "source": [
    "# Import Libraries\n",
    "\n",
    "# Import Libraries\n",
    "\n",
    "import pandas as pd\n",
    "import numpy as np\n",
    "import matplotlib.pyplot as plt\n",
    "from scipy.stats import chi2_contingency\n",
    "import seaborn as sns\n",
    "import pandas as pd\n",
    "import matplotlib.pyplot as plt\n",
    "from statsmodels.graphics.tsaplots import plot_acf, plot_pacf\n",
    "from arch.unitroot import ADF \n",
    "from statsmodels.tsa.statespace.tools import diff\n",
    "from pmdarima.arima.utils import ndiffs\n",
    "import pmdarima as pm\n",
    "from statsmodels.stats.diagnostic import acorr_ljungbox\n",
    "\n",
    "\n",
    "import os\n",
    "os.chdir(r\"C:\\Users\\willi\\OneDrive\\Documents\\Woolf Institute Data Analytics\\Module 5 Time Series Analysis\\04 Live Data Sets\")"
   ]
  },
  {
   "cell_type": "code",
   "execution_count": 5,
   "id": "79dbd437",
   "metadata": {},
   "outputs": [
    {
     "name": "stdout",
     "output_type": "stream",
     "text": [
      "✅ Dataset Loaded Successfully\n",
      "   Year  Quarter  CROPYIELD\n",
      "0  1947        1   2182.681\n",
      "1  1947        2   2176.892\n",
      "2  1947        3   2172.432\n",
      "3  1947        4   2206.452\n",
      "4  1948        1   2239.682\n"
     ]
    }
   ],
   "source": [
    "# Read in the data\n",
    "cropdata = pd.read_csv(\"CROP DATA.csv\")\n",
    "print(\"✅ Dataset Loaded Successfully\")\n",
    "print(cropdata.head())"
   ]
  },
  {
   "cell_type": "code",
   "execution_count": 6,
   "id": "e3f039d3",
   "metadata": {},
   "outputs": [
    {
     "name": "stdout",
     "output_type": "stream",
     "text": [
      "<class 'pandas.core.frame.DataFrame'>\n",
      "RangeIndex: 308 entries, 0 to 307\n",
      "Data columns (total 3 columns):\n",
      " #   Column     Non-Null Count  Dtype  \n",
      "---  ------     --------------  -----  \n",
      " 0   Year       308 non-null    int64  \n",
      " 1   Quarter    308 non-null    int64  \n",
      " 2   CROPYIELD  308 non-null    float64\n",
      "dtypes: float64(1), int64(2)\n",
      "memory usage: 7.3 KB\n",
      "None\n"
     ]
    }
   ],
   "source": [
    "print(cropdata.info())"
   ]
  },
  {
   "cell_type": "code",
   "execution_count": 7,
   "id": "c1b773df",
   "metadata": {},
   "outputs": [
    {
     "data": {
      "application/vnd.microsoft.datawrangler.viewer.v0+json": {
       "columns": [
        {
         "name": "index",
         "rawType": "int64",
         "type": "integer"
        },
        {
         "name": "Year",
         "rawType": "int64",
         "type": "integer"
        },
        {
         "name": "CROPYIELD",
         "rawType": "float64",
         "type": "float"
        }
       ],
       "ref": "a83c5b69-76d3-4b89-aded-a7dcc3edbd2b",
       "rows": [
        [
         "0",
         "1947",
         "8738.457"
        ],
        [
         "1",
         "1948",
         "9098.506"
        ],
        [
         "2",
         "1949",
         "9047.711"
        ],
        [
         "3",
         "1950",
         "9834.127"
        ],
        [
         "4",
         "1951",
         "10625.28"
        ]
       ],
       "shape": {
        "columns": 2,
        "rows": 5
       }
      },
      "text/html": [
       "<div>\n",
       "<style scoped>\n",
       "    .dataframe tbody tr th:only-of-type {\n",
       "        vertical-align: middle;\n",
       "    }\n",
       "\n",
       "    .dataframe tbody tr th {\n",
       "        vertical-align: top;\n",
       "    }\n",
       "\n",
       "    .dataframe thead th {\n",
       "        text-align: right;\n",
       "    }\n",
       "</style>\n",
       "<table border=\"1\" class=\"dataframe\">\n",
       "  <thead>\n",
       "    <tr style=\"text-align: right;\">\n",
       "      <th></th>\n",
       "      <th>Year</th>\n",
       "      <th>CROPYIELD</th>\n",
       "    </tr>\n",
       "  </thead>\n",
       "  <tbody>\n",
       "    <tr>\n",
       "      <th>0</th>\n",
       "      <td>1947</td>\n",
       "      <td>8738.457</td>\n",
       "    </tr>\n",
       "    <tr>\n",
       "      <th>1</th>\n",
       "      <td>1948</td>\n",
       "      <td>9098.506</td>\n",
       "    </tr>\n",
       "    <tr>\n",
       "      <th>2</th>\n",
       "      <td>1949</td>\n",
       "      <td>9047.711</td>\n",
       "    </tr>\n",
       "    <tr>\n",
       "      <th>3</th>\n",
       "      <td>1950</td>\n",
       "      <td>9834.127</td>\n",
       "    </tr>\n",
       "    <tr>\n",
       "      <th>4</th>\n",
       "      <td>1951</td>\n",
       "      <td>10625.280</td>\n",
       "    </tr>\n",
       "  </tbody>\n",
       "</table>\n",
       "</div>"
      ],
      "text/plain": [
       "   Year  CROPYIELD\n",
       "0  1947   8738.457\n",
       "1  1948   9098.506\n",
       "2  1949   9047.711\n",
       "3  1950   9834.127\n",
       "4  1951  10625.280"
      ]
     },
     "execution_count": 7,
     "metadata": {},
     "output_type": "execute_result"
    }
   ],
   "source": [
    "# Create a Time Series Object\n",
    "cropdata_yearly = cropdata.groupby('Year')['CROPYIELD'].sum().reset_index()\n",
    "cropdata_yearly.head()"
   ]
  },
  {
   "cell_type": "code",
   "execution_count": 12,
   "id": "c61f7749",
   "metadata": {},
   "outputs": [
    {
     "name": "stdout",
     "output_type": "stream",
     "text": [
      "Yield Series: \n",
      " 1947-12-31     8738.457\n",
      "1948-12-31     9098.506\n",
      "1949-12-31     9047.711\n",
      "1950-12-31     9834.127\n",
      "1951-12-31    10625.280\n",
      "                ...    \n",
      "2019-12-31    82768.347\n",
      "2020-12-31    80936.296\n",
      "2021-12-31    85630.770\n",
      "2022-12-31    87288.146\n",
      "2023-12-31    89497.357\n",
      "Freq: YE-DEC, Length: 77, dtype: float64\n"
     ]
    }
   ],
   "source": [
    "rng = pd.date_range('1947','2024',freq='Y') #end = 2024 has to be +1 year since it is exclusive\n",
    "s = cropdata_yearly.CROPYIELD.values\n",
    "yieldseries = pd.Series(s, rng)\n",
    "print(\"Yield Series: \\n\", yieldseries)"
   ]
  },
  {
   "cell_type": "code",
   "execution_count": 13,
   "id": "27613c05",
   "metadata": {},
   "outputs": [
    {
     "data": {
      "text/plain": [
       "<Axes: title={'center': 'Crop Yield Over Time'}>"
      ]
     },
     "execution_count": 13,
     "metadata": {},
     "output_type": "execute_result"
    },
    {
     "data": {
      "image/png": "[encoded data removed]",
      "text/plain": [
       "<Figure size 640x480 with 1 Axes>"
      ]
     },
     "metadata": {},
     "output_type": "display_data"
    }
   ],
   "source": [
    "# Plot the Time Series\n",
    "\n",
    "yieldseries.plot(color='red', title =\"Crop Yield Over Time\")"
   ]
  },
  {
   "cell_type": "code",
   "execution_count": 14,
   "id": "96bed451",
   "metadata": {},
   "outputs": [
    {
     "data": {
      "image/png": "[encoded data removed]",
      "text/plain": [
       "<Figure size 640x480 with 1 Axes>"
      ]
     },
     "metadata": {},
     "output_type": "display_data"
    }
   ],
   "source": [
    "# Correlogram\n",
    "\n",
    "plot_acf(yieldseries)\n",
    "plt.show()"
   ]
  },
  {
   "cell_type": "markdown",
   "id": "44c37791",
   "metadata": {},
   "source": [
    "Inference:\n",
    "We can see a very slow decay. Hence, it’s a sign of non-stationary"
   ]
  },
  {
   "cell_type": "markdown",
   "id": "9cc02a86",
   "metadata": {},
   "source": [
    "### Dickey Fuller Test"
   ]
  },
  {
   "cell_type": "code",
   "execution_count": 15,
   "id": "6972efe0",
   "metadata": {},
   "outputs": [
    {
     "data": {
      "text/html": [
       "<table class=\"simpletable\">\n",
       "<caption>Augmented Dickey-Fuller Results</caption>\n",
       "<tr>\n",
       "  <td>Test Statistic</td>    <td>10.991</td>\n",
       "</tr>\n",
       "<tr>\n",
       "  <td>P-value</td>            <td>1.000</td>\n",
       "</tr>\n",
       "<tr>\n",
       "  <td>Lags</td>                   <td>0</td>\n",
       "</tr>\n",
       "</table><br/><br/>Trend: No Trend<br/>Critical Values: -2.60 (1%), -1.95 (5%), -1.61 (10%)<br/>Null Hypothesis: The process contains a unit root.<br/>Alternative Hypothesis: The process is weakly stationary."
      ],
      "text/latex": [
       "\\begin{center}\n",
       "\\begin{tabular}{lr}\n",
       "\\toprule\n",
       "Test Statistic     &             10.991  \\\\\n",
       "P-value            &              1.000  \\\\\n",
       "Lags               &                  0  \\\\\n",
       "\\bottomrule\n",
       "\\end{tabular}\n",
       "%\\caption{Augmented Dickey-Fuller Results}\n",
       "\\end{center}\n",
       "\n",
       "Trend: No Trend \\newline\n",
       " Critical Values: -2.60 (1%), -1.95 (5%), -1.61 (10%) \\newline\n",
       " Null Hypothesis: The process contains a unit root. \\newline\n",
       " Alternative Hypothesis: The process is weakly stationary."
      ],
      "text/plain": [
       "<class 'statsmodels.iolib.summary.Summary'>\n",
       "\"\"\"\n",
       "   Augmented Dickey-Fuller Results   \n",
       "=====================================\n",
       "Test Statistic                 10.991\n",
       "P-value                         1.000\n",
       "Lags                                0\n",
       "-------------------------------------\n",
       "\n",
       "Trend: No Trend\n",
       "Critical Values: -2.60 (1%), -1.95 (5%), -1.61 (10%)\n",
       "Null Hypothesis: The process contains a unit root.\n",
       "Alternative Hypothesis: The process is weakly stationary.\n",
       "\"\"\""
      ]
     },
     "execution_count": 15,
     "metadata": {},
     "output_type": "execute_result"
    }
   ],
   "source": [
    "adf = ADF(yieldseries,lags=0,trend='n')\n",
    "adf.summary()"
   ]
  },
  {
   "cell_type": "code",
   "execution_count": 26,
   "id": "099d0ed4",
   "metadata": {},
   "outputs": [
    {
     "name": "stdout",
     "output_type": "stream",
     "text": [
      "Number of differences needed: 2\n"
     ]
    }
   ],
   "source": [
    "diffs = ndiffs(yieldseries)\n",
    "print(\"Number of differences needed:\", diffs)"
   ]
  },
  {
   "cell_type": "code",
   "execution_count": 17,
   "id": "7bed43bd",
   "metadata": {},
   "outputs": [
    {
     "data": {
      "text/plain": [
       "<Axes: >"
      ]
     },
     "execution_count": 17,
     "metadata": {},
     "output_type": "execute_result"
    },
    {
     "data": {
      "image/png": "[encoded data removed]",
      "text/plain": [
       "<Figure size 640x480 with 1 Axes>"
      ]
     },
     "metadata": {},
     "output_type": "display_data"
    }
   ],
   "source": [
    "yielddiff = diff(yieldseries)\n",
    "yielddiff2 = diff(yielddiff)\n",
    "yielddiff2.plot(color='red')"
   ]
  },
  {
   "cell_type": "code",
   "execution_count": 22,
   "id": "ce2b0f54",
   "metadata": {},
   "outputs": [
    {
     "data": {
      "image/png": "[encoded data removed]",
      "text/plain": [
       "<Figure size 1200x400 with 2 Axes>"
      ]
     },
     "metadata": {},
     "output_type": "display_data"
    }
   ],
   "source": [
    "# Plot ACF and PACF side by side\n",
    "fig, axes = plt.subplots(1, 2, figsize=(12, 4))\n",
    "\n",
    "# ACF plot\n",
    "plot_acf(yielddiff2, ax=axes[0])\n",
    "axes[0].set_title('Autocorrelation Function')\n",
    "\n",
    "# PACF plot\n",
    "plot_pacf(yielddiff2, ax=axes[1])\n",
    "axes[1].set_title('Partial Autocorrelation Function')\n",
    "\n",
    "plt.show()"
   ]
  },
  {
   "cell_type": "code",
   "execution_count": 23,
   "id": "85e0f8be",
   "metadata": {},
   "outputs": [
    {
     "data": {
      "text/html": [
       "<table class=\"simpletable\">\n",
       "<caption>Augmented Dickey-Fuller Results</caption>\n",
       "<tr>\n",
       "  <td>Test Statistic</td>   <td>-15.226</td>\n",
       "</tr>\n",
       "<tr>\n",
       "  <td>P-value</td>            <td>0.000</td>\n",
       "</tr>\n",
       "<tr>\n",
       "  <td>Lags</td>                   <td>0</td>\n",
       "</tr>\n",
       "</table><br/><br/>Trend: No Trend<br/>Critical Values: -2.60 (1%), -1.95 (5%), -1.61 (10%)<br/>Null Hypothesis: The process contains a unit root.<br/>Alternative Hypothesis: The process is weakly stationary."
      ],
      "text/latex": [
       "\\begin{center}\n",
       "\\begin{tabular}{lr}\n",
       "\\toprule\n",
       "Test Statistic     &            -15.226  \\\\\n",
       "P-value            &              0.000  \\\\\n",
       "Lags               &                  0  \\\\\n",
       "\\bottomrule\n",
       "\\end{tabular}\n",
       "%\\caption{Augmented Dickey-Fuller Results}\n",
       "\\end{center}\n",
       "\n",
       "Trend: No Trend \\newline\n",
       " Critical Values: -2.60 (1%), -1.95 (5%), -1.61 (10%) \\newline\n",
       " Null Hypothesis: The process contains a unit root. \\newline\n",
       " Alternative Hypothesis: The process is weakly stationary."
      ],
      "text/plain": [
       "<class 'statsmodels.iolib.summary.Summary'>\n",
       "\"\"\"\n",
       "   Augmented Dickey-Fuller Results   \n",
       "=====================================\n",
       "Test Statistic                -15.226\n",
       "P-value                         0.000\n",
       "Lags                                0\n",
       "-------------------------------------\n",
       "\n",
       "Trend: No Trend\n",
       "Critical Values: -2.60 (1%), -1.95 (5%), -1.61 (10%)\n",
       "Null Hypothesis: The process contains a unit root.\n",
       "Alternative Hypothesis: The process is weakly stationary.\n",
       "\"\"\""
      ]
     },
     "execution_count": 23,
     "metadata": {},
     "output_type": "execute_result"
    }
   ],
   "source": [
    "adf = ADF(yielddiff2,lags=0,trend='n')\n",
    "adf.summary()"
   ]
  },
  {
   "cell_type": "markdown",
   "id": "3fb7f523",
   "metadata": {},
   "source": [
    "#### Step Two and Three: Model Identification and Parameter Estimation\n",
    "\n",
    "###### ARIMA Model\n",
    "\n",
    "Although, Indicative Statistical Model is (1,2,1), we will be considering p=2 and q=2 for auto.arima"
   ]
  },
  {
   "cell_type": "code",
   "execution_count": 27,
   "id": "922cc741",
   "metadata": {},
   "outputs": [
    {
     "name": "stdout",
     "output_type": "stream",
     "text": [
      "Performing stepwise search to minimize aic\n",
      " ARIMA(2,2,2)(0,0,0)[0] intercept   : AIC=inf, Time=0.45 sec\n",
      " ARIMA(0,2,0)(0,0,0)[0] intercept   : AIC=1283.929, Time=0.01 sec\n",
      " ARIMA(1,2,0)(0,0,0)[0] intercept   : AIC=1267.411, Time=0.02 sec\n",
      " ARIMA(0,2,1)(0,0,0)[0] intercept   : AIC=inf, Time=0.06 sec\n",
      " ARIMA(0,2,0)(0,0,0)[0]             : AIC=1281.960, Time=0.01 sec\n",
      " ARIMA(2,2,0)(0,0,0)[0] intercept   : AIC=1261.666, Time=0.07 sec\n",
      " ARIMA(2,2,1)(0,0,0)[0] intercept   : AIC=inf, Time=0.16 sec\n",
      " ARIMA(1,2,1)(0,0,0)[0] intercept   : AIC=inf, Time=0.10 sec\n",
      " ARIMA(2,2,0)(0,0,0)[0]             : AIC=1259.699, Time=0.02 sec\n",
      " ARIMA(1,2,0)(0,0,0)[0]             : AIC=1265.363, Time=0.02 sec\n",
      " ARIMA(2,2,1)(0,0,0)[0]             : AIC=1247.884, Time=0.09 sec\n",
      " ARIMA(1,2,1)(0,0,0)[0]             : AIC=1245.917, Time=0.06 sec\n",
      " ARIMA(0,2,1)(0,0,0)[0]             : AIC=1244.431, Time=0.03 sec\n",
      " ARIMA(0,2,2)(0,0,0)[0]             : AIC=1245.903, Time=0.06 sec\n",
      " ARIMA(1,2,2)(0,0,0)[0]             : AIC=1248.282, Time=0.06 sec\n",
      "\n",
      "Best model:  ARIMA(0,2,1)(0,0,0)[0]          \n",
      "Total fit time: 1.225 seconds\n"
     ]
    }
   ],
   "source": [
    "model = pm.auto_arima(yieldseries, max_p=2, max_q=2, d=2, seasonal=False, trace=True)"
   ]
  },
  {
   "cell_type": "code",
   "execution_count": 28,
   "id": "72e2274a",
   "metadata": {},
   "outputs": [
    {
     "data": {
      "application/vnd.microsoft.datawrangler.viewer.v0+json": {
       "columns": [
        {
         "name": "index",
         "rawType": "object",
         "type": "string"
        },
        {
         "name": "0",
         "rawType": "float64",
         "type": "float"
        }
       ],
       "ref": "6b299222-96da-4570-9fc0-6cfa94249f85",
       "rows": [
        [
         "ma.L1",
         "-0.8985737926602209"
        ],
        [
         "sigma2",
         "822606.2246540758"
        ]
       ],
       "shape": {
        "columns": 1,
        "rows": 2
       }
      },
      "text/plain": [
       "ma.L1         -0.898574\n",
       "sigma2    822606.224654\n",
       "dtype: float64"
      ]
     },
     "execution_count": 28,
     "metadata": {},
     "output_type": "execute_result"
    }
   ],
   "source": [
    "model.params()"
   ]
  },
  {
   "cell_type": "code",
   "execution_count": 29,
   "id": "c168c93e",
   "metadata": {},
   "outputs": [
    {
     "data": {
      "text/plain": [
       "1244.4313001286037"
      ]
     },
     "execution_count": 29,
     "metadata": {},
     "output_type": "execute_result"
    }
   ],
   "source": [
    "model.aic()"
   ]
  },
  {
   "cell_type": "markdown",
   "id": "2d2ca794",
   "metadata": {},
   "source": [
    "Diagnostic Checking"
   ]
  },
  {
   "cell_type": "code",
   "execution_count": 30,
   "id": "6ccfe8ef",
   "metadata": {},
   "outputs": [
    {
     "data": {
      "application/vnd.microsoft.datawrangler.viewer.v0+json": {
       "columns": [
        {
         "name": "index",
         "rawType": "int32",
         "type": "integer"
        },
        {
         "name": "lb_stat",
         "rawType": "float64",
         "type": "float"
        },
        {
         "name": "lb_pvalue",
         "rawType": "float64",
         "type": "float"
        },
        {
         "name": "bp_stat",
         "rawType": "float64",
         "type": "float"
        },
        {
         "name": "bp_pvalue",
         "rawType": "float64",
         "type": "float"
        }
       ],
       "ref": "0861263e-15ad-46c3-a9ee-bf8c848e6f5f",
       "rows": [
        [
         "1",
         "1.95244698376349",
         "0.16232340878146972",
         "1.878303427418041",
         "0.17052709961816442"
        ],
        [
         "2",
         "2.54445265062303",
         "0.28020709468873145",
         "2.4403341238036806",
         "0.2951808493305074"
        ],
        [
         "3",
         "2.6614011697809143",
         "0.4468266631891581",
         "2.5498808379515725",
         "0.4663439048283663"
        ],
        [
         "4",
         "2.6665222658640615",
         "0.6150853649245744",
         "2.5546129900284047",
         "0.6348839121959422"
        ],
        [
         "5",
         "2.748127967689448",
         "0.7387482090648396",
         "2.6289878068819212",
         "0.75695614469696"
        ],
        [
         "6",
         "2.7496600616469644",
         "0.8395470936219471",
         "2.6303647520842466",
         "0.8536019778219995"
        ],
        [
         "7",
         "2.7963957916495668",
         "0.903176852820294",
         "2.6717761584156663",
         "0.9136166183181932"
        ],
        [
         "8",
         "2.8920101283490114",
         "0.9409504859027065",
         "2.7552874145202444",
         "0.9487637708582645"
        ],
        [
         "9",
         "3.064982552411557",
         "0.9616627507958015",
         "2.904175070675347",
         "0.9679730875819073"
        ],
        [
         "10",
         "3.319377787896502",
         "0.972878392922133",
         "3.1199279919094143",
         "0.9784590940706027"
        ]
       ],
       "shape": {
        "columns": 4,
        "rows": 10
       }
      },
      "text/html": [
       "<div>\n",
       "<style scoped>\n",
       "    .dataframe tbody tr th:only-of-type {\n",
       "        vertical-align: middle;\n",
       "    }\n",
       "\n",
       "    .dataframe tbody tr th {\n",
       "        vertical-align: top;\n",
       "    }\n",
       "\n",
       "    .dataframe thead th {\n",
       "        text-align: right;\n",
       "    }\n",
       "</style>\n",
       "<table border=\"1\" class=\"dataframe\">\n",
       "  <thead>\n",
       "    <tr style=\"text-align: right;\">\n",
       "      <th></th>\n",
       "      <th>lb_stat</th>\n",
       "      <th>lb_pvalue</th>\n",
       "      <th>bp_stat</th>\n",
       "      <th>bp_pvalue</th>\n",
       "    </tr>\n",
       "  </thead>\n",
       "  <tbody>\n",
       "    <tr>\n",
       "      <th>1</th>\n",
       "      <td>1.952447</td>\n",
       "      <td>0.162323</td>\n",
       "      <td>1.878303</td>\n",
       "      <td>0.170527</td>\n",
       "    </tr>\n",
       "    <tr>\n",
       "      <th>2</th>\n",
       "      <td>2.544453</td>\n",
       "      <td>0.280207</td>\n",
       "      <td>2.440334</td>\n",
       "      <td>0.295181</td>\n",
       "    </tr>\n",
       "    <tr>\n",
       "      <th>3</th>\n",
       "      <td>2.661401</td>\n",
       "      <td>0.446827</td>\n",
       "      <td>2.549881</td>\n",
       "      <td>0.466344</td>\n",
       "    </tr>\n",
       "    <tr>\n",
       "      <th>4</th>\n",
       "      <td>2.666522</td>\n",
       "      <td>0.615085</td>\n",
       "      <td>2.554613</td>\n",
       "      <td>0.634884</td>\n",
       "    </tr>\n",
       "    <tr>\n",
       "      <th>5</th>\n",
       "      <td>2.748128</td>\n",
       "      <td>0.738748</td>\n",
       "      <td>2.628988</td>\n",
       "      <td>0.756956</td>\n",
       "    </tr>\n",
       "    <tr>\n",
       "      <th>6</th>\n",
       "      <td>2.749660</td>\n",
       "      <td>0.839547</td>\n",
       "      <td>2.630365</td>\n",
       "      <td>0.853602</td>\n",
       "    </tr>\n",
       "    <tr>\n",
       "      <th>7</th>\n",
       "      <td>2.796396</td>\n",
       "      <td>0.903177</td>\n",
       "      <td>2.671776</td>\n",
       "      <td>0.913617</td>\n",
       "    </tr>\n",
       "    <tr>\n",
       "      <th>8</th>\n",
       "      <td>2.892010</td>\n",
       "      <td>0.940950</td>\n",
       "      <td>2.755287</td>\n",
       "      <td>0.948764</td>\n",
       "    </tr>\n",
       "    <tr>\n",
       "      <th>9</th>\n",
       "      <td>3.064983</td>\n",
       "      <td>0.961663</td>\n",
       "      <td>2.904175</td>\n",
       "      <td>0.967973</td>\n",
       "    </tr>\n",
       "    <tr>\n",
       "      <th>10</th>\n",
       "      <td>3.319378</td>\n",
       "      <td>0.972878</td>\n",
       "      <td>3.119928</td>\n",
       "      <td>0.978459</td>\n",
       "    </tr>\n",
       "  </tbody>\n",
       "</table>\n",
       "</div>"
      ],
      "text/plain": [
       "     lb_stat  lb_pvalue   bp_stat  bp_pvalue\n",
       "1   1.952447   0.162323  1.878303   0.170527\n",
       "2   2.544453   0.280207  2.440334   0.295181\n",
       "3   2.661401   0.446827  2.549881   0.466344\n",
       "4   2.666522   0.615085  2.554613   0.634884\n",
       "5   2.748128   0.738748  2.628988   0.756956\n",
       "6   2.749660   0.839547  2.630365   0.853602\n",
       "7   2.796396   0.903177  2.671776   0.913617\n",
       "8   2.892010   0.940950  2.755287   0.948764\n",
       "9   3.064983   0.961663  2.904175   0.967973\n",
       "10  3.319378   0.972878  3.119928   0.978459"
      ]
     },
     "execution_count": 30,
     "metadata": {},
     "output_type": "execute_result"
    }
   ],
   "source": [
    "resi = pd.Series(model.resid(),rng)\n",
    "acorr_ljungbox(resi, lags=None, boxpierce=True)"
   ]
  },
  {
   "cell_type": "code",
   "execution_count": 31,
   "id": "0d8ff4a6",
   "metadata": {},
   "outputs": [
    {
     "data": {
      "text/plain": [
       "<Axes: >"
      ]
     },
     "execution_count": 31,
     "metadata": {},
     "output_type": "execute_result"
    },
    {
     "data": {
      "image/png": "[encoded data removed]",
      "text/plain": [
       "<Figure size 640x480 with 1 Axes>"
      ]
     },
     "metadata": {},
     "output_type": "display_data"
    }
   ],
   "source": [
    "resi.plot(color = 'red')"
   ]
  },
  {
   "cell_type": "markdown",
   "id": "06c48a62",
   "metadata": {},
   "source": [
    "Since the p value > 0.05, the errors are assumed to be white noise"
   ]
  },
  {
   "cell_type": "markdown",
   "id": "d1d9822e",
   "metadata": {},
   "source": [
    "## Forecasting\n",
    "\n",
    "Horizon = Prediction period"
   ]
  },
  {
   "cell_type": "code",
   "execution_count": 32,
   "id": "51c2ebb5",
   "metadata": {},
   "outputs": [
    {
     "data": {
      "application/vnd.microsoft.datawrangler.viewer.v0+json": {
       "columns": [
        {
         "name": "index",
         "rawType": "datetime64[ns]",
         "type": "datetime"
        },
        {
         "name": "0",
         "rawType": "float64",
         "type": "float"
        }
       ],
       "ref": "3116d7e0-0351-43c7-8e32-816df3967a06",
       "rows": [
        [
         "2024-12-31 00:00:00",
         "91138.30186867678"
        ],
        [
         "2025-12-31 00:00:00",
         "92779.24673735355"
        ],
        [
         "2026-12-31 00:00:00",
         "94420.19160603032"
        ]
       ],
       "shape": {
        "columns": 1,
        "rows": 3
       }
      },
      "text/plain": [
       "2024-12-31    91138.301869\n",
       "2025-12-31    92779.246737\n",
       "2026-12-31    94420.191606\n",
       "Freq: YE-DEC, dtype: float64"
      ]
     },
     "execution_count": 32,
     "metadata": {},
     "output_type": "execute_result"
    }
   ],
   "source": [
    "model.predict(1)\n",
    "model.predict(2)\n",
    "model.predict(3)"
   ]
  }
 ],
 "metadata": {
  "kernelspec": {
   "display_name": "base",
   "language": "python",
   "name": "python3"
  },
  "language_info": {
   "codemirror_mode": {
    "name": "ipython",
    "version": 3
   },
   "file_extension": ".py",
   "mimetype": "text/x-python",
   "name": "python",
   "nbconvert_exporter": "python",
   "pygments_lexer": "ipython3",
   "version": "3.12.7"
  }
 },
 "nbformat": 4,
 "nbformat_minor": 5
}
