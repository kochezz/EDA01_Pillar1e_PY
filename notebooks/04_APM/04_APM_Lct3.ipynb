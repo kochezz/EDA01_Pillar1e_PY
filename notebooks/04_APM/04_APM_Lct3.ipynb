{
 "cells": [
  {
   "cell_type": "markdown",
   "id": "fc8eed60",
   "metadata": {},
   "source": [
    "# LCT 3 APM"
   ]
  },
  {
   "cell_type": "code",
   "execution_count": 12,
   "id": "05cb9aa7",
   "metadata": {},
   "outputs": [],
   "source": [
    "# Import Libraries\n",
    "\n",
    "import pandas as pd\n",
    "import numpy as np\n",
    "import matplotlib.pyplot as plt\n",
    "from scipy.stats import chi2_contingency\n",
    "import seaborn as sns\n",
    "import statsmodels.api as sm\n",
    "import scipy as sp\n",
    "import statsmodels.formula.api as smf\n",
    "from sklearn.model_selection import train_test_split\n",
    "import statsmodels.stats.api as sms\n",
    "import statsmodels.stats.proportion as ssp\n",
    "from sklearn.metrics import mean_squared_error, r2_score\n",
    "from sklearn.metrics import confusion_matrix, classification_report\n",
    "from sklearn.metrics import roc_curve, roc_auc_score\n",
    "from sklearn.metrics import classification_report\n",
    "from statsmodels.stats.outliers_influence import variance_inflation_factor\n",
    "import patsy\n",
    "import warnings\n",
    "warnings.filterwarnings(\"ignore\")\n",
    "import os\n",
    "os.chdir(r\"C:\\Users\\willi\\OneDrive\\Documents\\Woolf Institute Data Analytics\\Module 4 Advanced Predictive Modelling\\04_ Live Class Data Sets\")"
   ]
  },
  {
   "cell_type": "code",
   "execution_count": 2,
   "id": "1a2364e0",
   "metadata": {},
   "outputs": [
    {
     "name": "stdout",
     "output_type": "stream",
     "text": [
      "✅ Dataset Loaded Successfully\n",
      "<class 'pandas.core.frame.DataFrame'>\n",
      "RangeIndex: 700 entries, 0 to 699\n",
      "Data columns (total 8 columns):\n",
      " #   Column     Non-Null Count  Dtype  \n",
      "---  ------     --------------  -----  \n",
      " 0   SN         700 non-null    int64  \n",
      " 1   AGE        700 non-null    int64  \n",
      " 2   EMPLOY     700 non-null    int64  \n",
      " 3   ADDRESS    700 non-null    int64  \n",
      " 4   DEBTINC    700 non-null    float64\n",
      " 5   CREDDEBT   700 non-null    float64\n",
      " 6   OTHDEBT    700 non-null    float64\n",
      " 7   DEFAULTER  700 non-null    int64  \n",
      "dtypes: float64(3), int64(5)\n",
      "memory usage: 43.9 KB\n",
      "None\n",
      "              SN         AGE      EMPLOY     ADDRESS     DEBTINC    CREDDEBT  \\\n",
      "count  700.00000  700.000000  700.000000  700.000000  700.000000  700.000000   \n",
      "mean   350.50000    1.902857    8.388571    8.278571   10.260571    1.553457   \n",
      "std    202.21688    0.765301    6.658039    6.824877    6.827234    2.117209   \n",
      "min      1.00000    1.000000    0.000000    0.000000    0.400000    0.010000   \n",
      "25%    175.75000    1.000000    3.000000    3.000000    5.000000    0.370000   \n",
      "50%    350.50000    2.000000    7.000000    7.000000    8.600000    0.855000   \n",
      "75%    525.25000    2.000000   12.000000   12.000000   14.125000    1.905000   \n",
      "max    700.00000    3.000000   31.000000   34.000000   41.300000   20.560000   \n",
      "\n",
      "          OTHDEBT   DEFAULTER  \n",
      "count  700.000000  700.000000  \n",
      "mean     3.058229    0.261429  \n",
      "std      3.287524    0.439727  \n",
      "min      0.050000    0.000000  \n",
      "25%      1.047500    0.000000  \n",
      "50%      1.985000    0.000000  \n",
      "75%      3.927500    1.000000  \n",
      "max     27.030000    1.000000  \n"
     ]
    }
   ],
   "source": [
    "# Import Data\n",
    "bankloan = pd.read_csv(\"BANK LOAN.csv\")\n",
    "print(\"✅ Dataset Loaded Successfully\")\n",
    "print(bankloan.info())\n",
    "print(bankloan.describe())"
   ]
  },
  {
   "cell_type": "code",
   "execution_count": 3,
   "id": "cf7c3351",
   "metadata": {},
   "outputs": [
    {
     "name": "stdout",
     "output_type": "stream",
     "text": [
      "<class 'pandas.core.frame.DataFrame'>\n",
      "RangeIndex: 700 entries, 0 to 699\n",
      "Data columns (total 8 columns):\n",
      " #   Column     Non-Null Count  Dtype   \n",
      "---  ------     --------------  -----   \n",
      " 0   SN         700 non-null    int64   \n",
      " 1   AGE        700 non-null    category\n",
      " 2   EMPLOY     700 non-null    int64   \n",
      " 3   ADDRESS    700 non-null    int64   \n",
      " 4   DEBTINC    700 non-null    float64 \n",
      " 5   CREDDEBT   700 non-null    float64 \n",
      " 6   OTHDEBT    700 non-null    float64 \n",
      " 7   DEFAULTER  700 non-null    int64   \n",
      "dtypes: category(1), float64(3), int64(4)\n",
      "memory usage: 39.2 KB\n"
     ]
    }
   ],
   "source": [
    "# Change \"AGE\" variable to categorical\n",
    "\n",
    "bankloan['AGE']=bankloan['AGE'].astype('category')\n",
    "\n",
    "bankloan.info()\n"
   ]
  },
  {
   "cell_type": "code",
   "execution_count": 4,
   "id": "74a3c449",
   "metadata": {},
   "outputs": [
    {
     "name": "stdout",
     "output_type": "stream",
     "text": [
      "Optimization terminated successfully.\n",
      "         Current function value: 0.395291\n",
      "         Iterations 7\n",
      "                           Logit Regression Results                           \n",
      "==============================================================================\n",
      "Dep. Variable:              DEFAULTER   No. Observations:                  700\n",
      "Model:                          Logit   Df Residuals:                      692\n",
      "Method:                           MLE   Df Model:                            7\n",
      "Date:                Sat, 10 May 2025   Pseudo R-squ.:                  0.3120\n",
      "Time:                        09:23:07   Log-Likelihood:                -276.70\n",
      "converged:                       True   LL-Null:                       -402.18\n",
      "Covariance Type:            nonrobust   LLR p-value:                 1.733e-50\n",
      "==============================================================================\n",
      "                 coef    std err          z      P>|z|      [0.025      0.975]\n",
      "------------------------------------------------------------------------------\n",
      "Intercept     -0.7882      0.264     -2.985      0.003      -1.306      -0.271\n",
      "AGE[T.2]       0.2520      0.267      0.946      0.344      -0.270       0.774\n",
      "AGE[T.3]       0.6271      0.361      1.739      0.082      -0.080       1.334\n",
      "EMPLOY        -0.2617      0.032     -8.211      0.000      -0.324      -0.199\n",
      "ADDRESS       -0.0996      0.022     -4.459      0.000      -0.143      -0.056\n",
      "DEBTINC        0.0851      0.022      3.845      0.000       0.042       0.128\n",
      "CREDDEBT       0.5634      0.089      6.347      0.000       0.389       0.737\n",
      "OTHDEBT        0.0231      0.057      0.405      0.685      -0.089       0.135\n",
      "==============================================================================\n"
     ]
    }
   ],
   "source": [
    "# Logisticc regression using Logit function\n",
    "\n",
    "riskmodel = smf.logit(formula = 'DEFAULTER ~ AGE + EMPLOY + ADDRESS + DEBTINC + CREDDEBT + OTHDEBT', data = bankloan).fit()\n",
    "print(riskmodel.summary())"
   ]
  },
  {
   "cell_type": "code",
   "execution_count": 5,
   "id": "b8d3745b",
   "metadata": {},
   "outputs": [
    {
     "name": "stdout",
     "output_type": "stream",
     "text": [
      "Optimization terminated successfully.\n",
      "         Current function value: 0.397671\n",
      "         Iterations 7\n",
      "                           Logit Regression Results                           \n",
      "==============================================================================\n",
      "Dep. Variable:              DEFAULTER   No. Observations:                  700\n",
      "Model:                          Logit   Df Residuals:                      695\n",
      "Method:                           MLE   Df Model:                            4\n",
      "Date:                Sat, 10 May 2025   Pseudo R-squ.:                  0.3079\n",
      "Time:                        09:24:33   Log-Likelihood:                -278.37\n",
      "converged:                       True   LL-Null:                       -402.18\n",
      "Covariance Type:            nonrobust   LLR p-value:                 2.114e-52\n",
      "==============================================================================\n",
      "                 coef    std err          z      P>|z|      [0.025      0.975]\n",
      "------------------------------------------------------------------------------\n",
      "Intercept     -0.7911      0.252     -3.145      0.002      -1.284      -0.298\n",
      "EMPLOY        -0.2426      0.028     -8.646      0.000      -0.298      -0.188\n",
      "ADDRESS       -0.0812      0.020     -4.144      0.000      -0.120      -0.043\n",
      "DEBTINC        0.0883      0.019      4.760      0.000       0.052       0.125\n",
      "CREDDEBT       0.5729      0.087      6.566      0.000       0.402       0.744\n",
      "==============================================================================\n"
     ]
    }
   ],
   "source": [
    "# Re-run model with finalized variables\n",
    "riskmodel = smf.logit(formula = 'DEFAULTER ~  EMPLOY + ADDRESS + DEBTINC + CREDDEBT', data = bankloan).fit()\n",
    "print(riskmodel.summary())"
   ]
  },
  {
   "cell_type": "markdown",
   "id": "2abf9aba",
   "metadata": {},
   "source": [
    "Cross Validation"
   ]
  },
  {
   "cell_type": "code",
   "execution_count": 15,
   "id": "5bd900ce",
   "metadata": {},
   "outputs": [
    {
     "name": "stdout",
     "output_type": "stream",
     "text": [
      "✅ Data Split into Training and Test Sets\n"
     ]
    }
   ],
   "source": [
    "# Split the data into training and test sets\n",
    "\n",
    "X_train, X_test = train_test_split(bankloan, test_size=0.3, random_state=42)\n",
    "print(\"✅ Data Split into Training and Test Sets\")\n"
   ]
  },
  {
   "cell_type": "code",
   "execution_count": 11,
   "id": "30b5394b",
   "metadata": {},
   "outputs": [
    {
     "name": "stdout",
     "output_type": "stream",
     "text": [
      "X-Train Shape: (490, 8)\n"
     ]
    }
   ],
   "source": [
    "print(\"X-Train Shape:\",X_train.shape)\n"
   ]
  },
  {
   "cell_type": "code",
   "execution_count": 10,
   "id": "b9fe1394",
   "metadata": {},
   "outputs": [
    {
     "name": "stdout",
     "output_type": "stream",
     "text": [
      "X-Test Shape: (210, 8)\n"
     ]
    }
   ],
   "source": [
    "print(\"X-Test Shape:\",X_test.shape)"
   ]
  },
  {
   "cell_type": "markdown",
   "id": "a15d6c95",
   "metadata": {},
   "source": [
    "Generate Classification Report"
   ]
  },
  {
   "cell_type": "code",
   "execution_count": 13,
   "id": "1390e786",
   "metadata": {},
   "outputs": [
    {
     "name": "stdout",
     "output_type": "stream",
     "text": [
      "Optimization terminated successfully.\n",
      "         Current function value: 0.385825\n",
      "         Iterations 7\n",
      "              precision    recall  f1-score   support\n",
      "\n",
      "           0       0.90      0.81      0.86       370\n",
      "           1       0.56      0.73      0.64       120\n",
      "\n",
      "    accuracy                           0.79       490\n",
      "   macro avg       0.73      0.77      0.75       490\n",
      "weighted avg       0.82      0.79      0.80       490\n",
      "\n"
     ]
    }
   ],
   "source": [
    "# Confusion Matrix\n",
    "\n",
    "riskmodel=smf.logit(formula = 'DEFAULTER ~  EMPLOY + ADDRESS + DEBTINC + CREDDEBT', data = X_train).fit()\n",
    "\n",
    "predicted_values1=riskmodel.predict()\n",
    "threshold=0.3\n",
    "predicted_class1=np.zeros(predicted_values1.shape)\n",
    "predicted_class1[predicted_values1>threshold]=1\n",
    "\n",
    "from sklearn.metrics import classification_report\n",
    "print(classification_report(X_train['DEFAULTER'],predicted_class1))\n"
   ]
  },
  {
   "cell_type": "code",
   "execution_count": 16,
   "id": "aff87a1f",
   "metadata": {},
   "outputs": [
    {
     "name": "stdout",
     "output_type": "stream",
     "text": [
      "              precision    recall  f1-score   support\n",
      "\n",
      "           0       0.93      0.86      0.89       161\n",
      "           1       0.62      0.78      0.69        49\n",
      "\n",
      "    accuracy                           0.84       210\n",
      "   macro avg       0.77      0.82      0.79       210\n",
      "weighted avg       0.86      0.84      0.84       210\n",
      "\n"
     ]
    }
   ],
   "source": [
    "# Classification Report for Test data\n",
    "\n",
    "predicted_values1=riskmodel.predict(X_test)\n",
    "threshold=0.3\n",
    "predicted_class1=np.zeros(predicted_values1.shape)\n",
    "predicted_class1[predicted_values1>threshold]=1\n",
    "\n",
    "print(classification_report(X_test['DEFAULTER'],predicted_class1))\n"
   ]
  },
  {
   "cell_type": "code",
   "execution_count": 18,
   "id": "7d7b1d86",
   "metadata": {},
   "outputs": [
    {
     "name": "stdout",
     "output_type": "stream",
     "text": [
      "              precision    recall  f1-score   support\n",
      "\n",
      "           0       0.90      0.80      0.85       517\n",
      "           1       0.57      0.75      0.65       183\n",
      "\n",
      "    accuracy                           0.79       700\n",
      "   macro avg       0.74      0.78      0.75       700\n",
      "weighted avg       0.82      0.79      0.80       700\n",
      "\n"
     ]
    }
   ],
   "source": [
    "# K-Fold Cross Validation\n",
    "from sklearn import linear_model\n",
    "lmreg = linear_model.LogisticRegression()\n",
    "\n",
    "y=bankloan.DEFAULTER\n",
    "X=bankloan[['EMPLOY', 'ADDRESS', 'DEBTINC', 'CREDDEBT']]\n",
    "\n",
    "from sklearn.model_selection import cross_val_predict\n",
    "# from sklearn.metrics.classification import cohen_kappa_score\n",
    "\n",
    "predicted_prob = cross_val_predict(lmreg, X, y, cv=4, method='predict_proba') \n",
    "threshold=0.3\n",
    "predicted = predicted_prob[:,1]\n",
    "predicted_class1=np.zeros(predicted.shape)\n",
    "predicted_class1[predicted>threshold]=1\n",
    "print(classification_report(y,predicted_class1))\n"
   ]
  }
 ],
 "metadata": {
  "kernelspec": {
   "display_name": "ds-env",
   "language": "python",
   "name": "python3"
  },
  "language_info": {
   "codemirror_mode": {
    "name": "ipython",
    "version": 3
   },
   "file_extension": ".py",
   "mimetype": "text/x-python",
   "name": "python",
   "nbconvert_exporter": "python",
   "pygments_lexer": "ipython3",
   "version": "3.10.16"
  }
 },
 "nbformat": 4,
 "nbformat_minor": 5
}
