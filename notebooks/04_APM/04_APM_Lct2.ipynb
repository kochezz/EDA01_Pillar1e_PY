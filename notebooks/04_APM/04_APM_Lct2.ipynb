{
 "cells": [
  {
   "cell_type": "markdown",
   "id": "6fa89af2",
   "metadata": {},
   "source": [
    "# Case Study"
   ]
  },
  {
   "cell_type": "markdown",
   "id": "791ac647",
   "metadata": {},
   "source": [
    "BACKGROUND:"
   ]
  },
  {
   "cell_type": "code",
   "execution_count": 5,
   "id": "9d041f0c",
   "metadata": {},
   "outputs": [],
   "source": [
    "# Import Libraries\n",
    "\n",
    "import pandas as pd\n",
    "import numpy as np\n",
    "import matplotlib.pyplot as plt\n",
    "from scipy.stats import chi2_contingency\n",
    "import seaborn as sns\n",
    "import statsmodels.api as sm\n",
    "import scipy as sp\n",
    "import statsmodels.formula.api as smf\n",
    "import statsmodels.stats.api as sms\n",
    "import statsmodels.stats.proportion as ssp\n",
    "from sklearn.metrics import mean_squared_error, r2_score\n",
    "from sklearn.metrics import confusion_matrix, classification_report\n",
    "from sklearn.metrics import roc_curve, roc_auc_score\n",
    "from statsmodels.stats.outliers_influence import variance_inflation_factor\n",
    "import patsy\n",
    "import warnings\n",
    "warnings.filterwarnings(\"ignore\")\n",
    "import os\n",
    "os.chdir(r\"C:\\Users\\willi\\OneDrive\\Documents\\Woolf Institute Data Analytics\\Module 4 Advanced Predictive Modelling\\04_ Live Class Data Sets\")"
   ]
  },
  {
   "cell_type": "code",
   "execution_count": 3,
   "id": "919b68f0",
   "metadata": {},
   "outputs": [
    {
     "name": "stdout",
     "output_type": "stream",
     "text": [
      "✅ Dataset Loaded Successfully\n",
      "<class 'pandas.core.frame.DataFrame'>\n",
      "RangeIndex: 200 entries, 0 to 199\n",
      "Data columns (total 22 columns):\n",
      " #   Column  Non-Null Count  Dtype\n",
      "---  ------  --------------  -----\n",
      " 0   SR NO   200 non-null    int64\n",
      " 1   ID      200 non-null    int64\n",
      " 2   STA     200 non-null    int64\n",
      " 3   AGE     200 non-null    int64\n",
      " 4   SEX     200 non-null    int64\n",
      " 5   RACE    200 non-null    int64\n",
      " 6   SER     200 non-null    int64\n",
      " 7   CAN     200 non-null    int64\n",
      " 8   CRN     200 non-null    int64\n",
      " 9   INF     200 non-null    int64\n",
      " 10  CPR     200 non-null    int64\n",
      " 11  SYS     200 non-null    int64\n",
      " 12  HRA     200 non-null    int64\n",
      " 13  PRE     200 non-null    int64\n",
      " 14  TYP     200 non-null    int64\n",
      " 15  FRA     200 non-null    int64\n",
      " 16  PO2     200 non-null    int64\n",
      " 17  PH      200 non-null    int64\n",
      " 18  PCO     200 non-null    int64\n",
      " 19  BIC     200 non-null    int64\n",
      " 20  CRE     200 non-null    int64\n",
      " 21  LOC     200 non-null    int64\n",
      "dtypes: int64(22)\n",
      "memory usage: 34.5 KB\n",
      "None\n",
      "            SR NO         ID         STA         AGE         SEX        RACE  \\\n",
      "count  200.000000  200.00000  200.000000  200.000000  200.000000  200.000000   \n",
      "mean   100.500000  444.82000    0.200000   57.545000    0.380000    1.175000   \n",
      "std     57.879185  271.91668    0.401004   20.054648    0.486604    0.495584   \n",
      "min      1.000000    4.00000    0.000000   16.000000    0.000000    1.000000   \n",
      "25%     50.750000  210.25000    0.000000   46.750000    0.000000    1.000000   \n",
      "50%    100.500000  412.50000    0.000000   63.000000    0.000000    1.000000   \n",
      "75%    150.250000  671.75000    0.000000   72.000000    1.000000    1.000000   \n",
      "max    200.000000  929.00000    1.000000   92.000000    1.000000    3.000000   \n",
      "\n",
      "              SER         CAN         CRN         INF  ...        HRA  \\\n",
      "count  200.000000  200.000000  200.000000  200.000000  ...  200.00000   \n",
      "mean     0.535000    0.080000    0.095000    0.420000  ...   98.92500   \n",
      "std      0.500025    0.271974    0.293951    0.494797  ...   26.82962   \n",
      "min      0.000000    0.000000    0.000000    0.000000  ...   39.00000   \n",
      "25%      0.000000    0.000000    0.000000    0.000000  ...   80.00000   \n",
      "50%      1.000000    0.000000    0.000000    0.000000  ...   96.00000   \n",
      "75%      1.000000    0.000000    0.000000    1.000000  ...  118.25000   \n",
      "max      1.000000    1.000000    1.000000    1.000000  ...  192.00000   \n",
      "\n",
      "              PRE         TYP         FRA         PO2          PH         PCO  \\\n",
      "count  200.000000  200.000000  200.000000  200.000000  200.000000  200.000000   \n",
      "mean     0.150000    0.735000    0.075000    0.080000    0.065000    0.100000   \n",
      "std      0.357967    0.442441    0.264052    0.271974    0.247144    0.300753   \n",
      "min      0.000000    0.000000    0.000000    0.000000    0.000000    0.000000   \n",
      "25%      0.000000    0.000000    0.000000    0.000000    0.000000    0.000000   \n",
      "50%      0.000000    1.000000    0.000000    0.000000    0.000000    0.000000   \n",
      "75%      0.000000    1.000000    0.000000    0.000000    0.000000    0.000000   \n",
      "max      1.000000    1.000000    1.000000    1.000000    1.000000    1.000000   \n",
      "\n",
      "              BIC         CRE         LOC  \n",
      "count  200.000000  200.000000  200.000000  \n",
      "mean     0.075000    0.050000    0.125000  \n",
      "std      0.264052    0.218492    0.458723  \n",
      "min      0.000000    0.000000    0.000000  \n",
      "25%      0.000000    0.000000    0.000000  \n",
      "50%      0.000000    0.000000    0.000000  \n",
      "75%      0.000000    0.000000    0.000000  \n",
      "max      1.000000    1.000000    2.000000  \n",
      "\n",
      "[8 rows x 22 columns]\n"
     ]
    }
   ],
   "source": [
    "# Import Data\n",
    "ICU_data = pd.read_csv(\"ICU Mortality.csv\")\n",
    "print(\"✅ Dataset Loaded Successfully\")\n",
    "print(ICU_data.info())\n",
    "print(ICU_data.describe())"
   ]
  },
  {
   "cell_type": "code",
   "execution_count": 6,
   "id": "ec9d7c9b",
   "metadata": {},
   "outputs": [
    {
     "data": {
      "application/vnd.microsoft.datawrangler.viewer.v0+json": {
       "columns": [
        {
         "name": "index",
         "rawType": "int64",
         "type": "integer"
        },
        {
         "name": "SR NO",
         "rawType": "int64",
         "type": "integer"
        },
        {
         "name": "ID",
         "rawType": "int64",
         "type": "integer"
        },
        {
         "name": "STA",
         "rawType": "int64",
         "type": "integer"
        },
        {
         "name": "AGE",
         "rawType": "int64",
         "type": "integer"
        },
        {
         "name": "SEX",
         "rawType": "int64",
         "type": "integer"
        },
        {
         "name": "RACE",
         "rawType": "int64",
         "type": "integer"
        },
        {
         "name": "SER",
         "rawType": "int64",
         "type": "integer"
        },
        {
         "name": "CAN",
         "rawType": "int64",
         "type": "integer"
        },
        {
         "name": "CRN",
         "rawType": "int64",
         "type": "integer"
        },
        {
         "name": "INF_C",
         "rawType": "int64",
         "type": "integer"
        },
        {
         "name": "CPR",
         "rawType": "int64",
         "type": "integer"
        },
        {
         "name": "SYS",
         "rawType": "int64",
         "type": "integer"
        },
        {
         "name": "HRA",
         "rawType": "int64",
         "type": "integer"
        },
        {
         "name": "PRE",
         "rawType": "int64",
         "type": "integer"
        },
        {
         "name": "TYP",
         "rawType": "int64",
         "type": "integer"
        },
        {
         "name": "FRA",
         "rawType": "int64",
         "type": "integer"
        },
        {
         "name": "PO2",
         "rawType": "int64",
         "type": "integer"
        },
        {
         "name": "PH",
         "rawType": "int64",
         "type": "integer"
        },
        {
         "name": "PCO",
         "rawType": "int64",
         "type": "integer"
        },
        {
         "name": "BIC",
         "rawType": "int64",
         "type": "integer"
        },
        {
         "name": "CRE",
         "rawType": "int64",
         "type": "integer"
        },
        {
         "name": "LOC",
         "rawType": "int64",
         "type": "integer"
        }
       ],
       "conversionMethod": "pd.DataFrame",
       "ref": "28d70a06-bad3-4343-8af4-1e18d1d0d6bb",
       "rows": [
        [
         "0",
         "1",
         "8",
         "0",
         "27",
         "1",
         "1",
         "0",
         "0",
         "0",
         "1",
         "0",
         "142",
         "88",
         "0",
         "1",
         "0",
         "0",
         "0",
         "0",
         "0",
         "0",
         "0"
        ],
        [
         "1",
         "2",
         "12",
         "0",
         "59",
         "0",
         "1",
         "0",
         "0",
         "0",
         "0",
         "0",
         "112",
         "80",
         "1",
         "1",
         "0",
         "0",
         "0",
         "0",
         "0",
         "0",
         "0"
        ],
        [
         "2",
         "3",
         "14",
         "0",
         "77",
         "0",
         "1",
         "1",
         "0",
         "0",
         "0",
         "0",
         "100",
         "70",
         "0",
         "0",
         "0",
         "0",
         "0",
         "0",
         "0",
         "0",
         "0"
        ],
        [
         "3",
         "4",
         "28",
         "0",
         "54",
         "0",
         "1",
         "0",
         "0",
         "0",
         "1",
         "0",
         "142",
         "103",
         "0",
         "1",
         "1",
         "0",
         "0",
         "0",
         "0",
         "0",
         "0"
        ],
        [
         "4",
         "5",
         "32",
         "0",
         "87",
         "1",
         "1",
         "1",
         "0",
         "0",
         "1",
         "0",
         "110",
         "154",
         "1",
         "1",
         "0",
         "0",
         "0",
         "0",
         "0",
         "0",
         "0"
        ]
       ],
       "shape": {
        "columns": 22,
        "rows": 5
       }
      },
      "text/html": [
       "<div>\n",
       "<style scoped>\n",
       "    .dataframe tbody tr th:only-of-type {\n",
       "        vertical-align: middle;\n",
       "    }\n",
       "\n",
       "    .dataframe tbody tr th {\n",
       "        vertical-align: top;\n",
       "    }\n",
       "\n",
       "    .dataframe thead th {\n",
       "        text-align: right;\n",
       "    }\n",
       "</style>\n",
       "<table border=\"1\" class=\"dataframe\">\n",
       "  <thead>\n",
       "    <tr style=\"text-align: right;\">\n",
       "      <th></th>\n",
       "      <th>SR NO</th>\n",
       "      <th>ID</th>\n",
       "      <th>STA</th>\n",
       "      <th>AGE</th>\n",
       "      <th>SEX</th>\n",
       "      <th>RACE</th>\n",
       "      <th>SER</th>\n",
       "      <th>CAN</th>\n",
       "      <th>CRN</th>\n",
       "      <th>INF_C</th>\n",
       "      <th>...</th>\n",
       "      <th>HRA</th>\n",
       "      <th>PRE</th>\n",
       "      <th>TYP</th>\n",
       "      <th>FRA</th>\n",
       "      <th>PO2</th>\n",
       "      <th>PH</th>\n",
       "      <th>PCO</th>\n",
       "      <th>BIC</th>\n",
       "      <th>CRE</th>\n",
       "      <th>LOC</th>\n",
       "    </tr>\n",
       "  </thead>\n",
       "  <tbody>\n",
       "    <tr>\n",
       "      <th>0</th>\n",
       "      <td>1</td>\n",
       "      <td>8</td>\n",
       "      <td>0</td>\n",
       "      <td>27</td>\n",
       "      <td>1</td>\n",
       "      <td>1</td>\n",
       "      <td>0</td>\n",
       "      <td>0</td>\n",
       "      <td>0</td>\n",
       "      <td>1</td>\n",
       "      <td>...</td>\n",
       "      <td>88</td>\n",
       "      <td>0</td>\n",
       "      <td>1</td>\n",
       "      <td>0</td>\n",
       "      <td>0</td>\n",
       "      <td>0</td>\n",
       "      <td>0</td>\n",
       "      <td>0</td>\n",
       "      <td>0</td>\n",
       "      <td>0</td>\n",
       "    </tr>\n",
       "    <tr>\n",
       "      <th>1</th>\n",
       "      <td>2</td>\n",
       "      <td>12</td>\n",
       "      <td>0</td>\n",
       "      <td>59</td>\n",
       "      <td>0</td>\n",
       "      <td>1</td>\n",
       "      <td>0</td>\n",
       "      <td>0</td>\n",
       "      <td>0</td>\n",
       "      <td>0</td>\n",
       "      <td>...</td>\n",
       "      <td>80</td>\n",
       "      <td>1</td>\n",
       "      <td>1</td>\n",
       "      <td>0</td>\n",
       "      <td>0</td>\n",
       "      <td>0</td>\n",
       "      <td>0</td>\n",
       "      <td>0</td>\n",
       "      <td>0</td>\n",
       "      <td>0</td>\n",
       "    </tr>\n",
       "    <tr>\n",
       "      <th>2</th>\n",
       "      <td>3</td>\n",
       "      <td>14</td>\n",
       "      <td>0</td>\n",
       "      <td>77</td>\n",
       "      <td>0</td>\n",
       "      <td>1</td>\n",
       "      <td>1</td>\n",
       "      <td>0</td>\n",
       "      <td>0</td>\n",
       "      <td>0</td>\n",
       "      <td>...</td>\n",
       "      <td>70</td>\n",
       "      <td>0</td>\n",
       "      <td>0</td>\n",
       "      <td>0</td>\n",
       "      <td>0</td>\n",
       "      <td>0</td>\n",
       "      <td>0</td>\n",
       "      <td>0</td>\n",
       "      <td>0</td>\n",
       "      <td>0</td>\n",
       "    </tr>\n",
       "    <tr>\n",
       "      <th>3</th>\n",
       "      <td>4</td>\n",
       "      <td>28</td>\n",
       "      <td>0</td>\n",
       "      <td>54</td>\n",
       "      <td>0</td>\n",
       "      <td>1</td>\n",
       "      <td>0</td>\n",
       "      <td>0</td>\n",
       "      <td>0</td>\n",
       "      <td>1</td>\n",
       "      <td>...</td>\n",
       "      <td>103</td>\n",
       "      <td>0</td>\n",
       "      <td>1</td>\n",
       "      <td>1</td>\n",
       "      <td>0</td>\n",
       "      <td>0</td>\n",
       "      <td>0</td>\n",
       "      <td>0</td>\n",
       "      <td>0</td>\n",
       "      <td>0</td>\n",
       "    </tr>\n",
       "    <tr>\n",
       "      <th>4</th>\n",
       "      <td>5</td>\n",
       "      <td>32</td>\n",
       "      <td>0</td>\n",
       "      <td>87</td>\n",
       "      <td>1</td>\n",
       "      <td>1</td>\n",
       "      <td>1</td>\n",
       "      <td>0</td>\n",
       "      <td>0</td>\n",
       "      <td>1</td>\n",
       "      <td>...</td>\n",
       "      <td>154</td>\n",
       "      <td>1</td>\n",
       "      <td>1</td>\n",
       "      <td>0</td>\n",
       "      <td>0</td>\n",
       "      <td>0</td>\n",
       "      <td>0</td>\n",
       "      <td>0</td>\n",
       "      <td>0</td>\n",
       "      <td>0</td>\n",
       "    </tr>\n",
       "  </tbody>\n",
       "</table>\n",
       "<p>5 rows × 22 columns</p>\n",
       "</div>"
      ],
      "text/plain": [
       "   SR NO  ID  STA  AGE  SEX  RACE  SER  CAN  CRN  INF_C  ...  HRA  PRE  TYP  \\\n",
       "0      1   8    0   27    1     1    0    0    0      1  ...   88    0    1   \n",
       "1      2  12    0   59    0     1    0    0    0      0  ...   80    1    1   \n",
       "2      3  14    0   77    0     1    1    0    0      0  ...   70    0    0   \n",
       "3      4  28    0   54    0     1    0    0    0      1  ...  103    0    1   \n",
       "4      5  32    0   87    1     1    1    0    0      1  ...  154    1    1   \n",
       "\n",
       "   FRA  PO2  PH  PCO  BIC  CRE  LOC  \n",
       "0    0    0   0    0    0    0    0  \n",
       "1    0    0   0    0    0    0    0  \n",
       "2    0    0   0    0    0    0    0  \n",
       "3    1    0   0    0    0    0    0  \n",
       "4    0    0   0    0    0    0    0  \n",
       "\n",
       "[5 rows x 22 columns]"
      ]
     },
     "execution_count": 6,
     "metadata": {},
     "output_type": "execute_result"
    }
   ],
   "source": [
    "# Rename INF columns\n",
    "ICU_data.rename(columns={'INF' : 'INF_C'}, inplace=True)\n",
    "ICU_data.head(5)"
   ]
  },
  {
   "cell_type": "code",
   "execution_count": 9,
   "id": "76db8179",
   "metadata": {},
   "outputs": [
    {
     "name": "stdout",
     "output_type": "stream",
     "text": [
      "  Vital Status  Count  Proportion\n",
      "0        Lived    160        80.0\n",
      "1         Dead     40        20.0\n"
     ]
    }
   ],
   "source": [
    "# Vital Status Statistics\n",
    "\n",
    "VF_Stat = ICU_data.copy()\n",
    "VF_Stat['STA'].replace({0: 'Lived', 1: 'Dead'}, inplace=True)\n",
    "#To get the count\n",
    "count = VF_Stat['STA'].value_counts().reset_index()\n",
    "count.columns = ['Vital Status', 'Count']  # Rename the value column to 'Count'\n",
    "#To get percentage count\n",
    "per = VF_Stat['STA'].value_counts(normalize = True).reset_index()\n",
    "per.columns = ['Vital Status', 'Proportion'] # Rename the value column to 'Proportion'\n",
    "VF_Stat = pd.merge(count, per, on=['Vital Status']) # Merge on the common 'Vital Status' column\n",
    "VF_Stat['Proportion'] = VF_Stat['Proportion'] * 100\n",
    "\n",
    "print(VF_Stat)"
   ]
  },
  {
   "cell_type": "markdown",
   "id": "3ce60813",
   "metadata": {},
   "source": []
  },
  {
   "cell_type": "code",
   "execution_count": 14,
   "id": "835446dc",
   "metadata": {},
   "outputs": [
    {
     "data": {
      "image/png": "[encoded data removed]",
      "text/plain": [
       "<Figure size 600x600 with 1 Axes>"
      ]
     },
     "metadata": {},
     "output_type": "display_data"
    }
   ],
   "source": [
    "# DATA VISUALIZATION\n",
    "\n",
    "# Set the style for the plot (optional)\n",
    "sns.set(style=\"whitegrid\")\n",
    "\n",
    "# Create a boxplot using Seaborn\n",
    "plt.figure(figsize=(6, 6))\n",
    "sns.boxplot(x='STA', y='AGE', data=ICU_data, palette=\"Set2\")\n",
    "plt.xticks([0, 1], ['Lived', 'Dead'])  # Set x-ticks to show 'Lived' and 'Dead'\n",
    "plt.title('Boxplot of AGE by Vital Status')\n",
    "plt.xlabel('Vital Status')\n",
    "plt.ylabel('Age')\n",
    "plt.show()"
   ]
  },
  {
   "cell_type": "code",
   "execution_count": 18,
   "id": "a2bf3635",
   "metadata": {},
   "outputs": [
    {
     "data": {
      "image/png": "[encoded data removed]",
      "text/plain": [
       "<Figure size 600x600 with 1 Axes>"
      ]
     },
     "metadata": {},
     "output_type": "display_data"
    }
   ],
   "source": [
    "# Set the style for the plot (optional)\n",
    "sns.set(style=\"whitegrid\")\n",
    "\n",
    "# Create a boxplot using Seaborn\n",
    "plt.figure(figsize=(6, 6))\n",
    "sns.boxplot(x='STA', y='SYS', data=ICU_data, palette=\"Set2\")\n",
    "plt.title('Boxplot of Systolic Blood Pressure by Vital Status')\n",
    "plt.xlabel('Vital Status')\n",
    "plt.ylabel('Systolic Blood Pressure')\n",
    "plt.show()"
   ]
  },
  {
   "cell_type": "code",
   "execution_count": 20,
   "id": "a6011107",
   "metadata": {},
   "outputs": [
    {
     "data": {
      "image/png": "[encoded data removed]",
      "text/plain": [
       "<Figure size 600x600 with 1 Axes>"
      ]
     },
     "metadata": {},
     "output_type": "display_data"
    }
   ],
   "source": [
    "# Set the style for the plot (optional)\n",
    "sns.set(style=\"whitegrid\")\n",
    "\n",
    "# Create a boxplot using Seaborn\n",
    "plt.figure(figsize=(6, 6))\n",
    "sns.boxplot(x='STA', y='HRA', data=ICU_data, palette=\"Set2\")\n",
    "plt.title('Boxplot of Heart Rate by Vital Status')\n",
    "plt.xlabel('Vital Status')\n",
    "plt.ylabel('Heart Rate')\n",
    "plt.show()"
   ]
  },
  {
   "cell_type": "code",
   "execution_count": 21,
   "id": "04966ee1",
   "metadata": {},
   "outputs": [
    {
     "data": {
      "image/png": "[encoded data removed]",
      "text/plain": [
       "<Figure size 600x600 with 1 Axes>"
      ]
     },
     "metadata": {},
     "output_type": "display_data"
    },
    {
     "data": {
      "image/png": "[encoded data removed]",
      "text/plain": [
       "<Figure size 600x600 with 1 Axes>"
      ]
     },
     "metadata": {},
     "output_type": "display_data"
    }
   ],
   "source": [
    "lst = ['HRA','SYS']\n",
    "\n",
    "for var in lst:\n",
    "    sns.set(style=\"whitegrid\")\n",
    "    # Create a boxplot using Seaborn\n",
    "    plt.figure(figsize=(6, 6))\n",
    "    sns.boxplot(x='STA', y=var, data=ICU_data, palette=\"Set2\")\n",
    "    plt.title(f'Boxplot of {var} by Vital Status')\n",
    "    plt.xlabel('Vital Status')\n",
    "    plt.ylabel(var)\n",
    "    plt.show()"
   ]
  },
  {
   "cell_type": "code",
   "execution_count": null,
   "id": "d54895bf",
   "metadata": {},
   "outputs": [],
   "source": [
    "# Set the style for the plot (optional)\n",
    "sns.set(style=\"whitegrid\")\n",
    "\n",
    "# Create a boxplot using Seaborn\n",
    "plt.figure(figsize=(6, 6))\n",
    "sns.boxplot(x='STA', y='HRA', data=ICU_data, palette=\"Set2\")\n",
    "plt.title('Boxplot of Heart Rate by Vital Status')\n",
    "plt.xlabel('Vital Status')\n",
    "plt.ylabel('Heart Rate')\n",
    "plt.show()"
   ]
  },
  {
   "cell_type": "code",
   "execution_count": 22,
   "id": "45769df5",
   "metadata": {},
   "outputs": [
    {
     "data": {
      "application/vnd.microsoft.datawrangler.viewer.v0+json": {
       "columns": [
        {
         "name": "index",
         "rawType": "int64",
         "type": "integer"
        },
        {
         "name": "SEX",
         "rawType": "object",
         "type": "string"
        },
        {
         "name": "Total Count",
         "rawType": "int64",
         "type": "integer"
        },
        {
         "name": "Death Count",
         "rawType": "int64",
         "type": "integer"
        },
        {
         "name": "Death Rate(%)",
         "rawType": "float64",
         "type": "float"
        }
       ],
       "conversionMethod": "pd.DataFrame",
       "ref": "05f21787-f536-4390-ac6c-afcfb7ac1a3f",
       "rows": [
        [
         "0",
         "Female",
         "76",
         "16",
         "21.05"
        ],
        [
         "1",
         "Male",
         "124",
         "24",
         "19.35"
        ]
       ],
       "shape": {
        "columns": 4,
        "rows": 2
       }
      },
      "text/html": [
       "<div>\n",
       "<style scoped>\n",
       "    .dataframe tbody tr th:only-of-type {\n",
       "        vertical-align: middle;\n",
       "    }\n",
       "\n",
       "    .dataframe tbody tr th {\n",
       "        vertical-align: top;\n",
       "    }\n",
       "\n",
       "    .dataframe thead th {\n",
       "        text-align: right;\n",
       "    }\n",
       "</style>\n",
       "<table border=\"1\" class=\"dataframe\">\n",
       "  <thead>\n",
       "    <tr style=\"text-align: right;\">\n",
       "      <th></th>\n",
       "      <th>SEX</th>\n",
       "      <th>Total Count</th>\n",
       "      <th>Death Count</th>\n",
       "      <th>Death Rate(%)</th>\n",
       "    </tr>\n",
       "  </thead>\n",
       "  <tbody>\n",
       "    <tr>\n",
       "      <th>0</th>\n",
       "      <td>Female</td>\n",
       "      <td>76</td>\n",
       "      <td>16</td>\n",
       "      <td>21.05</td>\n",
       "    </tr>\n",
       "    <tr>\n",
       "      <th>1</th>\n",
       "      <td>Male</td>\n",
       "      <td>124</td>\n",
       "      <td>24</td>\n",
       "      <td>19.35</td>\n",
       "    </tr>\n",
       "  </tbody>\n",
       "</table>\n",
       "</div>"
      ],
      "text/plain": [
       "      SEX  Total Count  Death Count  Death Rate(%)\n",
       "0  Female           76           16          21.05\n",
       "1    Male          124           24          19.35"
      ]
     },
     "execution_count": 22,
     "metadata": {},
     "output_type": "execute_result"
    }
   ],
   "source": [
    "# Group the data by SEX and calculate the count of STA for each group\n",
    "SEX_df = ICU_data.copy()\n",
    "SEX_df['SEX'].replace({0: 'Male', 1: 'Female'}, inplace=True)\n",
    "\n",
    "grouped_sex = SEX_df.groupby('SEX')['STA'].agg(['count', 'sum']).reset_index()\n",
    "\n",
    "# Rename the columns for clarity\n",
    "grouped_sex.columns = ['SEX', 'Total Count', 'Death Count']\n",
    "\n",
    "# Calculate the death rate as a percentage\n",
    "grouped_sex['Death Rate(%)'] = (grouped_sex['Death Count'] / grouped_sex['Total Count']) * 100\n",
    "grouped_sex.round(2)"
   ]
  },
  {
   "cell_type": "code",
   "execution_count": 23,
   "id": "874538ea",
   "metadata": {},
   "outputs": [
    {
     "data": {
      "application/vnd.microsoft.datawrangler.viewer.v0+json": {
       "columns": [
        {
         "name": "index",
         "rawType": "int64",
         "type": "integer"
        },
        {
         "name": "TYP",
         "rawType": "object",
         "type": "string"
        },
        {
         "name": "Total Count",
         "rawType": "int64",
         "type": "integer"
        },
        {
         "name": "Death Count",
         "rawType": "int64",
         "type": "integer"
        },
        {
         "name": "Death Rate(%)",
         "rawType": "float64",
         "type": "float"
        }
       ],
       "conversionMethod": "pd.DataFrame",
       "ref": "4f0777e0-350d-49aa-8e55-50fc608af6da",
       "rows": [
        [
         "0",
         "Elective",
         "53",
         "2",
         "3.77"
        ],
        [
         "1",
         "Emergency",
         "147",
         "38",
         "25.85"
        ]
       ],
       "shape": {
        "columns": 4,
        "rows": 2
       }
      },
      "text/html": [
       "<div>\n",
       "<style scoped>\n",
       "    .dataframe tbody tr th:only-of-type {\n",
       "        vertical-align: middle;\n",
       "    }\n",
       "\n",
       "    .dataframe tbody tr th {\n",
       "        vertical-align: top;\n",
       "    }\n",
       "\n",
       "    .dataframe thead th {\n",
       "        text-align: right;\n",
       "    }\n",
       "</style>\n",
       "<table border=\"1\" class=\"dataframe\">\n",
       "  <thead>\n",
       "    <tr style=\"text-align: right;\">\n",
       "      <th></th>\n",
       "      <th>TYP</th>\n",
       "      <th>Total Count</th>\n",
       "      <th>Death Count</th>\n",
       "      <th>Death Rate(%)</th>\n",
       "    </tr>\n",
       "  </thead>\n",
       "  <tbody>\n",
       "    <tr>\n",
       "      <th>0</th>\n",
       "      <td>Elective</td>\n",
       "      <td>53</td>\n",
       "      <td>2</td>\n",
       "      <td>3.77</td>\n",
       "    </tr>\n",
       "    <tr>\n",
       "      <th>1</th>\n",
       "      <td>Emergency</td>\n",
       "      <td>147</td>\n",
       "      <td>38</td>\n",
       "      <td>25.85</td>\n",
       "    </tr>\n",
       "  </tbody>\n",
       "</table>\n",
       "</div>"
      ],
      "text/plain": [
       "         TYP  Total Count  Death Count  Death Rate(%)\n",
       "0   Elective           53            2           3.77\n",
       "1  Emergency          147           38          25.85"
      ]
     },
     "execution_count": 23,
     "metadata": {},
     "output_type": "execute_result"
    }
   ],
   "source": [
    "ADM_df = ICU_data.copy()\n",
    "ADM_df['TYP'].replace({0: 'Elective', 1: 'Emergency'}, inplace=True)\n",
    "\n",
    "# Group the data by SEX and calculate the count of STA for each group\n",
    "grouped_typ = ADM_df.groupby('TYP')['STA'].agg(['count', 'sum']).reset_index()\n",
    "\n",
    "# Rename the columns for clarity\n",
    "grouped_typ.columns = ['TYP', 'Total Count', 'Death Count']\n",
    "\n",
    "# Calculate the death rate as a percentage\n",
    "grouped_typ['Death Rate(%)'] = (grouped_typ['Death Count'] / grouped_typ['Total Count']) * 100\n",
    "grouped_typ.round(2)"
   ]
  },
  {
   "cell_type": "code",
   "execution_count": 24,
   "id": "4c8fd790",
   "metadata": {},
   "outputs": [
    {
     "data": {
      "application/vnd.microsoft.datawrangler.viewer.v0+json": {
       "columns": [
        {
         "name": "index",
         "rawType": "int64",
         "type": "integer"
        },
        {
         "name": "LOC",
         "rawType": "object",
         "type": "string"
        },
        {
         "name": "Total Count",
         "rawType": "int64",
         "type": "integer"
        },
        {
         "name": "Death Count",
         "rawType": "int64",
         "type": "integer"
        },
        {
         "name": "Death Rate(%)",
         "rawType": "float64",
         "type": "float"
        }
       ],
       "conversionMethod": "pd.DataFrame",
       "ref": "3b282d45-71eb-47c6-950e-acaed3a2289d",
       "rows": [
        [
         "0",
         "Coma",
         "10",
         "8",
         "80.0"
        ],
        [
         "1",
         "Deep Stupor",
         "5",
         "5",
         "100.0"
        ],
        [
         "2",
         "No Coma Or Stupor",
         "185",
         "27",
         "14.59"
        ]
       ],
       "shape": {
        "columns": 4,
        "rows": 3
       }
      },
      "text/html": [
       "<div>\n",
       "<style scoped>\n",
       "    .dataframe tbody tr th:only-of-type {\n",
       "        vertical-align: middle;\n",
       "    }\n",
       "\n",
       "    .dataframe tbody tr th {\n",
       "        vertical-align: top;\n",
       "    }\n",
       "\n",
       "    .dataframe thead th {\n",
       "        text-align: right;\n",
       "    }\n",
       "</style>\n",
       "<table border=\"1\" class=\"dataframe\">\n",
       "  <thead>\n",
       "    <tr style=\"text-align: right;\">\n",
       "      <th></th>\n",
       "      <th>LOC</th>\n",
       "      <th>Total Count</th>\n",
       "      <th>Death Count</th>\n",
       "      <th>Death Rate(%)</th>\n",
       "    </tr>\n",
       "  </thead>\n",
       "  <tbody>\n",
       "    <tr>\n",
       "      <th>0</th>\n",
       "      <td>Coma</td>\n",
       "      <td>10</td>\n",
       "      <td>8</td>\n",
       "      <td>80.00</td>\n",
       "    </tr>\n",
       "    <tr>\n",
       "      <th>1</th>\n",
       "      <td>Deep Stupor</td>\n",
       "      <td>5</td>\n",
       "      <td>5</td>\n",
       "      <td>100.00</td>\n",
       "    </tr>\n",
       "    <tr>\n",
       "      <th>2</th>\n",
       "      <td>No Coma Or Stupor</td>\n",
       "      <td>185</td>\n",
       "      <td>27</td>\n",
       "      <td>14.59</td>\n",
       "    </tr>\n",
       "  </tbody>\n",
       "</table>\n",
       "</div>"
      ],
      "text/plain": [
       "                 LOC  Total Count  Death Count  Death Rate(%)\n",
       "0               Coma           10            8          80.00\n",
       "1        Deep Stupor            5            5         100.00\n",
       "2  No Coma Or Stupor          185           27          14.59"
      ]
     },
     "execution_count": 24,
     "metadata": {},
     "output_type": "execute_result"
    }
   ],
   "source": [
    "# Level Of Consciousness (LOC) - Based Mortality Statistics\n",
    "\n",
    "LOC_df = ICU_data.copy()\n",
    "LOC_df['LOC'].replace({0: 'No Coma Or Stupor', 1: 'Deep Stupor', 2: 'Coma'}, inplace=True)\n",
    "\n",
    "# Group the data by SEX and calculate the count of STA for each group\n",
    "grouped_loc = LOC_df.groupby('LOC')['STA'].agg(['count', 'sum']).reset_index()\n",
    "\n",
    "# Rename the columns for clarity\n",
    "grouped_loc.columns = ['LOC', 'Total Count', 'Death Count']\n",
    "\n",
    "# Calculate the death rate as a percentage\n",
    "grouped_loc['Death Rate(%)'] = (grouped_loc['Death Count'] / grouped_loc['Total Count']) * 100\n",
    "grouped_loc.round(2)"
   ]
  },
  {
   "cell_type": "markdown",
   "id": "d604bf0a",
   "metadata": {},
   "source": [
    "Observations :\n",
    "Level of consciousness at admission is clearly associated with ICU mortality. The mortality rate being highest for Deep Stupor followed by Coma and No Coma or Stupor"
   ]
  },
  {
   "cell_type": "code",
   "execution_count": 25,
   "id": "d09e1f81",
   "metadata": {},
   "outputs": [],
   "source": [
    "# Logistic Regression Model\n",
    "\n",
    "ICU_data[\"LOC\"] = np.where(ICU_data[\"LOC\"]>0, 1, 0)"
   ]
  },
  {
   "cell_type": "code",
   "execution_count": 27,
   "id": "5a1d4ce6",
   "metadata": {},
   "outputs": [
    {
     "name": "stdout",
     "output_type": "stream",
     "text": [
      "Warning: Maximum number of iterations has been exceeded.\n",
      "         Current function value: 0.325995\n",
      "         Iterations: 35\n",
      "BLR ModelSummary:\n",
      "                            Logit Regression Results                           \n",
      "==============================================================================\n",
      "Dep. Variable:                    STA   No. Observations:                  200\n",
      "Model:                          Logit   Df Residuals:                      181\n",
      "Method:                           MLE   Df Model:                           18\n",
      "Date:                Sat, 03 May 2025   Pseudo R-squ.:                  0.3485\n",
      "Time:                        10:04:45   Log-Likelihood:                -65.199\n",
      "converged:                      False   LL-Null:                       -100.08\n",
      "Covariance Type:            nonrobust   LLR p-value:                 4.957e-08\n",
      "==============================================================================\n",
      "                 coef    std err          z      P>|z|      [0.025      0.975]\n",
      "------------------------------------------------------------------------------\n",
      "Intercept     -3.7910      1.858     -2.040      0.041      -7.434      -0.148\n",
      "AGE            0.0437      0.016      2.735      0.006       0.012       0.075\n",
      "SEX           -0.3125      0.481     -0.649      0.516      -1.256       0.631\n",
      "SER           -0.4591      0.571     -0.805      0.421      -1.578       0.659\n",
      "CAN          -20.3059   4.28e+04     -0.000      1.000    -8.4e+04    8.39e+04\n",
      "CRN            0.0171      0.770      0.022      0.982      -1.492       1.527\n",
      "INF_C         -0.0083      0.534     -0.016      0.988      -1.055       1.039\n",
      "CPR            1.0175      0.932      1.092      0.275      -0.809       2.844\n",
      "SYS           -0.0141      0.008     -1.811      0.070      -0.029       0.001\n",
      "HRA           -0.0031      0.009     -0.338      0.735      -0.021       0.015\n",
      "PRE            0.6321      0.607      1.042      0.298      -0.557       1.821\n",
      "TYP            1.9318      0.956      2.020      0.043       0.057       3.806\n",
      "FRA            0.8281      0.988      0.838      0.402      -1.108       2.764\n",
      "PO2            0.2138      0.776      0.275      0.783      -1.308       1.735\n",
      "PH             2.0639      1.085      1.901      0.057      -0.063       4.191\n",
      "PCO           -2.4211      1.180     -2.051      0.040      -4.735      -0.107\n",
      "BIC           -0.8013      0.856     -0.936      0.349      -2.480       0.877\n",
      "CRE            0.5011      0.933      0.537      0.591      -1.327       2.330\n",
      "LOC            4.3062      1.081      3.984      0.000       2.188       6.425\n",
      "==============================================================================\n"
     ]
    }
   ],
   "source": [
    "# Step 1: Define your formula\n",
    "formula = 'STA ~ AGE + SEX + SER + CAN + CRN  + INF_C + CPR + SYS + HRA + PRE + TYP + FRA + PO2 + PH + PCO + BIC + CRE + LOC'\n",
    "\n",
    "# Step 2: Fit the linear regression model\n",
    "model = smf.logit(formula, data=ICU_data).fit()\n",
    "\n",
    "# Step 3: Print the model summary\n",
    "print(\"BLR ModelSummary:\\n\",model.summary())"
   ]
  },
  {
   "cell_type": "markdown",
   "id": "a5e1c059",
   "metadata": {},
   "source": [
    "Observations :\n",
    "The variables AGE(patient's age ), LOC(level of consciousness), TYP(type of admission) and PCO (PCO2 from initial blood gases) are statistically significant (p <= 0.05) risk factors associated with ICU mortality. Further, the variable SYS (Systolic Blood Pressure) and PH (PH from initial blood gases) is statistically significant at 10% level of significance (p=0.07 and 0.057)"
   ]
  },
  {
   "cell_type": "markdown",
   "id": "702f88ba",
   "metadata": {},
   "source": [
    "NOTE:\n",
    "While our model includes several variables that are statistically insignificant, it is crucial to emphasize that in the healthcare domain, caution should be exercised when considering variable removal. In healthcare, even seemingly insignificant variables may hold clinical relevance or contribute to a comprehensive understanding of patient outcomes. Therefore, retaining these variables in the model allows for a more holistic analysis that aligns with the complex and multifaceted nature of healthcare data"
   ]
  },
  {
   "cell_type": "code",
   "execution_count": 28,
   "id": "7aa760aa",
   "metadata": {},
   "outputs": [
    {
     "name": "stdout",
     "output_type": "stream",
     "text": [
      "   Feature       VIF\n",
      "0      AGE  1.347618\n",
      "1      SEX  1.096121\n",
      "2      SER  1.927416\n",
      "3      CAN  1.375821\n",
      "4      CRN  1.319146\n",
      "5    INF_C  1.332957\n",
      "6      CPR  1.315199\n",
      "7      SYS  1.171510\n",
      "8      HRA  1.294332\n",
      "9      PRE  1.167468\n",
      "10     TYP  1.892265\n",
      "11     FRA  1.259913\n",
      "12     PO2  1.404664\n",
      "13      PH  1.622939\n",
      "14     PCO  1.744181\n",
      "15     BIC  1.382282\n",
      "16     CRE  1.260468\n",
      "17     LOC  1.246863\n"
     ]
    }
   ],
   "source": [
    "# Variance Inflation Factor (VIF) Analysis (checking Multicollinearity)\n",
    "\n",
    "# Create a DataFrame to store VIF results\n",
    "vif_data = pd.DataFrame()\n",
    "vif_data[\"Feature\"] = model.model.exog_names[1:]  # Exclude intercept\n",
    "vif_data[\"VIF\"] = [variance_inflation_factor(model.model.exog, i) for i in range(1, model.model.exog.shape[1])]\n",
    "\n",
    "# Print the VIF DataFrame\n",
    "print(vif_data)"
   ]
  },
  {
   "cell_type": "markdown",
   "id": "63e51056",
   "metadata": {},
   "source": [
    "Observations :\n",
    "It is observed that no variable has high vif. Hence the problem of multicollinearity does not exist"
   ]
  },
  {
   "cell_type": "code",
   "execution_count": 31,
   "id": "5082d976",
   "metadata": {},
   "outputs": [
    {
     "name": "stdout",
     "output_type": "stream",
     "text": [
      "AUC ROC: 0.85609375\n"
     ]
    },
    {
     "data": {
      "image/png": "[encoded data removed]",
      "text/plain": [
       "<Figure size 800x600 with 1 Axes>"
      ]
     },
     "metadata": {},
     "output_type": "display_data"
    }
   ],
   "source": [
    "# Evaluate Model Performance by Checking Area Under The ROC Curve\n",
    "\n",
    "ICU_data['predicted_prob'] = model.predict(ICU_data)\n",
    "# Step 1: Calculate ROC curve\n",
    "fpr, tpr, thresholds = roc_curve(ICU_data['STA'], ICU_data['predicted_prob'])\n",
    "\n",
    "# Step 2: Plot ROC curve\n",
    "plt.figure(figsize=(8, 6))\n",
    "plt.plot(fpr, tpr, label='ROC Curve')\n",
    "plt.plot([0, 1], [0, 1], 'k--', label='Random Guess')\n",
    "plt.xlim([0.0, 1.0])\n",
    "plt.ylim([0.0, 1.05])\n",
    "plt.xlabel('False Positive Rate (FPR)')\n",
    "plt.ylabel('True Positive Rate (TPR)')\n",
    "plt.title('Receiver Operating Characteristic (ROC) Curve')\n",
    "plt.legend(loc='lower right')\n",
    "\n",
    "# Step 3: Calculate AUC ROC\n",
    "auc_roc = roc_auc_score(ICU_data['STA'], ICU_data['predicted_prob'])\n",
    "print(f'AUC ROC: {auc_roc}')\n",
    "\n",
    "# Step 4: Show the plot\n",
    "plt.show()"
   ]
  },
  {
   "cell_type": "code",
   "execution_count": 32,
   "id": "31fd93b6",
   "metadata": {},
   "outputs": [
    {
     "name": "stdout",
     "output_type": "stream",
     "text": [
      "Best Threshold is : 0.28\n"
     ]
    }
   ],
   "source": [
    "# Finding the best Theshold.\n",
    "\n",
    "# Calculate Receiver Operating Characteristic (ROC) curve values.\n",
    "fpr, tpr, thresholds = roc_curve(ICU_data['STA'], ICU_data['predicted_prob'])\n",
    "# Find the optimal threshold index that maximizes the difference between true positive rate (tpr) and false positive rate (fpr).\n",
    "optimal_idx = np.argmax(tpr - fpr)\n",
    "\n",
    "# Get the corresponding optimal threshold from the thresholds array.\n",
    "optimal_threshold = round(thresholds[optimal_idx],3)\n",
    "\n",
    "# Convert the optimal_threshold to a percentage string before printing\n",
    "print(f'Best Threshold is : {optimal_threshold}')"
   ]
  },
  {
   "cell_type": "code",
   "execution_count": 33,
   "id": "3bb0e568",
   "metadata": {},
   "outputs": [
    {
     "name": "stdout",
     "output_type": "stream",
     "text": [
      "              precision    recall  f1-score   support\n",
      "\n",
      "           0       0.91      0.89      0.90       160\n",
      "           1       0.60      0.65      0.63        40\n",
      "\n",
      "    accuracy                           0.84       200\n",
      "   macro avg       0.76      0.77      0.76       200\n",
      "weighted avg       0.85      0.84      0.85       200\n",
      "\n"
     ]
    }
   ],
   "source": [
    "# Classification report\n",
    "\n",
    "# Calculate predicted classes (usually a threshold of 0.5 is used for binary classification)\n",
    "ICU_data['predicted_class'] = (ICU_data['predicted_prob'] > optimal_threshold).astype(int)\n",
    "\n",
    "# Create the classification report\n",
    "report = classification_report(ICU_data['STA'], ICU_data['predicted_class'])\n",
    "\n",
    "# Print the classification report\n",
    "print(report)"
   ]
  },
  {
   "cell_type": "markdown",
   "id": "c633bc87",
   "metadata": {},
   "source": [
    "Observations :¶\n",
    "The sensitivity and specificity values using optimum threshold are approximately 65% and 89% and the accuracy is approximately 84% indicating good model performance."
   ]
  }
 ],
 "metadata": {
  "kernelspec": {
   "display_name": "ds-env",
   "language": "python",
   "name": "python3"
  },
  "language_info": {
   "codemirror_mode": {
    "name": "ipython",
    "version": 3
   },
   "file_extension": ".py",
   "mimetype": "text/x-python",
   "name": "python",
   "nbconvert_exporter": "python",
   "pygments_lexer": "ipython3",
   "version": "3.10.16"
  }
 },
 "nbformat": 4,
 "nbformat_minor": 5
}
