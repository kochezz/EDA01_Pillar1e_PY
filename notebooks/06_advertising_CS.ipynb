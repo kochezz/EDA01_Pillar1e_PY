{
 "cells": [
  {
   "cell_type": "code",
   "execution_count": null,
   "metadata": {},
   "outputs": [
    {
     "name": "stdout",
     "output_type": "stream",
     "text": [
      "Dataset saved to C:\\Users\\willi\\Documents\\advertising_sales_refined.csv\n"
     ]
    }
   ],
   "source": [
    "import pandas as pd\n",
    "import numpy as np\n",
    "\n",
    "# Set random seed for reproducibility\n",
    "np.random.seed(42)\n",
    "\n",
    "# Generate synthetic data for two cities\n",
    "n_samples = 1000\n",
    "\n",
    "data = {\n",
    "    \"City\": np.random.choice([\"City_A\", \"City_B\"], size=n_samples),\n",
    "    \"Sales\": np.random.normal(loc=50000, scale=10000, size=n_samples),\n",
    "    \"TV_Ad_Spend\": np.random.normal(loc=10000, scale=2000, size=n_samples),\n",
    "    \"Radio_Ad_Spend\": np.random.normal(loc=5000, scale=1000, size=n_samples),\n",
    "    \"Social_Media_Ad_Spend\": np.random.normal(loc=3000, scale=700, size=n_samples),\n",
    "}\n",
    "\n",
    "# Introduce some missing values randomly\n",
    "for col in [\"Sales\", \"TV_Ad_Spend\", \"Radio_Ad_Spend\", \"Social_Media_Ad_Spend\"]:\n",
    "    missing_indices = np.random.choice(n_samples, size=int(n_samples * 0.05), replace=False)\n",
    "    for idx in missing_indices:\n",
    "        data[col][idx] = np.nan\n",
    "\n",
    "# Create DataFrame\n",
    "df = pd.DataFrame(data)\n",
    "\n",
    "# Save to CSV\n",
    "file_path = r\"C:\\Users\\willi\\DocumentsF\\advertising_sales_refined.csv\"\n",
    "\n",
    "df.to_csv(file_path, index=False)\n",
    "\n",
    "print(f\"Dataset saved to {file_path}\")"
   ]
  },
  {
   "cell_type": "code",
   "execution_count": null,
   "metadata": {},
   "outputs": [
    {
     "name": "stdout",
     "output_type": "stream",
     "text": [
      "     City         Sales   TV_Ad_Spend  Radio_Ad_Spend  Social_Media_Ad_Spend\n",
      "0  City_A  53417.559758  12603.482579     4769.599286            2428.647929\n",
      "1  City_B  68761.708392  13123.022393     4075.766856            3054.700144\n",
      "2  City_A  59504.238382           NaN     5890.198411            3603.145287\n",
      "3  City_A  44230.963443   8493.164259     6035.249335            3097.342279\n",
      "4  City_A  41015.853287           NaN     3153.812138            1896.102462\n",
      "<class 'pandas.core.frame.DataFrame'>\n",
      "RangeIndex: 1000 entries, 0 to 999\n",
      "Data columns (total 5 columns):\n",
      " #   Column                 Non-Null Count  Dtype  \n",
      "---  ------                 --------------  -----  \n",
      " 0   City                   1000 non-null   object \n",
      " 1   Sales                  950 non-null    float64\n",
      " 2   TV_Ad_Spend            950 non-null    float64\n",
      " 3   Radio_Ad_Spend         950 non-null    float64\n",
      " 4   Social_Media_Ad_Spend  950 non-null    float64\n",
      "dtypes: float64(4), object(1)\n",
      "memory usage: 39.2+ KB\n",
      "None\n",
      "              Sales   TV_Ad_Spend  Radio_Ad_Spend  Social_Media_Ad_Spend\n",
      "count    950.000000    950.000000      950.000000             950.000000\n",
      "mean   50394.545723  10060.787148     5012.527992            2967.216063\n",
      "std     9963.804941   1975.178698     1004.269891             714.434710\n",
      "min    21037.446218   3960.975688     2008.864029             894.657362\n",
      "25%    43763.881479   8748.599482     4291.327808            2491.061216\n",
      "50%    50451.240101  10037.997400     5032.236245            2967.456462\n",
      "75%    56735.327563  11386.771172     5692.869656            3410.270280\n",
      "max    80788.808085  16386.215136     8926.237706            5270.165079\n",
      "City                      0\n",
      "Sales                    50\n",
      "TV_Ad_Spend              50\n",
      "Radio_Ad_Spend           50\n",
      "Social_Media_Ad_Spend    50\n",
      "dtype: int64\n"
     ]
    },
    {
     "ename": "",
     "evalue": "",
     "output_type": "error",
     "traceback": [
      "\u001b[1;31mThe Kernel crashed while executing code in the current cell or a previous cell. \n",
      "\u001b[1;31mPlease review the code in the cell(s) to identify a possible cause of the failure. \n",
      "\u001b[1;31mClick <a href='https://aka.ms/vscodeJupyterKernelCrash'>here</a> for more info. \n",
      "\u001b[1;31mView Jupyter <a href='command:jupyter.viewOutput'>log</a> for further details."
     ]
    }
   ],
   "source": [
    "import pandas as pd\n",
    "\n",
    "# Update the file path to match your actual location\n",
    "file_path = r\"C:\\Users\\willi\\OneDrive\\Documents\\02 Python\\Sample Workflows\\Data_sets\\advertising_sales_refined.csv\"\n",
    "\n",
    "# Load dataset\n",
    "df = pd.read_csv(r\"C:\\Users\\willi\\OneDrive\\Documents\\02 Python\\Sample Workflows\\Data_sets\\advertising_sales_refined.csv\")\n",
    "\n",
    "# Display the first few rows\n",
    "print(df.head())\n",
    "\n",
    "# Get basic info about the dataset\n",
    "print(df.info())\n",
    "\n",
    "# Summary statistics\n",
    "print(df.describe())\n",
    "\n",
    "# Check for missing values\n",
    "print(df.isnull().sum())\n"
   ]
  },
  {
   "cell_type": "markdown",
   "metadata": {},
   "source": [
    "# Step 2: Handling Missing Data"
   ]
  },
  {
   "cell_type": "code",
   "execution_count": null,
   "metadata": {},
   "outputs": [],
   "source": []
  }
 ],
 "metadata": {
  "kernelspec": {
   "display_name": ".venv",
   "language": "python",
   "name": "python3"
  },
  "language_info": {
   "codemirror_mode": {
    "name": "ipython",
    "version": 3
   },
   "file_extension": ".py",
   "mimetype": "text/x-python",
   "name": "python",
   "nbconvert_exporter": "python",
   "pygments_lexer": "ipython3",
   "version": "3.13.1"
  }
 },
 "nbformat": 4,
 "nbformat_minor": 2
}
